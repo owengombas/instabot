{
 "cells": [
  {
   "cell_type": "code",
   "execution_count": 30,
   "outputs": [],
   "source": [
    "from time import sleep\n",
    "\n",
    "from crawler.Crawler import Crawler\n",
    "import pandas as pd"
   ],
   "metadata": {
    "collapsed": false,
    "pycharm": {
     "name": "#%%\n"
    }
   }
  },
  {
   "cell_type": "code",
   "execution_count": 31,
   "outputs": [],
   "source": [
    "def extract_friendships(fn, username: str, filename = None):\n",
    "    friendships = fn(username)\n",
    "    df_friendships = pd.DataFrame.from_dict(friendships)\n",
    "    df_friendships.drop_duplicates(subset=\"username\", inplace=True)\n",
    "    df_friendships.set_index(\"username\", inplace=True)\n",
    "    if filename is not None:\n",
    "        df_friendships.to_json(filename)\n",
    "    return df_friendships"
   ],
   "metadata": {
    "collapsed": false,
    "pycharm": {
     "name": "#%%\n"
    }
   }
  },
  {
   "cell_type": "code",
   "execution_count": 32,
   "outputs": [],
   "source": [
    "# extract_friendships(c.get_all_following, \"venfoo\", \"following.json\")"
   ],
   "metadata": {
    "collapsed": false,
    "pycharm": {
     "name": "#%%\n"
    }
   }
  },
  {
   "cell_type": "code",
   "execution_count": 33,
   "outputs": [],
   "source": [
    "# extract_friendships(c.get_all_followers, \"venfoo\", \"followers.json\")"
   ],
   "metadata": {
    "collapsed": false,
    "pycharm": {
     "name": "#%%\n"
    }
   }
  },
  {
   "cell_type": "code",
   "execution_count": 34,
   "outputs": [],
   "source": [
    "df_followings = pd.read_json(\"followings.json\")\n",
    "df_followers = pd.read_json(\"followers.json\")"
   ],
   "metadata": {
    "collapsed": false,
    "pycharm": {
     "name": "#%%\n"
    }
   }
  },
  {
   "cell_type": "code",
   "execution_count": 35,
   "outputs": [
    {
     "data": {
      "text/plain": "                         pk             full_name  is_private  \\\nlenny__manon    49357193254                              True   \nnathoune664      4260318391  Nathalie Arrayet-Pin        True   \npascal.suter.9  15865348290          Pascal Suter       False   \nlaura.benczedi   1436446325                 Laura        True   \ndardan__10      16844003665                Dardan        True   \n...                     ...                   ...         ...   \ndaredevilirs    39470166878                             False   \naestheticvibbe  21902686964                     🥀       False   \nmooncrabco       8092055416        Mooncrab Co. 🐆       False   \nfitsonstreets    8707559584         fitsonstreets       False   \nvirgilabloh          221664                             False   \n\n                                                  profile_pic_url  \\\nlenny__manon    https://instagram.fqls2-1.fna.fbcdn.net/v/t51....   \nnathoune664     https://instagram.fqls2-1.fna.fbcdn.net/v/t51....   \npascal.suter.9  https://instagram.fqls2-1.fna.fbcdn.net/v/t51....   \nlaura.benczedi  https://instagram.fqls2-1.fna.fbcdn.net/v/t51....   \ndardan__10      https://instagram.fqls2-1.fna.fbcdn.net/v/t51....   \n...                                                           ...   \ndaredevilirs    https://instagram.fqls2-1.fna.fbcdn.net/v/t51....   \naestheticvibbe  https://instagram.fqls2-1.fna.fbcdn.net/v/t51....   \nmooncrabco      https://instagram.fqls2-1.fna.fbcdn.net/v/t51....   \nfitsonstreets   https://instagram.fqls2-1.fna.fbcdn.net/v/t51....   \nvirgilabloh     https://instagram.fqls2-1.fna.fbcdn.net/v/t51....   \n\n                profile_pic_id  is_verified  follow_friction_type  \\\nlenny__manon      2.831521e+29        False                     0   \nnathoune664       2.132346e+28        False                     0   \npascal.suter.9    2.079187e+29        False                     0   \nlaura.benczedi    2.833004e+28        False                     0   \ndardan__10        2.773690e+29        False                     0   \n...                        ...          ...                   ...   \ndaredevilirs      2.568403e+29        False                     0   \naestheticvibbe    2.266441e+29        False                     0   \nmooncrabco        2.779413e+28        False                     0   \nfitsonstreets     2.676060e+28        False                     0   \nvirgilabloh       2.573258e+24         True                     0   \n\n                                             growth_friction_info  \\\nlenny__manon    {'has_active_interventions': False, 'intervent...   \nnathoune664     {'has_active_interventions': False, 'intervent...   \npascal.suter.9  {'has_active_interventions': False, 'intervent...   \nlaura.benczedi  {'has_active_interventions': False, 'intervent...   \ndardan__10      {'has_active_interventions': False, 'intervent...   \n...                                                           ...   \ndaredevilirs    {'has_active_interventions': False, 'intervent...   \naestheticvibbe  {'has_active_interventions': False, 'intervent...   \nmooncrabco      {'has_active_interventions': False, 'intervent...   \nfitsonstreets   {'has_active_interventions': False, 'intervent...   \nvirgilabloh     {'has_active_interventions': False, 'intervent...   \n\n               account_badges  has_anonymous_profile_picture  \\\nlenny__manon               []                          False   \nnathoune664                []                          False   \npascal.suter.9             []                          False   \nlaura.benczedi             []                          False   \ndardan__10                 []                          False   \n...                       ...                            ...   \ndaredevilirs               []                          False   \naestheticvibbe             []                          False   \nmooncrabco                 []                          False   \nfitsonstreets              []                          False   \nvirgilabloh                []                          False   \n\n                has_highlight_reels  has_primary_country_in_feed  \\\nlenny__manon                  False                        False   \nnathoune664                   False                        False   \npascal.suter.9                False                        False   \nlaura.benczedi                False                        False   \ndardan__10                    False                        False   \n...                             ...                          ...   \ndaredevilirs                  False                        False   \naestheticvibbe                False                        False   \nmooncrabco                    False                        False   \nfitsonstreets                 False                        False   \nvirgilabloh                   False                        False   \n\n                has_primary_country_in_profile  transparency_product_enabled  \\\nlenny__manon                             False                         False   \nnathoune664                              False                         False   \npascal.suter.9                           False                         False   \nlaura.benczedi                           False                         False   \ndardan__10                               False                         False   \n...                                        ...                           ...   \ndaredevilirs                             False                         False   \naestheticvibbe                           False                         False   \nmooncrabco                               False                         False   \nfitsonstreets                            False                         False   \nvirgilabloh                              False                         False   \n\n                latest_reel_media  is_favorite  \nlenny__manon                    0        False  \nnathoune664                     0        False  \npascal.suter.9                  0        False  \nlaura.benczedi                  0        False  \ndardan__10                      0        False  \n...                           ...          ...  \ndaredevilirs                    0        False  \naestheticvibbe                  0        False  \nmooncrabco                      0        False  \nfitsonstreets                   0        False  \nvirgilabloh                     0        False  \n\n[1313 rows x 16 columns]",
      "text/html": "<div>\n<style scoped>\n    .dataframe tbody tr th:only-of-type {\n        vertical-align: middle;\n    }\n\n    .dataframe tbody tr th {\n        vertical-align: top;\n    }\n\n    .dataframe thead th {\n        text-align: right;\n    }\n</style>\n<table border=\"1\" class=\"dataframe\">\n  <thead>\n    <tr style=\"text-align: right;\">\n      <th></th>\n      <th>pk</th>\n      <th>full_name</th>\n      <th>is_private</th>\n      <th>profile_pic_url</th>\n      <th>profile_pic_id</th>\n      <th>is_verified</th>\n      <th>follow_friction_type</th>\n      <th>growth_friction_info</th>\n      <th>account_badges</th>\n      <th>has_anonymous_profile_picture</th>\n      <th>has_highlight_reels</th>\n      <th>has_primary_country_in_feed</th>\n      <th>has_primary_country_in_profile</th>\n      <th>transparency_product_enabled</th>\n      <th>latest_reel_media</th>\n      <th>is_favorite</th>\n    </tr>\n  </thead>\n  <tbody>\n    <tr>\n      <th>lenny__manon</th>\n      <td>49357193254</td>\n      <td></td>\n      <td>True</td>\n      <td>https://instagram.fqls2-1.fna.fbcdn.net/v/t51....</td>\n      <td>2.831521e+29</td>\n      <td>False</td>\n      <td>0</td>\n      <td>{'has_active_interventions': False, 'intervent...</td>\n      <td>[]</td>\n      <td>False</td>\n      <td>False</td>\n      <td>False</td>\n      <td>False</td>\n      <td>False</td>\n      <td>0</td>\n      <td>False</td>\n    </tr>\n    <tr>\n      <th>nathoune664</th>\n      <td>4260318391</td>\n      <td>Nathalie Arrayet-Pin</td>\n      <td>True</td>\n      <td>https://instagram.fqls2-1.fna.fbcdn.net/v/t51....</td>\n      <td>2.132346e+28</td>\n      <td>False</td>\n      <td>0</td>\n      <td>{'has_active_interventions': False, 'intervent...</td>\n      <td>[]</td>\n      <td>False</td>\n      <td>False</td>\n      <td>False</td>\n      <td>False</td>\n      <td>False</td>\n      <td>0</td>\n      <td>False</td>\n    </tr>\n    <tr>\n      <th>pascal.suter.9</th>\n      <td>15865348290</td>\n      <td>Pascal Suter</td>\n      <td>False</td>\n      <td>https://instagram.fqls2-1.fna.fbcdn.net/v/t51....</td>\n      <td>2.079187e+29</td>\n      <td>False</td>\n      <td>0</td>\n      <td>{'has_active_interventions': False, 'intervent...</td>\n      <td>[]</td>\n      <td>False</td>\n      <td>False</td>\n      <td>False</td>\n      <td>False</td>\n      <td>False</td>\n      <td>0</td>\n      <td>False</td>\n    </tr>\n    <tr>\n      <th>laura.benczedi</th>\n      <td>1436446325</td>\n      <td>Laura</td>\n      <td>True</td>\n      <td>https://instagram.fqls2-1.fna.fbcdn.net/v/t51....</td>\n      <td>2.833004e+28</td>\n      <td>False</td>\n      <td>0</td>\n      <td>{'has_active_interventions': False, 'intervent...</td>\n      <td>[]</td>\n      <td>False</td>\n      <td>False</td>\n      <td>False</td>\n      <td>False</td>\n      <td>False</td>\n      <td>0</td>\n      <td>False</td>\n    </tr>\n    <tr>\n      <th>dardan__10</th>\n      <td>16844003665</td>\n      <td>Dardan</td>\n      <td>True</td>\n      <td>https://instagram.fqls2-1.fna.fbcdn.net/v/t51....</td>\n      <td>2.773690e+29</td>\n      <td>False</td>\n      <td>0</td>\n      <td>{'has_active_interventions': False, 'intervent...</td>\n      <td>[]</td>\n      <td>False</td>\n      <td>False</td>\n      <td>False</td>\n      <td>False</td>\n      <td>False</td>\n      <td>0</td>\n      <td>False</td>\n    </tr>\n    <tr>\n      <th>...</th>\n      <td>...</td>\n      <td>...</td>\n      <td>...</td>\n      <td>...</td>\n      <td>...</td>\n      <td>...</td>\n      <td>...</td>\n      <td>...</td>\n      <td>...</td>\n      <td>...</td>\n      <td>...</td>\n      <td>...</td>\n      <td>...</td>\n      <td>...</td>\n      <td>...</td>\n      <td>...</td>\n    </tr>\n    <tr>\n      <th>daredevilirs</th>\n      <td>39470166878</td>\n      <td></td>\n      <td>False</td>\n      <td>https://instagram.fqls2-1.fna.fbcdn.net/v/t51....</td>\n      <td>2.568403e+29</td>\n      <td>False</td>\n      <td>0</td>\n      <td>{'has_active_interventions': False, 'intervent...</td>\n      <td>[]</td>\n      <td>False</td>\n      <td>False</td>\n      <td>False</td>\n      <td>False</td>\n      <td>False</td>\n      <td>0</td>\n      <td>False</td>\n    </tr>\n    <tr>\n      <th>aestheticvibbe</th>\n      <td>21902686964</td>\n      <td>🥀</td>\n      <td>False</td>\n      <td>https://instagram.fqls2-1.fna.fbcdn.net/v/t51....</td>\n      <td>2.266441e+29</td>\n      <td>False</td>\n      <td>0</td>\n      <td>{'has_active_interventions': False, 'intervent...</td>\n      <td>[]</td>\n      <td>False</td>\n      <td>False</td>\n      <td>False</td>\n      <td>False</td>\n      <td>False</td>\n      <td>0</td>\n      <td>False</td>\n    </tr>\n    <tr>\n      <th>mooncrabco</th>\n      <td>8092055416</td>\n      <td>Mooncrab Co. 🐆</td>\n      <td>False</td>\n      <td>https://instagram.fqls2-1.fna.fbcdn.net/v/t51....</td>\n      <td>2.779413e+28</td>\n      <td>False</td>\n      <td>0</td>\n      <td>{'has_active_interventions': False, 'intervent...</td>\n      <td>[]</td>\n      <td>False</td>\n      <td>False</td>\n      <td>False</td>\n      <td>False</td>\n      <td>False</td>\n      <td>0</td>\n      <td>False</td>\n    </tr>\n    <tr>\n      <th>fitsonstreets</th>\n      <td>8707559584</td>\n      <td>fitsonstreets</td>\n      <td>False</td>\n      <td>https://instagram.fqls2-1.fna.fbcdn.net/v/t51....</td>\n      <td>2.676060e+28</td>\n      <td>False</td>\n      <td>0</td>\n      <td>{'has_active_interventions': False, 'intervent...</td>\n      <td>[]</td>\n      <td>False</td>\n      <td>False</td>\n      <td>False</td>\n      <td>False</td>\n      <td>False</td>\n      <td>0</td>\n      <td>False</td>\n    </tr>\n    <tr>\n      <th>virgilabloh</th>\n      <td>221664</td>\n      <td></td>\n      <td>False</td>\n      <td>https://instagram.fqls2-1.fna.fbcdn.net/v/t51....</td>\n      <td>2.573258e+24</td>\n      <td>True</td>\n      <td>0</td>\n      <td>{'has_active_interventions': False, 'intervent...</td>\n      <td>[]</td>\n      <td>False</td>\n      <td>False</td>\n      <td>False</td>\n      <td>False</td>\n      <td>False</td>\n      <td>0</td>\n      <td>False</td>\n    </tr>\n  </tbody>\n</table>\n<p>1313 rows × 16 columns</p>\n</div>"
     },
     "execution_count": 35,
     "metadata": {},
     "output_type": "execute_result"
    }
   ],
   "source": [
    "df_followings"
   ],
   "metadata": {
    "collapsed": false,
    "pycharm": {
     "name": "#%%\n"
    }
   }
  },
  {
   "cell_type": "code",
   "execution_count": 36,
   "outputs": [
    {
     "data": {
      "text/plain": "                             pk             full_name  is_private  \\\ncombienrepete       11569066773               combien       False   \nlenny__manon        49357193254                              True   \nnathoune664          4260318391  Nathalie Arrayet-Pin        True   \npascal.suter.9      15865348290          Pascal Suter       False   \nlaura.benczedi       1436446325                 Laura        True   \n...                         ...                   ...         ...   \nmathildebarnier437  47683993053      Mathilde Barnier       False   \nwebdesignersatish    6906687370      Satish Mankodiya       False   \newan_nuss            3223690742                  Ewan        True   \nsinginghoopoe        5946860096             🦚 Jodie 🦚       False   \nvttilx_binks        14342033344                Attila       False   \n\n                                                      profile_pic_url  \\\ncombienrepete       https://instagram.fcmh1-1.fna.fbcdn.net/v/t51....   \nlenny__manon        https://instagram.fqls2-1.fna.fbcdn.net/v/t51....   \nnathoune664         https://instagram.fqls2-1.fna.fbcdn.net/v/t51....   \npascal.suter.9      https://instagram.fqls2-1.fna.fbcdn.net/v/t51....   \nlaura.benczedi      https://instagram.fqls2-1.fna.fbcdn.net/v/t51....   \n...                                                               ...   \nmathildebarnier437  https://instagram.fqls2-1.fna.fbcdn.net/v/t51....   \nwebdesignersatish   https://instagram.fqls2-1.fna.fbcdn.net/v/t51....   \newan_nuss           https://instagram.fqls2-1.fna.fbcdn.net/v/t51....   \nsinginghoopoe       https://instagram.fqls2-1.fna.fbcdn.net/v/t51....   \nvttilx_binks        https://instagram.fqls2-1.fna.fbcdn.net/v/t51....   \n\n                    profile_pic_id  is_verified  follow_friction_type  \\\ncombienrepete                  NaN        False                     0   \nlenny__manon          2.831521e+29        False                     0   \nnathoune664           2.132346e+28        False                     0   \npascal.suter.9        2.079187e+29        False                     0   \nlaura.benczedi        2.833004e+28        False                     0   \n...                            ...          ...                   ...   \nmathildebarnier437    2.570016e+29        False                     0   \nwebdesignersatish     1.920456e+28        False                     0   \newan_nuss             2.216978e+28        False                     0   \nsinginghoopoe         2.778491e+28        False                     0   \nvttilx_binks          2.386420e+29        False                     0   \n\n                                                 growth_friction_info  \\\ncombienrepete       {'has_active_interventions': False, 'intervent...   \nlenny__manon        {'has_active_interventions': False, 'intervent...   \nnathoune664         {'has_active_interventions': False, 'intervent...   \npascal.suter.9      {'has_active_interventions': False, 'intervent...   \nlaura.benczedi      {'has_active_interventions': False, 'intervent...   \n...                                                               ...   \nmathildebarnier437  {'has_active_interventions': False, 'intervent...   \nwebdesignersatish   {'has_active_interventions': False, 'intervent...   \newan_nuss           {'has_active_interventions': False, 'intervent...   \nsinginghoopoe       {'has_active_interventions': False, 'intervent...   \nvttilx_binks        {'has_active_interventions': False, 'intervent...   \n\n                   account_badges  has_anonymous_profile_picture  \\\ncombienrepete                  []                           True   \nlenny__manon                   []                          False   \nnathoune664                    []                          False   \npascal.suter.9                 []                          False   \nlaura.benczedi                 []                          False   \n...                           ...                            ...   \nmathildebarnier437             []                          False   \nwebdesignersatish              []                          False   \newan_nuss                      []                          False   \nsinginghoopoe                  []                          False   \nvttilx_binks                   []                          False   \n\n                    has_highlight_reels  has_primary_country_in_feed  \\\ncombienrepete                     False                        False   \nlenny__manon                      False                        False   \nnathoune664                       False                        False   \npascal.suter.9                    False                        False   \nlaura.benczedi                    False                        False   \n...                                 ...                          ...   \nmathildebarnier437                False                        False   \nwebdesignersatish                 False                        False   \newan_nuss                         False                        False   \nsinginghoopoe                     False                        False   \nvttilx_binks                      False                        False   \n\n                    has_primary_country_in_profile  \\\ncombienrepete                                False   \nlenny__manon                                 False   \nnathoune664                                  False   \npascal.suter.9                               False   \nlaura.benczedi                               False   \n...                                            ...   \nmathildebarnier437                           False   \nwebdesignersatish                            False   \newan_nuss                                    False   \nsinginghoopoe                                False   \nvttilx_binks                                 False   \n\n                    transparency_product_enabled  latest_reel_media  \\\ncombienrepete                              False                  0   \nlenny__manon                               False                  0   \nnathoune664                                False                  0   \npascal.suter.9                             False                  0   \nlaura.benczedi                             False                  0   \n...                                          ...                ...   \nmathildebarnier437                         False                  0   \nwebdesignersatish                          False                  0   \newan_nuss                                  False                  0   \nsinginghoopoe                              False                  0   \nvttilx_binks                               False                  0   \n\n                    is_favorite  \ncombienrepete               NaN  \nlenny__manon                NaN  \nnathoune664                 NaN  \npascal.suter.9              NaN  \nlaura.benczedi              NaN  \n...                         ...  \nmathildebarnier437          NaN  \nwebdesignersatish           NaN  \newan_nuss                   NaN  \nsinginghoopoe               NaN  \nvttilx_binks                NaN  \n\n[319 rows x 16 columns]",
      "text/html": "<div>\n<style scoped>\n    .dataframe tbody tr th:only-of-type {\n        vertical-align: middle;\n    }\n\n    .dataframe tbody tr th {\n        vertical-align: top;\n    }\n\n    .dataframe thead th {\n        text-align: right;\n    }\n</style>\n<table border=\"1\" class=\"dataframe\">\n  <thead>\n    <tr style=\"text-align: right;\">\n      <th></th>\n      <th>pk</th>\n      <th>full_name</th>\n      <th>is_private</th>\n      <th>profile_pic_url</th>\n      <th>profile_pic_id</th>\n      <th>is_verified</th>\n      <th>follow_friction_type</th>\n      <th>growth_friction_info</th>\n      <th>account_badges</th>\n      <th>has_anonymous_profile_picture</th>\n      <th>has_highlight_reels</th>\n      <th>has_primary_country_in_feed</th>\n      <th>has_primary_country_in_profile</th>\n      <th>transparency_product_enabled</th>\n      <th>latest_reel_media</th>\n      <th>is_favorite</th>\n    </tr>\n  </thead>\n  <tbody>\n    <tr>\n      <th>combienrepete</th>\n      <td>11569066773</td>\n      <td>combien</td>\n      <td>False</td>\n      <td>https://instagram.fcmh1-1.fna.fbcdn.net/v/t51....</td>\n      <td>NaN</td>\n      <td>False</td>\n      <td>0</td>\n      <td>{'has_active_interventions': False, 'intervent...</td>\n      <td>[]</td>\n      <td>True</td>\n      <td>False</td>\n      <td>False</td>\n      <td>False</td>\n      <td>False</td>\n      <td>0</td>\n      <td>NaN</td>\n    </tr>\n    <tr>\n      <th>lenny__manon</th>\n      <td>49357193254</td>\n      <td></td>\n      <td>True</td>\n      <td>https://instagram.fqls2-1.fna.fbcdn.net/v/t51....</td>\n      <td>2.831521e+29</td>\n      <td>False</td>\n      <td>0</td>\n      <td>{'has_active_interventions': False, 'intervent...</td>\n      <td>[]</td>\n      <td>False</td>\n      <td>False</td>\n      <td>False</td>\n      <td>False</td>\n      <td>False</td>\n      <td>0</td>\n      <td>NaN</td>\n    </tr>\n    <tr>\n      <th>nathoune664</th>\n      <td>4260318391</td>\n      <td>Nathalie Arrayet-Pin</td>\n      <td>True</td>\n      <td>https://instagram.fqls2-1.fna.fbcdn.net/v/t51....</td>\n      <td>2.132346e+28</td>\n      <td>False</td>\n      <td>0</td>\n      <td>{'has_active_interventions': False, 'intervent...</td>\n      <td>[]</td>\n      <td>False</td>\n      <td>False</td>\n      <td>False</td>\n      <td>False</td>\n      <td>False</td>\n      <td>0</td>\n      <td>NaN</td>\n    </tr>\n    <tr>\n      <th>pascal.suter.9</th>\n      <td>15865348290</td>\n      <td>Pascal Suter</td>\n      <td>False</td>\n      <td>https://instagram.fqls2-1.fna.fbcdn.net/v/t51....</td>\n      <td>2.079187e+29</td>\n      <td>False</td>\n      <td>0</td>\n      <td>{'has_active_interventions': False, 'intervent...</td>\n      <td>[]</td>\n      <td>False</td>\n      <td>False</td>\n      <td>False</td>\n      <td>False</td>\n      <td>False</td>\n      <td>0</td>\n      <td>NaN</td>\n    </tr>\n    <tr>\n      <th>laura.benczedi</th>\n      <td>1436446325</td>\n      <td>Laura</td>\n      <td>True</td>\n      <td>https://instagram.fqls2-1.fna.fbcdn.net/v/t51....</td>\n      <td>2.833004e+28</td>\n      <td>False</td>\n      <td>0</td>\n      <td>{'has_active_interventions': False, 'intervent...</td>\n      <td>[]</td>\n      <td>False</td>\n      <td>False</td>\n      <td>False</td>\n      <td>False</td>\n      <td>False</td>\n      <td>0</td>\n      <td>NaN</td>\n    </tr>\n    <tr>\n      <th>...</th>\n      <td>...</td>\n      <td>...</td>\n      <td>...</td>\n      <td>...</td>\n      <td>...</td>\n      <td>...</td>\n      <td>...</td>\n      <td>...</td>\n      <td>...</td>\n      <td>...</td>\n      <td>...</td>\n      <td>...</td>\n      <td>...</td>\n      <td>...</td>\n      <td>...</td>\n      <td>...</td>\n    </tr>\n    <tr>\n      <th>mathildebarnier437</th>\n      <td>47683993053</td>\n      <td>Mathilde Barnier</td>\n      <td>False</td>\n      <td>https://instagram.fqls2-1.fna.fbcdn.net/v/t51....</td>\n      <td>2.570016e+29</td>\n      <td>False</td>\n      <td>0</td>\n      <td>{'has_active_interventions': False, 'intervent...</td>\n      <td>[]</td>\n      <td>False</td>\n      <td>False</td>\n      <td>False</td>\n      <td>False</td>\n      <td>False</td>\n      <td>0</td>\n      <td>NaN</td>\n    </tr>\n    <tr>\n      <th>webdesignersatish</th>\n      <td>6906687370</td>\n      <td>Satish Mankodiya</td>\n      <td>False</td>\n      <td>https://instagram.fqls2-1.fna.fbcdn.net/v/t51....</td>\n      <td>1.920456e+28</td>\n      <td>False</td>\n      <td>0</td>\n      <td>{'has_active_interventions': False, 'intervent...</td>\n      <td>[]</td>\n      <td>False</td>\n      <td>False</td>\n      <td>False</td>\n      <td>False</td>\n      <td>False</td>\n      <td>0</td>\n      <td>NaN</td>\n    </tr>\n    <tr>\n      <th>ewan_nuss</th>\n      <td>3223690742</td>\n      <td>Ewan</td>\n      <td>True</td>\n      <td>https://instagram.fqls2-1.fna.fbcdn.net/v/t51....</td>\n      <td>2.216978e+28</td>\n      <td>False</td>\n      <td>0</td>\n      <td>{'has_active_interventions': False, 'intervent...</td>\n      <td>[]</td>\n      <td>False</td>\n      <td>False</td>\n      <td>False</td>\n      <td>False</td>\n      <td>False</td>\n      <td>0</td>\n      <td>NaN</td>\n    </tr>\n    <tr>\n      <th>singinghoopoe</th>\n      <td>5946860096</td>\n      <td>🦚 Jodie 🦚</td>\n      <td>False</td>\n      <td>https://instagram.fqls2-1.fna.fbcdn.net/v/t51....</td>\n      <td>2.778491e+28</td>\n      <td>False</td>\n      <td>0</td>\n      <td>{'has_active_interventions': False, 'intervent...</td>\n      <td>[]</td>\n      <td>False</td>\n      <td>False</td>\n      <td>False</td>\n      <td>False</td>\n      <td>False</td>\n      <td>0</td>\n      <td>NaN</td>\n    </tr>\n    <tr>\n      <th>vttilx_binks</th>\n      <td>14342033344</td>\n      <td>Attila</td>\n      <td>False</td>\n      <td>https://instagram.fqls2-1.fna.fbcdn.net/v/t51....</td>\n      <td>2.386420e+29</td>\n      <td>False</td>\n      <td>0</td>\n      <td>{'has_active_interventions': False, 'intervent...</td>\n      <td>[]</td>\n      <td>False</td>\n      <td>False</td>\n      <td>False</td>\n      <td>False</td>\n      <td>False</td>\n      <td>0</td>\n      <td>NaN</td>\n    </tr>\n  </tbody>\n</table>\n<p>319 rows × 16 columns</p>\n</div>"
     },
     "execution_count": 36,
     "metadata": {},
     "output_type": "execute_result"
    }
   ],
   "source": [
    "df_followers"
   ],
   "metadata": {
    "collapsed": false,
    "pycharm": {
     "name": "#%%\n"
    }
   }
  },
  {
   "cell_type": "code",
   "execution_count": 37,
   "outputs": [
    {
     "data": {
      "text/plain": "                          pk             full_name  is_private  \\\nlenny__manon     49357193254                              True   \nnathoune664       4260318391  Nathalie Arrayet-Pin        True   \npascal.suter.9   15865348290          Pascal Suter       False   \nlaura.benczedi    1436446325                 Laura        True   \ndardan__10       16844003665                Dardan        True   \n...                      ...                   ...         ...   \npavle_dzedaj       962266888                 Pavle        True   \nmaelia_08        16621812469               Maelia💋       False   \ndrawmecam         1521280764             CAMILLE M       False   \ncestchillventes  40733065843   ventes sur lausanne       False   \n_stanvideo_       6314538318              Hellyeah       False   \n\n                                                   profile_pic_url  \\\nlenny__manon     https://instagram.fqls2-1.fna.fbcdn.net/v/t51....   \nnathoune664      https://instagram.fqls2-1.fna.fbcdn.net/v/t51....   \npascal.suter.9   https://instagram.fqls2-1.fna.fbcdn.net/v/t51....   \nlaura.benczedi   https://instagram.fqls2-1.fna.fbcdn.net/v/t51....   \ndardan__10       https://instagram.fqls2-1.fna.fbcdn.net/v/t51....   \n...                                                            ...   \npavle_dzedaj     https://instagram.fqls2-1.fna.fbcdn.net/v/t51....   \nmaelia_08        https://instagram.fqls2-1.fna.fbcdn.net/v/t51....   \ndrawmecam        https://instagram.fqls2-1.fna.fbcdn.net/v/t51....   \ncestchillventes  https://instagram.fqls2-1.fna.fbcdn.net/v/t51....   \n_stanvideo_      https://instagram.fqls2-1.fna.fbcdn.net/v/t51....   \n\n                 profile_pic_id  is_verified  follow_friction_type  \\\nlenny__manon       2.831521e+29        False                     0   \nnathoune664        2.132346e+28        False                     0   \npascal.suter.9     2.079187e+29        False                     0   \nlaura.benczedi     2.833004e+28        False                     0   \ndardan__10         2.773690e+29        False                     0   \n...                         ...          ...                   ...   \npavle_dzedaj       2.351830e+27        False                     0   \nmaelia_08          2.832285e+29        False                     0   \ndrawmecam          2.383650e+28        False                     0   \ncestchillventes    2.387755e+29        False                     0   \n_stanvideo_        2.464641e+28        False                     0   \n\n                                              growth_friction_info  \\\nlenny__manon     {'has_active_interventions': False, 'intervent...   \nnathoune664      {'has_active_interventions': False, 'intervent...   \npascal.suter.9   {'has_active_interventions': False, 'intervent...   \nlaura.benczedi   {'has_active_interventions': False, 'intervent...   \ndardan__10       {'has_active_interventions': False, 'intervent...   \n...                                                            ...   \npavle_dzedaj     {'has_active_interventions': False, 'intervent...   \nmaelia_08        {'has_active_interventions': False, 'intervent...   \ndrawmecam        {'has_active_interventions': False, 'intervent...   \ncestchillventes  {'has_active_interventions': False, 'intervent...   \n_stanvideo_      {'has_active_interventions': False, 'intervent...   \n\n                account_badges  has_anonymous_profile_picture  \\\nlenny__manon                []                          False   \nnathoune664                 []                          False   \npascal.suter.9              []                          False   \nlaura.benczedi              []                          False   \ndardan__10                  []                          False   \n...                        ...                            ...   \npavle_dzedaj                []                          False   \nmaelia_08                   []                          False   \ndrawmecam                   []                          False   \ncestchillventes             []                          False   \n_stanvideo_                 []                          False   \n\n                 has_highlight_reels  has_primary_country_in_feed  \\\nlenny__manon                   False                        False   \nnathoune664                    False                        False   \npascal.suter.9                 False                        False   \nlaura.benczedi                 False                        False   \ndardan__10                     False                        False   \n...                              ...                          ...   \npavle_dzedaj                   False                        False   \nmaelia_08                      False                        False   \ndrawmecam                      False                        False   \ncestchillventes                False                        False   \n_stanvideo_                    False                        False   \n\n                 has_primary_country_in_profile  transparency_product_enabled  \\\nlenny__manon                              False                         False   \nnathoune664                               False                         False   \npascal.suter.9                            False                         False   \nlaura.benczedi                            False                         False   \ndardan__10                                False                         False   \n...                                         ...                           ...   \npavle_dzedaj                              False                         False   \nmaelia_08                                 False                         False   \ndrawmecam                                 False                         False   \ncestchillventes                           False                         False   \n_stanvideo_                               False                         False   \n\n                 latest_reel_media  is_favorite  follow_back  \nlenny__manon                     0        False         True  \nnathoune664                      0        False         True  \npascal.suter.9                   0        False         True  \nlaura.benczedi                   0        False         True  \ndardan__10                       0        False         True  \n...                            ...          ...          ...  \npavle_dzedaj                     0        False         True  \nmaelia_08                        0        False         True  \ndrawmecam                        0        False         True  \ncestchillventes                  0        False         True  \n_stanvideo_                      0        False         True  \n\n[232 rows x 17 columns]",
      "text/html": "<div>\n<style scoped>\n    .dataframe tbody tr th:only-of-type {\n        vertical-align: middle;\n    }\n\n    .dataframe tbody tr th {\n        vertical-align: top;\n    }\n\n    .dataframe thead th {\n        text-align: right;\n    }\n</style>\n<table border=\"1\" class=\"dataframe\">\n  <thead>\n    <tr style=\"text-align: right;\">\n      <th></th>\n      <th>pk</th>\n      <th>full_name</th>\n      <th>is_private</th>\n      <th>profile_pic_url</th>\n      <th>profile_pic_id</th>\n      <th>is_verified</th>\n      <th>follow_friction_type</th>\n      <th>growth_friction_info</th>\n      <th>account_badges</th>\n      <th>has_anonymous_profile_picture</th>\n      <th>has_highlight_reels</th>\n      <th>has_primary_country_in_feed</th>\n      <th>has_primary_country_in_profile</th>\n      <th>transparency_product_enabled</th>\n      <th>latest_reel_media</th>\n      <th>is_favorite</th>\n      <th>follow_back</th>\n    </tr>\n  </thead>\n  <tbody>\n    <tr>\n      <th>lenny__manon</th>\n      <td>49357193254</td>\n      <td></td>\n      <td>True</td>\n      <td>https://instagram.fqls2-1.fna.fbcdn.net/v/t51....</td>\n      <td>2.831521e+29</td>\n      <td>False</td>\n      <td>0</td>\n      <td>{'has_active_interventions': False, 'intervent...</td>\n      <td>[]</td>\n      <td>False</td>\n      <td>False</td>\n      <td>False</td>\n      <td>False</td>\n      <td>False</td>\n      <td>0</td>\n      <td>False</td>\n      <td>True</td>\n    </tr>\n    <tr>\n      <th>nathoune664</th>\n      <td>4260318391</td>\n      <td>Nathalie Arrayet-Pin</td>\n      <td>True</td>\n      <td>https://instagram.fqls2-1.fna.fbcdn.net/v/t51....</td>\n      <td>2.132346e+28</td>\n      <td>False</td>\n      <td>0</td>\n      <td>{'has_active_interventions': False, 'intervent...</td>\n      <td>[]</td>\n      <td>False</td>\n      <td>False</td>\n      <td>False</td>\n      <td>False</td>\n      <td>False</td>\n      <td>0</td>\n      <td>False</td>\n      <td>True</td>\n    </tr>\n    <tr>\n      <th>pascal.suter.9</th>\n      <td>15865348290</td>\n      <td>Pascal Suter</td>\n      <td>False</td>\n      <td>https://instagram.fqls2-1.fna.fbcdn.net/v/t51....</td>\n      <td>2.079187e+29</td>\n      <td>False</td>\n      <td>0</td>\n      <td>{'has_active_interventions': False, 'intervent...</td>\n      <td>[]</td>\n      <td>False</td>\n      <td>False</td>\n      <td>False</td>\n      <td>False</td>\n      <td>False</td>\n      <td>0</td>\n      <td>False</td>\n      <td>True</td>\n    </tr>\n    <tr>\n      <th>laura.benczedi</th>\n      <td>1436446325</td>\n      <td>Laura</td>\n      <td>True</td>\n      <td>https://instagram.fqls2-1.fna.fbcdn.net/v/t51....</td>\n      <td>2.833004e+28</td>\n      <td>False</td>\n      <td>0</td>\n      <td>{'has_active_interventions': False, 'intervent...</td>\n      <td>[]</td>\n      <td>False</td>\n      <td>False</td>\n      <td>False</td>\n      <td>False</td>\n      <td>False</td>\n      <td>0</td>\n      <td>False</td>\n      <td>True</td>\n    </tr>\n    <tr>\n      <th>dardan__10</th>\n      <td>16844003665</td>\n      <td>Dardan</td>\n      <td>True</td>\n      <td>https://instagram.fqls2-1.fna.fbcdn.net/v/t51....</td>\n      <td>2.773690e+29</td>\n      <td>False</td>\n      <td>0</td>\n      <td>{'has_active_interventions': False, 'intervent...</td>\n      <td>[]</td>\n      <td>False</td>\n      <td>False</td>\n      <td>False</td>\n      <td>False</td>\n      <td>False</td>\n      <td>0</td>\n      <td>False</td>\n      <td>True</td>\n    </tr>\n    <tr>\n      <th>...</th>\n      <td>...</td>\n      <td>...</td>\n      <td>...</td>\n      <td>...</td>\n      <td>...</td>\n      <td>...</td>\n      <td>...</td>\n      <td>...</td>\n      <td>...</td>\n      <td>...</td>\n      <td>...</td>\n      <td>...</td>\n      <td>...</td>\n      <td>...</td>\n      <td>...</td>\n      <td>...</td>\n      <td>...</td>\n    </tr>\n    <tr>\n      <th>pavle_dzedaj</th>\n      <td>962266888</td>\n      <td>Pavle</td>\n      <td>True</td>\n      <td>https://instagram.fqls2-1.fna.fbcdn.net/v/t51....</td>\n      <td>2.351830e+27</td>\n      <td>False</td>\n      <td>0</td>\n      <td>{'has_active_interventions': False, 'intervent...</td>\n      <td>[]</td>\n      <td>False</td>\n      <td>False</td>\n      <td>False</td>\n      <td>False</td>\n      <td>False</td>\n      <td>0</td>\n      <td>False</td>\n      <td>True</td>\n    </tr>\n    <tr>\n      <th>maelia_08</th>\n      <td>16621812469</td>\n      <td>Maelia💋</td>\n      <td>False</td>\n      <td>https://instagram.fqls2-1.fna.fbcdn.net/v/t51....</td>\n      <td>2.832285e+29</td>\n      <td>False</td>\n      <td>0</td>\n      <td>{'has_active_interventions': False, 'intervent...</td>\n      <td>[]</td>\n      <td>False</td>\n      <td>False</td>\n      <td>False</td>\n      <td>False</td>\n      <td>False</td>\n      <td>0</td>\n      <td>False</td>\n      <td>True</td>\n    </tr>\n    <tr>\n      <th>drawmecam</th>\n      <td>1521280764</td>\n      <td>CAMILLE M</td>\n      <td>False</td>\n      <td>https://instagram.fqls2-1.fna.fbcdn.net/v/t51....</td>\n      <td>2.383650e+28</td>\n      <td>False</td>\n      <td>0</td>\n      <td>{'has_active_interventions': False, 'intervent...</td>\n      <td>[]</td>\n      <td>False</td>\n      <td>False</td>\n      <td>False</td>\n      <td>False</td>\n      <td>False</td>\n      <td>0</td>\n      <td>False</td>\n      <td>True</td>\n    </tr>\n    <tr>\n      <th>cestchillventes</th>\n      <td>40733065843</td>\n      <td>ventes sur lausanne</td>\n      <td>False</td>\n      <td>https://instagram.fqls2-1.fna.fbcdn.net/v/t51....</td>\n      <td>2.387755e+29</td>\n      <td>False</td>\n      <td>0</td>\n      <td>{'has_active_interventions': False, 'intervent...</td>\n      <td>[]</td>\n      <td>False</td>\n      <td>False</td>\n      <td>False</td>\n      <td>False</td>\n      <td>False</td>\n      <td>0</td>\n      <td>False</td>\n      <td>True</td>\n    </tr>\n    <tr>\n      <th>_stanvideo_</th>\n      <td>6314538318</td>\n      <td>Hellyeah</td>\n      <td>False</td>\n      <td>https://instagram.fqls2-1.fna.fbcdn.net/v/t51....</td>\n      <td>2.464641e+28</td>\n      <td>False</td>\n      <td>0</td>\n      <td>{'has_active_interventions': False, 'intervent...</td>\n      <td>[]</td>\n      <td>False</td>\n      <td>False</td>\n      <td>False</td>\n      <td>False</td>\n      <td>False</td>\n      <td>0</td>\n      <td>False</td>\n      <td>True</td>\n    </tr>\n  </tbody>\n</table>\n<p>232 rows × 17 columns</p>\n</div>"
     },
     "execution_count": 37,
     "metadata": {},
     "output_type": "execute_result"
    }
   ],
   "source": [
    "df_followings[\"follow_back\"] = df_followings.index.isin(df_followers.index)\n",
    "df_follow_back = df_followings[df_followings[\"follow_back\"] == True]\n",
    "df_not_follow_back = df_followings[df_followings[\"follow_back\"] == False]\n",
    "df_follow_back"
   ],
   "metadata": {
    "collapsed": false,
    "pycharm": {
     "name": "#%%\n"
    }
   }
  },
  {
   "cell_type": "code",
   "execution_count": 38,
   "outputs": [
    {
     "name": "stderr",
     "output_type": "stream",
     "text": [
      "WARNING:root:Saved session for ven_bot not found\n",
      "DEBUG:urllib3.connectionpool:Starting new HTTPS connection (1): www.instagram.com:443\n",
      "DEBUG:urllib3.connectionpool:https://www.instagram.com:443 \"POST /accounts/login/ajax/ HTTP/1.1\" 200 91\n",
      "INFO:root:Logged as ven_bot, sessionid=50822628430%3Al6OMSez6rw9Dcv%3A24, csrftoken=RkOuEqBc3m9asUHYCw1P1K7Jy3Mqs9Uo\n"
     ]
    }
   ],
   "source": [
    "c = Crawler(\n",
    "    username=\"ven_bot\",\n",
    "    enc_password=\"#PWD_INSTAGRAM_BROWSER:10:1652134910:AepQAOA5eV8sX3+nD/G4yE8eRb98GFyEU6nKT6pUvnEa0fw307XYrbsZ18iqB9loYWXGJp5PJBkehtjxv6+9y3ykP4hLillJvQZCCxLsGey5w55siZPfQHK00mv2UJzO6lUODgVI1fhtPbwsdvcbUjIeM68=\"\n",
    ")\n",
    "\n",
    "c.login()"
   ],
   "metadata": {
    "collapsed": false,
    "pycharm": {
     "name": "#%%\n"
    }
   }
  },
  {
   "cell_type": "code",
   "execution_count": 39,
   "outputs": [
    {
     "name": "stderr",
     "output_type": "stream",
     "text": [
      "DEBUG:urllib3.connectionpool:Starting new HTTPS connection (1): www.instagram.com:443\n",
      "DEBUG:urllib3.connectionpool:https://www.instagram.com:443 \"GET /ven_bot/?__a=1&__d=dis HTTP/1.1\" 200 1258\n",
      "DEBUG:urllib3.connectionpool:Starting new HTTPS connection (1): i.instagram.com:443\n",
      "DEBUG:urllib3.connectionpool:https://i.instagram.com:443 \"GET /api/v1/friendships/50822628430/following/?count=650 HTTP/1.1\" 200 51732\n"
     ]
    },
    {
     "data": {
      "text/plain": "                         pk             full_name  is_private  \\\nnathoune664      4260318391  Nathalie Arrayet-Pin        True   \nrogerarrayet    49094603657         Roger Arrayet        True   \nraptor2rue      48869096092              Jade - 玉        True   \njordan.19_96       39947636                Jordan        True   \nclottujohan      7578050821          Johan Clottu        True   \n...                     ...                   ...         ...   \ndaredevilirs    39470166878                             False   \naestheticvibbe  21902686964                     🥀       False   \nmooncrabco       8092055416        Mooncrab Co. 🐆       False   \nfitsonstreets    8707559584         fitsonstreets       False   \nvirgilabloh          221664                             False   \n\n                                                  profile_pic_url  \\\nnathoune664     https://instagram.fqls2-1.fna.fbcdn.net/v/t51....   \nrogerarrayet    https://instagram.fqls2-1.fna.fbcdn.net/v/t51....   \nraptor2rue      https://instagram.fqls2-1.fna.fbcdn.net/v/t51....   \njordan.19_96    https://instagram.fqls2-1.fna.fbcdn.net/v/t51....   \nclottujohan     https://instagram.fqls2-1.fna.fbcdn.net/v/t51....   \n...                                                           ...   \ndaredevilirs    https://instagram.fqls2-1.fna.fbcdn.net/v/t51....   \naestheticvibbe  https://instagram.fqls2-1.fna.fbcdn.net/v/t51....   \nmooncrabco      https://instagram.fqls2-1.fna.fbcdn.net/v/t51....   \nfitsonstreets   https://instagram.fqls2-1.fna.fbcdn.net/v/t51....   \nvirgilabloh     https://instagram.fqls2-1.fna.fbcdn.net/v/t51....   \n\n                profile_pic_id  is_verified  follow_friction_type  \\\nnathoune664       2.132346e+28        False                     0   \nrogerarrayet      2.647393e+29        False                     0   \nraptor2rue        2.744560e+29        False                     0   \njordan.19_96      2.829389e+26        False                     0   \nclottujohan       2.572252e+28        False                     0   \n...                        ...          ...                   ...   \ndaredevilirs      2.568403e+29        False                     0   \naestheticvibbe    2.266441e+29        False                     0   \nmooncrabco        2.779413e+28        False                     0   \nfitsonstreets     2.676060e+28        False                     0   \nvirgilabloh       2.573258e+24         True                     0   \n\n                                             growth_friction_info  \\\nnathoune664     {'has_active_interventions': False, 'intervent...   \nrogerarrayet    {'has_active_interventions': False, 'intervent...   \nraptor2rue      {'has_active_interventions': False, 'intervent...   \njordan.19_96    {'has_active_interventions': False, 'intervent...   \nclottujohan     {'has_active_interventions': False, 'intervent...   \n...                                                           ...   \ndaredevilirs    {'has_active_interventions': False, 'intervent...   \naestheticvibbe  {'has_active_interventions': False, 'intervent...   \nmooncrabco      {'has_active_interventions': False, 'intervent...   \nfitsonstreets   {'has_active_interventions': False, 'intervent...   \nvirgilabloh     {'has_active_interventions': False, 'intervent...   \n\n               account_badges  has_anonymous_profile_picture  \\\nnathoune664                []                          False   \nrogerarrayet               []                          False   \nraptor2rue                 []                          False   \njordan.19_96               []                          False   \nclottujohan                []                          False   \n...                       ...                            ...   \ndaredevilirs               []                          False   \naestheticvibbe             []                          False   \nmooncrabco                 []                          False   \nfitsonstreets              []                          False   \nvirgilabloh                []                          False   \n\n                has_highlight_reels  has_primary_country_in_feed  \\\nnathoune664                   False                        False   \nrogerarrayet                  False                        False   \nraptor2rue                    False                        False   \njordan.19_96                  False                        False   \nclottujohan                   False                        False   \n...                             ...                          ...   \ndaredevilirs                  False                        False   \naestheticvibbe                False                        False   \nmooncrabco                    False                        False   \nfitsonstreets                 False                        False   \nvirgilabloh                   False                        False   \n\n                has_primary_country_in_profile  transparency_product_enabled  \\\nnathoune664                              False                         False   \nrogerarrayet                             False                         False   \nraptor2rue                               False                         False   \njordan.19_96                             False                         False   \nclottujohan                              False                         False   \n...                                        ...                           ...   \ndaredevilirs                             False                         False   \naestheticvibbe                           False                         False   \nmooncrabco                               False                         False   \nfitsonstreets                            False                         False   \nvirgilabloh                              False                         False   \n\n                latest_reel_media  is_favorite  follow_back  to_follow  \nnathoune664                     0        False         True      False  \nrogerarrayet                    0        False         True      False  \nraptor2rue                      0        False         True      False  \njordan.19_96                    0        False         True      False  \nclottujohan                     0        False         True      False  \n...                           ...          ...          ...        ...  \ndaredevilirs                    0        False        False      False  \naestheticvibbe                  0        False        False      False  \nmooncrabco                      0        False        False      False  \nfitsonstreets                   0        False        False      False  \nvirgilabloh                     0        False        False      False  \n\n[960 rows x 18 columns]",
      "text/html": "<div>\n<style scoped>\n    .dataframe tbody tr th:only-of-type {\n        vertical-align: middle;\n    }\n\n    .dataframe tbody tr th {\n        vertical-align: top;\n    }\n\n    .dataframe thead th {\n        text-align: right;\n    }\n</style>\n<table border=\"1\" class=\"dataframe\">\n  <thead>\n    <tr style=\"text-align: right;\">\n      <th></th>\n      <th>pk</th>\n      <th>full_name</th>\n      <th>is_private</th>\n      <th>profile_pic_url</th>\n      <th>profile_pic_id</th>\n      <th>is_verified</th>\n      <th>follow_friction_type</th>\n      <th>growth_friction_info</th>\n      <th>account_badges</th>\n      <th>has_anonymous_profile_picture</th>\n      <th>has_highlight_reels</th>\n      <th>has_primary_country_in_feed</th>\n      <th>has_primary_country_in_profile</th>\n      <th>transparency_product_enabled</th>\n      <th>latest_reel_media</th>\n      <th>is_favorite</th>\n      <th>follow_back</th>\n      <th>to_follow</th>\n    </tr>\n  </thead>\n  <tbody>\n    <tr>\n      <th>nathoune664</th>\n      <td>4260318391</td>\n      <td>Nathalie Arrayet-Pin</td>\n      <td>True</td>\n      <td>https://instagram.fqls2-1.fna.fbcdn.net/v/t51....</td>\n      <td>2.132346e+28</td>\n      <td>False</td>\n      <td>0</td>\n      <td>{'has_active_interventions': False, 'intervent...</td>\n      <td>[]</td>\n      <td>False</td>\n      <td>False</td>\n      <td>False</td>\n      <td>False</td>\n      <td>False</td>\n      <td>0</td>\n      <td>False</td>\n      <td>True</td>\n      <td>False</td>\n    </tr>\n    <tr>\n      <th>rogerarrayet</th>\n      <td>49094603657</td>\n      <td>Roger Arrayet</td>\n      <td>True</td>\n      <td>https://instagram.fqls2-1.fna.fbcdn.net/v/t51....</td>\n      <td>2.647393e+29</td>\n      <td>False</td>\n      <td>0</td>\n      <td>{'has_active_interventions': False, 'intervent...</td>\n      <td>[]</td>\n      <td>False</td>\n      <td>False</td>\n      <td>False</td>\n      <td>False</td>\n      <td>False</td>\n      <td>0</td>\n      <td>False</td>\n      <td>True</td>\n      <td>False</td>\n    </tr>\n    <tr>\n      <th>raptor2rue</th>\n      <td>48869096092</td>\n      <td>Jade - 玉</td>\n      <td>True</td>\n      <td>https://instagram.fqls2-1.fna.fbcdn.net/v/t51....</td>\n      <td>2.744560e+29</td>\n      <td>False</td>\n      <td>0</td>\n      <td>{'has_active_interventions': False, 'intervent...</td>\n      <td>[]</td>\n      <td>False</td>\n      <td>False</td>\n      <td>False</td>\n      <td>False</td>\n      <td>False</td>\n      <td>0</td>\n      <td>False</td>\n      <td>True</td>\n      <td>False</td>\n    </tr>\n    <tr>\n      <th>jordan.19_96</th>\n      <td>39947636</td>\n      <td>Jordan</td>\n      <td>True</td>\n      <td>https://instagram.fqls2-1.fna.fbcdn.net/v/t51....</td>\n      <td>2.829389e+26</td>\n      <td>False</td>\n      <td>0</td>\n      <td>{'has_active_interventions': False, 'intervent...</td>\n      <td>[]</td>\n      <td>False</td>\n      <td>False</td>\n      <td>False</td>\n      <td>False</td>\n      <td>False</td>\n      <td>0</td>\n      <td>False</td>\n      <td>True</td>\n      <td>False</td>\n    </tr>\n    <tr>\n      <th>clottujohan</th>\n      <td>7578050821</td>\n      <td>Johan Clottu</td>\n      <td>True</td>\n      <td>https://instagram.fqls2-1.fna.fbcdn.net/v/t51....</td>\n      <td>2.572252e+28</td>\n      <td>False</td>\n      <td>0</td>\n      <td>{'has_active_interventions': False, 'intervent...</td>\n      <td>[]</td>\n      <td>False</td>\n      <td>False</td>\n      <td>False</td>\n      <td>False</td>\n      <td>False</td>\n      <td>0</td>\n      <td>False</td>\n      <td>True</td>\n      <td>False</td>\n    </tr>\n    <tr>\n      <th>...</th>\n      <td>...</td>\n      <td>...</td>\n      <td>...</td>\n      <td>...</td>\n      <td>...</td>\n      <td>...</td>\n      <td>...</td>\n      <td>...</td>\n      <td>...</td>\n      <td>...</td>\n      <td>...</td>\n      <td>...</td>\n      <td>...</td>\n      <td>...</td>\n      <td>...</td>\n      <td>...</td>\n      <td>...</td>\n      <td>...</td>\n    </tr>\n    <tr>\n      <th>daredevilirs</th>\n      <td>39470166878</td>\n      <td></td>\n      <td>False</td>\n      <td>https://instagram.fqls2-1.fna.fbcdn.net/v/t51....</td>\n      <td>2.568403e+29</td>\n      <td>False</td>\n      <td>0</td>\n      <td>{'has_active_interventions': False, 'intervent...</td>\n      <td>[]</td>\n      <td>False</td>\n      <td>False</td>\n      <td>False</td>\n      <td>False</td>\n      <td>False</td>\n      <td>0</td>\n      <td>False</td>\n      <td>False</td>\n      <td>False</td>\n    </tr>\n    <tr>\n      <th>aestheticvibbe</th>\n      <td>21902686964</td>\n      <td>🥀</td>\n      <td>False</td>\n      <td>https://instagram.fqls2-1.fna.fbcdn.net/v/t51....</td>\n      <td>2.266441e+29</td>\n      <td>False</td>\n      <td>0</td>\n      <td>{'has_active_interventions': False, 'intervent...</td>\n      <td>[]</td>\n      <td>False</td>\n      <td>False</td>\n      <td>False</td>\n      <td>False</td>\n      <td>False</td>\n      <td>0</td>\n      <td>False</td>\n      <td>False</td>\n      <td>False</td>\n    </tr>\n    <tr>\n      <th>mooncrabco</th>\n      <td>8092055416</td>\n      <td>Mooncrab Co. 🐆</td>\n      <td>False</td>\n      <td>https://instagram.fqls2-1.fna.fbcdn.net/v/t51....</td>\n      <td>2.779413e+28</td>\n      <td>False</td>\n      <td>0</td>\n      <td>{'has_active_interventions': False, 'intervent...</td>\n      <td>[]</td>\n      <td>False</td>\n      <td>False</td>\n      <td>False</td>\n      <td>False</td>\n      <td>False</td>\n      <td>0</td>\n      <td>False</td>\n      <td>False</td>\n      <td>False</td>\n    </tr>\n    <tr>\n      <th>fitsonstreets</th>\n      <td>8707559584</td>\n      <td>fitsonstreets</td>\n      <td>False</td>\n      <td>https://instagram.fqls2-1.fna.fbcdn.net/v/t51....</td>\n      <td>2.676060e+28</td>\n      <td>False</td>\n      <td>0</td>\n      <td>{'has_active_interventions': False, 'intervent...</td>\n      <td>[]</td>\n      <td>False</td>\n      <td>False</td>\n      <td>False</td>\n      <td>False</td>\n      <td>False</td>\n      <td>0</td>\n      <td>False</td>\n      <td>False</td>\n      <td>False</td>\n    </tr>\n    <tr>\n      <th>virgilabloh</th>\n      <td>221664</td>\n      <td></td>\n      <td>False</td>\n      <td>https://instagram.fqls2-1.fna.fbcdn.net/v/t51....</td>\n      <td>2.573258e+24</td>\n      <td>True</td>\n      <td>0</td>\n      <td>{'has_active_interventions': False, 'intervent...</td>\n      <td>[]</td>\n      <td>False</td>\n      <td>False</td>\n      <td>False</td>\n      <td>False</td>\n      <td>False</td>\n      <td>0</td>\n      <td>False</td>\n      <td>False</td>\n      <td>False</td>\n    </tr>\n  </tbody>\n</table>\n<p>960 rows × 18 columns</p>\n</div>"
     },
     "execution_count": 39,
     "metadata": {},
     "output_type": "execute_result"
    }
   ],
   "source": [
    "df_follow_queue = df_followings\n",
    "df_followings_quiz = extract_friendships(c.get_all_following, \"ven_bot\")\n",
    "df_follow_queue[\"to_follow\"] = df_follow_queue.index.isin(df_followings_quiz.index)\n",
    "df_follow_queue = df_follow_queue[df_follow_queue[\"to_follow\"] == False]\n",
    "df_follow_queue"
   ],
   "metadata": {
    "collapsed": false,
    "pycharm": {
     "name": "#%%\n"
    }
   }
  },
  {
   "cell_type": "code",
   "execution_count": 40,
   "outputs": [
    {
     "name": "stderr",
     "output_type": "stream",
     "text": [
      "DEBUG:urllib3.connectionpool:Starting new HTTPS connection (1): www.instagram.com:443\n",
      "DEBUG:urllib3.connectionpool:https://www.instagram.com:443 \"POST /web/friendships/4260318391/follow/ HTTP/1.1\" 200 36\n",
      "DEBUG:urllib3.connectionpool:Starting new HTTPS connection (1): www.instagram.com:443\n",
      "DEBUG:urllib3.connectionpool:https://www.instagram.com:443 \"POST /web/friendships/49094603657/follow/ HTTP/1.1\" 200 36\n",
      "DEBUG:urllib3.connectionpool:Starting new HTTPS connection (1): www.instagram.com:443\n",
      "DEBUG:urllib3.connectionpool:https://www.instagram.com:443 \"POST /web/friendships/48869096092/follow/ HTTP/1.1\" 200 36\n",
      "DEBUG:urllib3.connectionpool:Starting new HTTPS connection (1): www.instagram.com:443\n",
      "DEBUG:urllib3.connectionpool:https://www.instagram.com:443 \"POST /web/friendships/39947636/follow/ HTTP/1.1\" 200 36\n",
      "DEBUG:urllib3.connectionpool:Starting new HTTPS connection (1): www.instagram.com:443\n",
      "DEBUG:urllib3.connectionpool:https://www.instagram.com:443 \"POST /web/friendships/7578050821/follow/ HTTP/1.1\" 200 36\n",
      "DEBUG:urllib3.connectionpool:Starting new HTTPS connection (1): www.instagram.com:443\n",
      "DEBUG:urllib3.connectionpool:https://www.instagram.com:443 \"POST /web/friendships/4354092638/follow/ HTTP/1.1\" 200 36\n",
      "DEBUG:urllib3.connectionpool:Starting new HTTPS connection (1): www.instagram.com:443\n",
      "DEBUG:urllib3.connectionpool:https://www.instagram.com:443 \"POST /web/friendships/18218216/follow/ HTTP/1.1\" 200 15\n",
      "DEBUG:urllib3.connectionpool:Starting new HTTPS connection (1): www.instagram.com:443\n",
      "DEBUG:urllib3.connectionpool:https://www.instagram.com:443 \"POST /web/friendships/3261008960/follow/ HTTP/1.1\" 200 36\n",
      "DEBUG:urllib3.connectionpool:Starting new HTTPS connection (1): www.instagram.com:443\n",
      "DEBUG:urllib3.connectionpool:https://www.instagram.com:443 \"POST /web/friendships/1964731758/follow/ HTTP/1.1\" 200 36\n",
      "DEBUG:urllib3.connectionpool:Starting new HTTPS connection (1): www.instagram.com:443\n",
      "DEBUG:urllib3.connectionpool:https://www.instagram.com:443 \"POST /web/friendships/5689663694/follow/ HTTP/1.1\" 200 36\n",
      "DEBUG:urllib3.connectionpool:Starting new HTTPS connection (1): www.instagram.com:443\n",
      "DEBUG:urllib3.connectionpool:https://www.instagram.com:443 \"POST /web/friendships/7639247944/follow/ HTTP/1.1\" 200 36\n",
      "DEBUG:urllib3.connectionpool:Starting new HTTPS connection (1): www.instagram.com:443\n",
      "DEBUG:urllib3.connectionpool:https://www.instagram.com:443 \"POST /web/friendships/22721602061/follow/ HTTP/1.1\" 200 36\n",
      "DEBUG:urllib3.connectionpool:Starting new HTTPS connection (1): www.instagram.com:443\n",
      "DEBUG:urllib3.connectionpool:https://www.instagram.com:443 \"POST /web/friendships/1997537655/follow/ HTTP/1.1\" 200 36\n",
      "DEBUG:urllib3.connectionpool:Starting new HTTPS connection (1): www.instagram.com:443\n",
      "DEBUG:urllib3.connectionpool:https://www.instagram.com:443 \"POST /web/friendships/1490738687/follow/ HTTP/1.1\" 200 36\n",
      "DEBUG:urllib3.connectionpool:Starting new HTTPS connection (1): www.instagram.com:443\n",
      "DEBUG:urllib3.connectionpool:https://www.instagram.com:443 \"POST /web/friendships/4387083134/follow/ HTTP/1.1\" 200 36\n",
      "DEBUG:urllib3.connectionpool:Starting new HTTPS connection (1): www.instagram.com:443\n",
      "DEBUG:urllib3.connectionpool:https://www.instagram.com:443 \"POST /web/friendships/1530615781/follow/ HTTP/1.1\" 200 36\n",
      "DEBUG:urllib3.connectionpool:Starting new HTTPS connection (1): www.instagram.com:443\n",
      "DEBUG:urllib3.connectionpool:https://www.instagram.com:443 \"POST /web/friendships/223933917/follow/ HTTP/1.1\" 200 36\n",
      "DEBUG:urllib3.connectionpool:Starting new HTTPS connection (1): www.instagram.com:443\n",
      "DEBUG:urllib3.connectionpool:https://www.instagram.com:443 \"POST /web/friendships/241960415/follow/ HTTP/1.1\" 200 36\n",
      "DEBUG:urllib3.connectionpool:Starting new HTTPS connection (1): www.instagram.com:443\n",
      "DEBUG:urllib3.connectionpool:https://www.instagram.com:443 \"POST /web/friendships/16380369/follow/ HTTP/1.1\" 200 36\n",
      "DEBUG:urllib3.connectionpool:Starting new HTTPS connection (1): www.instagram.com:443\n",
      "DEBUG:urllib3.connectionpool:https://www.instagram.com:443 \"POST /web/friendships/3245079036/follow/ HTTP/1.1\" 200 36\n",
      "DEBUG:urllib3.connectionpool:Starting new HTTPS connection (1): www.instagram.com:443\n",
      "DEBUG:urllib3.connectionpool:https://www.instagram.com:443 \"POST /web/friendships/284952346/follow/ HTTP/1.1\" 200 36\n",
      "DEBUG:urllib3.connectionpool:Starting new HTTPS connection (1): www.instagram.com:443\n",
      "DEBUG:urllib3.connectionpool:https://www.instagram.com:443 \"POST /web/friendships/3623126378/follow/ HTTP/1.1\" 200 36\n",
      "DEBUG:urllib3.connectionpool:Starting new HTTPS connection (1): www.instagram.com:443\n",
      "DEBUG:urllib3.connectionpool:https://www.instagram.com:443 \"POST /web/friendships/11586859512/follow/ HTTP/1.1\" 200 36\n",
      "DEBUG:urllib3.connectionpool:Starting new HTTPS connection (1): www.instagram.com:443\n",
      "DEBUG:urllib3.connectionpool:https://www.instagram.com:443 \"POST /web/friendships/453934859/follow/ HTTP/1.1\" 200 36\n",
      "DEBUG:urllib3.connectionpool:Starting new HTTPS connection (1): www.instagram.com:443\n",
      "DEBUG:urllib3.connectionpool:https://www.instagram.com:443 \"POST /web/friendships/219218088/follow/ HTTP/1.1\" 400 450\n"
     ]
    },
    {
     "name": "stdout",
     "output_type": "stream",
     "text": [
      "Cannot follow 219218088, retrying in 1 minutes\n"
     ]
    },
    {
     "name": "stderr",
     "output_type": "stream",
     "text": [
      "DEBUG:urllib3.connectionpool:Starting new HTTPS connection (1): www.instagram.com:443\n",
      "DEBUG:urllib3.connectionpool:https://www.instagram.com:443 \"POST /web/friendships/219218088/follow/ HTTP/1.1\" 200 36\n",
      "DEBUG:urllib3.connectionpool:Starting new HTTPS connection (1): www.instagram.com:443\n",
      "DEBUG:urllib3.connectionpool:https://www.instagram.com:443 \"POST /web/friendships/41678794458/follow/ HTTP/1.1\" 400 450\n"
     ]
    },
    {
     "name": "stdout",
     "output_type": "stream",
     "text": [
      "Cannot follow 41678794458, retrying in 2 minutes\n"
     ]
    },
    {
     "ename": "KeyboardInterrupt",
     "evalue": "",
     "output_type": "error",
     "traceback": [
      "\u001B[0;31m---------------------------------------------------------------------------\u001B[0m",
      "\u001B[0;31mKeyboardInterrupt\u001B[0m                         Traceback (most recent call last)",
      "\u001B[0;32m/var/folders/jy/ts_mdpfs04d36f2cz44nqbl00000gn/T/ipykernel_18891/253155241.py\u001B[0m in \u001B[0;36m<module>\u001B[0;34m\u001B[0m\n\u001B[1;32m     17\u001B[0m \u001B[0;34m\u001B[0m\u001B[0m\n\u001B[1;32m     18\u001B[0m \u001B[0;32mfor\u001B[0m \u001B[0mindex\u001B[0m\u001B[0;34m,\u001B[0m \u001B[0mrow\u001B[0m \u001B[0;32min\u001B[0m \u001B[0mdf_follow_queue\u001B[0m\u001B[0;34m.\u001B[0m\u001B[0miterrows\u001B[0m\u001B[0;34m(\u001B[0m\u001B[0;34m)\u001B[0m\u001B[0;34m:\u001B[0m\u001B[0;34m\u001B[0m\u001B[0;34m\u001B[0m\u001B[0m\n\u001B[0;32m---> 19\u001B[0;31m     \u001B[0mfollow_and_wait\u001B[0m\u001B[0;34m(\u001B[0m\u001B[0mrow\u001B[0m\u001B[0;34m[\u001B[0m\u001B[0;34m\"pk\"\u001B[0m\u001B[0;34m]\u001B[0m\u001B[0;34m)\u001B[0m\u001B[0;34m\u001B[0m\u001B[0;34m\u001B[0m\u001B[0m\n\u001B[0m",
      "\u001B[0;32m/var/folders/jy/ts_mdpfs04d36f2cz44nqbl00000gn/T/ipykernel_18891/253155241.py\u001B[0m in \u001B[0;36mfollow_and_wait\u001B[0;34m(user)\u001B[0m\n\u001B[1;32m      8\u001B[0m         \u001B[0mwaiting_time\u001B[0m \u001B[0;34m=\u001B[0m \u001B[0mretrying_count\u001B[0m \u001B[0;34m*\u001B[0m \u001B[0;36m60\u001B[0m\u001B[0;34m\u001B[0m\u001B[0;34m\u001B[0m\u001B[0m\n\u001B[1;32m      9\u001B[0m         \u001B[0mprint\u001B[0m\u001B[0;34m(\u001B[0m\u001B[0;34mf\"Cannot follow {user}, retrying in {retrying_count} minutes\"\u001B[0m\u001B[0;34m)\u001B[0m\u001B[0;34m\u001B[0m\u001B[0;34m\u001B[0m\u001B[0m\n\u001B[0;32m---> 10\u001B[0;31m         \u001B[0msleep\u001B[0m\u001B[0;34m(\u001B[0m\u001B[0mwaiting_time\u001B[0m\u001B[0;34m)\u001B[0m\u001B[0;34m\u001B[0m\u001B[0;34m\u001B[0m\u001B[0m\n\u001B[0m\u001B[1;32m     11\u001B[0m         \u001B[0mretrying_count\u001B[0m \u001B[0;34m=\u001B[0m \u001B[0mretrying_count\u001B[0m \u001B[0;34m+\u001B[0m \u001B[0;36m1\u001B[0m\u001B[0;34m\u001B[0m\u001B[0;34m\u001B[0m\u001B[0m\n\u001B[1;32m     12\u001B[0m         \u001B[0;32mreturn\u001B[0m \u001B[0mfollow_and_wait\u001B[0m\u001B[0;34m(\u001B[0m\u001B[0muser\u001B[0m\u001B[0;34m)\u001B[0m\u001B[0;34m\u001B[0m\u001B[0;34m\u001B[0m\u001B[0m\n",
      "\u001B[0;31mKeyboardInterrupt\u001B[0m: "
     ]
    }
   ],
   "source": [
    "retrying_count = 1\n",
    "\n",
    "def follow_and_wait(user):\n",
    "    global retrying_count\n",
    "    response = c.follow(user)\n",
    "\n",
    "    if response.status_code != 200:\n",
    "        waiting_time = retrying_count * 60\n",
    "        print(f\"Cannot follow {user}, retrying in {retrying_count} minutes\")\n",
    "        sleep(waiting_time)\n",
    "        retrying_count = retrying_count + 1\n",
    "        return follow_and_wait(user)\n",
    "\n",
    "    sleep(5)\n",
    "\n",
    "    return response\n",
    "\n",
    "for index, row in df_follow_queue.iterrows():\n",
    "    follow_and_wait(row[\"pk\"])\n"
   ],
   "metadata": {
    "collapsed": false,
    "pycharm": {
     "name": "#%%\n"
    }
   }
  }
 ],
 "metadata": {
  "kernelspec": {
   "display_name": "Python 3",
   "language": "python",
   "name": "python3"
  },
  "language_info": {
   "codemirror_mode": {
    "name": "ipython",
    "version": 2
   },
   "file_extension": ".py",
   "mimetype": "text/x-python",
   "name": "python",
   "nbconvert_exporter": "python",
   "pygments_lexer": "ipython2",
   "version": "2.7.6"
  }
 },
 "nbformat": 4,
 "nbformat_minor": 0
}