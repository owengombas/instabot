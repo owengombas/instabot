{
 "cells": [
  {
   "cell_type": "code",
   "execution_count": 49,
   "outputs": [],
   "source": [
    "from time import sleep\n",
    "\n",
    "from crawler.Crawler import Crawler\n",
    "import pandas as pd"
   ],
   "metadata": {
    "collapsed": false,
    "pycharm": {
     "name": "#%%\n"
    }
   }
  },
  {
   "cell_type": "code",
   "execution_count": 51,
   "outputs": [],
   "source": [
    "def extract_friendships(fn, username: str, filename = None):\n",
    "    friendships = fn(username)\n",
    "    df_friendships = pd.DataFrame.from_dict(friendships)\n",
    "    df_friendships.drop_duplicates(subset=\"username\", inplace=True)\n",
    "    df_friendships.set_index(\"username\", inplace=True)\n",
    "    if filename is not None:\n",
    "        df_friendships.to_json(filename)\n",
    "    return df_friendships"
   ],
   "metadata": {
    "collapsed": false,
    "pycharm": {
     "name": "#%%\n"
    }
   }
  },
  {
   "cell_type": "code",
   "execution_count": 52,
   "outputs": [],
   "source": [
    "# extract_friendships(c.get_all_following, \"venfoo\", \"following.json\")"
   ],
   "metadata": {
    "collapsed": false,
    "pycharm": {
     "name": "#%%\n"
    }
   }
  },
  {
   "cell_type": "code",
   "execution_count": 53,
   "outputs": [],
   "source": [
    "# extract_friendships(c.get_all_followers, \"venfoo\", \"followers.json\")"
   ],
   "metadata": {
    "collapsed": false,
    "pycharm": {
     "name": "#%%\n"
    }
   }
  },
  {
   "cell_type": "code",
   "execution_count": 54,
   "outputs": [],
   "source": [
    "df_followings = pd.read_json(\"followings.json\")\n",
    "df_followers = pd.read_json(\"followers.json\")"
   ],
   "metadata": {
    "collapsed": false,
    "pycharm": {
     "name": "#%%\n"
    }
   }
  },
  {
   "cell_type": "code",
   "execution_count": null,
   "outputs": [],
   "source": [
    "df_followings"
   ],
   "metadata": {
    "collapsed": false,
    "pycharm": {
     "name": "#%%\n",
     "is_executing": true
    }
   }
  },
  {
   "cell_type": "code",
   "execution_count": null,
   "outputs": [],
   "source": [
    "df_followers"
   ],
   "metadata": {
    "collapsed": false,
    "pycharm": {
     "name": "#%%\n",
     "is_executing": true
    }
   }
  },
  {
   "cell_type": "code",
   "execution_count": null,
   "outputs": [],
   "source": [
    "df_followings[\"follow_back\"] = df_followings.index.isin(df_followers.index)\n",
    "df_follow_back = df_followings[df_followings[\"follow_back\"] == True]\n",
    "df_not_follow_back = df_followings[df_followings[\"follow_back\"] == False]\n",
    "df_follow_back"
   ],
   "metadata": {
    "collapsed": false,
    "pycharm": {
     "name": "#%%\n",
     "is_executing": true
    }
   }
  },
  {
   "cell_type": "code",
   "execution_count": 58,
   "outputs": [
    {
     "name": "stderr",
     "output_type": "stream",
     "text": [
      "INFO:root:Logged from saved session of quizzical.bhabha with sessionid=50822628430%3AkL9fgALl8KadMJ%3A17\n"
     ]
    }
   ],
   "source": [
    "c = Crawler(\n",
    "    username=\"quizzical.bhabha\",\n",
    "    enc_password=\"#PWD_INSTAGRAM_BROWSER:10:1652123837:AepQAPTDEnFlJ7jJzRCO/JRjEHprSs0bt0yv+UO3jdSmkdRs7v8KU2XcbYIYwcedClPpLt8BX8F2/WzwZ6tfFsHV8ZyTZOioQYlryCqbLG2B7/LHLq6yPjt4mBjFpxYYfDP7nrJoqMCfg5T1/DPLkEfYtTE=\"\n",
    ")\n",
    "\n",
    "c.login()"
   ],
   "metadata": {
    "collapsed": false,
    "pycharm": {
     "name": "#%%\n"
    }
   }
  },
  {
   "cell_type": "code",
   "execution_count": null,
   "outputs": [],
   "source": [
    "df_follow_queue = df_followings\n",
    "df_followings_quiz = extract_friendships(c.get_all_following, \"quizzical.bhabha\")\n",
    "df_follow_queue[\"to_follow\"] = df_follow_queue.index.isin(df_followings_quiz.index)\n",
    "df_follow_queue = df_follow_queue[df_follow_queue[\"to_follow\"] == False]\n",
    "df_follow_queue"
   ],
   "metadata": {
    "collapsed": false,
    "pycharm": {
     "name": "#%%\n",
     "is_executing": true
    }
   }
  },
  {
   "cell_type": "code",
   "execution_count": null,
   "outputs": [
    {
     "name": "stderr",
     "output_type": "stream",
     "text": [
      "DEBUG:urllib3.connectionpool:Starting new HTTPS connection (1): www.instagram.com:443\n",
      "DEBUG:urllib3.connectionpool:https://www.instagram.com:443 \"POST /web/friendships/49357193254/follow/ HTTP/1.1\" 200 36\n",
      "DEBUG:urllib3.connectionpool:Starting new HTTPS connection (1): www.instagram.com:443\n",
      "DEBUG:urllib3.connectionpool:https://www.instagram.com:443 \"POST /web/friendships/4260318391/follow/ HTTP/1.1\" 200 36\n",
      "DEBUG:urllib3.connectionpool:Starting new HTTPS connection (1): www.instagram.com:443\n",
      "DEBUG:urllib3.connectionpool:https://www.instagram.com:443 \"POST /web/friendships/1436446325/follow/ HTTP/1.1\" 200 36\n",
      "DEBUG:urllib3.connectionpool:Starting new HTTPS connection (1): www.instagram.com:443\n",
      "DEBUG:urllib3.connectionpool:https://www.instagram.com:443 \"POST /web/friendships/16844003665/follow/ HTTP/1.1\" 200 36\n",
      "DEBUG:urllib3.connectionpool:Starting new HTTPS connection (1): www.instagram.com:443\n",
      "DEBUG:urllib3.connectionpool:https://www.instagram.com:443 \"POST /web/friendships/49094603657/follow/ HTTP/1.1\" 200 36\n",
      "DEBUG:urllib3.connectionpool:Starting new HTTPS connection (1): www.instagram.com:443\n",
      "DEBUG:urllib3.connectionpool:https://www.instagram.com:443 \"POST /web/friendships/3425392726/follow/ HTTP/1.1\" 200 36\n",
      "DEBUG:urllib3.connectionpool:Starting new HTTPS connection (1): www.instagram.com:443\n",
      "DEBUG:urllib3.connectionpool:https://www.instagram.com:443 \"POST /web/friendships/48869096092/follow/ HTTP/1.1\" 200 36\n",
      "DEBUG:urllib3.connectionpool:Starting new HTTPS connection (1): www.instagram.com:443\n",
      "DEBUG:urllib3.connectionpool:https://www.instagram.com:443 \"POST /web/friendships/39947636/follow/ HTTP/1.1\" 200 36\n",
      "DEBUG:urllib3.connectionpool:Starting new HTTPS connection (1): www.instagram.com:443\n",
      "DEBUG:urllib3.connectionpool:https://www.instagram.com:443 \"POST /web/friendships/7578050821/follow/ HTTP/1.1\" 200 36\n",
      "DEBUG:urllib3.connectionpool:Starting new HTTPS connection (1): www.instagram.com:443\n",
      "DEBUG:urllib3.connectionpool:https://www.instagram.com:443 \"POST /web/friendships/4354092638/follow/ HTTP/1.1\" 200 36\n",
      "DEBUG:urllib3.connectionpool:Starting new HTTPS connection (1): www.instagram.com:443\n",
      "DEBUG:urllib3.connectionpool:https://www.instagram.com:443 \"POST /web/friendships/18218216/follow/ HTTP/1.1\" 200 15\n",
      "DEBUG:urllib3.connectionpool:Starting new HTTPS connection (1): www.instagram.com:443\n",
      "DEBUG:urllib3.connectionpool:https://www.instagram.com:443 \"POST /web/friendships/3261008960/follow/ HTTP/1.1\" 200 36\n",
      "DEBUG:urllib3.connectionpool:Starting new HTTPS connection (1): www.instagram.com:443\n",
      "DEBUG:urllib3.connectionpool:https://www.instagram.com:443 \"POST /web/friendships/1964731758/follow/ HTTP/1.1\" 200 36\n",
      "DEBUG:urllib3.connectionpool:Starting new HTTPS connection (1): www.instagram.com:443\n",
      "DEBUG:urllib3.connectionpool:https://www.instagram.com:443 \"POST /web/friendships/5689663694/follow/ HTTP/1.1\" 200 36\n",
      "DEBUG:urllib3.connectionpool:Starting new HTTPS connection (1): www.instagram.com:443\n",
      "DEBUG:urllib3.connectionpool:https://www.instagram.com:443 \"POST /web/friendships/7639247944/follow/ HTTP/1.1\" 200 36\n",
      "DEBUG:urllib3.connectionpool:Starting new HTTPS connection (1): www.instagram.com:443\n",
      "DEBUG:urllib3.connectionpool:https://www.instagram.com:443 \"POST /web/friendships/22721602061/follow/ HTTP/1.1\" 200 36\n",
      "DEBUG:urllib3.connectionpool:Starting new HTTPS connection (1): www.instagram.com:443\n",
      "DEBUG:urllib3.connectionpool:https://www.instagram.com:443 \"POST /web/friendships/1997537655/follow/ HTTP/1.1\" 200 36\n",
      "DEBUG:urllib3.connectionpool:Starting new HTTPS connection (1): www.instagram.com:443\n",
      "DEBUG:urllib3.connectionpool:https://www.instagram.com:443 \"POST /web/friendships/1490738687/follow/ HTTP/1.1\" 200 36\n",
      "DEBUG:urllib3.connectionpool:Starting new HTTPS connection (1): www.instagram.com:443\n",
      "DEBUG:urllib3.connectionpool:https://www.instagram.com:443 \"POST /web/friendships/4387083134/follow/ HTTP/1.1\" 200 36\n",
      "DEBUG:urllib3.connectionpool:Starting new HTTPS connection (1): www.instagram.com:443\n",
      "DEBUG:urllib3.connectionpool:https://www.instagram.com:443 \"POST /web/friendships/1418313163/follow/ HTTP/1.1\" 200 36\n",
      "DEBUG:urllib3.connectionpool:Starting new HTTPS connection (1): www.instagram.com:443\n",
      "DEBUG:urllib3.connectionpool:https://www.instagram.com:443 \"POST /web/friendships/1530615781/follow/ HTTP/1.1\" 200 36\n",
      "DEBUG:urllib3.connectionpool:Starting new HTTPS connection (1): www.instagram.com:443\n",
      "DEBUG:urllib3.connectionpool:https://www.instagram.com:443 \"POST /web/friendships/223933917/follow/ HTTP/1.1\" 200 36\n",
      "DEBUG:urllib3.connectionpool:Starting new HTTPS connection (1): www.instagram.com:443\n",
      "DEBUG:urllib3.connectionpool:https://www.instagram.com:443 \"POST /web/friendships/3980587385/follow/ HTTP/1.1\" 200 36\n",
      "DEBUG:urllib3.connectionpool:Starting new HTTPS connection (1): www.instagram.com:443\n",
      "DEBUG:urllib3.connectionpool:https://www.instagram.com:443 \"POST /web/friendships/241960415/follow/ HTTP/1.1\" 200 36\n",
      "DEBUG:urllib3.connectionpool:Starting new HTTPS connection (1): www.instagram.com:443\n",
      "DEBUG:urllib3.connectionpool:https://www.instagram.com:443 \"POST /web/friendships/16380369/follow/ HTTP/1.1\" 200 36\n",
      "DEBUG:urllib3.connectionpool:Starting new HTTPS connection (1): www.instagram.com:443\n",
      "DEBUG:urllib3.connectionpool:https://www.instagram.com:443 \"POST /web/friendships/52529340/follow/ HTTP/1.1\" 200 36\n",
      "DEBUG:urllib3.connectionpool:Starting new HTTPS connection (1): www.instagram.com:443\n",
      "DEBUG:urllib3.connectionpool:https://www.instagram.com:443 \"POST /web/friendships/3245079036/follow/ HTTP/1.1\" 200 36\n",
      "DEBUG:urllib3.connectionpool:Starting new HTTPS connection (1): www.instagram.com:443\n",
      "DEBUG:urllib3.connectionpool:https://www.instagram.com:443 \"POST /web/friendships/284952346/follow/ HTTP/1.1\" 200 36\n",
      "DEBUG:urllib3.connectionpool:Starting new HTTPS connection (1): www.instagram.com:443\n",
      "DEBUG:urllib3.connectionpool:https://www.instagram.com:443 \"POST /web/friendships/3623126378/follow/ HTTP/1.1\" 200 36\n",
      "DEBUG:urllib3.connectionpool:Starting new HTTPS connection (1): www.instagram.com:443\n",
      "DEBUG:urllib3.connectionpool:https://www.instagram.com:443 \"POST /web/friendships/11586859512/follow/ HTTP/1.1\" 200 36\n",
      "DEBUG:urllib3.connectionpool:Starting new HTTPS connection (1): www.instagram.com:443\n",
      "DEBUG:urllib3.connectionpool:https://www.instagram.com:443 \"POST /web/friendships/453934859/follow/ HTTP/1.1\" 200 36\n",
      "DEBUG:urllib3.connectionpool:Starting new HTTPS connection (1): www.instagram.com:443\n",
      "DEBUG:urllib3.connectionpool:https://www.instagram.com:443 \"POST /web/friendships/7301435556/follow/ HTTP/1.1\" 200 36\n",
      "DEBUG:urllib3.connectionpool:Starting new HTTPS connection (1): www.instagram.com:443\n",
      "DEBUG:urllib3.connectionpool:https://www.instagram.com:443 \"POST /web/friendships/219218088/follow/ HTTP/1.1\" 200 36\n",
      "DEBUG:urllib3.connectionpool:Starting new HTTPS connection (1): www.instagram.com:443\n",
      "DEBUG:urllib3.connectionpool:https://www.instagram.com:443 \"POST /web/friendships/41678794458/follow/ HTTP/1.1\" 429 56\n"
     ]
    },
    {
     "name": "stdout",
     "output_type": "stream",
     "text": [
      "Cannot follow 41678794458, retrying in 1 minutes\n"
     ]
    },
    {
     "name": "stderr",
     "output_type": "stream",
     "text": [
      "DEBUG:urllib3.connectionpool:Starting new HTTPS connection (1): www.instagram.com:443\n",
      "DEBUG:urllib3.connectionpool:https://www.instagram.com:443 \"POST /web/friendships/41678794458/follow/ HTTP/1.1\" 200 36\n",
      "DEBUG:urllib3.connectionpool:Starting new HTTPS connection (1): www.instagram.com:443\n",
      "DEBUG:urllib3.connectionpool:https://www.instagram.com:443 \"POST /web/friendships/240146906/follow/ HTTP/1.1\" 200 36\n",
      "DEBUG:urllib3.connectionpool:Starting new HTTPS connection (1): www.instagram.com:443\n",
      "DEBUG:urllib3.connectionpool:https://www.instagram.com:443 \"POST /web/friendships/26605400/follow/ HTTP/1.1\" 429 56\n"
     ]
    },
    {
     "name": "stdout",
     "output_type": "stream",
     "text": [
      "Cannot follow 26605400, retrying in 2 minutes\n"
     ]
    },
    {
     "name": "stderr",
     "output_type": "stream",
     "text": [
      "DEBUG:urllib3.connectionpool:Starting new HTTPS connection (1): www.instagram.com:443\n",
      "DEBUG:urllib3.connectionpool:https://www.instagram.com:443 \"POST /web/friendships/26605400/follow/ HTTP/1.1\" 200 36\n",
      "DEBUG:urllib3.connectionpool:Starting new HTTPS connection (1): www.instagram.com:443\n",
      "DEBUG:urllib3.connectionpool:https://www.instagram.com:443 \"POST /web/friendships/1354496141/follow/ HTTP/1.1\" 200 36\n",
      "DEBUG:urllib3.connectionpool:Starting new HTTPS connection (1): www.instagram.com:443\n",
      "DEBUG:urllib3.connectionpool:https://www.instagram.com:443 \"POST /web/friendships/544339755/follow/ HTTP/1.1\" 429 56\n"
     ]
    },
    {
     "name": "stdout",
     "output_type": "stream",
     "text": [
      "Cannot follow 544339755, retrying in 3 minutes\n"
     ]
    },
    {
     "name": "stderr",
     "output_type": "stream",
     "text": [
      "DEBUG:urllib3.connectionpool:Starting new HTTPS connection (1): www.instagram.com:443\n",
      "DEBUG:urllib3.connectionpool:https://www.instagram.com:443 \"POST /web/friendships/544339755/follow/ HTTP/1.1\" 200 36\n",
      "DEBUG:urllib3.connectionpool:Starting new HTTPS connection (1): www.instagram.com:443\n",
      "DEBUG:urllib3.connectionpool:https://www.instagram.com:443 \"POST /web/friendships/5628147221/follow/ HTTP/1.1\" 200 36\n",
      "DEBUG:urllib3.connectionpool:Starting new HTTPS connection (1): www.instagram.com:443\n",
      "DEBUG:urllib3.connectionpool:https://www.instagram.com:443 \"POST /web/friendships/6788233416/follow/ HTTP/1.1\" 200 36\n",
      "DEBUG:urllib3.connectionpool:Starting new HTTPS connection (1): www.instagram.com:443\n",
      "DEBUG:urllib3.connectionpool:https://www.instagram.com:443 \"POST /web/friendships/374819762/follow/ HTTP/1.1\" 200 36\n",
      "DEBUG:urllib3.connectionpool:Starting new HTTPS connection (1): www.instagram.com:443\n",
      "DEBUG:urllib3.connectionpool:https://www.instagram.com:443 \"POST /web/friendships/3260455509/follow/ HTTP/1.1\" 200 36\n",
      "DEBUG:urllib3.connectionpool:Starting new HTTPS connection (1): www.instagram.com:443\n",
      "DEBUG:urllib3.connectionpool:https://www.instagram.com:443 \"POST /web/friendships/291899840/follow/ HTTP/1.1\" 200 36\n",
      "DEBUG:urllib3.connectionpool:Starting new HTTPS connection (1): www.instagram.com:443\n",
      "DEBUG:urllib3.connectionpool:https://www.instagram.com:443 \"POST /web/friendships/319647550/follow/ HTTP/1.1\" 200 36\n",
      "DEBUG:urllib3.connectionpool:Starting new HTTPS connection (1): www.instagram.com:443\n",
      "DEBUG:urllib3.connectionpool:https://www.instagram.com:443 \"POST /web/friendships/54403490/follow/ HTTP/1.1\" 200 36\n",
      "DEBUG:urllib3.connectionpool:Starting new HTTPS connection (1): www.instagram.com:443\n",
      "DEBUG:urllib3.connectionpool:https://www.instagram.com:443 \"POST /web/friendships/8122052359/follow/ HTTP/1.1\" 200 36\n",
      "DEBUG:urllib3.connectionpool:Starting new HTTPS connection (1): www.instagram.com:443\n",
      "DEBUG:urllib3.connectionpool:https://www.instagram.com:443 \"POST /web/friendships/433464436/follow/ HTTP/1.1\" 200 36\n",
      "DEBUG:urllib3.connectionpool:Starting new HTTPS connection (1): www.instagram.com:443\n",
      "DEBUG:urllib3.connectionpool:https://www.instagram.com:443 \"POST /web/friendships/1533341287/follow/ HTTP/1.1\" 200 36\n",
      "DEBUG:urllib3.connectionpool:Starting new HTTPS connection (1): www.instagram.com:443\n",
      "DEBUG:urllib3.connectionpool:https://www.instagram.com:443 \"POST /web/friendships/5950443968/follow/ HTTP/1.1\" 200 36\n",
      "DEBUG:urllib3.connectionpool:Starting new HTTPS connection (1): www.instagram.com:443\n",
      "DEBUG:urllib3.connectionpool:https://www.instagram.com:443 \"POST /web/friendships/287281543/follow/ HTTP/1.1\" 200 36\n",
      "DEBUG:urllib3.connectionpool:Starting new HTTPS connection (1): www.instagram.com:443\n",
      "DEBUG:urllib3.connectionpool:https://www.instagram.com:443 \"POST /web/friendships/319834663/follow/ HTTP/1.1\" 200 36\n",
      "DEBUG:urllib3.connectionpool:Starting new HTTPS connection (1): www.instagram.com:443\n",
      "DEBUG:urllib3.connectionpool:https://www.instagram.com:443 \"POST /web/friendships/1121590612/follow/ HTTP/1.1\" 200 36\n",
      "DEBUG:urllib3.connectionpool:Starting new HTTPS connection (1): www.instagram.com:443\n",
      "DEBUG:urllib3.connectionpool:https://www.instagram.com:443 \"POST /web/friendships/8651191202/follow/ HTTP/1.1\" 429 56\n"
     ]
    },
    {
     "name": "stdout",
     "output_type": "stream",
     "text": [
      "Cannot follow 8651191202, retrying in 4 minutes\n"
     ]
    },
    {
     "name": "stderr",
     "output_type": "stream",
     "text": [
      "DEBUG:urllib3.connectionpool:Starting new HTTPS connection (1): www.instagram.com:443\n",
      "DEBUG:urllib3.connectionpool:https://www.instagram.com:443 \"POST /web/friendships/8651191202/follow/ HTTP/1.1\" 200 36\n",
      "DEBUG:urllib3.connectionpool:Starting new HTTPS connection (1): www.instagram.com:443\n",
      "DEBUG:urllib3.connectionpool:https://www.instagram.com:443 \"POST /web/friendships/416085783/follow/ HTTP/1.1\" 200 36\n",
      "DEBUG:urllib3.connectionpool:Starting new HTTPS connection (1): www.instagram.com:443\n",
      "DEBUG:urllib3.connectionpool:https://www.instagram.com:443 \"POST /web/friendships/423087439/follow/ HTTP/1.1\" 200 36\n",
      "DEBUG:urllib3.connectionpool:Starting new HTTPS connection (1): www.instagram.com:443\n",
      "DEBUG:urllib3.connectionpool:https://www.instagram.com:443 \"POST /web/friendships/1487091882/follow/ HTTP/1.1\" 200 36\n",
      "DEBUG:urllib3.connectionpool:Starting new HTTPS connection (1): www.instagram.com:443\n",
      "DEBUG:urllib3.connectionpool:https://www.instagram.com:443 \"POST /web/friendships/1374222769/follow/ HTTP/1.1\" 200 36\n",
      "DEBUG:urllib3.connectionpool:Starting new HTTPS connection (1): www.instagram.com:443\n",
      "DEBUG:urllib3.connectionpool:https://www.instagram.com:443 \"POST /web/friendships/13842695050/follow/ HTTP/1.1\" 200 36\n",
      "DEBUG:urllib3.connectionpool:Starting new HTTPS connection (1): www.instagram.com:443\n",
      "DEBUG:urllib3.connectionpool:https://www.instagram.com:443 \"POST /web/friendships/1033889622/follow/ HTTP/1.1\" 200 36\n",
      "DEBUG:urllib3.connectionpool:Starting new HTTPS connection (1): www.instagram.com:443\n",
      "DEBUG:urllib3.connectionpool:https://www.instagram.com:443 \"POST /web/friendships/252450848/follow/ HTTP/1.1\" 200 36\n",
      "DEBUG:urllib3.connectionpool:Starting new HTTPS connection (1): www.instagram.com:443\n",
      "DEBUG:urllib3.connectionpool:https://www.instagram.com:443 \"POST /web/friendships/387270390/follow/ HTTP/1.1\" 200 36\n",
      "DEBUG:urllib3.connectionpool:Starting new HTTPS connection (1): www.instagram.com:443\n",
      "DEBUG:urllib3.connectionpool:https://www.instagram.com:443 \"POST /web/friendships/50719574414/follow/ HTTP/1.1\" 200 36\n",
      "DEBUG:urllib3.connectionpool:Starting new HTTPS connection (1): www.instagram.com:443\n",
      "DEBUG:urllib3.connectionpool:https://www.instagram.com:443 \"POST /web/friendships/682705044/follow/ HTTP/1.1\" 200 36\n",
      "DEBUG:urllib3.connectionpool:Starting new HTTPS connection (1): www.instagram.com:443\n",
      "DEBUG:urllib3.connectionpool:https://www.instagram.com:443 \"POST /web/friendships/2288881432/follow/ HTTP/1.1\" 200 36\n",
      "DEBUG:urllib3.connectionpool:Starting new HTTPS connection (1): www.instagram.com:443\n",
      "DEBUG:urllib3.connectionpool:https://www.instagram.com:443 \"POST /web/friendships/26712768640/follow/ HTTP/1.1\" 200 36\n",
      "DEBUG:urllib3.connectionpool:Starting new HTTPS connection (1): www.instagram.com:443\n",
      "DEBUG:urllib3.connectionpool:https://www.instagram.com:443 \"POST /web/friendships/29311313231/follow/ HTTP/1.1\" 200 36\n",
      "DEBUG:urllib3.connectionpool:Starting new HTTPS connection (1): www.instagram.com:443\n",
      "DEBUG:urllib3.connectionpool:https://www.instagram.com:443 \"POST /web/friendships/270386965/follow/ HTTP/1.1\" 200 36\n",
      "DEBUG:urllib3.connectionpool:Starting new HTTPS connection (1): www.instagram.com:443\n",
      "DEBUG:urllib3.connectionpool:https://www.instagram.com:443 \"POST /web/friendships/300553984/follow/ HTTP/1.1\" 200 36\n",
      "DEBUG:urllib3.connectionpool:Starting new HTTPS connection (1): www.instagram.com:443\n",
      "DEBUG:urllib3.connectionpool:https://www.instagram.com:443 \"POST /web/friendships/8260787311/follow/ HTTP/1.1\" 200 36\n",
      "DEBUG:urllib3.connectionpool:Starting new HTTPS connection (1): www.instagram.com:443\n",
      "DEBUG:urllib3.connectionpool:https://www.instagram.com:443 \"POST /web/friendships/258645199/follow/ HTTP/1.1\" 200 36\n",
      "DEBUG:urllib3.connectionpool:Starting new HTTPS connection (1): www.instagram.com:443\n",
      "DEBUG:urllib3.connectionpool:https://www.instagram.com:443 \"POST /web/friendships/51999829388/follow/ HTTP/1.1\" 200 36\n",
      "DEBUG:urllib3.connectionpool:Starting new HTTPS connection (1): www.instagram.com:443\n",
      "DEBUG:urllib3.connectionpool:https://www.instagram.com:443 \"POST /web/friendships/200480057/follow/ HTTP/1.1\" 200 36\n",
      "DEBUG:urllib3.connectionpool:Starting new HTTPS connection (1): www.instagram.com:443\n",
      "DEBUG:urllib3.connectionpool:https://www.instagram.com:443 \"POST /web/friendships/3114066112/follow/ HTTP/1.1\" 200 36\n",
      "DEBUG:urllib3.connectionpool:Starting new HTTPS connection (1): www.instagram.com:443\n",
      "DEBUG:urllib3.connectionpool:https://www.instagram.com:443 \"POST /web/friendships/47443955046/follow/ HTTP/1.1\" 200 36\n",
      "DEBUG:urllib3.connectionpool:Starting new HTTPS connection (1): www.instagram.com:443\n",
      "DEBUG:urllib3.connectionpool:https://www.instagram.com:443 \"POST /web/friendships/2988532473/follow/ HTTP/1.1\" 200 36\n",
      "DEBUG:urllib3.connectionpool:Starting new HTTPS connection (1): www.instagram.com:443\n",
      "DEBUG:urllib3.connectionpool:https://www.instagram.com:443 \"POST /web/friendships/646164961/follow/ HTTP/1.1\" 200 36\n",
      "DEBUG:urllib3.connectionpool:Starting new HTTPS connection (1): www.instagram.com:443\n",
      "DEBUG:urllib3.connectionpool:https://www.instagram.com:443 \"POST /web/friendships/391256367/follow/ HTTP/1.1\" 200 36\n",
      "DEBUG:urllib3.connectionpool:Starting new HTTPS connection (1): www.instagram.com:443\n",
      "DEBUG:urllib3.connectionpool:https://www.instagram.com:443 \"POST /web/friendships/2189354781/follow/ HTTP/1.1\" 200 36\n",
      "DEBUG:urllib3.connectionpool:Starting new HTTPS connection (1): www.instagram.com:443\n",
      "DEBUG:urllib3.connectionpool:https://www.instagram.com:443 \"POST /web/friendships/203381974/follow/ HTTP/1.1\" 200 36\n",
      "DEBUG:urllib3.connectionpool:Starting new HTTPS connection (1): www.instagram.com:443\n",
      "DEBUG:urllib3.connectionpool:https://www.instagram.com:443 \"POST /web/friendships/177922314/follow/ HTTP/1.1\" 200 36\n",
      "DEBUG:urllib3.connectionpool:Starting new HTTPS connection (1): www.instagram.com:443\n",
      "DEBUG:urllib3.connectionpool:https://www.instagram.com:443 \"POST /web/friendships/7318918697/follow/ HTTP/1.1\" 200 36\n",
      "DEBUG:urllib3.connectionpool:Starting new HTTPS connection (1): www.instagram.com:443\n",
      "DEBUG:urllib3.connectionpool:https://www.instagram.com:443 \"POST /web/friendships/25639935/follow/ HTTP/1.1\" 200 36\n",
      "DEBUG:urllib3.connectionpool:Starting new HTTPS connection (1): www.instagram.com:443\n",
      "DEBUG:urllib3.connectionpool:https://www.instagram.com:443 \"POST /web/friendships/5770819540/follow/ HTTP/1.1\" 200 36\n",
      "DEBUG:urllib3.connectionpool:Starting new HTTPS connection (1): www.instagram.com:443\n",
      "DEBUG:urllib3.connectionpool:https://www.instagram.com:443 \"POST /web/friendships/247663248/follow/ HTTP/1.1\" 200 36\n",
      "DEBUG:urllib3.connectionpool:Starting new HTTPS connection (1): www.instagram.com:443\n",
      "DEBUG:urllib3.connectionpool:https://www.instagram.com:443 \"POST /web/friendships/7428336707/follow/ HTTP/1.1\" 200 36\n",
      "DEBUG:urllib3.connectionpool:Starting new HTTPS connection (1): www.instagram.com:443\n",
      "DEBUG:urllib3.connectionpool:https://www.instagram.com:443 \"POST /web/friendships/4247573165/follow/ HTTP/1.1\" 200 36\n",
      "DEBUG:urllib3.connectionpool:Starting new HTTPS connection (1): www.instagram.com:443\n",
      "DEBUG:urllib3.connectionpool:https://www.instagram.com:443 \"POST /web/friendships/296642612/follow/ HTTP/1.1\" 200 36\n",
      "DEBUG:urllib3.connectionpool:Starting new HTTPS connection (1): www.instagram.com:443\n",
      "DEBUG:urllib3.connectionpool:https://www.instagram.com:443 \"POST /web/friendships/2269950585/follow/ HTTP/1.1\" 200 36\n",
      "DEBUG:urllib3.connectionpool:Starting new HTTPS connection (1): www.instagram.com:443\n",
      "DEBUG:urllib3.connectionpool:https://www.instagram.com:443 \"POST /web/friendships/32295629/follow/ HTTP/1.1\" 200 36\n",
      "DEBUG:urllib3.connectionpool:Starting new HTTPS connection (1): www.instagram.com:443\n",
      "DEBUG:urllib3.connectionpool:https://www.instagram.com:443 \"POST /web/friendships/406512660/follow/ HTTP/1.1\" 200 36\n",
      "DEBUG:urllib3.connectionpool:Starting new HTTPS connection (1): www.instagram.com:443\n",
      "DEBUG:urllib3.connectionpool:https://www.instagram.com:443 \"POST /web/friendships/3128391689/follow/ HTTP/1.1\" 200 36\n",
      "DEBUG:urllib3.connectionpool:Starting new HTTPS connection (1): www.instagram.com:443\n",
      "DEBUG:urllib3.connectionpool:https://www.instagram.com:443 \"POST /web/friendships/2287266727/follow/ HTTP/1.1\" 429 56\n"
     ]
    },
    {
     "name": "stdout",
     "output_type": "stream",
     "text": [
      "Cannot follow 2287266727, retrying in 5 minutes\n"
     ]
    },
    {
     "name": "stderr",
     "output_type": "stream",
     "text": [
      "DEBUG:urllib3.connectionpool:Starting new HTTPS connection (1): www.instagram.com:443\n",
      "DEBUG:urllib3.connectionpool:https://www.instagram.com:443 \"POST /web/friendships/2287266727/follow/ HTTP/1.1\" 200 36\n",
      "DEBUG:urllib3.connectionpool:Starting new HTTPS connection (1): www.instagram.com:443\n",
      "DEBUG:urllib3.connectionpool:https://www.instagram.com:443 \"POST /web/friendships/517590631/follow/ HTTP/1.1\" 200 36\n",
      "DEBUG:urllib3.connectionpool:Starting new HTTPS connection (1): www.instagram.com:443\n",
      "DEBUG:urllib3.connectionpool:https://www.instagram.com:443 \"POST /web/friendships/293324708/follow/ HTTP/1.1\" 200 36\n",
      "DEBUG:urllib3.connectionpool:Starting new HTTPS connection (1): www.instagram.com:443\n",
      "DEBUG:urllib3.connectionpool:https://www.instagram.com:443 \"POST /web/friendships/565708501/follow/ HTTP/1.1\" 200 36\n",
      "DEBUG:urllib3.connectionpool:Starting new HTTPS connection (1): www.instagram.com:443\n",
      "DEBUG:urllib3.connectionpool:https://www.instagram.com:443 \"POST /web/friendships/10499489669/follow/ HTTP/1.1\" 200 36\n",
      "DEBUG:urllib3.connectionpool:Starting new HTTPS connection (1): www.instagram.com:443\n",
      "DEBUG:urllib3.connectionpool:https://www.instagram.com:443 \"POST /web/friendships/39521715280/follow/ HTTP/1.1\" 200 36\n",
      "DEBUG:urllib3.connectionpool:Starting new HTTPS connection (1): www.instagram.com:443\n",
      "DEBUG:urllib3.connectionpool:https://www.instagram.com:443 \"POST /web/friendships/255074158/follow/ HTTP/1.1\" 200 36\n",
      "DEBUG:urllib3.connectionpool:Starting new HTTPS connection (1): www.instagram.com:443\n",
      "DEBUG:urllib3.connectionpool:https://www.instagram.com:443 \"POST /web/friendships/299681114/follow/ HTTP/1.1\" 200 36\n",
      "DEBUG:urllib3.connectionpool:Starting new HTTPS connection (1): www.instagram.com:443\n",
      "DEBUG:urllib3.connectionpool:https://www.instagram.com:443 \"POST /web/friendships/480648937/follow/ HTTP/1.1\" 200 36\n",
      "DEBUG:urllib3.connectionpool:Starting new HTTPS connection (1): www.instagram.com:443\n",
      "DEBUG:urllib3.connectionpool:https://www.instagram.com:443 \"POST /web/friendships/55941423/follow/ HTTP/1.1\" 200 36\n",
      "DEBUG:urllib3.connectionpool:Starting new HTTPS connection (1): www.instagram.com:443\n",
      "DEBUG:urllib3.connectionpool:https://www.instagram.com:443 \"POST /web/friendships/5445661943/follow/ HTTP/1.1\" 200 36\n",
      "DEBUG:urllib3.connectionpool:Starting new HTTPS connection (1): www.instagram.com:443\n",
      "DEBUG:urllib3.connectionpool:https://www.instagram.com:443 \"POST /web/friendships/317410380/follow/ HTTP/1.1\" 200 36\n",
      "DEBUG:urllib3.connectionpool:Starting new HTTPS connection (1): www.instagram.com:443\n",
      "DEBUG:urllib3.connectionpool:https://www.instagram.com:443 \"POST /web/friendships/1635624499/follow/ HTTP/1.1\" 429 56\n"
     ]
    },
    {
     "name": "stdout",
     "output_type": "stream",
     "text": [
      "Cannot follow 1635624499, retrying in 6 minutes\n"
     ]
    },
    {
     "name": "stderr",
     "output_type": "stream",
     "text": [
      "DEBUG:urllib3.connectionpool:Starting new HTTPS connection (1): www.instagram.com:443\n",
      "DEBUG:urllib3.connectionpool:https://www.instagram.com:443 \"POST /web/friendships/1635624499/follow/ HTTP/1.1\" 200 36\n",
      "DEBUG:urllib3.connectionpool:Starting new HTTPS connection (1): www.instagram.com:443\n",
      "DEBUG:urllib3.connectionpool:https://www.instagram.com:443 \"POST /web/friendships/193839201/follow/ HTTP/1.1\" 200 36\n",
      "DEBUG:urllib3.connectionpool:Starting new HTTPS connection (1): www.instagram.com:443\n",
      "DEBUG:urllib3.connectionpool:https://www.instagram.com:443 \"POST /web/friendships/270905082/follow/ HTTP/1.1\" 200 36\n",
      "DEBUG:urllib3.connectionpool:Starting new HTTPS connection (1): www.instagram.com:443\n",
      "DEBUG:urllib3.connectionpool:https://www.instagram.com:443 \"POST /web/friendships/969709775/follow/ HTTP/1.1\" 200 36\n",
      "DEBUG:urllib3.connectionpool:Starting new HTTPS connection (1): www.instagram.com:443\n",
      "DEBUG:urllib3.connectionpool:https://www.instagram.com:443 \"POST /web/friendships/47208411880/follow/ HTTP/1.1\" 200 36\n",
      "DEBUG:urllib3.connectionpool:Starting new HTTPS connection (1): www.instagram.com:443\n",
      "DEBUG:urllib3.connectionpool:https://www.instagram.com:443 \"POST /web/friendships/48498692960/follow/ HTTP/1.1\" 200 36\n",
      "DEBUG:urllib3.connectionpool:Starting new HTTPS connection (1): www.instagram.com:443\n",
      "DEBUG:urllib3.connectionpool:https://www.instagram.com:443 \"POST /web/friendships/591563605/follow/ HTTP/1.1\" 200 36\n",
      "DEBUG:urllib3.connectionpool:Starting new HTTPS connection (1): www.instagram.com:443\n",
      "DEBUG:urllib3.connectionpool:https://www.instagram.com:443 \"POST /web/friendships/35400261130/follow/ HTTP/1.1\" 200 36\n",
      "DEBUG:urllib3.connectionpool:Starting new HTTPS connection (1): www.instagram.com:443\n",
      "DEBUG:urllib3.connectionpool:https://www.instagram.com:443 \"POST /web/friendships/271814187/follow/ HTTP/1.1\" 200 36\n",
      "DEBUG:urllib3.connectionpool:Starting new HTTPS connection (1): www.instagram.com:443\n",
      "DEBUG:urllib3.connectionpool:https://www.instagram.com:443 \"POST /web/friendships/26802149470/follow/ HTTP/1.1\" 200 36\n",
      "DEBUG:urllib3.connectionpool:Starting new HTTPS connection (1): www.instagram.com:443\n",
      "DEBUG:urllib3.connectionpool:https://www.instagram.com:443 \"POST /web/friendships/3286591509/follow/ HTTP/1.1\" 200 36\n",
      "DEBUG:urllib3.connectionpool:Starting new HTTPS connection (1): www.instagram.com:443\n",
      "DEBUG:urllib3.connectionpool:https://www.instagram.com:443 \"POST /web/friendships/6946037418/follow/ HTTP/1.1\" 200 36\n",
      "DEBUG:urllib3.connectionpool:Starting new HTTPS connection (1): www.instagram.com:443\n",
      "DEBUG:urllib3.connectionpool:https://www.instagram.com:443 \"POST /web/friendships/262816505/follow/ HTTP/1.1\" 200 36\n",
      "DEBUG:urllib3.connectionpool:Starting new HTTPS connection (1): www.instagram.com:443\n",
      "DEBUG:urllib3.connectionpool:https://www.instagram.com:443 \"POST /web/friendships/3422294433/follow/ HTTP/1.1\" 200 36\n",
      "DEBUG:urllib3.connectionpool:Starting new HTTPS connection (1): www.instagram.com:443\n",
      "DEBUG:urllib3.connectionpool:https://www.instagram.com:443 \"POST /web/friendships/33060675490/follow/ HTTP/1.1\" 200 36\n",
      "DEBUG:urllib3.connectionpool:Starting new HTTPS connection (1): www.instagram.com:443\n",
      "DEBUG:urllib3.connectionpool:https://www.instagram.com:443 \"POST /web/friendships/1989944148/follow/ HTTP/1.1\" 200 36\n",
      "DEBUG:urllib3.connectionpool:Starting new HTTPS connection (1): www.instagram.com:443\n",
      "DEBUG:urllib3.connectionpool:https://www.instagram.com:443 \"POST /web/friendships/1926219418/follow/ HTTP/1.1\" 200 36\n",
      "DEBUG:urllib3.connectionpool:Starting new HTTPS connection (1): www.instagram.com:443\n",
      "DEBUG:urllib3.connectionpool:https://www.instagram.com:443 \"POST /web/friendships/324267899/follow/ HTTP/1.1\" 200 36\n",
      "DEBUG:urllib3.connectionpool:Starting new HTTPS connection (1): www.instagram.com:443\n",
      "DEBUG:urllib3.connectionpool:https://www.instagram.com:443 \"POST /web/friendships/52273749818/follow/ HTTP/1.1\" 200 36\n",
      "DEBUG:urllib3.connectionpool:Starting new HTTPS connection (1): www.instagram.com:443\n",
      "DEBUG:urllib3.connectionpool:https://www.instagram.com:443 \"POST /web/friendships/379773741/follow/ HTTP/1.1\" 200 36\n",
      "DEBUG:urllib3.connectionpool:Starting new HTTPS connection (1): www.instagram.com:443\n",
      "DEBUG:urllib3.connectionpool:https://www.instagram.com:443 \"POST /web/friendships/589807118/follow/ HTTP/1.1\" 200 36\n",
      "DEBUG:urllib3.connectionpool:Starting new HTTPS connection (1): www.instagram.com:443\n",
      "DEBUG:urllib3.connectionpool:https://www.instagram.com:443 \"POST /web/friendships/1507501749/follow/ HTTP/1.1\" 200 36\n",
      "DEBUG:urllib3.connectionpool:Starting new HTTPS connection (1): www.instagram.com:443\n",
      "DEBUG:urllib3.connectionpool:https://www.instagram.com:443 \"POST /web/friendships/274419452/follow/ HTTP/1.1\" 200 36\n",
      "DEBUG:urllib3.connectionpool:Starting new HTTPS connection (1): www.instagram.com:443\n",
      "DEBUG:urllib3.connectionpool:https://www.instagram.com:443 \"POST /web/friendships/19076728438/follow/ HTTP/1.1\" 200 36\n",
      "DEBUG:urllib3.connectionpool:Starting new HTTPS connection (1): www.instagram.com:443\n",
      "DEBUG:urllib3.connectionpool:https://www.instagram.com:443 \"POST /web/friendships/4027796632/follow/ HTTP/1.1\" 200 36\n",
      "DEBUG:urllib3.connectionpool:Starting new HTTPS connection (1): www.instagram.com:443\n",
      "DEBUG:urllib3.connectionpool:https://www.instagram.com:443 \"POST /web/friendships/22156879919/follow/ HTTP/1.1\" 200 36\n",
      "DEBUG:urllib3.connectionpool:Starting new HTTPS connection (1): www.instagram.com:443\n",
      "DEBUG:urllib3.connectionpool:https://www.instagram.com:443 \"POST /web/friendships/143795937/follow/ HTTP/1.1\" 200 36\n",
      "DEBUG:urllib3.connectionpool:Starting new HTTPS connection (1): www.instagram.com:443\n",
      "DEBUG:urllib3.connectionpool:https://www.instagram.com:443 \"POST /web/friendships/221598904/follow/ HTTP/1.1\" 200 36\n",
      "DEBUG:urllib3.connectionpool:Starting new HTTPS connection (1): www.instagram.com:443\n",
      "DEBUG:urllib3.connectionpool:https://www.instagram.com:443 \"POST /web/friendships/47462141214/follow/ HTTP/1.1\" 200 36\n",
      "DEBUG:urllib3.connectionpool:Starting new HTTPS connection (1): www.instagram.com:443\n",
      "DEBUG:urllib3.connectionpool:https://www.instagram.com:443 \"POST /web/friendships/288012263/follow/ HTTP/1.1\" 200 36\n",
      "DEBUG:urllib3.connectionpool:Starting new HTTPS connection (1): www.instagram.com:443\n",
      "DEBUG:urllib3.connectionpool:https://www.instagram.com:443 \"POST /web/friendships/227048060/follow/ HTTP/1.1\" 200 36\n",
      "DEBUG:urllib3.connectionpool:Starting new HTTPS connection (1): www.instagram.com:443\n",
      "DEBUG:urllib3.connectionpool:https://www.instagram.com:443 \"POST /web/friendships/2642082529/follow/ HTTP/1.1\" 200 36\n",
      "DEBUG:urllib3.connectionpool:Starting new HTTPS connection (1): www.instagram.com:443\n",
      "DEBUG:urllib3.connectionpool:https://www.instagram.com:443 \"POST /web/friendships/9983028/follow/ HTTP/1.1\" 200 36\n",
      "DEBUG:urllib3.connectionpool:Starting new HTTPS connection (1): www.instagram.com:443\n",
      "DEBUG:urllib3.connectionpool:https://www.instagram.com:443 \"POST /web/friendships/201058875/follow/ HTTP/1.1\" 200 36\n",
      "DEBUG:urllib3.connectionpool:Starting new HTTPS connection (1): www.instagram.com:443\n",
      "DEBUG:urllib3.connectionpool:https://www.instagram.com:443 \"POST /web/friendships/41701106443/follow/ HTTP/1.1\" 200 36\n",
      "DEBUG:urllib3.connectionpool:Starting new HTTPS connection (1): www.instagram.com:443\n",
      "DEBUG:urllib3.connectionpool:https://www.instagram.com:443 \"POST /web/friendships/29548902989/follow/ HTTP/1.1\" 200 36\n",
      "DEBUG:urllib3.connectionpool:Starting new HTTPS connection (1): www.instagram.com:443\n",
      "DEBUG:urllib3.connectionpool:https://www.instagram.com:443 \"POST /web/friendships/308787053/follow/ HTTP/1.1\" 200 36\n",
      "DEBUG:urllib3.connectionpool:Starting new HTTPS connection (1): www.instagram.com:443\n",
      "DEBUG:urllib3.connectionpool:https://www.instagram.com:443 \"POST /web/friendships/224717769/follow/ HTTP/1.1\" 200 36\n",
      "DEBUG:urllib3.connectionpool:Starting new HTTPS connection (1): www.instagram.com:443\n",
      "DEBUG:urllib3.connectionpool:https://www.instagram.com:443 \"POST /web/friendships/549408344/follow/ HTTP/1.1\" 200 36\n",
      "DEBUG:urllib3.connectionpool:Starting new HTTPS connection (1): www.instagram.com:443\n",
      "DEBUG:urllib3.connectionpool:https://www.instagram.com:443 \"POST /web/friendships/250427309/follow/ HTTP/1.1\" 200 36\n",
      "DEBUG:urllib3.connectionpool:Starting new HTTPS connection (1): www.instagram.com:443\n",
      "DEBUG:urllib3.connectionpool:https://www.instagram.com:443 \"POST /web/friendships/1621203845/follow/ HTTP/1.1\" 200 36\n",
      "DEBUG:urllib3.connectionpool:Starting new HTTPS connection (1): www.instagram.com:443\n",
      "DEBUG:urllib3.connectionpool:https://www.instagram.com:443 \"POST /web/friendships/1707556873/follow/ HTTP/1.1\" 429 56\n"
     ]
    },
    {
     "name": "stdout",
     "output_type": "stream",
     "text": [
      "Cannot follow 1707556873, retrying in 7 minutes\n"
     ]
    }
   ],
   "source": [
    "retrying_count = 1\n",
    "\n",
    "def follow_and_wait(user):\n",
    "    global retrying_count\n",
    "    response = c.follow(user)\n",
    "\n",
    "    if response.status_code != 200:\n",
    "        waiting_time = retrying_count * 60\n",
    "        print(f\"Cannot follow {user}, retrying in {retrying_count} minutes\")\n",
    "        sleep(waiting_time)\n",
    "        retrying_count = retrying_count + 1\n",
    "        return follow_and_wait(user)\n",
    "\n",
    "    sleep(5)\n",
    "\n",
    "    return response\n",
    "\n",
    "for index, row in df_follow_queue.iterrows():\n",
    "    follow_and_wait(row[\"pk\"])\n"
   ],
   "metadata": {
    "collapsed": false,
    "pycharm": {
     "name": "#%%\n",
     "is_executing": true
    }
   }
  }
 ],
 "metadata": {
  "kernelspec": {
   "display_name": "Python 3",
   "language": "python",
   "name": "python3"
  },
  "language_info": {
   "codemirror_mode": {
    "name": "ipython",
    "version": 2
   },
   "file_extension": ".py",
   "mimetype": "text/x-python",
   "name": "python",
   "nbconvert_exporter": "python",
   "pygments_lexer": "ipython2",
   "version": "2.7.6"
  }
 },
 "nbformat": 4,
 "nbformat_minor": 0
}