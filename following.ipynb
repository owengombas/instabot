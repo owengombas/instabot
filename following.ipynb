{
 "cells": [
  {
   "cell_type": "code",
   "execution_count": 1,
   "outputs": [
    {
     "name": "stderr",
     "output_type": "stream",
     "text": [
      "INFO:numexpr.utils:NumExpr defaulting to 8 threads.\n"
     ]
    }
   ],
   "source": [
    "from time import sleep\n",
    "from crawler.Crawler import Crawler\n",
    "import pandas as pd"
   ],
   "metadata": {
    "collapsed": false,
    "pycharm": {
     "name": "#%%\n"
    }
   }
  },
  {
   "cell_type": "code",
   "execution_count": 2,
   "outputs": [
    {
     "name": "stderr",
     "output_type": "stream",
     "text": [
      "DEBUG:urllib3.connectionpool:Starting new HTTPS connection (1): www.instagram.com:443\n",
      "DEBUG:urllib3.connectionpool:https://www.instagram.com:443 \"POST /accounts/login/ajax/ HTTP/1.1\" 200 90\n",
      "INFO:root:Logged as 0x6f77656e, sessionid=8135863956%3Aip5Wng5FnjK3vs%3A15, csrftoken=USeYPYqhUS9TA5Lfu3N3hTDE9cnsjbUc\n"
     ]
    }
   ],
   "source": [
    "instagram_0x6f77656e = Crawler(\n",
    "    username=\"0x6f77656e\",\n",
    "    enc_password=\"#PWD_INSTAGRAM_BROWSER:10:1652197635:AepQAFxKBab+AXJAqgQQ5vl20WOxcF4pJUQaTfzD+52yr/wFTl0ljrkQmz3GlQ+iJxSnE5uocQWEneRj5Vg35sD2NnHF7Nfa+fc/pvyCrzFgKTNnKUt4QggoCmrZgvW3LtR1+aLsQBGyXWUj0smYzuCDQAs=\"\n",
    ")\n",
    "\n",
    "instagram_0x6f77656e.login(False)"
   ],
   "metadata": {
    "collapsed": false,
    "pycharm": {
     "name": "#%%\n"
    }
   }
  },
  {
   "cell_type": "code",
   "execution_count": 3,
   "outputs": [],
   "source": [
    "def extract_friendships(fn, username: str, filename = None):\n",
    "    friendships = fn(username)\n",
    "    df_friendships = pd.DataFrame.from_dict(friendships)\n",
    "    df_friendships.drop_duplicates(subset=\"username\", inplace=True)\n",
    "    df_friendships.set_index(\"username\", inplace=True)\n",
    "    if filename is not None:\n",
    "        df_friendships.to_json(filename)\n",
    "    return df_friendships"
   ],
   "metadata": {
    "collapsed": false,
    "pycharm": {
     "name": "#%%\n"
    }
   }
  },
  {
   "cell_type": "code",
   "execution_count": 4,
   "outputs": [
    {
     "name": "stderr",
     "output_type": "stream",
     "text": [
      "DEBUG:urllib3.connectionpool:Starting new HTTPS connection (1): www.instagram.com:443\n",
      "DEBUG:urllib3.connectionpool:https://www.instagram.com:443 \"GET /0x6f77656e/?__a=1&__d=dis HTTP/1.1\" 200 21750\n",
      "DEBUG:urllib3.connectionpool:Starting new HTTPS connection (1): i.instagram.com:443\n",
      "DEBUG:urllib3.connectionpool:https://i.instagram.com:443 \"GET /api/v1/friendships/8135863956/following/?count=650 HTTP/1.1\" 200 93501\n",
      "DEBUG:urllib3.connectionpool:Starting new HTTPS connection (1): i.instagram.com:443\n",
      "DEBUG:urllib3.connectionpool:https://i.instagram.com:443 \"GET /api/v1/friendships/8135863956/following/?count=650&max_id=650 HTTP/1.1\" 200 91212\n"
     ]
    }
   ],
   "source": [
    "df_followings = extract_friendships(instagram_0x6f77656e.get_all_following, \"0x6f77656e\", \"following.json\")"
   ],
   "metadata": {
    "collapsed": false,
    "pycharm": {
     "name": "#%%\n"
    }
   }
  },
  {
   "cell_type": "code",
   "execution_count": 5,
   "outputs": [
    {
     "name": "stderr",
     "output_type": "stream",
     "text": [
      "DEBUG:urllib3.connectionpool:Starting new HTTPS connection (1): www.instagram.com:443\n",
      "DEBUG:urllib3.connectionpool:https://www.instagram.com:443 \"GET /0x6f77656e/?__a=1&__d=dis HTTP/1.1\" 200 21751\n",
      "DEBUG:urllib3.connectionpool:Starting new HTTPS connection (1): i.instagram.com:443\n",
      "DEBUG:urllib3.connectionpool:https://i.instagram.com:443 \"GET /api/v1/friendships/8135863956/followers/?count=650 HTTP/1.1\" 200 18975\n",
      "DEBUG:urllib3.connectionpool:Starting new HTTPS connection (1): i.instagram.com:443\n",
      "DEBUG:urllib3.connectionpool:https://i.instagram.com:443 \"GET /api/v1/friendships/8135863956/followers/?count=650&max_id=QVFDM1kwcDl5UFlmSzB2dm5UR3NpQVlmWmxsbWZ6dEhqck42VkVkaTFGMHg5UUUwb2paYmw0YUZpMzh5Uk9SZWlYRmc2Y1NRU2s0OHUxS2lrTDlreExiOA== HTTP/1.1\" 200 21953\n",
      "DEBUG:urllib3.connectionpool:Starting new HTTPS connection (1): i.instagram.com:443\n",
      "DEBUG:urllib3.connectionpool:https://i.instagram.com:443 \"GET /api/v1/friendships/8135863956/followers/?count=650&max_id=QVFEYjJNVWlIc1Y4QzVPbHBtT1pwR2V0UEtGZWMtSWdMRkJmQ09QbGJLQmJ2cnZFb25jNGlGRm04VW5UZDBSM195ZEpJM0VhLVN6RHZyZU8tclpfUC03Sg== HTTP/1.1\" 200 7740\n"
     ]
    }
   ],
   "source": [
    "df_followers = extract_friendships(instagram_0x6f77656e.get_all_followers, \"0x6f77656e\", \"followers.json\")"
   ],
   "metadata": {
    "collapsed": false,
    "pycharm": {
     "name": "#%%\n"
    }
   }
  },
  {
   "cell_type": "code",
   "execution_count": 6,
   "outputs": [],
   "source": [
    "# df_followings = pd.read_json(\"followings_backup.json\")\n",
    "# df_followers = pd.read_json(\"followers_backup.json\")"
   ],
   "metadata": {
    "collapsed": false,
    "pycharm": {
     "name": "#%%\n"
    }
   }
  },
  {
   "cell_type": "code",
   "execution_count": 7,
   "outputs": [
    {
     "data": {
      "text/plain": "                        pk                       full_name  is_private  \\\nusername                                                                 \ndavidarmanger   5987369398                          david*        True   \njanov.sky       2289970563                   Anthony Janin        True   \nmegane_arrayet  1997537655                  Mégane Arrayet        True   \nalnka.chr       2201641989                           aleks        True   \nnathoune664     4260318391            Nathalie Arrayet-Pin        True   \n...                    ...                             ...         ...   \noff____white     362471749                      Off-White™       False   \nader_error      1067911170                         A D E R       False   \nlilpeep          400550070                        lil peep       False   \ntruevintage     1028509806                    True Vintage       False   \nsuicideboys     6234578313  Long Term Effects of SUFFERING       False   \n\n                                                  profile_pic_url  \\\nusername                                                            \ndavidarmanger   https://scontent-zrh1-1.cdninstagram.com/v/t51...   \njanov.sky       https://scontent-zrh1-1.cdninstagram.com/v/t51...   \nmegane_arrayet  https://scontent-zrh1-1.cdninstagram.com/v/t51...   \nalnka.chr       https://scontent-zrh1-1.cdninstagram.com/v/t51...   \nnathoune664     https://scontent-zrh1-1.cdninstagram.com/v/t51...   \n...                                                           ...   \noff____white    https://scontent-zrh1-1.cdninstagram.com/v/t51...   \nader_error      https://scontent-zrh1-1.cdninstagram.com/v/t51...   \nlilpeep         https://scontent-zrh1-1.cdninstagram.com/v/t51...   \ntruevintage     https://scontent-zrh1-1.cdninstagram.com/v/t51...   \nsuicideboys     https://scontent-zrh1-1.cdninstagram.com/v/t51...   \n\n                                profile_pic_id  is_verified  \\\nusername                                                      \ndavidarmanger   2676342164997175165_5987369398        False   \njanov.sky       2554893329722473079_2289970563        False   \nmegane_arrayet  2729595287559335193_1997537655        False   \nalnka.chr       2829965623086363788_2201641989        False   \nnathoune664     2132345676750186443_4260318391        False   \n...                                        ...          ...   \noff____white     2642953772483785609_362471749         True   \nader_error      2188283064014363951_1067911170         True   \nlilpeep          1628960026235734239_400550070         True   \ntruevintage     2775743094547020894_1028509806         True   \nsuicideboys     2601277913976791494_6234578313         True   \n\n                follow_friction_type  \\\nusername                               \ndavidarmanger                      0   \njanov.sky                          0   \nmegane_arrayet                     0   \nalnka.chr                          0   \nnathoune664                        0   \n...                              ...   \noff____white                       0   \nader_error                         0   \nlilpeep                            0   \ntruevintage                        0   \nsuicideboys                        0   \n\n                                             growth_friction_info  \\\nusername                                                            \ndavidarmanger   {'has_active_interventions': False, 'intervent...   \njanov.sky       {'has_active_interventions': False, 'intervent...   \nmegane_arrayet  {'has_active_interventions': False, 'intervent...   \nalnka.chr       {'has_active_interventions': False, 'intervent...   \nnathoune664     {'has_active_interventions': False, 'intervent...   \n...                                                           ...   \noff____white    {'has_active_interventions': False, 'intervent...   \nader_error      {'has_active_interventions': False, 'intervent...   \nlilpeep         {'has_active_interventions': False, 'intervent...   \ntruevintage     {'has_active_interventions': False, 'intervent...   \nsuicideboys     {'has_active_interventions': False, 'intervent...   \n\n               account_badges  has_anonymous_profile_picture  \\\nusername                                                       \ndavidarmanger              []                          False   \njanov.sky                  []                          False   \nmegane_arrayet             []                          False   \nalnka.chr                  []                          False   \nnathoune664                []                          False   \n...                       ...                            ...   \noff____white               []                          False   \nader_error                 []                          False   \nlilpeep                    []                          False   \ntruevintage                []                          False   \nsuicideboys                []                          False   \n\n                has_highlight_reels  has_primary_country_in_feed  \\\nusername                                                           \ndavidarmanger                 False                        False   \njanov.sky                     False                        False   \nmegane_arrayet                False                        False   \nalnka.chr                     False                        False   \nnathoune664                   False                        False   \n...                             ...                          ...   \noff____white                  False                        False   \nader_error                    False                        False   \nlilpeep                       False                        False   \ntruevintage                   False                        False   \nsuicideboys                   False                        False   \n\n                has_primary_country_in_profile  transparency_product_enabled  \\\nusername                                                                       \ndavidarmanger                            False                         False   \njanov.sky                                False                         False   \nmegane_arrayet                           False                         False   \nalnka.chr                                False                         False   \nnathoune664                              False                         False   \n...                                        ...                           ...   \noff____white                             False                         False   \nader_error                               False                         False   \nlilpeep                                  False                         False   \ntruevintage                              False                         False   \nsuicideboys                              False                         False   \n\n                latest_reel_media  is_favorite  \nusername                                        \ndavidarmanger                   0        False  \njanov.sky                       0        False  \nmegane_arrayet                  0        False  \nalnka.chr              1652209583        False  \nnathoune664                     0        False  \n...                           ...          ...  \noff____white                    0        False  \nader_error                      0        False  \nlilpeep                         0        False  \ntruevintage                     0        False  \nsuicideboys                     0        False  \n\n[1291 rows x 16 columns]",
      "text/html": "<div>\n<style scoped>\n    .dataframe tbody tr th:only-of-type {\n        vertical-align: middle;\n    }\n\n    .dataframe tbody tr th {\n        vertical-align: top;\n    }\n\n    .dataframe thead th {\n        text-align: right;\n    }\n</style>\n<table border=\"1\" class=\"dataframe\">\n  <thead>\n    <tr style=\"text-align: right;\">\n      <th></th>\n      <th>pk</th>\n      <th>full_name</th>\n      <th>is_private</th>\n      <th>profile_pic_url</th>\n      <th>profile_pic_id</th>\n      <th>is_verified</th>\n      <th>follow_friction_type</th>\n      <th>growth_friction_info</th>\n      <th>account_badges</th>\n      <th>has_anonymous_profile_picture</th>\n      <th>has_highlight_reels</th>\n      <th>has_primary_country_in_feed</th>\n      <th>has_primary_country_in_profile</th>\n      <th>transparency_product_enabled</th>\n      <th>latest_reel_media</th>\n      <th>is_favorite</th>\n    </tr>\n    <tr>\n      <th>username</th>\n      <th></th>\n      <th></th>\n      <th></th>\n      <th></th>\n      <th></th>\n      <th></th>\n      <th></th>\n      <th></th>\n      <th></th>\n      <th></th>\n      <th></th>\n      <th></th>\n      <th></th>\n      <th></th>\n      <th></th>\n      <th></th>\n    </tr>\n  </thead>\n  <tbody>\n    <tr>\n      <th>davidarmanger</th>\n      <td>5987369398</td>\n      <td>david*</td>\n      <td>True</td>\n      <td>https://scontent-zrh1-1.cdninstagram.com/v/t51...</td>\n      <td>2676342164997175165_5987369398</td>\n      <td>False</td>\n      <td>0</td>\n      <td>{'has_active_interventions': False, 'intervent...</td>\n      <td>[]</td>\n      <td>False</td>\n      <td>False</td>\n      <td>False</td>\n      <td>False</td>\n      <td>False</td>\n      <td>0</td>\n      <td>False</td>\n    </tr>\n    <tr>\n      <th>janov.sky</th>\n      <td>2289970563</td>\n      <td>Anthony Janin</td>\n      <td>True</td>\n      <td>https://scontent-zrh1-1.cdninstagram.com/v/t51...</td>\n      <td>2554893329722473079_2289970563</td>\n      <td>False</td>\n      <td>0</td>\n      <td>{'has_active_interventions': False, 'intervent...</td>\n      <td>[]</td>\n      <td>False</td>\n      <td>False</td>\n      <td>False</td>\n      <td>False</td>\n      <td>False</td>\n      <td>0</td>\n      <td>False</td>\n    </tr>\n    <tr>\n      <th>megane_arrayet</th>\n      <td>1997537655</td>\n      <td>Mégane Arrayet</td>\n      <td>True</td>\n      <td>https://scontent-zrh1-1.cdninstagram.com/v/t51...</td>\n      <td>2729595287559335193_1997537655</td>\n      <td>False</td>\n      <td>0</td>\n      <td>{'has_active_interventions': False, 'intervent...</td>\n      <td>[]</td>\n      <td>False</td>\n      <td>False</td>\n      <td>False</td>\n      <td>False</td>\n      <td>False</td>\n      <td>0</td>\n      <td>False</td>\n    </tr>\n    <tr>\n      <th>alnka.chr</th>\n      <td>2201641989</td>\n      <td>aleks</td>\n      <td>True</td>\n      <td>https://scontent-zrh1-1.cdninstagram.com/v/t51...</td>\n      <td>2829965623086363788_2201641989</td>\n      <td>False</td>\n      <td>0</td>\n      <td>{'has_active_interventions': False, 'intervent...</td>\n      <td>[]</td>\n      <td>False</td>\n      <td>False</td>\n      <td>False</td>\n      <td>False</td>\n      <td>False</td>\n      <td>1652209583</td>\n      <td>False</td>\n    </tr>\n    <tr>\n      <th>nathoune664</th>\n      <td>4260318391</td>\n      <td>Nathalie Arrayet-Pin</td>\n      <td>True</td>\n      <td>https://scontent-zrh1-1.cdninstagram.com/v/t51...</td>\n      <td>2132345676750186443_4260318391</td>\n      <td>False</td>\n      <td>0</td>\n      <td>{'has_active_interventions': False, 'intervent...</td>\n      <td>[]</td>\n      <td>False</td>\n      <td>False</td>\n      <td>False</td>\n      <td>False</td>\n      <td>False</td>\n      <td>0</td>\n      <td>False</td>\n    </tr>\n    <tr>\n      <th>...</th>\n      <td>...</td>\n      <td>...</td>\n      <td>...</td>\n      <td>...</td>\n      <td>...</td>\n      <td>...</td>\n      <td>...</td>\n      <td>...</td>\n      <td>...</td>\n      <td>...</td>\n      <td>...</td>\n      <td>...</td>\n      <td>...</td>\n      <td>...</td>\n      <td>...</td>\n      <td>...</td>\n    </tr>\n    <tr>\n      <th>off____white</th>\n      <td>362471749</td>\n      <td>Off-White™</td>\n      <td>False</td>\n      <td>https://scontent-zrh1-1.cdninstagram.com/v/t51...</td>\n      <td>2642953772483785609_362471749</td>\n      <td>True</td>\n      <td>0</td>\n      <td>{'has_active_interventions': False, 'intervent...</td>\n      <td>[]</td>\n      <td>False</td>\n      <td>False</td>\n      <td>False</td>\n      <td>False</td>\n      <td>False</td>\n      <td>0</td>\n      <td>False</td>\n    </tr>\n    <tr>\n      <th>ader_error</th>\n      <td>1067911170</td>\n      <td>A D E R</td>\n      <td>False</td>\n      <td>https://scontent-zrh1-1.cdninstagram.com/v/t51...</td>\n      <td>2188283064014363951_1067911170</td>\n      <td>True</td>\n      <td>0</td>\n      <td>{'has_active_interventions': False, 'intervent...</td>\n      <td>[]</td>\n      <td>False</td>\n      <td>False</td>\n      <td>False</td>\n      <td>False</td>\n      <td>False</td>\n      <td>0</td>\n      <td>False</td>\n    </tr>\n    <tr>\n      <th>lilpeep</th>\n      <td>400550070</td>\n      <td>lil peep</td>\n      <td>False</td>\n      <td>https://scontent-zrh1-1.cdninstagram.com/v/t51...</td>\n      <td>1628960026235734239_400550070</td>\n      <td>True</td>\n      <td>0</td>\n      <td>{'has_active_interventions': False, 'intervent...</td>\n      <td>[]</td>\n      <td>False</td>\n      <td>False</td>\n      <td>False</td>\n      <td>False</td>\n      <td>False</td>\n      <td>0</td>\n      <td>False</td>\n    </tr>\n    <tr>\n      <th>truevintage</th>\n      <td>1028509806</td>\n      <td>True Vintage</td>\n      <td>False</td>\n      <td>https://scontent-zrh1-1.cdninstagram.com/v/t51...</td>\n      <td>2775743094547020894_1028509806</td>\n      <td>True</td>\n      <td>0</td>\n      <td>{'has_active_interventions': False, 'intervent...</td>\n      <td>[]</td>\n      <td>False</td>\n      <td>False</td>\n      <td>False</td>\n      <td>False</td>\n      <td>False</td>\n      <td>0</td>\n      <td>False</td>\n    </tr>\n    <tr>\n      <th>suicideboys</th>\n      <td>6234578313</td>\n      <td>Long Term Effects of SUFFERING</td>\n      <td>False</td>\n      <td>https://scontent-zrh1-1.cdninstagram.com/v/t51...</td>\n      <td>2601277913976791494_6234578313</td>\n      <td>True</td>\n      <td>0</td>\n      <td>{'has_active_interventions': False, 'intervent...</td>\n      <td>[]</td>\n      <td>False</td>\n      <td>False</td>\n      <td>False</td>\n      <td>False</td>\n      <td>False</td>\n      <td>0</td>\n      <td>False</td>\n    </tr>\n  </tbody>\n</table>\n<p>1291 rows × 16 columns</p>\n</div>"
     },
     "execution_count": 7,
     "metadata": {},
     "output_type": "execute_result"
    }
   ],
   "source": [
    "df_followings"
   ],
   "metadata": {
    "collapsed": false,
    "pycharm": {
     "name": "#%%\n"
    }
   }
  },
  {
   "cell_type": "code",
   "execution_count": 8,
   "outputs": [
    {
     "data": {
      "text/plain": "                           pk       full_name  is_private  \\\nusername                                                    \nven_bot           50822628430            owen       False   \nclothers.archive  36834619698       ARCHIVE 🌏       False   \narsen_66__        48650286043               †       False   \nleavemealonewrld  30653433685    LEAVEMEALONE       False   \ncombienrepete     11569066773         combien       False   \n...                       ...             ...         ...   \nvictor___sala       413880207          versus        True   \nvii_ctoriaa         387270390        victoria       False   \nyanis_dcm           191714195  Yanis Ducommun       False   \nrsfbfsrg           9120179685        zzz12345       False   \nvanyyy.c            265843445              ♑💬        True   \n\n                                                    profile_pic_url  \\\nusername                                                              \nven_bot           https://scontent-zrh1-1.cdninstagram.com/v/t51...   \nclothers.archive  https://scontent-zrh1-1.cdninstagram.com/v/t51...   \narsen_66__        https://scontent-zrh1-1.cdninstagram.com/v/t51...   \nleavemealonewrld  https://scontent-zrh1-1.cdninstagram.com/v/t51...   \ncombienrepete     https://instagram.famd5-2.fna.fbcdn.net/v/t51....   \n...                                                             ...   \nvictor___sala     https://scontent-zrh1-1.cdninstagram.com/v/t51...   \nvii_ctoriaa       https://scontent-zrh1-1.cdninstagram.com/v/t51...   \nyanis_dcm         https://scontent-zrh1-1.cdninstagram.com/v/t51...   \nrsfbfsrg          https://scontent-zrh1-1.cdninstagram.com/v/t51...   \nvanyyy.c          https://scontent-zrh1-1.cdninstagram.com/v/t51...   \n\n                                   profile_pic_id  is_verified  \\\nusername                                                         \nven_bot           2834596326700752997_50822628430        False   \nclothers.archive  2325020933850818663_36834619698        False   \narsen_66__        2788243900185137850_48650286043        False   \nleavemealonewrld  2803358683460606820_30653433685        False   \ncombienrepete                                None        False   \n...                                           ...          ...   \nvictor___sala       2764746080939657060_413880207        False   \nvii_ctoriaa         2811201822416246409_387270390        False   \nyanis_dcm           1332101224119479852_191714195        False   \nrsfbfsrg           1906933948005942076_9120179685        False   \nvanyyy.c            2683747661140208651_265843445        False   \n\n                  follow_friction_type  \\\nusername                                 \nven_bot                              0   \nclothers.archive                     0   \narsen_66__                           0   \nleavemealonewrld                     0   \ncombienrepete                        0   \n...                                ...   \nvictor___sala                        0   \nvii_ctoriaa                          0   \nyanis_dcm                            0   \nrsfbfsrg                             0   \nvanyyy.c                             0   \n\n                                               growth_friction_info  \\\nusername                                                              \nven_bot           {'has_active_interventions': False, 'intervent...   \nclothers.archive  {'has_active_interventions': False, 'intervent...   \narsen_66__        {'has_active_interventions': False, 'intervent...   \nleavemealonewrld  {'has_active_interventions': False, 'intervent...   \ncombienrepete     {'has_active_interventions': False, 'intervent...   \n...                                                             ...   \nvictor___sala     {'has_active_interventions': False, 'intervent...   \nvii_ctoriaa       {'has_active_interventions': False, 'intervent...   \nyanis_dcm         {'has_active_interventions': False, 'intervent...   \nrsfbfsrg          {'has_active_interventions': False, 'intervent...   \nvanyyy.c          {'has_active_interventions': False, 'intervent...   \n\n                 account_badges  has_anonymous_profile_picture  \\\nusername                                                         \nven_bot                      []                          False   \nclothers.archive             []                          False   \narsen_66__                   []                          False   \nleavemealonewrld             []                          False   \ncombienrepete                []                           True   \n...                         ...                            ...   \nvictor___sala                []                          False   \nvii_ctoriaa                  []                          False   \nyanis_dcm                    []                          False   \nrsfbfsrg                     []                          False   \nvanyyy.c                     []                          False   \n\n                  has_highlight_reels  has_primary_country_in_feed  \\\nusername                                                             \nven_bot                         False                        False   \nclothers.archive                False                        False   \narsen_66__                      False                        False   \nleavemealonewrld                False                        False   \ncombienrepete                   False                        False   \n...                               ...                          ...   \nvictor___sala                   False                        False   \nvii_ctoriaa                     False                        False   \nyanis_dcm                       False                        False   \nrsfbfsrg                        False                        False   \nvanyyy.c                        False                        False   \n\n                  has_primary_country_in_profile  \\\nusername                                           \nven_bot                                    False   \nclothers.archive                           False   \narsen_66__                                 False   \nleavemealonewrld                           False   \ncombienrepete                              False   \n...                                          ...   \nvictor___sala                              False   \nvii_ctoriaa                                False   \nyanis_dcm                                  False   \nrsfbfsrg                                   False   \nvanyyy.c                                   False   \n\n                  transparency_product_enabled  latest_reel_media  \nusername                                                           \nven_bot                                  False                  0  \nclothers.archive                         False         1652210378  \narsen_66__                               False                  0  \nleavemealonewrld                         False                  0  \ncombienrepete                            False                  0  \n...                                        ...                ...  \nvictor___sala                            False                  0  \nvii_ctoriaa                              False                  0  \nyanis_dcm                                False         1652204222  \nrsfbfsrg                                 False                  0  \nvanyyy.c                                 False                  0  \n\n[325 rows x 15 columns]",
      "text/html": "<div>\n<style scoped>\n    .dataframe tbody tr th:only-of-type {\n        vertical-align: middle;\n    }\n\n    .dataframe tbody tr th {\n        vertical-align: top;\n    }\n\n    .dataframe thead th {\n        text-align: right;\n    }\n</style>\n<table border=\"1\" class=\"dataframe\">\n  <thead>\n    <tr style=\"text-align: right;\">\n      <th></th>\n      <th>pk</th>\n      <th>full_name</th>\n      <th>is_private</th>\n      <th>profile_pic_url</th>\n      <th>profile_pic_id</th>\n      <th>is_verified</th>\n      <th>follow_friction_type</th>\n      <th>growth_friction_info</th>\n      <th>account_badges</th>\n      <th>has_anonymous_profile_picture</th>\n      <th>has_highlight_reels</th>\n      <th>has_primary_country_in_feed</th>\n      <th>has_primary_country_in_profile</th>\n      <th>transparency_product_enabled</th>\n      <th>latest_reel_media</th>\n    </tr>\n    <tr>\n      <th>username</th>\n      <th></th>\n      <th></th>\n      <th></th>\n      <th></th>\n      <th></th>\n      <th></th>\n      <th></th>\n      <th></th>\n      <th></th>\n      <th></th>\n      <th></th>\n      <th></th>\n      <th></th>\n      <th></th>\n      <th></th>\n    </tr>\n  </thead>\n  <tbody>\n    <tr>\n      <th>ven_bot</th>\n      <td>50822628430</td>\n      <td>owen</td>\n      <td>False</td>\n      <td>https://scontent-zrh1-1.cdninstagram.com/v/t51...</td>\n      <td>2834596326700752997_50822628430</td>\n      <td>False</td>\n      <td>0</td>\n      <td>{'has_active_interventions': False, 'intervent...</td>\n      <td>[]</td>\n      <td>False</td>\n      <td>False</td>\n      <td>False</td>\n      <td>False</td>\n      <td>False</td>\n      <td>0</td>\n    </tr>\n    <tr>\n      <th>clothers.archive</th>\n      <td>36834619698</td>\n      <td>ARCHIVE 🌏</td>\n      <td>False</td>\n      <td>https://scontent-zrh1-1.cdninstagram.com/v/t51...</td>\n      <td>2325020933850818663_36834619698</td>\n      <td>False</td>\n      <td>0</td>\n      <td>{'has_active_interventions': False, 'intervent...</td>\n      <td>[]</td>\n      <td>False</td>\n      <td>False</td>\n      <td>False</td>\n      <td>False</td>\n      <td>False</td>\n      <td>1652210378</td>\n    </tr>\n    <tr>\n      <th>arsen_66__</th>\n      <td>48650286043</td>\n      <td>†</td>\n      <td>False</td>\n      <td>https://scontent-zrh1-1.cdninstagram.com/v/t51...</td>\n      <td>2788243900185137850_48650286043</td>\n      <td>False</td>\n      <td>0</td>\n      <td>{'has_active_interventions': False, 'intervent...</td>\n      <td>[]</td>\n      <td>False</td>\n      <td>False</td>\n      <td>False</td>\n      <td>False</td>\n      <td>False</td>\n      <td>0</td>\n    </tr>\n    <tr>\n      <th>leavemealonewrld</th>\n      <td>30653433685</td>\n      <td>LEAVEMEALONE</td>\n      <td>False</td>\n      <td>https://scontent-zrh1-1.cdninstagram.com/v/t51...</td>\n      <td>2803358683460606820_30653433685</td>\n      <td>False</td>\n      <td>0</td>\n      <td>{'has_active_interventions': False, 'intervent...</td>\n      <td>[]</td>\n      <td>False</td>\n      <td>False</td>\n      <td>False</td>\n      <td>False</td>\n      <td>False</td>\n      <td>0</td>\n    </tr>\n    <tr>\n      <th>combienrepete</th>\n      <td>11569066773</td>\n      <td>combien</td>\n      <td>False</td>\n      <td>https://instagram.famd5-2.fna.fbcdn.net/v/t51....</td>\n      <td>None</td>\n      <td>False</td>\n      <td>0</td>\n      <td>{'has_active_interventions': False, 'intervent...</td>\n      <td>[]</td>\n      <td>True</td>\n      <td>False</td>\n      <td>False</td>\n      <td>False</td>\n      <td>False</td>\n      <td>0</td>\n    </tr>\n    <tr>\n      <th>...</th>\n      <td>...</td>\n      <td>...</td>\n      <td>...</td>\n      <td>...</td>\n      <td>...</td>\n      <td>...</td>\n      <td>...</td>\n      <td>...</td>\n      <td>...</td>\n      <td>...</td>\n      <td>...</td>\n      <td>...</td>\n      <td>...</td>\n      <td>...</td>\n      <td>...</td>\n    </tr>\n    <tr>\n      <th>victor___sala</th>\n      <td>413880207</td>\n      <td>versus</td>\n      <td>True</td>\n      <td>https://scontent-zrh1-1.cdninstagram.com/v/t51...</td>\n      <td>2764746080939657060_413880207</td>\n      <td>False</td>\n      <td>0</td>\n      <td>{'has_active_interventions': False, 'intervent...</td>\n      <td>[]</td>\n      <td>False</td>\n      <td>False</td>\n      <td>False</td>\n      <td>False</td>\n      <td>False</td>\n      <td>0</td>\n    </tr>\n    <tr>\n      <th>vii_ctoriaa</th>\n      <td>387270390</td>\n      <td>victoria</td>\n      <td>False</td>\n      <td>https://scontent-zrh1-1.cdninstagram.com/v/t51...</td>\n      <td>2811201822416246409_387270390</td>\n      <td>False</td>\n      <td>0</td>\n      <td>{'has_active_interventions': False, 'intervent...</td>\n      <td>[]</td>\n      <td>False</td>\n      <td>False</td>\n      <td>False</td>\n      <td>False</td>\n      <td>False</td>\n      <td>0</td>\n    </tr>\n    <tr>\n      <th>yanis_dcm</th>\n      <td>191714195</td>\n      <td>Yanis Ducommun</td>\n      <td>False</td>\n      <td>https://scontent-zrh1-1.cdninstagram.com/v/t51...</td>\n      <td>1332101224119479852_191714195</td>\n      <td>False</td>\n      <td>0</td>\n      <td>{'has_active_interventions': False, 'intervent...</td>\n      <td>[]</td>\n      <td>False</td>\n      <td>False</td>\n      <td>False</td>\n      <td>False</td>\n      <td>False</td>\n      <td>1652204222</td>\n    </tr>\n    <tr>\n      <th>rsfbfsrg</th>\n      <td>9120179685</td>\n      <td>zzz12345</td>\n      <td>False</td>\n      <td>https://scontent-zrh1-1.cdninstagram.com/v/t51...</td>\n      <td>1906933948005942076_9120179685</td>\n      <td>False</td>\n      <td>0</td>\n      <td>{'has_active_interventions': False, 'intervent...</td>\n      <td>[]</td>\n      <td>False</td>\n      <td>False</td>\n      <td>False</td>\n      <td>False</td>\n      <td>False</td>\n      <td>0</td>\n    </tr>\n    <tr>\n      <th>vanyyy.c</th>\n      <td>265843445</td>\n      <td>♑💬</td>\n      <td>True</td>\n      <td>https://scontent-zrh1-1.cdninstagram.com/v/t51...</td>\n      <td>2683747661140208651_265843445</td>\n      <td>False</td>\n      <td>0</td>\n      <td>{'has_active_interventions': False, 'intervent...</td>\n      <td>[]</td>\n      <td>False</td>\n      <td>False</td>\n      <td>False</td>\n      <td>False</td>\n      <td>False</td>\n      <td>0</td>\n    </tr>\n  </tbody>\n</table>\n<p>325 rows × 15 columns</p>\n</div>"
     },
     "execution_count": 8,
     "metadata": {},
     "output_type": "execute_result"
    }
   ],
   "source": [
    "df_followers"
   ],
   "metadata": {
    "collapsed": false,
    "pycharm": {
     "name": "#%%\n"
    }
   }
  },
  {
   "cell_type": "code",
   "execution_count": 9,
   "outputs": [
    {
     "data": {
      "text/plain": "                              pk                       full_name  is_private  \\\nusername                                                                       \nn.s.0220              6788233416                       Nikita S.       False   \nblvck.future.tattoo  39539323334                        CVLT.TTT       False   \nstr.tatt              5561293377                   Tattoo artist       False   \nversus_concept       13842695050                     victor sala       False   \ncalu.jpg                43081497                            CALU       False   \n...                          ...                             ...         ...   \noff____white           362471749                      Off-White™       False   \nader_error            1067911170                         A D E R       False   \nlilpeep                400550070                        lil peep       False   \ntruevintage           1028509806                    True Vintage       False   \nsuicideboys           6234578313  Long Term Effects of SUFFERING       False   \n\n                                                       profile_pic_url  \\\nusername                                                                 \nn.s.0220             https://scontent-zrh1-1.cdninstagram.com/v/t51...   \nblvck.future.tattoo  https://scontent-zrh1-1.cdninstagram.com/v/t51...   \nstr.tatt             https://scontent-zrh1-1.cdninstagram.com/v/t51...   \nversus_concept       https://scontent-zrh1-1.cdninstagram.com/v/t51...   \ncalu.jpg             https://scontent-zrh1-1.cdninstagram.com/v/t51...   \n...                                                                ...   \noff____white         https://scontent-zrh1-1.cdninstagram.com/v/t51...   \nader_error           https://scontent-zrh1-1.cdninstagram.com/v/t51...   \nlilpeep              https://scontent-zrh1-1.cdninstagram.com/v/t51...   \ntruevintage          https://scontent-zrh1-1.cdninstagram.com/v/t51...   \nsuicideboys          https://scontent-zrh1-1.cdninstagram.com/v/t51...   \n\n                                      profile_pic_id  is_verified  \\\nusername                                                            \nn.s.0220              2321498649786800342_6788233416        False   \nblvck.future.tattoo  2561067646403728089_39539323334        False   \nstr.tatt              2139315993746185269_5561293377        False   \nversus_concept       2573469888297217728_13842695050        False   \ncalu.jpg                2158272089824177124_43081497        False   \n...                                              ...          ...   \noff____white           2642953772483785609_362471749         True   \nader_error            2188283064014363951_1067911170         True   \nlilpeep                1628960026235734239_400550070         True   \ntruevintage           2775743094547020894_1028509806         True   \nsuicideboys           2601277913976791494_6234578313         True   \n\n                     follow_friction_type  \\\nusername                                    \nn.s.0220                                0   \nblvck.future.tattoo                     0   \nstr.tatt                                0   \nversus_concept                          0   \ncalu.jpg                                0   \n...                                   ...   \noff____white                            0   \nader_error                              0   \nlilpeep                                 0   \ntruevintage                             0   \nsuicideboys                             0   \n\n                                                  growth_friction_info  \\\nusername                                                                 \nn.s.0220             {'has_active_interventions': False, 'intervent...   \nblvck.future.tattoo  {'has_active_interventions': False, 'intervent...   \nstr.tatt             {'has_active_interventions': False, 'intervent...   \nversus_concept       {'has_active_interventions': False, 'intervent...   \ncalu.jpg             {'has_active_interventions': False, 'intervent...   \n...                                                                ...   \noff____white         {'has_active_interventions': False, 'intervent...   \nader_error           {'has_active_interventions': False, 'intervent...   \nlilpeep              {'has_active_interventions': False, 'intervent...   \ntruevintage          {'has_active_interventions': False, 'intervent...   \nsuicideboys          {'has_active_interventions': False, 'intervent...   \n\n                    account_badges  has_anonymous_profile_picture  \\\nusername                                                            \nn.s.0220                        []                          False   \nblvck.future.tattoo             []                          False   \nstr.tatt                        []                          False   \nversus_concept                  []                          False   \ncalu.jpg                        []                          False   \n...                            ...                            ...   \noff____white                    []                          False   \nader_error                      []                          False   \nlilpeep                         []                          False   \ntruevintage                     []                          False   \nsuicideboys                     []                          False   \n\n                     has_highlight_reels  has_primary_country_in_feed  \\\nusername                                                                \nn.s.0220                           False                        False   \nblvck.future.tattoo                False                        False   \nstr.tatt                           False                        False   \nversus_concept                     False                        False   \ncalu.jpg                           False                        False   \n...                                  ...                          ...   \noff____white                       False                        False   \nader_error                         False                        False   \nlilpeep                            False                        False   \ntruevintage                        False                        False   \nsuicideboys                        False                        False   \n\n                     has_primary_country_in_profile  \\\nusername                                              \nn.s.0220                                      False   \nblvck.future.tattoo                           False   \nstr.tatt                                      False   \nversus_concept                                False   \ncalu.jpg                                      False   \n...                                             ...   \noff____white                                  False   \nader_error                                    False   \nlilpeep                                       False   \ntruevintage                                   False   \nsuicideboys                                   False   \n\n                     transparency_product_enabled  latest_reel_media  \\\nusername                                                               \nn.s.0220                                    False                  0   \nblvck.future.tattoo                         False                  0   \nstr.tatt                                    False                  0   \nversus_concept                              False                  0   \ncalu.jpg                                    False                  0   \n...                                           ...                ...   \noff____white                                False                  0   \nader_error                                  False                  0   \nlilpeep                                     False                  0   \ntruevintage                                 False                  0   \nsuicideboys                                 False                  0   \n\n                     is_favorite  follow_back  to_unfollow  \nusername                                                    \nn.s.0220                   False        False         True  \nblvck.future.tattoo        False        False         True  \nstr.tatt                   False        False         True  \nversus_concept             False        False         True  \ncalu.jpg                   False        False         True  \n...                          ...          ...          ...  \noff____white               False        False         True  \nader_error                 False        False         True  \nlilpeep                    False        False         True  \ntruevintage                False        False         True  \nsuicideboys                False        False         True  \n\n[983 rows x 18 columns]",
      "text/html": "<div>\n<style scoped>\n    .dataframe tbody tr th:only-of-type {\n        vertical-align: middle;\n    }\n\n    .dataframe tbody tr th {\n        vertical-align: top;\n    }\n\n    .dataframe thead th {\n        text-align: right;\n    }\n</style>\n<table border=\"1\" class=\"dataframe\">\n  <thead>\n    <tr style=\"text-align: right;\">\n      <th></th>\n      <th>pk</th>\n      <th>full_name</th>\n      <th>is_private</th>\n      <th>profile_pic_url</th>\n      <th>profile_pic_id</th>\n      <th>is_verified</th>\n      <th>follow_friction_type</th>\n      <th>growth_friction_info</th>\n      <th>account_badges</th>\n      <th>has_anonymous_profile_picture</th>\n      <th>has_highlight_reels</th>\n      <th>has_primary_country_in_feed</th>\n      <th>has_primary_country_in_profile</th>\n      <th>transparency_product_enabled</th>\n      <th>latest_reel_media</th>\n      <th>is_favorite</th>\n      <th>follow_back</th>\n      <th>to_unfollow</th>\n    </tr>\n    <tr>\n      <th>username</th>\n      <th></th>\n      <th></th>\n      <th></th>\n      <th></th>\n      <th></th>\n      <th></th>\n      <th></th>\n      <th></th>\n      <th></th>\n      <th></th>\n      <th></th>\n      <th></th>\n      <th></th>\n      <th></th>\n      <th></th>\n      <th></th>\n      <th></th>\n      <th></th>\n    </tr>\n  </thead>\n  <tbody>\n    <tr>\n      <th>n.s.0220</th>\n      <td>6788233416</td>\n      <td>Nikita S.</td>\n      <td>False</td>\n      <td>https://scontent-zrh1-1.cdninstagram.com/v/t51...</td>\n      <td>2321498649786800342_6788233416</td>\n      <td>False</td>\n      <td>0</td>\n      <td>{'has_active_interventions': False, 'intervent...</td>\n      <td>[]</td>\n      <td>False</td>\n      <td>False</td>\n      <td>False</td>\n      <td>False</td>\n      <td>False</td>\n      <td>0</td>\n      <td>False</td>\n      <td>False</td>\n      <td>True</td>\n    </tr>\n    <tr>\n      <th>blvck.future.tattoo</th>\n      <td>39539323334</td>\n      <td>CVLT.TTT</td>\n      <td>False</td>\n      <td>https://scontent-zrh1-1.cdninstagram.com/v/t51...</td>\n      <td>2561067646403728089_39539323334</td>\n      <td>False</td>\n      <td>0</td>\n      <td>{'has_active_interventions': False, 'intervent...</td>\n      <td>[]</td>\n      <td>False</td>\n      <td>False</td>\n      <td>False</td>\n      <td>False</td>\n      <td>False</td>\n      <td>0</td>\n      <td>False</td>\n      <td>False</td>\n      <td>True</td>\n    </tr>\n    <tr>\n      <th>str.tatt</th>\n      <td>5561293377</td>\n      <td>Tattoo artist</td>\n      <td>False</td>\n      <td>https://scontent-zrh1-1.cdninstagram.com/v/t51...</td>\n      <td>2139315993746185269_5561293377</td>\n      <td>False</td>\n      <td>0</td>\n      <td>{'has_active_interventions': False, 'intervent...</td>\n      <td>[]</td>\n      <td>False</td>\n      <td>False</td>\n      <td>False</td>\n      <td>False</td>\n      <td>False</td>\n      <td>0</td>\n      <td>False</td>\n      <td>False</td>\n      <td>True</td>\n    </tr>\n    <tr>\n      <th>versus_concept</th>\n      <td>13842695050</td>\n      <td>victor sala</td>\n      <td>False</td>\n      <td>https://scontent-zrh1-1.cdninstagram.com/v/t51...</td>\n      <td>2573469888297217728_13842695050</td>\n      <td>False</td>\n      <td>0</td>\n      <td>{'has_active_interventions': False, 'intervent...</td>\n      <td>[]</td>\n      <td>False</td>\n      <td>False</td>\n      <td>False</td>\n      <td>False</td>\n      <td>False</td>\n      <td>0</td>\n      <td>False</td>\n      <td>False</td>\n      <td>True</td>\n    </tr>\n    <tr>\n      <th>calu.jpg</th>\n      <td>43081497</td>\n      <td>CALU</td>\n      <td>False</td>\n      <td>https://scontent-zrh1-1.cdninstagram.com/v/t51...</td>\n      <td>2158272089824177124_43081497</td>\n      <td>False</td>\n      <td>0</td>\n      <td>{'has_active_interventions': False, 'intervent...</td>\n      <td>[]</td>\n      <td>False</td>\n      <td>False</td>\n      <td>False</td>\n      <td>False</td>\n      <td>False</td>\n      <td>0</td>\n      <td>False</td>\n      <td>False</td>\n      <td>True</td>\n    </tr>\n    <tr>\n      <th>...</th>\n      <td>...</td>\n      <td>...</td>\n      <td>...</td>\n      <td>...</td>\n      <td>...</td>\n      <td>...</td>\n      <td>...</td>\n      <td>...</td>\n      <td>...</td>\n      <td>...</td>\n      <td>...</td>\n      <td>...</td>\n      <td>...</td>\n      <td>...</td>\n      <td>...</td>\n      <td>...</td>\n      <td>...</td>\n      <td>...</td>\n    </tr>\n    <tr>\n      <th>off____white</th>\n      <td>362471749</td>\n      <td>Off-White™</td>\n      <td>False</td>\n      <td>https://scontent-zrh1-1.cdninstagram.com/v/t51...</td>\n      <td>2642953772483785609_362471749</td>\n      <td>True</td>\n      <td>0</td>\n      <td>{'has_active_interventions': False, 'intervent...</td>\n      <td>[]</td>\n      <td>False</td>\n      <td>False</td>\n      <td>False</td>\n      <td>False</td>\n      <td>False</td>\n      <td>0</td>\n      <td>False</td>\n      <td>False</td>\n      <td>True</td>\n    </tr>\n    <tr>\n      <th>ader_error</th>\n      <td>1067911170</td>\n      <td>A D E R</td>\n      <td>False</td>\n      <td>https://scontent-zrh1-1.cdninstagram.com/v/t51...</td>\n      <td>2188283064014363951_1067911170</td>\n      <td>True</td>\n      <td>0</td>\n      <td>{'has_active_interventions': False, 'intervent...</td>\n      <td>[]</td>\n      <td>False</td>\n      <td>False</td>\n      <td>False</td>\n      <td>False</td>\n      <td>False</td>\n      <td>0</td>\n      <td>False</td>\n      <td>False</td>\n      <td>True</td>\n    </tr>\n    <tr>\n      <th>lilpeep</th>\n      <td>400550070</td>\n      <td>lil peep</td>\n      <td>False</td>\n      <td>https://scontent-zrh1-1.cdninstagram.com/v/t51...</td>\n      <td>1628960026235734239_400550070</td>\n      <td>True</td>\n      <td>0</td>\n      <td>{'has_active_interventions': False, 'intervent...</td>\n      <td>[]</td>\n      <td>False</td>\n      <td>False</td>\n      <td>False</td>\n      <td>False</td>\n      <td>False</td>\n      <td>0</td>\n      <td>False</td>\n      <td>False</td>\n      <td>True</td>\n    </tr>\n    <tr>\n      <th>truevintage</th>\n      <td>1028509806</td>\n      <td>True Vintage</td>\n      <td>False</td>\n      <td>https://scontent-zrh1-1.cdninstagram.com/v/t51...</td>\n      <td>2775743094547020894_1028509806</td>\n      <td>True</td>\n      <td>0</td>\n      <td>{'has_active_interventions': False, 'intervent...</td>\n      <td>[]</td>\n      <td>False</td>\n      <td>False</td>\n      <td>False</td>\n      <td>False</td>\n      <td>False</td>\n      <td>0</td>\n      <td>False</td>\n      <td>False</td>\n      <td>True</td>\n    </tr>\n    <tr>\n      <th>suicideboys</th>\n      <td>6234578313</td>\n      <td>Long Term Effects of SUFFERING</td>\n      <td>False</td>\n      <td>https://scontent-zrh1-1.cdninstagram.com/v/t51...</td>\n      <td>2601277913976791494_6234578313</td>\n      <td>True</td>\n      <td>0</td>\n      <td>{'has_active_interventions': False, 'intervent...</td>\n      <td>[]</td>\n      <td>False</td>\n      <td>False</td>\n      <td>False</td>\n      <td>False</td>\n      <td>False</td>\n      <td>0</td>\n      <td>False</td>\n      <td>False</td>\n      <td>True</td>\n    </tr>\n  </tbody>\n</table>\n<p>983 rows × 18 columns</p>\n</div>"
     },
     "execution_count": 9,
     "metadata": {},
     "output_type": "execute_result"
    }
   ],
   "source": [
    "df_followings[\"follow_back\"] = df_followings.index.isin(df_followers.index)\n",
    "df_follow_back = df_followings[df_followings.follow_back == True]\n",
    "df_followings_private_or_follow_back = df_followings[(df_followings.is_private == True) | (df_followings.follow_back == True)]\n",
    "df_followings[\"to_unfollow\"] = ~df_followings.index.isin(df_followings_private_or_follow_back.index)\n",
    "df_to_unfollow = df_followings[df_followings.to_unfollow == True]\n",
    "df_to_unfollow"
   ],
   "metadata": {
    "collapsed": false,
    "pycharm": {
     "name": "#%%\n"
    }
   }
  },
  {
   "cell_type": "code",
   "execution_count": null,
   "outputs": [
    {
     "name": "stderr",
     "output_type": "stream",
     "text": [
      "DEBUG:urllib3.connectionpool:Starting new HTTPS connection (1): www.instagram.com:443\n"
     ]
    },
    {
     "name": "stdout",
     "output_type": "stream",
     "text": [
      "unfollowing n.s.0220\n"
     ]
    },
    {
     "name": "stderr",
     "output_type": "stream",
     "text": [
      "DEBUG:urllib3.connectionpool:https://www.instagram.com:443 \"POST /web/friendships/6788233416/unfollow/ HTTP/1.1\" 200 15\n",
      "DEBUG:urllib3.connectionpool:Starting new HTTPS connection (1): www.instagram.com:443\n"
     ]
    },
    {
     "name": "stdout",
     "output_type": "stream",
     "text": [
      "unfollowing blvck.future.tattoo\n"
     ]
    },
    {
     "name": "stderr",
     "output_type": "stream",
     "text": [
      "DEBUG:urllib3.connectionpool:https://www.instagram.com:443 \"POST /web/friendships/39539323334/unfollow/ HTTP/1.1\" 200 15\n",
      "DEBUG:urllib3.connectionpool:Starting new HTTPS connection (1): www.instagram.com:443\n"
     ]
    },
    {
     "name": "stdout",
     "output_type": "stream",
     "text": [
      "unfollowing str.tatt\n"
     ]
    },
    {
     "name": "stderr",
     "output_type": "stream",
     "text": [
      "DEBUG:urllib3.connectionpool:https://www.instagram.com:443 \"POST /web/friendships/5561293377/unfollow/ HTTP/1.1\" 200 15\n",
      "DEBUG:urllib3.connectionpool:Starting new HTTPS connection (1): www.instagram.com:443\n"
     ]
    },
    {
     "name": "stdout",
     "output_type": "stream",
     "text": [
      "unfollowing versus_concept\n"
     ]
    },
    {
     "name": "stderr",
     "output_type": "stream",
     "text": [
      "DEBUG:urllib3.connectionpool:https://www.instagram.com:443 \"POST /web/friendships/13842695050/unfollow/ HTTP/1.1\" 200 15\n",
      "DEBUG:urllib3.connectionpool:Starting new HTTPS connection (1): www.instagram.com:443\n"
     ]
    },
    {
     "name": "stdout",
     "output_type": "stream",
     "text": [
      "unfollowing calu.jpg\n"
     ]
    },
    {
     "name": "stderr",
     "output_type": "stream",
     "text": [
      "DEBUG:urllib3.connectionpool:https://www.instagram.com:443 \"POST /web/friendships/43081497/unfollow/ HTTP/1.1\" 200 15\n",
      "DEBUG:urllib3.connectionpool:Starting new HTTPS connection (1): www.instagram.com:443\n"
     ]
    },
    {
     "name": "stdout",
     "output_type": "stream",
     "text": [
      "unfollowing samueljardinierartiste\n"
     ]
    },
    {
     "name": "stderr",
     "output_type": "stream",
     "text": [
      "DEBUG:urllib3.connectionpool:https://www.instagram.com:443 \"POST /web/friendships/16174853502/unfollow/ HTTP/1.1\" 200 15\n",
      "DEBUG:urllib3.connectionpool:Starting new HTTPS connection (1): www.instagram.com:443\n"
     ]
    },
    {
     "name": "stdout",
     "output_type": "stream",
     "text": [
      "unfollowing tattoo_ne.christina\n"
     ]
    },
    {
     "name": "stderr",
     "output_type": "stream",
     "text": [
      "DEBUG:urllib3.connectionpool:https://www.instagram.com:443 \"POST /web/friendships/8684142471/unfollow/ HTTP/1.1\" 200 15\n",
      "DEBUG:urllib3.connectionpool:Starting new HTTPS connection (1): www.instagram.com:443\n"
     ]
    },
    {
     "name": "stdout",
     "output_type": "stream",
     "text": [
      "unfollowing hearcingenierie\n"
     ]
    },
    {
     "name": "stderr",
     "output_type": "stream",
     "text": [
      "DEBUG:urllib3.connectionpool:https://www.instagram.com:443 \"POST /web/friendships/3000799902/unfollow/ HTTP/1.1\" 200 15\n",
      "DEBUG:urllib3.connectionpool:Starting new HTTPS connection (1): www.instagram.com:443\n"
     ]
    },
    {
     "name": "stdout",
     "output_type": "stream",
     "text": [
      "unfollowing clement_brigliano\n"
     ]
    },
    {
     "name": "stderr",
     "output_type": "stream",
     "text": [
      "DEBUG:urllib3.connectionpool:https://www.instagram.com:443 \"POST /web/friendships/2885284019/unfollow/ HTTP/1.1\" 200 15\n",
      "DEBUG:urllib3.connectionpool:Starting new HTTPS connection (1): www.instagram.com:443\n"
     ]
    },
    {
     "name": "stdout",
     "output_type": "stream",
     "text": [
      "unfollowing maxence.guenin\n"
     ]
    },
    {
     "name": "stderr",
     "output_type": "stream",
     "text": [
      "DEBUG:urllib3.connectionpool:https://www.instagram.com:443 \"POST /web/friendships/7301435556/unfollow/ HTTP/1.1\" 200 15\n",
      "DEBUG:urllib3.connectionpool:Starting new HTTPS connection (1): www.instagram.com:443\n"
     ]
    },
    {
     "name": "stdout",
     "output_type": "stream",
     "text": [
      "unfollowing acedie.studio\n"
     ]
    },
    {
     "name": "stderr",
     "output_type": "stream",
     "text": [
      "DEBUG:urllib3.connectionpool:https://www.instagram.com:443 \"POST /web/friendships/45955813632/unfollow/ HTTP/1.1\" 200 15\n",
      "DEBUG:urllib3.connectionpool:Starting new HTTPS connection (1): www.instagram.com:443\n"
     ]
    },
    {
     "name": "stdout",
     "output_type": "stream",
     "text": [
      "unfollowing 1aville.visuals\n"
     ]
    },
    {
     "name": "stderr",
     "output_type": "stream",
     "text": [
      "DEBUG:urllib3.connectionpool:https://www.instagram.com:443 \"POST /web/friendships/28682243694/unfollow/ HTTP/1.1\" 200 15\n",
      "DEBUG:urllib3.connectionpool:Starting new HTTPS connection (1): www.instagram.com:443\n"
     ]
    },
    {
     "name": "stdout",
     "output_type": "stream",
     "text": [
      "unfollowing berlintattooscout\n"
     ]
    },
    {
     "name": "stderr",
     "output_type": "stream",
     "text": [
      "DEBUG:urllib3.connectionpool:https://www.instagram.com:443 \"POST /web/friendships/8158113084/unfollow/ HTTP/1.1\" 200 15\n",
      "DEBUG:urllib3.connectionpool:Starting new HTTPS connection (1): www.instagram.com:443\n"
     ]
    },
    {
     "name": "stdout",
     "output_type": "stream",
     "text": [
      "unfollowing eleonore_ketels\n"
     ]
    },
    {
     "name": "stderr",
     "output_type": "stream",
     "text": [
      "DEBUG:urllib3.connectionpool:https://www.instagram.com:443 \"POST /web/friendships/8474709191/unfollow/ HTTP/1.1\" 200 15\n",
      "DEBUG:urllib3.connectionpool:Starting new HTTPS connection (1): www.instagram.com:443\n"
     ]
    },
    {
     "name": "stdout",
     "output_type": "stream",
     "text": [
      "unfollowing memedeuh\n"
     ]
    },
    {
     "name": "stderr",
     "output_type": "stream",
     "text": [
      "DEBUG:urllib3.connectionpool:https://www.instagram.com:443 \"POST /web/friendships/19651662/unfollow/ HTTP/1.1\" 200 15\n",
      "DEBUG:urllib3.connectionpool:Starting new HTTPS connection (1): www.instagram.com:443\n"
     ]
    },
    {
     "name": "stdout",
     "output_type": "stream",
     "text": [
      "unfollowing n.b.a__t\n"
     ]
    },
    {
     "name": "stderr",
     "output_type": "stream",
     "text": [
      "DEBUG:urllib3.connectionpool:https://www.instagram.com:443 \"POST /web/friendships/460737924/unfollow/ HTTP/1.1\" 200 15\n",
      "DEBUG:urllib3.connectionpool:Starting new HTTPS connection (1): www.instagram.com:443\n"
     ]
    },
    {
     "name": "stdout",
     "output_type": "stream",
     "text": [
      "unfollowing marinebki\n"
     ]
    },
    {
     "name": "stderr",
     "output_type": "stream",
     "text": [
      "DEBUG:urllib3.connectionpool:https://www.instagram.com:443 \"POST /web/friendships/591563605/unfollow/ HTTP/1.1\" 429 56\n"
     ]
    },
    {
     "name": "stdout",
     "output_type": "stream",
     "text": [
      "Cannot unfollow marinebki waiting 10 minutes\n"
     ]
    },
    {
     "name": "stderr",
     "output_type": "stream",
     "text": [
      "DEBUG:urllib3.connectionpool:Starting new HTTPS connection (1): www.instagram.com:443\n",
      "DEBUG:urllib3.connectionpool:https://www.instagram.com:443 \"POST /web/friendships/591563605/unfollow/ HTTP/1.1\" 200 15\n",
      "DEBUG:urllib3.connectionpool:Starting new HTTPS connection (1): www.instagram.com:443\n"
     ]
    },
    {
     "name": "stdout",
     "output_type": "stream",
     "text": [
      "unfollowing bakshishprod\n"
     ]
    },
    {
     "name": "stderr",
     "output_type": "stream",
     "text": [
      "DEBUG:urllib3.connectionpool:https://www.instagram.com:443 \"POST /web/friendships/7199669701/unfollow/ HTTP/1.1\" 200 15\n",
      "DEBUG:urllib3.connectionpool:Starting new HTTPS connection (1): www.instagram.com:443\n"
     ]
    },
    {
     "name": "stdout",
     "output_type": "stream",
     "text": [
      "unfollowing salartabe\n"
     ]
    },
    {
     "name": "stderr",
     "output_type": "stream",
     "text": [
      "DEBUG:urllib3.connectionpool:https://www.instagram.com:443 \"POST /web/friendships/7625968748/unfollow/ HTTP/1.1\" 200 15\n",
      "DEBUG:urllib3.connectionpool:Starting new HTTPS connection (1): www.instagram.com:443\n"
     ]
    },
    {
     "name": "stdout",
     "output_type": "stream",
     "text": [
      "unfollowing sirijohanssons\n"
     ]
    },
    {
     "name": "stderr",
     "output_type": "stream",
     "text": [
      "DEBUG:urllib3.connectionpool:https://www.instagram.com:443 \"POST /web/friendships/14707545486/unfollow/ HTTP/1.1\" 200 15\n",
      "DEBUG:urllib3.connectionpool:Starting new HTTPS connection (1): www.instagram.com:443\n"
     ]
    },
    {
     "name": "stdout",
     "output_type": "stream",
     "text": [
      "unfollowing sneakscon\n"
     ]
    },
    {
     "name": "stderr",
     "output_type": "stream",
     "text": [
      "DEBUG:urllib3.connectionpool:https://www.instagram.com:443 \"POST /web/friendships/496254066/unfollow/ HTTP/1.1\" 200 15\n",
      "DEBUG:urllib3.connectionpool:Starting new HTTPS connection (1): www.instagram.com:443\n"
     ]
    },
    {
     "name": "stdout",
     "output_type": "stream",
     "text": [
      "unfollowing amtil2\n"
     ]
    },
    {
     "name": "stderr",
     "output_type": "stream",
     "text": [
      "DEBUG:urllib3.connectionpool:https://www.instagram.com:443 \"POST /web/friendships/5145181823/unfollow/ HTTP/1.1\" 200 15\n",
      "DEBUG:urllib3.connectionpool:Starting new HTTPS connection (1): www.instagram.com:443\n"
     ]
    },
    {
     "name": "stdout",
     "output_type": "stream",
     "text": [
      "unfollowing hubertgraph\n"
     ]
    },
    {
     "name": "stderr",
     "output_type": "stream",
     "text": [
      "DEBUG:urllib3.connectionpool:https://www.instagram.com:443 \"POST /web/friendships/16366767863/unfollow/ HTTP/1.1\" 200 15\n",
      "DEBUG:urllib3.connectionpool:Starting new HTTPS connection (1): www.instagram.com:443\n"
     ]
    },
    {
     "name": "stdout",
     "output_type": "stream",
     "text": [
      "unfollowing kledortz_colorist\n"
     ]
    },
    {
     "name": "stderr",
     "output_type": "stream",
     "text": [
      "DEBUG:urllib3.connectionpool:https://www.instagram.com:443 \"POST /web/friendships/6948690689/unfollow/ HTTP/1.1\" 200 15\n",
      "DEBUG:urllib3.connectionpool:Starting new HTTPS connection (1): www.instagram.com:443\n"
     ]
    },
    {
     "name": "stdout",
     "output_type": "stream",
     "text": [
      "unfollowing exoti.c.a\n"
     ]
    },
    {
     "name": "stderr",
     "output_type": "stream",
     "text": [
      "DEBUG:urllib3.connectionpool:https://www.instagram.com:443 \"POST /web/friendships/3869719305/unfollow/ HTTP/1.1\" 200 15\n",
      "DEBUG:urllib3.connectionpool:Starting new HTTPS connection (1): www.instagram.com:443\n"
     ]
    },
    {
     "name": "stdout",
     "output_type": "stream",
     "text": [
      "unfollowing neuchatelmemes\n"
     ]
    },
    {
     "name": "stderr",
     "output_type": "stream",
     "text": [
      "DEBUG:urllib3.connectionpool:https://www.instagram.com:443 \"POST /web/friendships/25480618616/unfollow/ HTTP/1.1\" 200 15\n",
      "DEBUG:urllib3.connectionpool:Starting new HTTPS connection (1): www.instagram.com:443\n"
     ]
    },
    {
     "name": "stdout",
     "output_type": "stream",
     "text": [
      "unfollowing plusminuskollektiv\n"
     ]
    },
    {
     "name": "stderr",
     "output_type": "stream",
     "text": [
      "DEBUG:urllib3.connectionpool:https://www.instagram.com:443 \"POST /web/friendships/52273749818/unfollow/ HTTP/1.1\" 200 15\n",
      "DEBUG:urllib3.connectionpool:Starting new HTTPS connection (1): www.instagram.com:443\n"
     ]
    },
    {
     "name": "stdout",
     "output_type": "stream",
     "text": [
      "unfollowing annesophieros\n"
     ]
    },
    {
     "name": "stderr",
     "output_type": "stream",
     "text": [
      "DEBUG:urllib3.connectionpool:https://www.instagram.com:443 \"POST /web/friendships/843982456/unfollow/ HTTP/1.1\" 200 15\n",
      "DEBUG:urllib3.connectionpool:Starting new HTTPS connection (1): www.instagram.com:443\n"
     ]
    },
    {
     "name": "stdout",
     "output_type": "stream",
     "text": [
      "unfollowing tetinus_\n"
     ]
    },
    {
     "name": "stderr",
     "output_type": "stream",
     "text": [
      "DEBUG:urllib3.connectionpool:https://www.instagram.com:443 \"POST /web/friendships/1354771944/unfollow/ HTTP/1.1\" 200 15\n",
      "DEBUG:urllib3.connectionpool:Starting new HTTPS connection (1): www.instagram.com:443\n"
     ]
    },
    {
     "name": "stdout",
     "output_type": "stream",
     "text": [
      "unfollowing lena_jpm\n"
     ]
    },
    {
     "name": "stderr",
     "output_type": "stream",
     "text": [
      "DEBUG:urllib3.connectionpool:https://www.instagram.com:443 \"POST /web/friendships/9162426824/unfollow/ HTTP/1.1\" 200 15\n",
      "DEBUG:urllib3.connectionpool:Starting new HTTPS connection (1): www.instagram.com:443\n"
     ]
    },
    {
     "name": "stdout",
     "output_type": "stream",
     "text": [
      "unfollowing you.wear.it\n"
     ]
    },
    {
     "name": "stderr",
     "output_type": "stream",
     "text": [
      "DEBUG:urllib3.connectionpool:https://www.instagram.com:443 \"POST /web/friendships/6894794098/unfollow/ HTTP/1.1\" 200 15\n",
      "DEBUG:urllib3.connectionpool:Starting new HTTPS connection (1): www.instagram.com:443\n"
     ]
    },
    {
     "name": "stdout",
     "output_type": "stream",
     "text": [
      "unfollowing tns_concept\n"
     ]
    },
    {
     "name": "stderr",
     "output_type": "stream",
     "text": [
      "DEBUG:urllib3.connectionpool:https://www.instagram.com:443 \"POST /web/friendships/36615945518/unfollow/ HTTP/1.1\" 200 15\n",
      "DEBUG:urllib3.connectionpool:Starting new HTTPS connection (1): www.instagram.com:443\n",
      "DEBUG:urllib3.connectionpool:https://www.instagram.com:443 \"POST /web/friendships/1617510328/unfollow/ HTTP/1.1\" 429 56\n"
     ]
    },
    {
     "name": "stdout",
     "output_type": "stream",
     "text": [
      "unfollowing evanulingus\n",
      "Cannot unfollow evanulingus waiting 10 minutes\n"
     ]
    },
    {
     "name": "stderr",
     "output_type": "stream",
     "text": [
      "DEBUG:urllib3.connectionpool:Starting new HTTPS connection (1): www.instagram.com:443\n",
      "DEBUG:urllib3.connectionpool:https://www.instagram.com:443 \"POST /web/friendships/1617510328/unfollow/ HTTP/1.1\" 200 15\n",
      "DEBUG:urllib3.connectionpool:Starting new HTTPS connection (1): www.instagram.com:443\n"
     ]
    },
    {
     "name": "stdout",
     "output_type": "stream",
     "text": [
      "unfollowing 3v444\n"
     ]
    },
    {
     "name": "stderr",
     "output_type": "stream",
     "text": [
      "DEBUG:urllib3.connectionpool:https://www.instagram.com:443 \"POST /web/friendships/2508330/unfollow/ HTTP/1.1\" 200 15\n",
      "DEBUG:urllib3.connectionpool:Starting new HTTPS connection (1): www.instagram.com:443\n"
     ]
    },
    {
     "name": "stdout",
     "output_type": "stream",
     "text": [
      "unfollowing daredevilirs\n"
     ]
    },
    {
     "name": "stderr",
     "output_type": "stream",
     "text": [
      "DEBUG:urllib3.connectionpool:https://www.instagram.com:443 \"POST /web/friendships/39470166878/unfollow/ HTTP/1.1\" 200 15\n",
      "DEBUG:urllib3.connectionpool:Starting new HTTPS connection (1): www.instagram.com:443\n"
     ]
    },
    {
     "name": "stdout",
     "output_type": "stream",
     "text": [
      "unfollowing paranoise.system\n"
     ]
    },
    {
     "name": "stderr",
     "output_type": "stream",
     "text": [
      "DEBUG:urllib3.connectionpool:https://www.instagram.com:443 \"POST /web/friendships/41312316636/unfollow/ HTTP/1.1\" 200 15\n",
      "DEBUG:urllib3.connectionpool:Starting new HTTPS connection (1): www.instagram.com:443\n"
     ]
    },
    {
     "name": "stdout",
     "output_type": "stream",
     "text": [
      "unfollowing a.bstra.ct\n"
     ]
    },
    {
     "name": "stderr",
     "output_type": "stream",
     "text": [
      "DEBUG:urllib3.connectionpool:https://www.instagram.com:443 \"POST /web/friendships/44834355859/unfollow/ HTTP/1.1\" 200 15\n",
      "DEBUG:urllib3.connectionpool:Starting new HTTPS connection (1): www.instagram.com:443\n"
     ]
    },
    {
     "name": "stdout",
     "output_type": "stream",
     "text": [
      "unfollowing __nxxh___\n"
     ]
    },
    {
     "name": "stderr",
     "output_type": "stream",
     "text": [
      "DEBUG:urllib3.connectionpool:https://www.instagram.com:443 \"POST /web/friendships/218209563/unfollow/ HTTP/1.1\" 200 15\n",
      "DEBUG:urllib3.connectionpool:Starting new HTTPS connection (1): www.instagram.com:443\n"
     ]
    },
    {
     "name": "stdout",
     "output_type": "stream",
     "text": [
      "unfollowing nsbpauline\n"
     ]
    },
    {
     "name": "stderr",
     "output_type": "stream",
     "text": [
      "DEBUG:urllib3.connectionpool:https://www.instagram.com:443 \"POST /web/friendships/567109116/unfollow/ HTTP/1.1\" 200 15\n",
      "DEBUG:urllib3.connectionpool:Starting new HTTPS connection (1): www.instagram.com:443\n"
     ]
    },
    {
     "name": "stdout",
     "output_type": "stream",
     "text": [
      "unfollowing le_nuagenoir\n"
     ]
    },
    {
     "name": "stderr",
     "output_type": "stream",
     "text": [
      "DEBUG:urllib3.connectionpool:https://www.instagram.com:443 \"POST /web/friendships/20080800358/unfollow/ HTTP/1.1\" 200 15\n",
      "DEBUG:urllib3.connectionpool:Starting new HTTPS connection (1): www.instagram.com:443\n"
     ]
    },
    {
     "name": "stdout",
     "output_type": "stream",
     "text": [
      "unfollowing 3wv.ch\n"
     ]
    },
    {
     "name": "stderr",
     "output_type": "stream",
     "text": [
      "DEBUG:urllib3.connectionpool:https://www.instagram.com:443 \"POST /web/friendships/32729005782/unfollow/ HTTP/1.1\" 200 15\n",
      "DEBUG:urllib3.connectionpool:Starting new HTTPS connection (1): www.instagram.com:443\n"
     ]
    },
    {
     "name": "stdout",
     "output_type": "stream",
     "text": [
      "unfollowing zero_skill_boy_tattoo\n"
     ]
    },
    {
     "name": "stderr",
     "output_type": "stream",
     "text": [
      "DEBUG:urllib3.connectionpool:https://www.instagram.com:443 \"POST /web/friendships/50719574414/unfollow/ HTTP/1.1\" 200 15\n",
      "DEBUG:urllib3.connectionpool:Starting new HTTPS connection (1): www.instagram.com:443\n"
     ]
    },
    {
     "name": "stdout",
     "output_type": "stream",
     "text": [
      "unfollowing commonsense.ch\n"
     ]
    },
    {
     "name": "stderr",
     "output_type": "stream",
     "text": [
      "DEBUG:urllib3.connectionpool:https://www.instagram.com:443 \"POST /web/friendships/1803810044/unfollow/ HTTP/1.1\" 200 15\n",
      "DEBUG:urllib3.connectionpool:Starting new HTTPS connection (1): www.instagram.com:443\n"
     ]
    },
    {
     "name": "stdout",
     "output_type": "stream",
     "text": [
      "unfollowing atelierchardonsavardgermany\n"
     ]
    },
    {
     "name": "stderr",
     "output_type": "stream",
     "text": [
      "DEBUG:urllib3.connectionpool:https://www.instagram.com:443 \"POST /web/friendships/8691856805/unfollow/ HTTP/1.1\" 200 15\n",
      "DEBUG:urllib3.connectionpool:Starting new HTTPS connection (1): www.instagram.com:443\n"
     ]
    },
    {
     "name": "stdout",
     "output_type": "stream",
     "text": [
      "unfollowing 6ixcs\n"
     ]
    },
    {
     "name": "stderr",
     "output_type": "stream",
     "text": [
      "DEBUG:urllib3.connectionpool:https://www.instagram.com:443 \"POST /web/friendships/13149618566/unfollow/ HTTP/1.1\" 200 15\n",
      "DEBUG:urllib3.connectionpool:Starting new HTTPS connection (1): www.instagram.com:443\n"
     ]
    },
    {
     "name": "stdout",
     "output_type": "stream",
     "text": [
      "unfollowing ben.rogo\n"
     ]
    },
    {
     "name": "stderr",
     "output_type": "stream",
     "text": [
      "DEBUG:urllib3.connectionpool:https://www.instagram.com:443 \"POST /web/friendships/342875317/unfollow/ HTTP/1.1\" 200 15\n",
      "DEBUG:urllib3.connectionpool:Starting new HTTPS connection (1): www.instagram.com:443\n"
     ]
    },
    {
     "name": "stdout",
     "output_type": "stream",
     "text": [
      "unfollowing naima.snco\n"
     ]
    },
    {
     "name": "stderr",
     "output_type": "stream",
     "text": [
      "DEBUG:urllib3.connectionpool:https://www.instagram.com:443 \"POST /web/friendships/258198943/unfollow/ HTTP/1.1\" 200 15\n",
      "DEBUG:urllib3.connectionpool:Starting new HTTPS connection (1): www.instagram.com:443\n"
     ]
    },
    {
     "name": "stdout",
     "output_type": "stream",
     "text": [
      "unfollowing energizend\n"
     ]
    },
    {
     "name": "stderr",
     "output_type": "stream",
     "text": [
      "DEBUG:urllib3.connectionpool:https://www.instagram.com:443 \"POST /web/friendships/3153401612/unfollow/ HTTP/1.1\" 200 15\n",
      "DEBUG:urllib3.connectionpool:Starting new HTTPS connection (1): www.instagram.com:443\n",
      "DEBUG:urllib3.connectionpool:https://www.instagram.com:443 \"POST /web/friendships/505425835/unfollow/ HTTP/1.1\" 429 56\n"
     ]
    },
    {
     "name": "stdout",
     "output_type": "stream",
     "text": [
      "unfollowing cheveuxroses.hair\n",
      "Cannot unfollow cheveuxroses.hair waiting 10 minutes\n"
     ]
    },
    {
     "name": "stderr",
     "output_type": "stream",
     "text": [
      "DEBUG:urllib3.connectionpool:Starting new HTTPS connection (1): www.instagram.com:443\n",
      "DEBUG:urllib3.connectionpool:https://www.instagram.com:443 \"POST /web/friendships/505425835/unfollow/ HTTP/1.1\" 200 15\n",
      "DEBUG:urllib3.connectionpool:Starting new HTTPS connection (1): www.instagram.com:443\n"
     ]
    },
    {
     "name": "stdout",
     "output_type": "stream",
     "text": [
      "unfollowing raccoonsarl\n"
     ]
    },
    {
     "name": "stderr",
     "output_type": "stream",
     "text": [
      "DEBUG:urllib3.connectionpool:https://www.instagram.com:443 \"POST /web/friendships/3929050425/unfollow/ HTTP/1.1\" 200 15\n",
      "DEBUG:urllib3.connectionpool:Starting new HTTPS connection (1): www.instagram.com:443\n"
     ]
    },
    {
     "name": "stdout",
     "output_type": "stream",
     "text": [
      "unfollowing vhs0ft\n"
     ]
    },
    {
     "name": "stderr",
     "output_type": "stream",
     "text": [
      "DEBUG:urllib3.connectionpool:https://www.instagram.com:443 \"POST /web/friendships/23079261657/unfollow/ HTTP/1.1\" 200 15\n",
      "DEBUG:urllib3.connectionpool:Starting new HTTPS connection (1): www.instagram.com:443\n"
     ]
    },
    {
     "name": "stdout",
     "output_type": "stream",
     "text": [
      "unfollowing eurken_photography\n"
     ]
    },
    {
     "name": "stderr",
     "output_type": "stream",
     "text": [
      "DEBUG:urllib3.connectionpool:https://www.instagram.com:443 \"POST /web/friendships/39371566710/unfollow/ HTTP/1.1\" 200 15\n",
      "DEBUG:urllib3.connectionpool:Starting new HTTPS connection (1): www.instagram.com:443\n"
     ]
    },
    {
     "name": "stdout",
     "output_type": "stream",
     "text": [
      "unfollowing k4tvol\n"
     ]
    },
    {
     "name": "stderr",
     "output_type": "stream",
     "text": [
      "DEBUG:urllib3.connectionpool:https://www.instagram.com:443 \"POST /web/friendships/48395615688/unfollow/ HTTP/1.1\" 200 15\n",
      "DEBUG:urllib3.connectionpool:Starting new HTTPS connection (1): www.instagram.com:443\n"
     ]
    },
    {
     "name": "stdout",
     "output_type": "stream",
     "text": [
      "unfollowing lslbproduction\n"
     ]
    },
    {
     "name": "stderr",
     "output_type": "stream",
     "text": [
      "DEBUG:urllib3.connectionpool:https://www.instagram.com:443 \"POST /web/friendships/8007068631/unfollow/ HTTP/1.1\" 200 15\n",
      "DEBUG:urllib3.connectionpool:Starting new HTTPS connection (1): www.instagram.com:443\n"
     ]
    },
    {
     "name": "stdout",
     "output_type": "stream",
     "text": [
      "unfollowing aurelie.laubscher\n"
     ]
    },
    {
     "name": "stderr",
     "output_type": "stream",
     "text": [
      "DEBUG:urllib3.connectionpool:https://www.instagram.com:443 \"POST /web/friendships/291899840/unfollow/ HTTP/1.1\" 200 15\n",
      "DEBUG:urllib3.connectionpool:Starting new HTTPS connection (1): www.instagram.com:443\n"
     ]
    },
    {
     "name": "stdout",
     "output_type": "stream",
     "text": [
      "unfollowing 13r13r13r13r\n"
     ]
    },
    {
     "name": "stderr",
     "output_type": "stream",
     "text": [
      "DEBUG:urllib3.connectionpool:https://www.instagram.com:443 \"POST /web/friendships/44107296001/unfollow/ HTTP/1.1\" 200 15\n",
      "DEBUG:urllib3.connectionpool:Starting new HTTPS connection (1): www.instagram.com:443\n"
     ]
    },
    {
     "name": "stdout",
     "output_type": "stream",
     "text": [
      "unfollowing lundisimple\n"
     ]
    },
    {
     "name": "stderr",
     "output_type": "stream",
     "text": [
      "DEBUG:urllib3.connectionpool:https://www.instagram.com:443 \"POST /web/friendships/15395738543/unfollow/ HTTP/1.1\" 200 15\n",
      "DEBUG:urllib3.connectionpool:Starting new HTTPS connection (1): www.instagram.com:443\n"
     ]
    },
    {
     "name": "stdout",
     "output_type": "stream",
     "text": [
      "unfollowing julie___babey\n"
     ]
    },
    {
     "name": "stderr",
     "output_type": "stream",
     "text": [
      "DEBUG:urllib3.connectionpool:https://www.instagram.com:443 \"POST /web/friendships/9071517879/unfollow/ HTTP/1.1\" 200 15\n",
      "DEBUG:urllib3.connectionpool:Starting new HTTPS connection (1): www.instagram.com:443\n"
     ]
    },
    {
     "name": "stdout",
     "output_type": "stream",
     "text": [
      "unfollowing 1m54.2\n"
     ]
    },
    {
     "name": "stderr",
     "output_type": "stream",
     "text": [
      "DEBUG:urllib3.connectionpool:https://www.instagram.com:443 \"POST /web/friendships/54403490/unfollow/ HTTP/1.1\" 200 15\n",
      "DEBUG:urllib3.connectionpool:Starting new HTTPS connection (1): www.instagram.com:443\n"
     ]
    },
    {
     "name": "stdout",
     "output_type": "stream",
     "text": [
      "unfollowing sondomie\n"
     ]
    },
    {
     "name": "stderr",
     "output_type": "stream",
     "text": [
      "DEBUG:urllib3.connectionpool:https://www.instagram.com:443 \"POST /web/friendships/1374222769/unfollow/ HTTP/1.1\" 200 15\n",
      "DEBUG:urllib3.connectionpool:Starting new HTTPS connection (1): www.instagram.com:443\n"
     ]
    },
    {
     "name": "stdout",
     "output_type": "stream",
     "text": [
      "unfollowing kinda.thiccc\n"
     ]
    },
    {
     "name": "stderr",
     "output_type": "stream",
     "text": [
      "DEBUG:urllib3.connectionpool:https://www.instagram.com:443 \"POST /web/friendships/23121519420/unfollow/ HTTP/1.1\" 200 15\n",
      "DEBUG:urllib3.connectionpool:Starting new HTTPS connection (1): www.instagram.com:443\n"
     ]
    },
    {
     "name": "stdout",
     "output_type": "stream",
     "text": [
      "unfollowing onfadd\n"
     ]
    },
    {
     "name": "stderr",
     "output_type": "stream",
     "text": [
      "DEBUG:urllib3.connectionpool:https://www.instagram.com:443 \"POST /web/friendships/5954270924/unfollow/ HTTP/1.1\" 200 15\n",
      "DEBUG:urllib3.connectionpool:Starting new HTTPS connection (1): www.instagram.com:443\n"
     ]
    },
    {
     "name": "stdout",
     "output_type": "stream",
     "text": [
      "unfollowing isabenven\n"
     ]
    },
    {
     "name": "stderr",
     "output_type": "stream",
     "text": [
      "DEBUG:urllib3.connectionpool:https://www.instagram.com:443 \"POST /web/friendships/27954555034/unfollow/ HTTP/1.1\" 200 15\n",
      "DEBUG:urllib3.connectionpool:Starting new HTTPS connection (1): www.instagram.com:443\n"
     ]
    },
    {
     "name": "stdout",
     "output_type": "stream",
     "text": [
      "unfollowing milniumlslb\n"
     ]
    },
    {
     "name": "stderr",
     "output_type": "stream",
     "text": [
      "DEBUG:urllib3.connectionpool:https://www.instagram.com:443 \"POST /web/friendships/1775396778/unfollow/ HTTP/1.1\" 200 15\n",
      "DEBUG:urllib3.connectionpool:Starting new HTTPS connection (1): www.instagram.com:443\n",
      "DEBUG:urllib3.connectionpool:https://www.instagram.com:443 \"POST /web/friendships/35671410505/unfollow/ HTTP/1.1\" 429 56\n"
     ]
    },
    {
     "name": "stdout",
     "output_type": "stream",
     "text": [
      "unfollowing studio.eskro\n",
      "Cannot unfollow studio.eskro waiting 10 minutes\n"
     ]
    },
    {
     "name": "stderr",
     "output_type": "stream",
     "text": [
      "DEBUG:urllib3.connectionpool:Starting new HTTPS connection (1): www.instagram.com:443\n",
      "DEBUG:urllib3.connectionpool:https://www.instagram.com:443 \"POST /web/friendships/35671410505/unfollow/ HTTP/1.1\" 200 15\n",
      "DEBUG:urllib3.connectionpool:Starting new HTTPS connection (1): www.instagram.com:443\n"
     ]
    },
    {
     "name": "stdout",
     "output_type": "stream",
     "text": [
      "unfollowing flameskater\n"
     ]
    },
    {
     "name": "stderr",
     "output_type": "stream",
     "text": [
      "DEBUG:urllib3.connectionpool:https://www.instagram.com:443 \"POST /web/friendships/459995977/unfollow/ HTTP/1.1\" 200 15\n",
      "DEBUG:urllib3.connectionpool:Starting new HTTPS connection (1): www.instagram.com:443\n"
     ]
    },
    {
     "name": "stdout",
     "output_type": "stream",
     "text": [
      "unfollowing a_project.ch\n"
     ]
    },
    {
     "name": "stderr",
     "output_type": "stream",
     "text": [
      "DEBUG:urllib3.connectionpool:https://www.instagram.com:443 \"POST /web/friendships/272671546/unfollow/ HTTP/1.1\" 200 15\n",
      "DEBUG:urllib3.connectionpool:Starting new HTTPS connection (1): www.instagram.com:443\n"
     ]
    },
    {
     "name": "stdout",
     "output_type": "stream",
     "text": [
      "unfollowing griffonnage\n"
     ]
    },
    {
     "name": "stderr",
     "output_type": "stream",
     "text": [
      "DEBUG:urllib3.connectionpool:https://www.instagram.com:443 \"POST /web/friendships/2106226953/unfollow/ HTTP/1.1\" 200 15\n",
      "DEBUG:urllib3.connectionpool:Starting new HTTPS connection (1): www.instagram.com:443\n"
     ]
    },
    {
     "name": "stdout",
     "output_type": "stream",
     "text": [
      "unfollowing laprestoi\n"
     ]
    },
    {
     "name": "stderr",
     "output_type": "stream",
     "text": [
      "DEBUG:urllib3.connectionpool:https://www.instagram.com:443 \"POST /web/friendships/23303213375/unfollow/ HTTP/1.1\" 200 15\n",
      "DEBUG:urllib3.connectionpool:Starting new HTTPS connection (1): www.instagram.com:443\n"
     ]
    },
    {
     "name": "stdout",
     "output_type": "stream",
     "text": [
      "unfollowing arcencielmtl\n"
     ]
    },
    {
     "name": "stderr",
     "output_type": "stream",
     "text": [
      "DEBUG:urllib3.connectionpool:https://www.instagram.com:443 \"POST /web/friendships/7048021697/unfollow/ HTTP/1.1\" 200 15\n",
      "DEBUG:urllib3.connectionpool:Starting new HTTPS connection (1): www.instagram.com:443\n"
     ]
    },
    {
     "name": "stdout",
     "output_type": "stream",
     "text": [
      "unfollowing nevill_bj\n"
     ]
    },
    {
     "name": "stderr",
     "output_type": "stream",
     "text": [
      "DEBUG:urllib3.connectionpool:https://www.instagram.com:443 \"POST /web/friendships/197598771/unfollow/ HTTP/1.1\" 200 15\n",
      "DEBUG:urllib3.connectionpool:Starting new HTTPS connection (1): www.instagram.com:443\n"
     ]
    },
    {
     "name": "stdout",
     "output_type": "stream",
     "text": [
      "unfollowing _lisamarques\n"
     ]
    },
    {
     "name": "stderr",
     "output_type": "stream",
     "text": [
      "DEBUG:urllib3.connectionpool:https://www.instagram.com:443 \"POST /web/friendships/195706725/unfollow/ HTTP/1.1\" 200 15\n",
      "DEBUG:urllib3.connectionpool:Starting new HTTPS connection (1): www.instagram.com:443\n"
     ]
    },
    {
     "name": "stdout",
     "output_type": "stream",
     "text": [
      "unfollowing cesmessieurs1801\n"
     ]
    },
    {
     "name": "stderr",
     "output_type": "stream",
     "text": [
      "DEBUG:urllib3.connectionpool:https://www.instagram.com:443 \"POST /web/friendships/48150320769/unfollow/ HTTP/1.1\" 200 15\n",
      "DEBUG:urllib3.connectionpool:Starting new HTTPS connection (1): www.instagram.com:443\n"
     ]
    },
    {
     "name": "stdout",
     "output_type": "stream",
     "text": [
      "unfollowing overview\n"
     ]
    },
    {
     "name": "stderr",
     "output_type": "stream",
     "text": [
      "DEBUG:urllib3.connectionpool:https://www.instagram.com:443 \"POST /web/friendships/10007670100/unfollow/ HTTP/1.1\" 200 15\n",
      "DEBUG:urllib3.connectionpool:Starting new HTTPS connection (1): www.instagram.com:443\n"
     ]
    },
    {
     "name": "stdout",
     "output_type": "stream",
     "text": [
      "unfollowing alteravita_neuch\n"
     ]
    },
    {
     "name": "stderr",
     "output_type": "stream",
     "text": [
      "DEBUG:urllib3.connectionpool:https://www.instagram.com:443 \"POST /web/friendships/39526809953/unfollow/ HTTP/1.1\" 200 15\n",
      "DEBUG:urllib3.connectionpool:Starting new HTTPS connection (1): www.instagram.com:443\n"
     ]
    },
    {
     "name": "stdout",
     "output_type": "stream",
     "text": [
      "unfollowing le.ramassis\n"
     ]
    },
    {
     "name": "stderr",
     "output_type": "stream",
     "text": [
      "DEBUG:urllib3.connectionpool:https://www.instagram.com:443 \"POST /web/friendships/28736186937/unfollow/ HTTP/1.1\" 200 15\n",
      "DEBUG:urllib3.connectionpool:Starting new HTTPS connection (1): www.instagram.com:443\n"
     ]
    },
    {
     "name": "stdout",
     "output_type": "stream",
     "text": [
      "unfollowing swuofficiel\n"
     ]
    },
    {
     "name": "stderr",
     "output_type": "stream",
     "text": [
      "DEBUG:urllib3.connectionpool:https://www.instagram.com:443 \"POST /web/friendships/36381252719/unfollow/ HTTP/1.1\" 200 15\n",
      "DEBUG:urllib3.connectionpool:Starting new HTTPS connection (1): www.instagram.com:443\n"
     ]
    },
    {
     "name": "stdout",
     "output_type": "stream",
     "text": [
      "unfollowing nice_hades\n"
     ]
    },
    {
     "name": "stderr",
     "output_type": "stream",
     "text": [
      "DEBUG:urllib3.connectionpool:https://www.instagram.com:443 \"POST /web/friendships/1275668175/unfollow/ HTTP/1.1\" 200 15\n",
      "DEBUG:urllib3.connectionpool:Starting new HTTPS connection (1): www.instagram.com:443\n"
     ]
    },
    {
     "name": "stdout",
     "output_type": "stream",
     "text": [
      "unfollowing dukeofelegance\n"
     ]
    },
    {
     "name": "stderr",
     "output_type": "stream",
     "text": [
      "DEBUG:urllib3.connectionpool:https://www.instagram.com:443 \"POST /web/friendships/27137206906/unfollow/ HTTP/1.1\" 200 15\n",
      "DEBUG:urllib3.connectionpool:Starting new HTTPS connection (1): www.instagram.com:443\n"
     ]
    },
    {
     "name": "stdout",
     "output_type": "stream",
     "text": [
      "unfollowing souvenircollectors\n"
     ]
    },
    {
     "name": "stderr",
     "output_type": "stream",
     "text": [
      "DEBUG:urllib3.connectionpool:https://www.instagram.com:443 \"POST /web/friendships/25999571598/unfollow/ HTTP/1.1\" 200 15\n",
      "DEBUG:urllib3.connectionpool:Starting new HTTPS connection (1): www.instagram.com:443\n",
      "DEBUG:urllib3.connectionpool:https://www.instagram.com:443 \"POST /web/friendships/305497438/unfollow/ HTTP/1.1\" 429 56\n"
     ]
    },
    {
     "name": "stdout",
     "output_type": "stream",
     "text": [
      "unfollowing lunair_vision\n",
      "Cannot unfollow lunair_vision waiting 10 minutes\n"
     ]
    },
    {
     "name": "stderr",
     "output_type": "stream",
     "text": [
      "DEBUG:urllib3.connectionpool:Starting new HTTPS connection (1): www.instagram.com:443\n",
      "DEBUG:urllib3.connectionpool:https://www.instagram.com:443 \"POST /web/friendships/305497438/unfollow/ HTTP/1.1\" 200 15\n",
      "DEBUG:urllib3.connectionpool:Starting new HTTPS connection (1): www.instagram.com:443\n"
     ]
    },
    {
     "name": "stdout",
     "output_type": "stream",
     "text": [
      "unfollowing studiofondamenta\n"
     ]
    },
    {
     "name": "stderr",
     "output_type": "stream",
     "text": [
      "DEBUG:urllib3.connectionpool:https://www.instagram.com:443 \"POST /web/friendships/27934867120/unfollow/ HTTP/1.1\" 200 15\n",
      "DEBUG:urllib3.connectionpool:Starting new HTTPS connection (1): www.instagram.com:443\n"
     ]
    },
    {
     "name": "stdout",
     "output_type": "stream",
     "text": [
      "unfollowing 2cyclope\n"
     ]
    },
    {
     "name": "stderr",
     "output_type": "stream",
     "text": [
      "DEBUG:urllib3.connectionpool:https://www.instagram.com:443 \"POST /web/friendships/22340171856/unfollow/ HTTP/1.1\" 200 15\n",
      "DEBUG:urllib3.connectionpool:Starting new HTTPS connection (1): www.instagram.com:443\n"
     ]
    },
    {
     "name": "stdout",
     "output_type": "stream",
     "text": [
      "unfollowing kayakklub69\n"
     ]
    },
    {
     "name": "stderr",
     "output_type": "stream",
     "text": [
      "DEBUG:urllib3.connectionpool:https://www.instagram.com:443 \"POST /web/friendships/7973983138/unfollow/ HTTP/1.1\" 200 15\n",
      "DEBUG:urllib3.connectionpool:Starting new HTTPS connection (1): www.instagram.com:443\n"
     ]
    },
    {
     "name": "stdout",
     "output_type": "stream",
     "text": [
      "unfollowing club42_club\n"
     ]
    },
    {
     "name": "stderr",
     "output_type": "stream",
     "text": [
      "DEBUG:urllib3.connectionpool:https://www.instagram.com:443 \"POST /web/friendships/1392680917/unfollow/ HTTP/1.1\" 200 15\n",
      "DEBUG:urllib3.connectionpool:Starting new HTTPS connection (1): www.instagram.com:443\n"
     ]
    },
    {
     "name": "stdout",
     "output_type": "stream",
     "text": [
      "unfollowing pianarogiulia\n"
     ]
    },
    {
     "name": "stderr",
     "output_type": "stream",
     "text": [
      "DEBUG:urllib3.connectionpool:https://www.instagram.com:443 \"POST /web/friendships/8913935026/unfollow/ HTTP/1.1\" 200 15\n",
      "DEBUG:urllib3.connectionpool:Starting new HTTPS connection (1): www.instagram.com:443\n"
     ]
    },
    {
     "name": "stdout",
     "output_type": "stream",
     "text": [
      "unfollowing sachawiernik\n"
     ]
    },
    {
     "name": "stderr",
     "output_type": "stream",
     "text": [
      "DEBUG:urllib3.connectionpool:https://www.instagram.com:443 \"POST /web/friendships/209410444/unfollow/ HTTP/1.1\" 200 15\n",
      "DEBUG:urllib3.connectionpool:Starting new HTTPS connection (1): www.instagram.com:443\n"
     ]
    },
    {
     "name": "stdout",
     "output_type": "stream",
     "text": [
      "unfollowing dvora._\n"
     ]
    },
    {
     "name": "stderr",
     "output_type": "stream",
     "text": [
      "DEBUG:urllib3.connectionpool:https://www.instagram.com:443 \"POST /web/friendships/1487091882/unfollow/ HTTP/1.1\" 200 15\n",
      "DEBUG:urllib3.connectionpool:Starting new HTTPS connection (1): www.instagram.com:443\n"
     ]
    },
    {
     "name": "stdout",
     "output_type": "stream",
     "text": [
      "unfollowing oh.timo\n"
     ]
    },
    {
     "name": "stderr",
     "output_type": "stream",
     "text": [
      "DEBUG:urllib3.connectionpool:https://www.instagram.com:443 \"POST /web/friendships/351657378/unfollow/ HTTP/1.1\" 200 15\n",
      "DEBUG:urllib3.connectionpool:Starting new HTTPS connection (1): www.instagram.com:443\n"
     ]
    },
    {
     "name": "stdout",
     "output_type": "stream",
     "text": [
      "unfollowing hamzashalalei\n"
     ]
    },
    {
     "name": "stderr",
     "output_type": "stream",
     "text": [
      "DEBUG:urllib3.connectionpool:https://www.instagram.com:443 \"POST /web/friendships/1490705577/unfollow/ HTTP/1.1\" 200 15\n",
      "DEBUG:urllib3.connectionpool:Starting new HTTPS connection (1): www.instagram.com:443\n"
     ]
    },
    {
     "name": "stdout",
     "output_type": "stream",
     "text": [
      "unfollowing charlottegibilini\n"
     ]
    },
    {
     "name": "stderr",
     "output_type": "stream",
     "text": [
      "DEBUG:urllib3.connectionpool:https://www.instagram.com:443 \"POST /web/friendships/21289708/unfollow/ HTTP/1.1\" 200 15\n",
      "DEBUG:urllib3.connectionpool:Starting new HTTPS connection (1): www.instagram.com:443\n"
     ]
    },
    {
     "name": "stdout",
     "output_type": "stream",
     "text": [
      "unfollowing aestheticssoul_art\n"
     ]
    },
    {
     "name": "stderr",
     "output_type": "stream",
     "text": [
      "DEBUG:urllib3.connectionpool:https://www.instagram.com:443 \"POST /web/friendships/5349490846/unfollow/ HTTP/1.1\" 200 15\n",
      "DEBUG:urllib3.connectionpool:Starting new HTTPS connection (1): www.instagram.com:443\n"
     ]
    },
    {
     "name": "stdout",
     "output_type": "stream",
     "text": [
      "unfollowing jspdesolee\n"
     ]
    },
    {
     "name": "stderr",
     "output_type": "stream",
     "text": [
      "DEBUG:urllib3.connectionpool:https://www.instagram.com:443 \"POST /web/friendships/33540781857/unfollow/ HTTP/1.1\" 200 15\n",
      "DEBUG:urllib3.connectionpool:Starting new HTTPS connection (1): www.instagram.com:443\n"
     ]
    },
    {
     "name": "stdout",
     "output_type": "stream",
     "text": [
      "unfollowing _some_of_my_art_\n"
     ]
    },
    {
     "name": "stderr",
     "output_type": "stream",
     "text": [
      "DEBUG:urllib3.connectionpool:https://www.instagram.com:443 \"POST /web/friendships/39153376893/unfollow/ HTTP/1.1\" 200 15\n",
      "DEBUG:urllib3.connectionpool:Starting new HTTPS connection (1): www.instagram.com:443\n"
     ]
    },
    {
     "name": "stdout",
     "output_type": "stream",
     "text": [
      "unfollowing noambenchemhoun\n"
     ]
    },
    {
     "name": "stderr",
     "output_type": "stream",
     "text": [
      "DEBUG:urllib3.connectionpool:https://www.instagram.com:443 \"POST /web/friendships/4355365371/unfollow/ HTTP/1.1\" 200 15\n",
      "DEBUG:urllib3.connectionpool:Starting new HTTPS connection (1): www.instagram.com:443\n"
     ]
    },
    {
     "name": "stdout",
     "output_type": "stream",
     "text": [
      "unfollowing the_ricoshow\n"
     ]
    },
    {
     "name": "stderr",
     "output_type": "stream",
     "text": [
      "DEBUG:urllib3.connectionpool:https://www.instagram.com:443 \"POST /web/friendships/3286591509/unfollow/ HTTP/1.1\" 200 15\n",
      "DEBUG:urllib3.connectionpool:Starting new HTTPS connection (1): www.instagram.com:443\n",
      "DEBUG:urllib3.connectionpool:https://www.instagram.com:443 \"POST /web/friendships/19031881488/unfollow/ HTTP/1.1\" 429 56\n"
     ]
    },
    {
     "name": "stdout",
     "output_type": "stream",
     "text": [
      "unfollowing so__venirs\n",
      "Cannot unfollow so__venirs waiting 10 minutes\n"
     ]
    },
    {
     "name": "stderr",
     "output_type": "stream",
     "text": [
      "DEBUG:urllib3.connectionpool:Starting new HTTPS connection (1): www.instagram.com:443\n",
      "DEBUG:urllib3.connectionpool:https://www.instagram.com:443 \"POST /web/friendships/19031881488/unfollow/ HTTP/1.1\" 200 15\n",
      "DEBUG:urllib3.connectionpool:Starting new HTTPS connection (1): www.instagram.com:443\n"
     ]
    },
    {
     "name": "stdout",
     "output_type": "stream",
     "text": [
      "unfollowing asdecoeurtattoo\n"
     ]
    },
    {
     "name": "stderr",
     "output_type": "stream",
     "text": [
      "DEBUG:urllib3.connectionpool:https://www.instagram.com:443 \"POST /web/friendships/9675096244/unfollow/ HTTP/1.1\" 200 15\n",
      "DEBUG:urllib3.connectionpool:Starting new HTTPS connection (1): www.instagram.com:443\n"
     ]
    },
    {
     "name": "stdout",
     "output_type": "stream",
     "text": [
      "unfollowing money_garden\n"
     ]
    },
    {
     "name": "stderr",
     "output_type": "stream",
     "text": [
      "DEBUG:urllib3.connectionpool:https://www.instagram.com:443 \"POST /web/friendships/52926510/unfollow/ HTTP/1.1\" 200 15\n",
      "DEBUG:urllib3.connectionpool:Starting new HTTPS connection (1): www.instagram.com:443\n"
     ]
    },
    {
     "name": "stdout",
     "output_type": "stream",
     "text": [
      "unfollowing jbcf21\n"
     ]
    },
    {
     "name": "stderr",
     "output_type": "stream",
     "text": [
      "DEBUG:urllib3.connectionpool:https://www.instagram.com:443 \"POST /web/friendships/49817218601/unfollow/ HTTP/1.1\" 200 15\n",
      "DEBUG:urllib3.connectionpool:Starting new HTTPS connection (1): www.instagram.com:443\n"
     ]
    },
    {
     "name": "stdout",
     "output_type": "stream",
     "text": [
      "unfollowing la___matrice\n"
     ]
    },
    {
     "name": "stderr",
     "output_type": "stream",
     "text": [
      "DEBUG:urllib3.connectionpool:https://www.instagram.com:443 \"POST /web/friendships/4615436408/unfollow/ HTTP/1.1\" 200 15\n",
      "DEBUG:urllib3.connectionpool:Starting new HTTPS connection (1): www.instagram.com:443\n"
     ]
    },
    {
     "name": "stdout",
     "output_type": "stream",
     "text": [
      "unfollowing simon.boillod\n"
     ]
    },
    {
     "name": "stderr",
     "output_type": "stream",
     "text": [
      "DEBUG:urllib3.connectionpool:https://www.instagram.com:443 \"POST /web/friendships/3308670640/unfollow/ HTTP/1.1\" 200 15\n",
      "DEBUG:urllib3.connectionpool:Starting new HTTPS connection (1): www.instagram.com:443\n"
     ]
    },
    {
     "name": "stdout",
     "output_type": "stream",
     "text": [
      "unfollowing janppeter\n"
     ]
    },
    {
     "name": "stderr",
     "output_type": "stream",
     "text": [
      "DEBUG:urllib3.connectionpool:https://www.instagram.com:443 \"POST /web/friendships/1579130102/unfollow/ HTTP/1.1\" 200 15\n",
      "DEBUG:urllib3.connectionpool:Starting new HTTPS connection (1): www.instagram.com:443\n"
     ]
    },
    {
     "name": "stdout",
     "output_type": "stream",
     "text": [
      "unfollowing francoismesot\n"
     ]
    },
    {
     "name": "stderr",
     "output_type": "stream",
     "text": [
      "DEBUG:urllib3.connectionpool:https://www.instagram.com:443 \"POST /web/friendships/10754870/unfollow/ HTTP/1.1\" 200 15\n",
      "DEBUG:urllib3.connectionpool:Starting new HTTPS connection (1): www.instagram.com:443\n"
     ]
    },
    {
     "name": "stdout",
     "output_type": "stream",
     "text": [
      "unfollowing blinklslb\n"
     ]
    },
    {
     "name": "stderr",
     "output_type": "stream",
     "text": [
      "DEBUG:urllib3.connectionpool:https://www.instagram.com:443 \"POST /web/friendships/1926219418/unfollow/ HTTP/1.1\" 200 15\n",
      "DEBUG:urllib3.connectionpool:Starting new HTTPS connection (1): www.instagram.com:443\n"
     ]
    },
    {
     "name": "stdout",
     "output_type": "stream",
     "text": [
      "unfollowing bastien_k\n"
     ]
    },
    {
     "name": "stderr",
     "output_type": "stream",
     "text": [
      "DEBUG:urllib3.connectionpool:https://www.instagram.com:443 \"POST /web/friendships/481557865/unfollow/ HTTP/1.1\" 200 15\n",
      "DEBUG:urllib3.connectionpool:Starting new HTTPS connection (1): www.instagram.com:443\n"
     ]
    },
    {
     "name": "stdout",
     "output_type": "stream",
     "text": [
      "unfollowing qg_art_center\n"
     ]
    },
    {
     "name": "stderr",
     "output_type": "stream",
     "text": [
      "DEBUG:urllib3.connectionpool:https://www.instagram.com:443 \"POST /web/friendships/1666690561/unfollow/ HTTP/1.1\" 200 15\n",
      "DEBUG:urllib3.connectionpool:Starting new HTTPS connection (1): www.instagram.com:443\n"
     ]
    },
    {
     "name": "stdout",
     "output_type": "stream",
     "text": [
      "unfollowing fitsonstreets\n"
     ]
    },
    {
     "name": "stderr",
     "output_type": "stream",
     "text": [
      "DEBUG:urllib3.connectionpool:https://www.instagram.com:443 \"POST /web/friendships/8707559584/unfollow/ HTTP/1.1\" 200 15\n",
      "DEBUG:urllib3.connectionpool:Starting new HTTPS connection (1): www.instagram.com:443\n"
     ]
    },
    {
     "name": "stdout",
     "output_type": "stream",
     "text": [
      "unfollowing le.rama\n"
     ]
    },
    {
     "name": "stderr",
     "output_type": "stream",
     "text": [
      "DEBUG:urllib3.connectionpool:https://www.instagram.com:443 \"POST /web/friendships/474906962/unfollow/ HTTP/1.1\" 200 15\n",
      "DEBUG:urllib3.connectionpool:Starting new HTTPS connection (1): www.instagram.com:443\n"
     ]
    },
    {
     "name": "stdout",
     "output_type": "stream",
     "text": [
      "unfollowing justingouin\n"
     ]
    },
    {
     "name": "stderr",
     "output_type": "stream",
     "text": [
      "DEBUG:urllib3.connectionpool:https://www.instagram.com:443 \"POST /web/friendships/326549046/unfollow/ HTTP/1.1\" 200 15\n",
      "DEBUG:urllib3.connectionpool:Starting new HTTPS connection (1): www.instagram.com:443\n"
     ]
    },
    {
     "name": "stdout",
     "output_type": "stream",
     "text": [
      "unfollowing strecke_balek\n"
     ]
    },
    {
     "name": "stderr",
     "output_type": "stream",
     "text": [
      "DEBUG:urllib3.connectionpool:https://www.instagram.com:443 \"POST /web/friendships/4539205843/unfollow/ HTTP/1.1\" 200 15\n",
      "DEBUG:urllib3.connectionpool:Starting new HTTPS connection (1): www.instagram.com:443\n"
     ]
    },
    {
     "name": "stdout",
     "output_type": "stream",
     "text": [
      "unfollowing nonamepiercingtattoo\n"
     ]
    },
    {
     "name": "stderr",
     "output_type": "stream",
     "text": [
      "DEBUG:urllib3.connectionpool:https://www.instagram.com:443 \"POST /web/friendships/6245569342/unfollow/ HTTP/1.1\" 200 15\n",
      "DEBUG:urllib3.connectionpool:Starting new HTTPS connection (1): www.instagram.com:443\n",
      "DEBUG:urllib3.connectionpool:https://www.instagram.com:443 \"POST /web/friendships/24388456/unfollow/ HTTP/1.1\" 429 56\n"
     ]
    },
    {
     "name": "stdout",
     "output_type": "stream",
     "text": [
      "unfollowing chrisanthonynyc\n",
      "Cannot unfollow chrisanthonynyc waiting 10 minutes\n"
     ]
    },
    {
     "name": "stderr",
     "output_type": "stream",
     "text": [
      "DEBUG:urllib3.connectionpool:Starting new HTTPS connection (1): www.instagram.com:443\n",
      "DEBUG:urllib3.connectionpool:https://www.instagram.com:443 \"POST /web/friendships/24388456/unfollow/ HTTP/1.1\" 200 15\n",
      "DEBUG:urllib3.connectionpool:Starting new HTTPS connection (1): www.instagram.com:443\n"
     ]
    },
    {
     "name": "stdout",
     "output_type": "stream",
     "text": [
      "unfollowing thelifeofreese_\n"
     ]
    },
    {
     "name": "stderr",
     "output_type": "stream",
     "text": [
      "DEBUG:urllib3.connectionpool:https://www.instagram.com:443 \"POST /web/friendships/211326616/unfollow/ HTTP/1.1\" 200 15\n",
      "DEBUG:urllib3.connectionpool:Starting new HTTPS connection (1): www.instagram.com:443\n"
     ]
    },
    {
     "name": "stdout",
     "output_type": "stream",
     "text": [
      "unfollowing ster.pdf\n"
     ]
    },
    {
     "name": "stderr",
     "output_type": "stream",
     "text": [
      "DEBUG:urllib3.connectionpool:https://www.instagram.com:443 \"POST /web/friendships/11788153491/unfollow/ HTTP/1.1\" 200 15\n",
      "DEBUG:urllib3.connectionpool:Starting new HTTPS connection (1): www.instagram.com:443\n"
     ]
    },
    {
     "name": "stdout",
     "output_type": "stream",
     "text": [
      "unfollowing tradeando.crypto\n"
     ]
    },
    {
     "name": "stderr",
     "output_type": "stream",
     "text": [
      "DEBUG:urllib3.connectionpool:https://www.instagram.com:443 \"POST /web/friendships/14448135255/unfollow/ HTTP/1.1\" 200 15\n",
      "DEBUG:urllib3.connectionpool:Starting new HTTPS connection (1): www.instagram.com:443\n"
     ]
    },
    {
     "name": "stdout",
     "output_type": "stream",
     "text": [
      "unfollowing cramspix\n"
     ]
    },
    {
     "name": "stderr",
     "output_type": "stream",
     "text": [
      "DEBUG:urllib3.connectionpool:https://www.instagram.com:443 \"POST /web/friendships/291179509/unfollow/ HTTP/1.1\" 200 15\n",
      "DEBUG:urllib3.connectionpool:Starting new HTTPS connection (1): www.instagram.com:443\n"
     ]
    },
    {
     "name": "stdout",
     "output_type": "stream",
     "text": [
      "unfollowing ogfripe\n"
     ]
    },
    {
     "name": "stderr",
     "output_type": "stream",
     "text": [
      "DEBUG:urllib3.connectionpool:https://www.instagram.com:443 \"POST /web/friendships/7932097140/unfollow/ HTTP/1.1\" 200 15\n",
      "DEBUG:urllib3.connectionpool:Starting new HTTPS connection (1): www.instagram.com:443\n"
     ]
    },
    {
     "name": "stdout",
     "output_type": "stream",
     "text": [
      "unfollowing simonmrclx\n"
     ]
    },
    {
     "name": "stderr",
     "output_type": "stream",
     "text": [
      "DEBUG:urllib3.connectionpool:https://www.instagram.com:443 \"POST /web/friendships/234583765/unfollow/ HTTP/1.1\" 200 15\n",
      "DEBUG:urllib3.connectionpool:Starting new HTTPS connection (1): www.instagram.com:443\n"
     ]
    },
    {
     "name": "stdout",
     "output_type": "stream",
     "text": [
      "unfollowing shadymiaw\n"
     ]
    },
    {
     "name": "stderr",
     "output_type": "stream",
     "text": [
      "DEBUG:urllib3.connectionpool:https://www.instagram.com:443 \"POST /web/friendships/1323914701/unfollow/ HTTP/1.1\" 200 15\n",
      "DEBUG:urllib3.connectionpool:Starting new HTTPS connection (1): www.instagram.com:443\n"
     ]
    },
    {
     "name": "stdout",
     "output_type": "stream",
     "text": [
      "unfollowing recklessmath\n"
     ]
    },
    {
     "name": "stderr",
     "output_type": "stream",
     "text": [
      "DEBUG:urllib3.connectionpool:https://www.instagram.com:443 \"POST /web/friendships/14162675043/unfollow/ HTTP/1.1\" 200 15\n",
      "DEBUG:urllib3.connectionpool:Starting new HTTPS connection (1): www.instagram.com:443\n"
     ]
    },
    {
     "name": "stdout",
     "output_type": "stream",
     "text": [
      "unfollowing hearc.crush\n"
     ]
    },
    {
     "name": "stderr",
     "output_type": "stream",
     "text": [
      "DEBUG:urllib3.connectionpool:https://www.instagram.com:443 \"POST /web/friendships/50350037455/unfollow/ HTTP/1.1\" 200 15\n",
      "DEBUG:urllib3.connectionpool:Starting new HTTPS connection (1): www.instagram.com:443\n"
     ]
    },
    {
     "name": "stdout",
     "output_type": "stream",
     "text": [
      "unfollowing coaching_cms\n"
     ]
    },
    {
     "name": "stderr",
     "output_type": "stream",
     "text": [
      "DEBUG:urllib3.connectionpool:https://www.instagram.com:443 \"POST /web/friendships/20975989404/unfollow/ HTTP/1.1\" 200 15\n",
      "DEBUG:urllib3.connectionpool:Starting new HTTPS connection (1): www.instagram.com:443\n"
     ]
    },
    {
     "name": "stdout",
     "output_type": "stream",
     "text": [
      "unfollowing lamenoire.tattoo\n"
     ]
    },
    {
     "name": "stderr",
     "output_type": "stream",
     "text": [
      "DEBUG:urllib3.connectionpool:https://www.instagram.com:443 \"POST /web/friendships/619464866/unfollow/ HTTP/1.1\" 200 15\n",
      "DEBUG:urllib3.connectionpool:Starting new HTTPS connection (1): www.instagram.com:443\n"
     ]
    },
    {
     "name": "stdout",
     "output_type": "stream",
     "text": [
      "unfollowing gueule_cassee\n"
     ]
    },
    {
     "name": "stderr",
     "output_type": "stream",
     "text": [
      "DEBUG:urllib3.connectionpool:https://www.instagram.com:443 \"POST /web/friendships/7031773909/unfollow/ HTTP/1.1\" 200 15\n",
      "DEBUG:urllib3.connectionpool:Starting new HTTPS connection (1): www.instagram.com:443\n"
     ]
    },
    {
     "name": "stdout",
     "output_type": "stream",
     "text": [
      "unfollowing batp_\n"
     ]
    },
    {
     "name": "stderr",
     "output_type": "stream",
     "text": [
      "DEBUG:urllib3.connectionpool:https://www.instagram.com:443 \"POST /web/friendships/610207848/unfollow/ HTTP/1.1\" 200 15\n",
      "DEBUG:urllib3.connectionpool:Starting new HTTPS connection (1): www.instagram.com:443\n"
     ]
    },
    {
     "name": "stdout",
     "output_type": "stream",
     "text": [
      "unfollowing grillz_factory\n"
     ]
    },
    {
     "name": "stderr",
     "output_type": "stream",
     "text": [
      "DEBUG:urllib3.connectionpool:https://www.instagram.com:443 \"POST /web/friendships/7445443760/unfollow/ HTTP/1.1\" 200 15\n",
      "DEBUG:urllib3.connectionpool:Starting new HTTPS connection (1): www.instagram.com:443\n"
     ]
    },
    {
     "name": "stdout",
     "output_type": "stream",
     "text": [
      "unfollowing thomaswhcompton\n"
     ]
    },
    {
     "name": "stderr",
     "output_type": "stream",
     "text": [
      "DEBUG:urllib3.connectionpool:https://www.instagram.com:443 \"POST /web/friendships/1618685336/unfollow/ HTTP/1.1\" 200 15\n",
      "DEBUG:urllib3.connectionpool:Starting new HTTPS connection (1): www.instagram.com:443\n",
      "DEBUG:urllib3.connectionpool:https://www.instagram.com:443 \"POST /web/friendships/403993059/unfollow/ HTTP/1.1\" 429 56\n"
     ]
    },
    {
     "name": "stdout",
     "output_type": "stream",
     "text": [
      "unfollowing lbongio_\n",
      "Cannot unfollow lbongio_ waiting 10 minutes\n"
     ]
    },
    {
     "name": "stderr",
     "output_type": "stream",
     "text": [
      "DEBUG:urllib3.connectionpool:Starting new HTTPS connection (1): www.instagram.com:443\n",
      "DEBUG:urllib3.connectionpool:https://www.instagram.com:443 \"POST /web/friendships/403993059/unfollow/ HTTP/1.1\" 200 15\n",
      "DEBUG:urllib3.connectionpool:Starting new HTTPS connection (1): www.instagram.com:443\n"
     ]
    },
    {
     "name": "stdout",
     "output_type": "stream",
     "text": [
      "unfollowing ar.draw_\n"
     ]
    },
    {
     "name": "stderr",
     "output_type": "stream",
     "text": [
      "DEBUG:urllib3.connectionpool:https://www.instagram.com:443 \"POST /web/friendships/4773280506/unfollow/ HTTP/1.1\" 200 15\n",
      "DEBUG:urllib3.connectionpool:Starting new HTTPS connection (1): www.instagram.com:443\n"
     ]
    },
    {
     "name": "stdout",
     "output_type": "stream",
     "text": [
      "unfollowing tilokublerr\n"
     ]
    },
    {
     "name": "stderr",
     "output_type": "stream",
     "text": [
      "DEBUG:urllib3.connectionpool:https://www.instagram.com:443 \"POST /web/friendships/5705540673/unfollow/ HTTP/1.1\" 200 15\n",
      "DEBUG:urllib3.connectionpool:Starting new HTTPS connection (1): www.instagram.com:443\n"
     ]
    },
    {
     "name": "stdout",
     "output_type": "stream",
     "text": [
      "unfollowing ogm.zip\n"
     ]
    },
    {
     "name": "stderr",
     "output_type": "stream",
     "text": [
      "DEBUG:urllib3.connectionpool:https://www.instagram.com:443 \"POST /web/friendships/514145589/unfollow/ HTTP/1.1\" 200 15\n",
      "DEBUG:urllib3.connectionpool:Starting new HTTPS connection (1): www.instagram.com:443\n"
     ]
    },
    {
     "name": "stdout",
     "output_type": "stream",
     "text": [
      "unfollowing bohemian_spirit_collective\n"
     ]
    },
    {
     "name": "stderr",
     "output_type": "stream",
     "text": [
      "DEBUG:urllib3.connectionpool:https://www.instagram.com:443 \"POST /web/friendships/1312684535/unfollow/ HTTP/1.1\" 200 15\n",
      "DEBUG:urllib3.connectionpool:Starting new HTTPS connection (1): www.instagram.com:443\n"
     ]
    },
    {
     "name": "stdout",
     "output_type": "stream",
     "text": [
      "unfollowing penaltee.ch\n"
     ]
    },
    {
     "name": "stderr",
     "output_type": "stream",
     "text": [
      "DEBUG:urllib3.connectionpool:https://www.instagram.com:443 \"POST /web/friendships/4146110356/unfollow/ HTTP/1.1\" 200 15\n",
      "DEBUG:urllib3.connectionpool:Starting new HTTPS connection (1): www.instagram.com:443\n"
     ]
    },
    {
     "name": "stdout",
     "output_type": "stream",
     "text": [
      "unfollowing blumchenclub\n"
     ]
    },
    {
     "name": "stderr",
     "output_type": "stream",
     "text": [
      "DEBUG:urllib3.connectionpool:https://www.instagram.com:443 \"POST /web/friendships/23322206316/unfollow/ HTTP/1.1\" 200 15\n",
      "DEBUG:urllib3.connectionpool:Starting new HTTPS connection (1): www.instagram.com:443\n"
     ]
    },
    {
     "name": "stdout",
     "output_type": "stream",
     "text": [
      "unfollowing _fuck.apologies_\n"
     ]
    },
    {
     "name": "stderr",
     "output_type": "stream",
     "text": [
      "DEBUG:urllib3.connectionpool:https://www.instagram.com:443 \"POST /web/friendships/10899728300/unfollow/ HTTP/1.1\" 200 15\n",
      "DEBUG:urllib3.connectionpool:Starting new HTTPS connection (1): www.instagram.com:443\n"
     ]
    },
    {
     "name": "stdout",
     "output_type": "stream",
     "text": [
      "unfollowing jil_jander\n"
     ]
    },
    {
     "name": "stderr",
     "output_type": "stream",
     "text": [
      "DEBUG:urllib3.connectionpool:https://www.instagram.com:443 \"POST /web/friendships/2918270177/unfollow/ HTTP/1.1\" 200 15\n",
      "DEBUG:urllib3.connectionpool:Starting new HTTPS connection (1): www.instagram.com:443\n"
     ]
    },
    {
     "name": "stdout",
     "output_type": "stream",
     "text": [
      "unfollowing archifaux2000\n"
     ]
    },
    {
     "name": "stderr",
     "output_type": "stream",
     "text": [
      "DEBUG:urllib3.connectionpool:https://www.instagram.com:443 \"POST /web/friendships/31296459772/unfollow/ HTTP/1.1\" 200 15\n",
      "DEBUG:urllib3.connectionpool:Starting new HTTPS connection (1): www.instagram.com:443\n"
     ]
    },
    {
     "name": "stdout",
     "output_type": "stream",
     "text": [
      "unfollowing _adrv__\n"
     ]
    },
    {
     "name": "stderr",
     "output_type": "stream",
     "text": [
      "DEBUG:urllib3.connectionpool:https://www.instagram.com:443 \"POST /web/friendships/6970012845/unfollow/ HTTP/1.1\" 200 15\n",
      "DEBUG:urllib3.connectionpool:Starting new HTTPS connection (1): www.instagram.com:443\n"
     ]
    },
    {
     "name": "stdout",
     "output_type": "stream",
     "text": [
      "unfollowing saraonfilmz\n"
     ]
    },
    {
     "name": "stderr",
     "output_type": "stream",
     "text": [
      "DEBUG:urllib3.connectionpool:https://www.instagram.com:443 \"POST /web/friendships/24811029964/unfollow/ HTTP/1.1\" 200 15\n",
      "DEBUG:urllib3.connectionpool:Starting new HTTPS connection (1): www.instagram.com:443\n"
     ]
    },
    {
     "name": "stdout",
     "output_type": "stream",
     "text": [
      "unfollowing ma_tatts\n"
     ]
    },
    {
     "name": "stderr",
     "output_type": "stream",
     "text": [
      "DEBUG:urllib3.connectionpool:https://www.instagram.com:443 \"POST /web/friendships/19706956233/unfollow/ HTTP/1.1\" 200 15\n",
      "DEBUG:urllib3.connectionpool:Starting new HTTPS connection (1): www.instagram.com:443\n"
     ]
    },
    {
     "name": "stdout",
     "output_type": "stream",
     "text": [
      "unfollowing chromatics\n"
     ]
    },
    {
     "name": "stderr",
     "output_type": "stream",
     "text": [
      "DEBUG:urllib3.connectionpool:https://www.instagram.com:443 \"POST /web/friendships/2196987/unfollow/ HTTP/1.1\" 200 15\n",
      "DEBUG:urllib3.connectionpool:Starting new HTTPS connection (1): www.instagram.com:443\n"
     ]
    },
    {
     "name": "stdout",
     "output_type": "stream",
     "text": [
      "unfollowing maitredegrillz\n"
     ]
    },
    {
     "name": "stderr",
     "output_type": "stream",
     "text": [
      "DEBUG:urllib3.connectionpool:https://www.instagram.com:443 \"POST /web/friendships/9714413361/unfollow/ HTTP/1.1\" 200 15\n",
      "DEBUG:urllib3.connectionpool:Starting new HTTPS connection (1): www.instagram.com:443\n"
     ]
    },
    {
     "name": "stdout",
     "output_type": "stream",
     "text": [
      "unfollowing aestheticvibbe\n"
     ]
    },
    {
     "name": "stderr",
     "output_type": "stream",
     "text": [
      "DEBUG:urllib3.connectionpool:https://www.instagram.com:443 \"POST /web/friendships/21902686964/unfollow/ HTTP/1.1\" 200 15\n",
      "DEBUG:urllib3.connectionpool:Starting new HTTPS connection (1): www.instagram.com:443\n",
      "DEBUG:urllib3.connectionpool:https://www.instagram.com:443 \"POST /web/friendships/29548902989/unfollow/ HTTP/1.1\" 429 56\n"
     ]
    },
    {
     "name": "stdout",
     "output_type": "stream",
     "text": [
      "unfollowing weedontfckncare\n",
      "Cannot unfollow weedontfckncare waiting 10 minutes\n"
     ]
    },
    {
     "name": "stderr",
     "output_type": "stream",
     "text": [
      "DEBUG:urllib3.connectionpool:Starting new HTTPS connection (1): www.instagram.com:443\n",
      "DEBUG:urllib3.connectionpool:https://www.instagram.com:443 \"POST /web/friendships/29548902989/unfollow/ HTTP/1.1\" 200 15\n",
      "DEBUG:urllib3.connectionpool:Starting new HTTPS connection (1): www.instagram.com:443\n"
     ]
    },
    {
     "name": "stdout",
     "output_type": "stream",
     "text": [
      "unfollowing not_th0mas\n"
     ]
    },
    {
     "name": "stderr",
     "output_type": "stream",
     "text": [
      "DEBUG:urllib3.connectionpool:https://www.instagram.com:443 \"POST /web/friendships/11151499127/unfollow/ HTTP/1.1\" 200 15\n",
      "DEBUG:urllib3.connectionpool:Starting new HTTPS connection (1): www.instagram.com:443\n"
     ]
    },
    {
     "name": "stdout",
     "output_type": "stream",
     "text": [
      "unfollowing remixskatestore\n"
     ]
    },
    {
     "name": "stderr",
     "output_type": "stream",
     "text": [
      "DEBUG:urllib3.connectionpool:https://www.instagram.com:443 \"POST /web/friendships/13776387500/unfollow/ HTTP/1.1\" 200 15\n",
      "DEBUG:urllib3.connectionpool:Starting new HTTPS connection (1): www.instagram.com:443\n"
     ]
    },
    {
     "name": "stdout",
     "output_type": "stream",
     "text": [
      "unfollowing armesarmesarmes\n"
     ]
    },
    {
     "name": "stderr",
     "output_type": "stream",
     "text": [
      "DEBUG:urllib3.connectionpool:https://www.instagram.com:443 \"POST /web/friendships/382951209/unfollow/ HTTP/1.1\" 200 15\n",
      "DEBUG:urllib3.connectionpool:Starting new HTTPS connection (1): www.instagram.com:443\n"
     ]
    },
    {
     "name": "stdout",
     "output_type": "stream",
     "text": [
      "unfollowing migrosvaud\n"
     ]
    },
    {
     "name": "stderr",
     "output_type": "stream",
     "text": [
      "DEBUG:urllib3.connectionpool:https://www.instagram.com:443 \"POST /web/friendships/7063102792/unfollow/ HTTP/1.1\" 200 15\n",
      "DEBUG:urllib3.connectionpool:Starting new HTTPS connection (1): www.instagram.com:443\n"
     ]
    },
    {
     "name": "stdout",
     "output_type": "stream",
     "text": [
      "unfollowing fulugeeks\n"
     ]
    },
    {
     "name": "stderr",
     "output_type": "stream",
     "text": [
      "DEBUG:urllib3.connectionpool:https://www.instagram.com:443 \"POST /web/friendships/7043328590/unfollow/ HTTP/1.1\" 200 15\n",
      "DEBUG:urllib3.connectionpool:Starting new HTTPS connection (1): www.instagram.com:443\n"
     ]
    },
    {
     "name": "stdout",
     "output_type": "stream",
     "text": [
      "unfollowing croctherockfestival\n"
     ]
    },
    {
     "name": "stderr",
     "output_type": "stream",
     "text": [
      "DEBUG:urllib3.connectionpool:https://www.instagram.com:443 \"POST /web/friendships/2179036407/unfollow/ HTTP/1.1\" 200 15\n",
      "DEBUG:urllib3.connectionpool:Starting new HTTPS connection (1): www.instagram.com:443\n"
     ]
    },
    {
     "name": "stdout",
     "output_type": "stream",
     "text": [
      "unfollowing katnoaga\n"
     ]
    },
    {
     "name": "stderr",
     "output_type": "stream",
     "text": [
      "DEBUG:urllib3.connectionpool:https://www.instagram.com:443 \"POST /web/friendships/2224339090/unfollow/ HTTP/1.1\" 200 15\n",
      "DEBUG:urllib3.connectionpool:Starting new HTTPS connection (1): www.instagram.com:443\n"
     ]
    },
    {
     "name": "stdout",
     "output_type": "stream",
     "text": [
      "unfollowing ultrapurpleray\n"
     ]
    },
    {
     "name": "stderr",
     "output_type": "stream",
     "text": [
      "DEBUG:urllib3.connectionpool:https://www.instagram.com:443 \"POST /web/friendships/1383832495/unfollow/ HTTP/1.1\" 200 15\n",
      "DEBUG:urllib3.connectionpool:Starting new HTTPS connection (1): www.instagram.com:443\n"
     ]
    },
    {
     "name": "stdout",
     "output_type": "stream",
     "text": [
      "unfollowing artistfromthefuture\n"
     ]
    },
    {
     "name": "stderr",
     "output_type": "stream",
     "text": [
      "DEBUG:urllib3.connectionpool:https://www.instagram.com:443 \"POST /web/friendships/2998419204/unfollow/ HTTP/1.1\" 200 15\n",
      "DEBUG:urllib3.connectionpool:Starting new HTTPS connection (1): www.instagram.com:443\n"
     ]
    },
    {
     "name": "stdout",
     "output_type": "stream",
     "text": [
      "unfollowing clairekernn\n"
     ]
    },
    {
     "name": "stderr",
     "output_type": "stream",
     "text": [
      "DEBUG:urllib3.connectionpool:https://www.instagram.com:443 \"POST /web/friendships/285941280/unfollow/ HTTP/1.1\" 200 15\n",
      "DEBUG:urllib3.connectionpool:Starting new HTTPS connection (1): www.instagram.com:443\n"
     ]
    },
    {
     "name": "stdout",
     "output_type": "stream",
     "text": [
      "unfollowing melismenkuer\n"
     ]
    },
    {
     "name": "stderr",
     "output_type": "stream",
     "text": [
      "DEBUG:urllib3.connectionpool:https://www.instagram.com:443 \"POST /web/friendships/19076728438/unfollow/ HTTP/1.1\" 200 15\n",
      "DEBUG:urllib3.connectionpool:Starting new HTTPS connection (1): www.instagram.com:443\n"
     ]
    },
    {
     "name": "stdout",
     "output_type": "stream",
     "text": [
      "unfollowing vad_bl\n"
     ]
    },
    {
     "name": "stderr",
     "output_type": "stream",
     "text": [
      "DEBUG:urllib3.connectionpool:https://www.instagram.com:443 \"POST /web/friendships/1648900177/unfollow/ HTTP/1.1\" 200 15\n"
     ]
    },
    {
     "name": "stdout",
     "output_type": "stream",
     "text": [
      "unfollowing 1.1.3care\n"
     ]
    },
    {
     "name": "stderr",
     "output_type": "stream",
     "text": [
      "DEBUG:urllib3.connectionpool:Starting new HTTPS connection (1): www.instagram.com:443\n",
      "DEBUG:urllib3.connectionpool:https://www.instagram.com:443 \"POST /web/friendships/51240312839/unfollow/ HTTP/1.1\" 200 15\n",
      "DEBUG:urllib3.connectionpool:Starting new HTTPS connection (1): www.instagram.com:443\n"
     ]
    },
    {
     "name": "stdout",
     "output_type": "stream",
     "text": [
      "unfollowing justinestellaknuchel\n"
     ]
    },
    {
     "name": "stderr",
     "output_type": "stream",
     "text": [
      "DEBUG:urllib3.connectionpool:https://www.instagram.com:443 \"POST /web/friendships/2068368442/unfollow/ HTTP/1.1\" 200 15\n",
      "DEBUG:urllib3.connectionpool:Starting new HTTPS connection (1): www.instagram.com:443\n"
     ]
    },
    {
     "name": "stdout",
     "output_type": "stream",
     "text": [
      "unfollowing hardflip.tv\n"
     ]
    },
    {
     "name": "stderr",
     "output_type": "stream",
     "text": [
      "DEBUG:urllib3.connectionpool:https://www.instagram.com:443 \"POST /web/friendships/18748980902/unfollow/ HTTP/1.1\" 200 15\n",
      "DEBUG:urllib3.connectionpool:Starting new HTTPS connection (1): www.instagram.com:443\n",
      "DEBUG:urllib3.connectionpool:https://www.instagram.com:443 \"POST /web/friendships/19956823999/unfollow/ HTTP/1.1\" 429 56\n"
     ]
    },
    {
     "name": "stdout",
     "output_type": "stream",
     "text": [
      "unfollowing skates.steez\n",
      "Cannot unfollow skates.steez waiting 10 minutes\n"
     ]
    },
    {
     "name": "stderr",
     "output_type": "stream",
     "text": [
      "DEBUG:urllib3.connectionpool:Starting new HTTPS connection (1): www.instagram.com:443\n",
      "DEBUG:urllib3.connectionpool:https://www.instagram.com:443 \"POST /web/friendships/19956823999/unfollow/ HTTP/1.1\" 200 15\n",
      "DEBUG:urllib3.connectionpool:Starting new HTTPS connection (1): www.instagram.com:443\n"
     ]
    },
    {
     "name": "stdout",
     "output_type": "stream",
     "text": [
      "unfollowing panda__kun__\n"
     ]
    },
    {
     "name": "stderr",
     "output_type": "stream",
     "text": [
      "DEBUG:urllib3.connectionpool:https://www.instagram.com:443 \"POST /web/friendships/7722423373/unfollow/ HTTP/1.1\" 200 15\n",
      "DEBUG:urllib3.connectionpool:Starting new HTTPS connection (1): www.instagram.com:443\n"
     ]
    },
    {
     "name": "stdout",
     "output_type": "stream",
     "text": [
      "unfollowing bigboyciaran\n"
     ]
    },
    {
     "name": "stderr",
     "output_type": "stream",
     "text": [
      "DEBUG:urllib3.connectionpool:https://www.instagram.com:443 \"POST /web/friendships/18755178199/unfollow/ HTTP/1.1\" 200 15\n",
      "DEBUG:urllib3.connectionpool:Starting new HTTPS connection (1): www.instagram.com:443\n"
     ]
    },
    {
     "name": "stdout",
     "output_type": "stream",
     "text": [
      "unfollowing floyperez\n"
     ]
    },
    {
     "name": "stderr",
     "output_type": "stream",
     "text": [
      "DEBUG:urllib3.connectionpool:https://www.instagram.com:443 \"POST /web/friendships/4196861639/unfollow/ HTTP/1.1\" 200 15\n",
      "DEBUG:urllib3.connectionpool:Starting new HTTPS connection (1): www.instagram.com:443\n"
     ]
    },
    {
     "name": "stdout",
     "output_type": "stream",
     "text": [
      "unfollowing weframe.ch\n"
     ]
    },
    {
     "name": "stderr",
     "output_type": "stream",
     "text": [
      "DEBUG:urllib3.connectionpool:https://www.instagram.com:443 \"POST /web/friendships/9677364132/unfollow/ HTTP/1.1\" 200 15\n",
      "DEBUG:urllib3.connectionpool:Starting new HTTPS connection (1): www.instagram.com:443\n"
     ]
    },
    {
     "name": "stdout",
     "output_type": "stream",
     "text": [
      "unfollowing centerofhype\n"
     ]
    },
    {
     "name": "stderr",
     "output_type": "stream",
     "text": [
      "DEBUG:urllib3.connectionpool:https://www.instagram.com:443 \"POST /web/friendships/6955347709/unfollow/ HTTP/1.1\" 200 15\n",
      "DEBUG:urllib3.connectionpool:Starting new HTTPS connection (1): www.instagram.com:443\n"
     ]
    },
    {
     "name": "stdout",
     "output_type": "stream",
     "text": [
      "unfollowing average____studios\n"
     ]
    },
    {
     "name": "stderr",
     "output_type": "stream",
     "text": [
      "DEBUG:urllib3.connectionpool:https://www.instagram.com:443 \"POST /web/friendships/7624266282/unfollow/ HTTP/1.1\" 200 15\n",
      "DEBUG:urllib3.connectionpool:Starting new HTTPS connection (1): www.instagram.com:443\n"
     ]
    },
    {
     "name": "stdout",
     "output_type": "stream",
     "text": [
      "unfollowing chantalhochuli.tif\n"
     ]
    },
    {
     "name": "stderr",
     "output_type": "stream",
     "text": [
      "DEBUG:urllib3.connectionpool:https://www.instagram.com:443 \"POST /web/friendships/50106814033/unfollow/ HTTP/1.1\" 200 15\n",
      "DEBUG:urllib3.connectionpool:Starting new HTTPS connection (1): www.instagram.com:443\n"
     ]
    },
    {
     "name": "stdout",
     "output_type": "stream",
     "text": [
      "unfollowing nobodiiicares.handpoke\n"
     ]
    },
    {
     "name": "stderr",
     "output_type": "stream",
     "text": [
      "DEBUG:urllib3.connectionpool:https://www.instagram.com:443 \"POST /web/friendships/13736114089/unfollow/ HTTP/1.1\" 200 15\n",
      "DEBUG:urllib3.connectionpool:Starting new HTTPS connection (1): www.instagram.com:443\n"
     ]
    },
    {
     "name": "stdout",
     "output_type": "stream",
     "text": [
      "unfollowing thriftsuisse\n"
     ]
    },
    {
     "name": "stderr",
     "output_type": "stream",
     "text": [
      "DEBUG:urllib3.connectionpool:https://www.instagram.com:443 \"POST /web/friendships/44778756061/unfollow/ HTTP/1.1\" 200 15\n",
      "DEBUG:urllib3.connectionpool:Starting new HTTPS connection (1): www.instagram.com:443\n"
     ]
    },
    {
     "name": "stdout",
     "output_type": "stream",
     "text": [
      "unfollowing lasirene\n"
     ]
    },
    {
     "name": "stderr",
     "output_type": "stream",
     "text": [
      "DEBUG:urllib3.connectionpool:https://www.instagram.com:443 \"POST /web/friendships/1976518288/unfollow/ HTTP/1.1\" 200 15\n",
      "DEBUG:urllib3.connectionpool:Starting new HTTPS connection (1): www.instagram.com:443\n"
     ]
    },
    {
     "name": "stdout",
     "output_type": "stream",
     "text": [
      "unfollowing iscah.ttt\n"
     ]
    },
    {
     "name": "stderr",
     "output_type": "stream",
     "text": [
      "DEBUG:urllib3.connectionpool:https://www.instagram.com:443 \"POST /web/friendships/28629892445/unfollow/ HTTP/1.1\" 200 15\n",
      "DEBUG:urllib3.connectionpool:Starting new HTTPS connection (1): www.instagram.com:443\n"
     ]
    },
    {
     "name": "stdout",
     "output_type": "stream",
     "text": [
      "unfollowing unstreetweer\n"
     ]
    },
    {
     "name": "stderr",
     "output_type": "stream",
     "text": [
      "DEBUG:urllib3.connectionpool:https://www.instagram.com:443 \"POST /web/friendships/7473725385/unfollow/ HTTP/1.1\" 200 15\n",
      "DEBUG:urllib3.connectionpool:Starting new HTTPS connection (1): www.instagram.com:443\n"
     ]
    },
    {
     "name": "stdout",
     "output_type": "stream",
     "text": [
      "unfollowing joe_sharp\n"
     ]
    },
    {
     "name": "stderr",
     "output_type": "stream",
     "text": [
      "DEBUG:urllib3.connectionpool:https://www.instagram.com:443 \"POST /web/friendships/4469738974/unfollow/ HTTP/1.1\" 200 15\n",
      "DEBUG:urllib3.connectionpool:Starting new HTTPS connection (1): www.instagram.com:443\n"
     ]
    },
    {
     "name": "stdout",
     "output_type": "stream",
     "text": [
      "unfollowing ccwadeprod\n"
     ]
    },
    {
     "name": "stderr",
     "output_type": "stream",
     "text": [
      "DEBUG:urllib3.connectionpool:https://www.instagram.com:443 \"POST /web/friendships/6158097471/unfollow/ HTTP/1.1\" 200 15\n",
      "DEBUG:urllib3.connectionpool:Starting new HTTPS connection (1): www.instagram.com:443\n"
     ]
    },
    {
     "name": "stdout",
     "output_type": "stream",
     "text": [
      "unfollowing l43.347\n"
     ]
    },
    {
     "name": "stderr",
     "output_type": "stream",
     "text": [
      "DEBUG:urllib3.connectionpool:https://www.instagram.com:443 \"POST /web/friendships/4027796632/unfollow/ HTTP/1.1\" 200 15\n",
      "DEBUG:urllib3.connectionpool:Starting new HTTPS connection (1): www.instagram.com:443\n",
      "DEBUG:urllib3.connectionpool:https://www.instagram.com:443 \"POST /web/friendships/5457396831/unfollow/ HTTP/1.1\" 429 56\n"
     ]
    },
    {
     "name": "stdout",
     "output_type": "stream",
     "text": [
      "unfollowing stretewear\n",
      "Cannot unfollow stretewear waiting 10 minutes\n"
     ]
    },
    {
     "name": "stderr",
     "output_type": "stream",
     "text": [
      "DEBUG:urllib3.connectionpool:Starting new HTTPS connection (1): www.instagram.com:443\n",
      "DEBUG:urllib3.connectionpool:https://www.instagram.com:443 \"POST /web/friendships/5457396831/unfollow/ HTTP/1.1\" 200 15\n",
      "DEBUG:urllib3.connectionpool:Starting new HTTPS connection (1): www.instagram.com:443\n"
     ]
    },
    {
     "name": "stdout",
     "output_type": "stream",
     "text": [
      "unfollowing __________________sh00kqueen\n"
     ]
    },
    {
     "name": "stderr",
     "output_type": "stream",
     "text": [
      "DEBUG:urllib3.connectionpool:https://www.instagram.com:443 \"POST /web/friendships/46680884204/unfollow/ HTTP/1.1\" 200 15\n",
      "DEBUG:urllib3.connectionpool:Starting new HTTPS connection (1): www.instagram.com:443\n"
     ]
    },
    {
     "name": "stdout",
     "output_type": "stream",
     "text": [
      "unfollowing lhostttt\n"
     ]
    },
    {
     "name": "stderr",
     "output_type": "stream",
     "text": [
      "DEBUG:urllib3.connectionpool:https://www.instagram.com:443 \"POST /web/friendships/49509353840/unfollow/ HTTP/1.1\" 200 15\n",
      "DEBUG:urllib3.connectionpool:Starting new HTTPS connection (1): www.instagram.com:443\n"
     ]
    },
    {
     "name": "stdout",
     "output_type": "stream",
     "text": [
      "unfollowing pariskateconneries\n"
     ]
    },
    {
     "name": "stderr",
     "output_type": "stream",
     "text": [
      "DEBUG:urllib3.connectionpool:https://www.instagram.com:443 \"POST /web/friendships/25529519106/unfollow/ HTTP/1.1\" 200 15\n",
      "DEBUG:urllib3.connectionpool:Starting new HTTPS connection (1): www.instagram.com:443\n"
     ]
    },
    {
     "name": "stdout",
     "output_type": "stream",
     "text": [
      "unfollowing _hyp___\n"
     ]
    },
    {
     "name": "stderr",
     "output_type": "stream",
     "text": [
      "DEBUG:urllib3.connectionpool:https://www.instagram.com:443 \"POST /web/friendships/6402165513/unfollow/ HTTP/1.1\" 200 15\n",
      "DEBUG:urllib3.connectionpool:Starting new HTTPS connection (1): www.instagram.com:443\n"
     ]
    },
    {
     "name": "stdout",
     "output_type": "stream",
     "text": [
      "unfollowing ___pa_ra___\n"
     ]
    },
    {
     "name": "stderr",
     "output_type": "stream",
     "text": [
      "DEBUG:urllib3.connectionpool:https://www.instagram.com:443 \"POST /web/friendships/2249496257/unfollow/ HTTP/1.1\" 200 15\n",
      "DEBUG:urllib3.connectionpool:Starting new HTTPS connection (1): www.instagram.com:443\n"
     ]
    },
    {
     "name": "stdout",
     "output_type": "stream",
     "text": [
      "unfollowing lauraperezfanjul\n"
     ]
    },
    {
     "name": "stderr",
     "output_type": "stream",
     "text": [
      "DEBUG:urllib3.connectionpool:https://www.instagram.com:443 \"POST /web/friendships/5888408920/unfollow/ HTTP/1.1\" 200 15\n",
      "DEBUG:urllib3.connectionpool:Starting new HTTPS connection (1): www.instagram.com:443\n"
     ]
    },
    {
     "name": "stdout",
     "output_type": "stream",
     "text": [
      "unfollowing ange__mathieu\n"
     ]
    },
    {
     "name": "stderr",
     "output_type": "stream",
     "text": [
      "DEBUG:urllib3.connectionpool:https://www.instagram.com:443 \"POST /web/friendships/29702968371/unfollow/ HTTP/1.1\" 200 15\n",
      "DEBUG:urllib3.connectionpool:Starting new HTTPS connection (1): www.instagram.com:443\n"
     ]
    },
    {
     "name": "stdout",
     "output_type": "stream",
     "text": [
      "unfollowing estellenattika\n"
     ]
    },
    {
     "name": "stderr",
     "output_type": "stream",
     "text": [
      "DEBUG:urllib3.connectionpool:https://www.instagram.com:443 \"POST /web/friendships/512995404/unfollow/ HTTP/1.1\" 200 15\n",
      "DEBUG:urllib3.connectionpool:Starting new HTTPS connection (1): www.instagram.com:443\n"
     ]
    },
    {
     "name": "stdout",
     "output_type": "stream",
     "text": [
      "unfollowing r_97_next\n"
     ]
    },
    {
     "name": "stderr",
     "output_type": "stream",
     "text": [
      "DEBUG:urllib3.connectionpool:https://www.instagram.com:443 \"POST /web/friendships/6869775527/unfollow/ HTTP/1.1\" 200 15\n",
      "DEBUG:urllib3.connectionpool:Starting new HTTPS connection (1): www.instagram.com:443\n"
     ]
    },
    {
     "name": "stdout",
     "output_type": "stream",
     "text": [
      "unfollowing instafripswiss\n"
     ]
    },
    {
     "name": "stderr",
     "output_type": "stream",
     "text": [
      "DEBUG:urllib3.connectionpool:https://www.instagram.com:443 \"POST /web/friendships/273968752/unfollow/ HTTP/1.1\" 200 15\n",
      "DEBUG:urllib3.connectionpool:Starting new HTTPS connection (1): www.instagram.com:443\n"
     ]
    },
    {
     "name": "stdout",
     "output_type": "stream",
     "text": [
      "unfollowing blackomink\n"
     ]
    },
    {
     "name": "stderr",
     "output_type": "stream",
     "text": [
      "DEBUG:urllib3.connectionpool:https://www.instagram.com:443 \"POST /web/friendships/52102830570/unfollow/ HTTP/1.1\" 200 15\n",
      "DEBUG:urllib3.connectionpool:Starting new HTTPS connection (1): www.instagram.com:443\n"
     ]
    },
    {
     "name": "stdout",
     "output_type": "stream",
     "text": [
      "unfollowing likkkili\n"
     ]
    },
    {
     "name": "stderr",
     "output_type": "stream",
     "text": [
      "DEBUG:urllib3.connectionpool:https://www.instagram.com:443 \"POST /web/friendships/20781221631/unfollow/ HTTP/1.1\" 200 15\n",
      "DEBUG:urllib3.connectionpool:Starting new HTTPS connection (1): www.instagram.com:443\n"
     ]
    },
    {
     "name": "stdout",
     "output_type": "stream",
     "text": [
      "unfollowing mojo.jojo.tattoo\n"
     ]
    },
    {
     "name": "stderr",
     "output_type": "stream",
     "text": [
      "DEBUG:urllib3.connectionpool:https://www.instagram.com:443 \"POST /web/friendships/7002624725/unfollow/ HTTP/1.1\" 200 15\n",
      "DEBUG:urllib3.connectionpool:Starting new HTTPS connection (1): www.instagram.com:443\n"
     ]
    },
    {
     "name": "stdout",
     "output_type": "stream",
     "text": [
      "unfollowing josephdennis_\n"
     ]
    },
    {
     "name": "stderr",
     "output_type": "stream",
     "text": [
      "DEBUG:urllib3.connectionpool:https://www.instagram.com:443 \"POST /web/friendships/832114413/unfollow/ HTTP/1.1\" 200 15\n",
      "DEBUG:urllib3.connectionpool:Starting new HTTPS connection (1): www.instagram.com:443\n"
     ]
    },
    {
     "name": "stdout",
     "output_type": "stream",
     "text": [
      "unfollowing kaleblaw\n"
     ]
    },
    {
     "name": "stderr",
     "output_type": "stream",
     "text": [
      "DEBUG:urllib3.connectionpool:https://www.instagram.com:443 \"POST /web/friendships/4181980762/unfollow/ HTTP/1.1\" 200 15\n",
      "DEBUG:urllib3.connectionpool:Starting new HTTPS connection (1): www.instagram.com:443\n",
      "DEBUG:urllib3.connectionpool:https://www.instagram.com:443 \"POST /web/friendships/5924955033/unfollow/ HTTP/1.1\" 429 56\n"
     ]
    },
    {
     "name": "stdout",
     "output_type": "stream",
     "text": [
      "unfollowing schreierjohann\n",
      "Cannot unfollow schreierjohann waiting 10 minutes\n"
     ]
    },
    {
     "name": "stderr",
     "output_type": "stream",
     "text": [
      "DEBUG:urllib3.connectionpool:Starting new HTTPS connection (1): www.instagram.com:443\n",
      "DEBUG:urllib3.connectionpool:https://www.instagram.com:443 \"POST /web/friendships/5924955033/unfollow/ HTTP/1.1\" 200 15\n",
      "DEBUG:urllib3.connectionpool:Starting new HTTPS connection (1): www.instagram.com:443\n"
     ]
    },
    {
     "name": "stdout",
     "output_type": "stream",
     "text": [
      "unfollowing jonesfromvenus\n"
     ]
    },
    {
     "name": "stderr",
     "output_type": "stream",
     "text": [
      "DEBUG:urllib3.connectionpool:https://www.instagram.com:443 \"POST /web/friendships/3072741530/unfollow/ HTTP/1.1\" 200 15\n",
      "DEBUG:urllib3.connectionpool:Starting new HTTPS connection (1): www.instagram.com:443\n"
     ]
    },
    {
     "name": "stdout",
     "output_type": "stream",
     "text": [
      "unfollowing kitatts\n"
     ]
    },
    {
     "name": "stderr",
     "output_type": "stream",
     "text": [
      "DEBUG:urllib3.connectionpool:https://www.instagram.com:443 \"POST /web/friendships/19272590955/unfollow/ HTTP/1.1\" 200 15\n",
      "DEBUG:urllib3.connectionpool:Starting new HTTPS connection (1): www.instagram.com:443\n"
     ]
    },
    {
     "name": "stdout",
     "output_type": "stream",
     "text": [
      "unfollowing rosa.tattoos\n"
     ]
    },
    {
     "name": "stderr",
     "output_type": "stream",
     "text": [
      "DEBUG:urllib3.connectionpool:https://www.instagram.com:443 \"POST /web/friendships/6793501336/unfollow/ HTTP/1.1\" 200 15\n",
      "DEBUG:urllib3.connectionpool:Starting new HTTPS connection (1): www.instagram.com:443\n"
     ]
    },
    {
     "name": "stdout",
     "output_type": "stream",
     "text": [
      "unfollowing antoinelomepal\n"
     ]
    },
    {
     "name": "stderr",
     "output_type": "stream",
     "text": [
      "DEBUG:urllib3.connectionpool:https://www.instagram.com:443 \"POST /web/friendships/1467681985/unfollow/ HTTP/1.1\" 200 15\n"
     ]
    },
    {
     "name": "stdout",
     "output_type": "stream",
     "text": [
      "unfollowing jacko.blythe\n"
     ]
    },
    {
     "name": "stderr",
     "output_type": "stream",
     "text": [
      "DEBUG:urllib3.connectionpool:Starting new HTTPS connection (1): www.instagram.com:443\n",
      "DEBUG:urllib3.connectionpool:https://www.instagram.com:443 \"POST /web/friendships/440203844/unfollow/ HTTP/1.1\" 200 15\n",
      "DEBUG:urllib3.connectionpool:Starting new HTTPS connection (1): www.instagram.com:443\n"
     ]
    },
    {
     "name": "stdout",
     "output_type": "stream",
     "text": [
      "unfollowing hecticwrld\n"
     ]
    },
    {
     "name": "stderr",
     "output_type": "stream",
     "text": [
      "DEBUG:urllib3.connectionpool:https://www.instagram.com:443 \"POST /web/friendships/10868948060/unfollow/ HTTP/1.1\" 200 15\n",
      "DEBUG:urllib3.connectionpool:Starting new HTTPS connection (1): www.instagram.com:443\n"
     ]
    },
    {
     "name": "stdout",
     "output_type": "stream",
     "text": [
      "unfollowing themathematics_in\n"
     ]
    },
    {
     "name": "stderr",
     "output_type": "stream",
     "text": [
      "DEBUG:urllib3.connectionpool:https://www.instagram.com:443 \"POST /web/friendships/11790390330/unfollow/ HTTP/1.1\" 200 15\n",
      "DEBUG:urllib3.connectionpool:Starting new HTTPS connection (1): www.instagram.com:443\n"
     ]
    },
    {
     "name": "stdout",
     "output_type": "stream",
     "text": [
      "unfollowing its.fashion.bro\n"
     ]
    },
    {
     "name": "stderr",
     "output_type": "stream",
     "text": [
      "DEBUG:urllib3.connectionpool:https://www.instagram.com:443 \"POST /web/friendships/8262298632/unfollow/ HTTP/1.1\" 200 15\n",
      "DEBUG:urllib3.connectionpool:Starting new HTTPS connection (1): www.instagram.com:443\n"
     ]
    },
    {
     "name": "stdout",
     "output_type": "stream",
     "text": [
      "unfollowing tcoprod\n"
     ]
    },
    {
     "name": "stderr",
     "output_type": "stream",
     "text": [
      "DEBUG:urllib3.connectionpool:https://www.instagram.com:443 \"POST /web/friendships/637849180/unfollow/ HTTP/1.1\" 200 15\n",
      "DEBUG:urllib3.connectionpool:Starting new HTTPS connection (1): www.instagram.com:443\n"
     ]
    },
    {
     "name": "stdout",
     "output_type": "stream",
     "text": [
      "unfollowing char0._\n"
     ]
    },
    {
     "name": "stderr",
     "output_type": "stream",
     "text": [
      "DEBUG:urllib3.connectionpool:https://www.instagram.com:443 \"POST /web/friendships/284975438/unfollow/ HTTP/1.1\" 200 15\n",
      "DEBUG:urllib3.connectionpool:Starting new HTTPS connection (1): www.instagram.com:443\n"
     ]
    },
    {
     "name": "stdout",
     "output_type": "stream",
     "text": [
      "unfollowing julienea\n"
     ]
    },
    {
     "name": "stderr",
     "output_type": "stream",
     "text": [
      "DEBUG:urllib3.connectionpool:https://www.instagram.com:443 \"POST /web/friendships/177922314/unfollow/ HTTP/1.1\" 200 15\n",
      "DEBUG:urllib3.connectionpool:Starting new HTTPS connection (1): www.instagram.com:443\n"
     ]
    },
    {
     "name": "stdout",
     "output_type": "stream",
     "text": [
      "unfollowing anabarva\n"
     ]
    },
    {
     "name": "stderr",
     "output_type": "stream",
     "text": [
      "DEBUG:urllib3.connectionpool:https://www.instagram.com:443 \"POST /web/friendships/33060675490/unfollow/ HTTP/1.1\" 200 15\n",
      "DEBUG:urllib3.connectionpool:Starting new HTTPS connection (1): www.instagram.com:443\n"
     ]
    },
    {
     "name": "stdout",
     "output_type": "stream",
     "text": [
      "unfollowing defectcox\n"
     ]
    },
    {
     "name": "stderr",
     "output_type": "stream",
     "text": [
      "DEBUG:urllib3.connectionpool:https://www.instagram.com:443 \"POST /web/friendships/211187493/unfollow/ HTTP/1.1\" 200 15\n",
      "DEBUG:urllib3.connectionpool:Starting new HTTPS connection (1): www.instagram.com:443\n"
     ]
    },
    {
     "name": "stdout",
     "output_type": "stream",
     "text": [
      "unfollowing ugly.tatts\n"
     ]
    },
    {
     "name": "stderr",
     "output_type": "stream",
     "text": [
      "DEBUG:urllib3.connectionpool:https://www.instagram.com:443 \"POST /web/friendships/6293451862/unfollow/ HTTP/1.1\" 200 15\n",
      "DEBUG:urllib3.connectionpool:Starting new HTTPS connection (1): www.instagram.com:443\n"
     ]
    },
    {
     "name": "stdout",
     "output_type": "stream",
     "text": [
      "unfollowing le.venart\n"
     ]
    },
    {
     "name": "stderr",
     "output_type": "stream",
     "text": [
      "DEBUG:urllib3.connectionpool:https://www.instagram.com:443 \"POST /web/friendships/28175164320/unfollow/ HTTP/1.1\" 200 15\n",
      "DEBUG:urllib3.connectionpool:Starting new HTTPS connection (1): www.instagram.com:443\n",
      "DEBUG:urllib3.connectionpool:https://www.instagram.com:443 \"POST /web/friendships/28755124124/unfollow/ HTTP/1.1\" 429 56\n"
     ]
    },
    {
     "name": "stdout",
     "output_type": "stream",
     "text": [
      "unfollowing frip.ch\n",
      "Cannot unfollow frip.ch waiting 10 minutes\n"
     ]
    },
    {
     "name": "stderr",
     "output_type": "stream",
     "text": [
      "DEBUG:urllib3.connectionpool:Starting new HTTPS connection (1): www.instagram.com:443\n",
      "DEBUG:urllib3.connectionpool:https://www.instagram.com:443 \"POST /web/friendships/28755124124/unfollow/ HTTP/1.1\" 200 15\n",
      "DEBUG:urllib3.connectionpool:Starting new HTTPS connection (1): www.instagram.com:443\n"
     ]
    },
    {
     "name": "stdout",
     "output_type": "stream",
     "text": [
      "unfollowing curtain.kob\n"
     ]
    },
    {
     "name": "stderr",
     "output_type": "stream",
     "text": [
      "DEBUG:urllib3.connectionpool:https://www.instagram.com:443 \"POST /web/friendships/10838976329/unfollow/ HTTP/1.1\" 200 15\n",
      "DEBUG:urllib3.connectionpool:Starting new HTTPS connection (1): www.instagram.com:443\n"
     ]
    },
    {
     "name": "stdout",
     "output_type": "stream",
     "text": [
      "unfollowing legrandmarchede\n"
     ]
    },
    {
     "name": "stderr",
     "output_type": "stream",
     "text": [
      "DEBUG:urllib3.connectionpool:https://www.instagram.com:443 \"POST /web/friendships/2932187519/unfollow/ HTTP/1.1\" 200 15\n",
      "DEBUG:urllib3.connectionpool:Starting new HTTPS connection (1): www.instagram.com:443\n"
     ]
    },
    {
     "name": "stdout",
     "output_type": "stream",
     "text": [
      "unfollowing poornfoodbilingue\n"
     ]
    },
    {
     "name": "stderr",
     "output_type": "stream",
     "text": [
      "DEBUG:urllib3.connectionpool:https://www.instagram.com:443 \"POST /web/friendships/14112288314/unfollow/ HTTP/1.1\" 200 15\n",
      "DEBUG:urllib3.connectionpool:Starting new HTTPS connection (1): www.instagram.com:443\n"
     ]
    },
    {
     "name": "stdout",
     "output_type": "stream",
     "text": [
      "unfollowing fdp_cms\n"
     ]
    },
    {
     "name": "stderr",
     "output_type": "stream",
     "text": [
      "DEBUG:urllib3.connectionpool:https://www.instagram.com:443 \"POST /web/friendships/13310870470/unfollow/ HTTP/1.1\" 200 15\n",
      "DEBUG:urllib3.connectionpool:Starting new HTTPS connection (1): www.instagram.com:443\n"
     ]
    },
    {
     "name": "stdout",
     "output_type": "stream",
     "text": [
      "unfollowing streetstyleseason\n"
     ]
    },
    {
     "name": "stderr",
     "output_type": "stream",
     "text": [
      "DEBUG:urllib3.connectionpool:https://www.instagram.com:443 \"POST /web/friendships/3528941057/unfollow/ HTTP/1.1\" 200 15\n",
      "DEBUG:urllib3.connectionpool:Starting new HTTPS connection (1): www.instagram.com:443\n"
     ]
    },
    {
     "name": "stdout",
     "output_type": "stream",
     "text": [
      "unfollowing nielshowroom\n"
     ]
    },
    {
     "name": "stderr",
     "output_type": "stream",
     "text": [
      "DEBUG:urllib3.connectionpool:https://www.instagram.com:443 \"POST /web/friendships/4346936006/unfollow/ HTTP/1.1\" 200 15\n",
      "DEBUG:urllib3.connectionpool:Starting new HTTPS connection (1): www.instagram.com:443\n"
     ]
    },
    {
     "name": "stdout",
     "output_type": "stream",
     "text": [
      "unfollowing alliecottrill\n"
     ]
    },
    {
     "name": "stderr",
     "output_type": "stream",
     "text": [
      "DEBUG:urllib3.connectionpool:https://www.instagram.com:443 \"POST /web/friendships/10020328/unfollow/ HTTP/1.1\" 200 15\n",
      "DEBUG:urllib3.connectionpool:Starting new HTTPS connection (1): www.instagram.com:443\n"
     ]
    },
    {
     "name": "stdout",
     "output_type": "stream",
     "text": [
      "unfollowing h_a_r_z_5\n"
     ]
    },
    {
     "name": "stderr",
     "output_type": "stream",
     "text": [
      "DEBUG:urllib3.connectionpool:https://www.instagram.com:443 \"POST /web/friendships/11944693598/unfollow/ HTTP/1.1\" 200 15\n",
      "DEBUG:urllib3.connectionpool:Starting new HTTPS connection (1): www.instagram.com:443\n"
     ]
    },
    {
     "name": "stdout",
     "output_type": "stream",
     "text": [
      "unfollowing shannonkelly.ch\n"
     ]
    },
    {
     "name": "stderr",
     "output_type": "stream",
     "text": [
      "DEBUG:urllib3.connectionpool:https://www.instagram.com:443 \"POST /web/friendships/12572696069/unfollow/ HTTP/1.1\" 200 15\n",
      "DEBUG:urllib3.connectionpool:Starting new HTTPS connection (1): www.instagram.com:443\n"
     ]
    },
    {
     "name": "stdout",
     "output_type": "stream",
     "text": [
      "unfollowing maniaklausanne\n"
     ]
    },
    {
     "name": "stderr",
     "output_type": "stream",
     "text": [
      "DEBUG:urllib3.connectionpool:https://www.instagram.com:443 \"POST /web/friendships/1443911453/unfollow/ HTTP/1.1\" 200 15\n",
      "DEBUG:urllib3.connectionpool:Starting new HTTPS connection (1): www.instagram.com:443\n"
     ]
    },
    {
     "name": "stdout",
     "output_type": "stream",
     "text": [
      "unfollowing kristofski\n"
     ]
    },
    {
     "name": "stderr",
     "output_type": "stream",
     "text": [
      "DEBUG:urllib3.connectionpool:https://www.instagram.com:443 \"POST /web/friendships/968250/unfollow/ HTTP/1.1\" 200 15\n",
      "DEBUG:urllib3.connectionpool:Starting new HTTPS connection (1): www.instagram.com:443\n"
     ]
    },
    {
     "name": "stdout",
     "output_type": "stream",
     "text": [
      "unfollowing sprotttom\n"
     ]
    },
    {
     "name": "stderr",
     "output_type": "stream",
     "text": [
      "DEBUG:urllib3.connectionpool:https://www.instagram.com:443 \"POST /web/friendships/8100334474/unfollow/ HTTP/1.1\" 200 15\n",
      "DEBUG:urllib3.connectionpool:Starting new HTTPS connection (1): www.instagram.com:443\n"
     ]
    },
    {
     "name": "stdout",
     "output_type": "stream",
     "text": [
      "unfollowing classystreetwears\n"
     ]
    },
    {
     "name": "stderr",
     "output_type": "stream",
     "text": [
      "DEBUG:urllib3.connectionpool:https://www.instagram.com:443 \"POST /web/friendships/5908903235/unfollow/ HTTP/1.1\" 200 15\n",
      "DEBUG:urllib3.connectionpool:Starting new HTTPS connection (1): www.instagram.com:443\n"
     ]
    },
    {
     "name": "stdout",
     "output_type": "stream",
     "text": [
      "unfollowing wastedparisvintage\n"
     ]
    },
    {
     "name": "stderr",
     "output_type": "stream",
     "text": [
      "DEBUG:urllib3.connectionpool:https://www.instagram.com:443 \"POST /web/friendships/9272982640/unfollow/ HTTP/1.1\" 200 15\n",
      "DEBUG:urllib3.connectionpool:Starting new HTTPS connection (1): www.instagram.com:443\n"
     ]
    },
    {
     "name": "stdout",
     "output_type": "stream",
     "text": [
      "unfollowing cyclope\n"
     ]
    },
    {
     "name": "stderr",
     "output_type": "stream",
     "text": [
      "DEBUG:urllib3.connectionpool:https://www.instagram.com:443 \"POST /web/friendships/3128360457/unfollow/ HTTP/1.1\" 200 15\n",
      "DEBUG:urllib3.connectionpool:Starting new HTTPS connection (1): www.instagram.com:443\n",
      "DEBUG:urllib3.connectionpool:https://www.instagram.com:443 \"POST /web/friendships/1168185668/unfollow/ HTTP/1.1\" 429 56\n"
     ]
    },
    {
     "name": "stdout",
     "output_type": "stream",
     "text": [
      "unfollowing agdawa\n",
      "Cannot unfollow agdawa waiting 10 minutes\n"
     ]
    },
    {
     "name": "stderr",
     "output_type": "stream",
     "text": [
      "DEBUG:urllib3.connectionpool:Starting new HTTPS connection (1): www.instagram.com:443\n",
      "DEBUG:urllib3.connectionpool:https://www.instagram.com:443 \"POST /web/friendships/1168185668/unfollow/ HTTP/1.1\" 200 15\n",
      "DEBUG:urllib3.connectionpool:Starting new HTTPS connection (1): www.instagram.com:443\n"
     ]
    },
    {
     "name": "stdout",
     "output_type": "stream",
     "text": [
      "unfollowing sntblnc\n"
     ]
    },
    {
     "name": "stderr",
     "output_type": "stream",
     "text": [
      "DEBUG:urllib3.connectionpool:https://www.instagram.com:443 \"POST /web/friendships/14334800688/unfollow/ HTTP/1.1\" 200 15\n",
      "DEBUG:urllib3.connectionpool:Starting new HTTPS connection (1): www.instagram.com:443\n"
     ]
    },
    {
     "name": "stdout",
     "output_type": "stream",
     "text": [
      "unfollowing technomermaidz\n"
     ]
    },
    {
     "name": "stderr",
     "output_type": "stream",
     "text": [
      "DEBUG:urllib3.connectionpool:https://www.instagram.com:443 \"POST /web/friendships/733793069/unfollow/ HTTP/1.1\" 200 15\n",
      "DEBUG:urllib3.connectionpool:Starting new HTTPS connection (1): www.instagram.com:443\n"
     ]
    },
    {
     "name": "stdout",
     "output_type": "stream",
     "text": [
      "unfollowing design_by_kieran\n"
     ]
    },
    {
     "name": "stderr",
     "output_type": "stream",
     "text": [
      "DEBUG:urllib3.connectionpool:https://www.instagram.com:443 \"POST /web/friendships/18493985386/unfollow/ HTTP/1.1\" 200 15\n",
      "DEBUG:urllib3.connectionpool:Starting new HTTPS connection (1): www.instagram.com:443\n"
     ]
    },
    {
     "name": "stdout",
     "output_type": "stream",
     "text": [
      "unfollowing mermanesto\n"
     ]
    },
    {
     "name": "stderr",
     "output_type": "stream",
     "text": [
      "DEBUG:urllib3.connectionpool:https://www.instagram.com:443 \"POST /web/friendships/15177565254/unfollow/ HTTP/1.1\" 200 15\n",
      "DEBUG:urllib3.connectionpool:Starting new HTTPS connection (1): www.instagram.com:443\n"
     ]
    },
    {
     "name": "stdout",
     "output_type": "stream",
     "text": [
      "unfollowing knifeson\n"
     ]
    },
    {
     "name": "stderr",
     "output_type": "stream",
     "text": [
      "DEBUG:urllib3.connectionpool:https://www.instagram.com:443 \"POST /web/friendships/828445/unfollow/ HTTP/1.1\" 200 15\n",
      "DEBUG:urllib3.connectionpool:Starting new HTTPS connection (1): www.instagram.com:443\n"
     ]
    },
    {
     "name": "stdout",
     "output_type": "stream",
     "text": [
      "unfollowing editions_tanibis\n"
     ]
    },
    {
     "name": "stderr",
     "output_type": "stream",
     "text": [
      "DEBUG:urllib3.connectionpool:https://www.instagram.com:443 \"POST /web/friendships/8650149585/unfollow/ HTTP/1.1\" 200 15\n",
      "DEBUG:urllib3.connectionpool:Starting new HTTPS connection (1): www.instagram.com:443\n"
     ]
    },
    {
     "name": "stdout",
     "output_type": "stream",
     "text": [
      "unfollowing taxikebab\n"
     ]
    },
    {
     "name": "stderr",
     "output_type": "stream",
     "text": [
      "DEBUG:urllib3.connectionpool:https://www.instagram.com:443 \"POST /web/friendships/7047470858/unfollow/ HTTP/1.1\" 200 15\n"
     ]
    },
    {
     "name": "stdout",
     "output_type": "stream",
     "text": [
      "unfollowing alienboytattoo\n"
     ]
    },
    {
     "name": "stderr",
     "output_type": "stream",
     "text": [
      "DEBUG:urllib3.connectionpool:Starting new HTTPS connection (1): www.instagram.com:443\n",
      "DEBUG:urllib3.connectionpool:https://www.instagram.com:443 \"POST /web/friendships/203350021/unfollow/ HTTP/1.1\" 200 15\n",
      "DEBUG:urllib3.connectionpool:Starting new HTTPS connection (1): www.instagram.com:443\n"
     ]
    },
    {
     "name": "stdout",
     "output_type": "stream",
     "text": [
      "unfollowing point__76\n"
     ]
    },
    {
     "name": "stderr",
     "output_type": "stream",
     "text": [
      "DEBUG:urllib3.connectionpool:https://www.instagram.com:443 \"POST /web/friendships/6809907337/unfollow/ HTTP/1.1\" 200 15\n",
      "DEBUG:urllib3.connectionpool:Starting new HTTPS connection (1): www.instagram.com:443\n"
     ]
    },
    {
     "name": "stdout",
     "output_type": "stream",
     "text": [
      "unfollowing bigbang.cdf\n"
     ]
    },
    {
     "name": "stderr",
     "output_type": "stream",
     "text": [
      "DEBUG:urllib3.connectionpool:https://www.instagram.com:443 \"POST /web/friendships/45809177475/unfollow/ HTTP/1.1\" 200 15\n",
      "DEBUG:urllib3.connectionpool:Starting new HTTPS connection (1): www.instagram.com:443\n"
     ]
    },
    {
     "name": "stdout",
     "output_type": "stream",
     "text": [
      "unfollowing maccatattoo\n"
     ]
    },
    {
     "name": "stderr",
     "output_type": "stream",
     "text": [
      "DEBUG:urllib3.connectionpool:https://www.instagram.com:443 \"POST /web/friendships/10015187555/unfollow/ HTTP/1.1\" 200 15\n",
      "DEBUG:urllib3.connectionpool:Starting new HTTPS connection (1): www.instagram.com:443\n"
     ]
    },
    {
     "name": "stdout",
     "output_type": "stream",
     "text": [
      "unfollowing lokman.debabeche\n"
     ]
    },
    {
     "name": "stderr",
     "output_type": "stream",
     "text": [
      "DEBUG:urllib3.connectionpool:https://www.instagram.com:443 \"POST /web/friendships/299681114/unfollow/ HTTP/1.1\" 200 15\n",
      "DEBUG:urllib3.connectionpool:Starting new HTTPS connection (1): www.instagram.com:443\n"
     ]
    },
    {
     "name": "stdout",
     "output_type": "stream",
     "text": [
      "unfollowing dyl.hardin\n"
     ]
    },
    {
     "name": "stderr",
     "output_type": "stream",
     "text": [
      "DEBUG:urllib3.connectionpool:https://www.instagram.com:443 \"POST /web/friendships/703405611/unfollow/ HTTP/1.1\" 200 15\n",
      "DEBUG:urllib3.connectionpool:Starting new HTTPS connection (1): www.instagram.com:443\n"
     ]
    },
    {
     "name": "stdout",
     "output_type": "stream",
     "text": [
      "unfollowing kapkap.tattoo\n"
     ]
    },
    {
     "name": "stderr",
     "output_type": "stream",
     "text": [
      "DEBUG:urllib3.connectionpool:https://www.instagram.com:443 \"POST /web/friendships/48321764901/unfollow/ HTTP/1.1\" 200 15\n",
      "DEBUG:urllib3.connectionpool:Starting new HTTPS connection (1): www.instagram.com:443\n"
     ]
    },
    {
     "name": "stdout",
     "output_type": "stream",
     "text": [
      "unfollowing happybowl.cortaillod\n"
     ]
    },
    {
     "name": "stderr",
     "output_type": "stream",
     "text": [
      "DEBUG:urllib3.connectionpool:https://www.instagram.com:443 \"POST /web/friendships/41477426191/unfollow/ HTTP/1.1\" 200 15\n",
      "DEBUG:urllib3.connectionpool:Starting new HTTPS connection (1): www.instagram.com:443\n",
      "DEBUG:urllib3.connectionpool:https://www.instagram.com:443 \"POST /web/friendships/7287375281/unfollow/ HTTP/1.1\" 429 56\n"
     ]
    },
    {
     "name": "stdout",
     "output_type": "stream",
     "text": [
      "unfollowing dirtygraphik\n",
      "Cannot unfollow dirtygraphik waiting 10 minutes\n"
     ]
    },
    {
     "name": "stderr",
     "output_type": "stream",
     "text": [
      "DEBUG:urllib3.connectionpool:Starting new HTTPS connection (1): www.instagram.com:443\n",
      "DEBUG:urllib3.connectionpool:https://www.instagram.com:443 \"POST /web/friendships/7287375281/unfollow/ HTTP/1.1\" 200 15\n",
      "DEBUG:urllib3.connectionpool:Starting new HTTPS connection (1): www.instagram.com:443\n"
     ]
    },
    {
     "name": "stdout",
     "output_type": "stream",
     "text": [
      "unfollowing karateknuchel\n"
     ]
    },
    {
     "name": "stderr",
     "output_type": "stream",
     "text": [
      "DEBUG:urllib3.connectionpool:https://www.instagram.com:443 \"POST /web/friendships/331186709/unfollow/ HTTP/1.1\" 200 15\n",
      "DEBUG:urllib3.connectionpool:Starting new HTTPS connection (1): www.instagram.com:443\n"
     ]
    },
    {
     "name": "stdout",
     "output_type": "stream",
     "text": [
      "unfollowing jaronselects\n"
     ]
    },
    {
     "name": "stderr",
     "output_type": "stream",
     "text": [
      "DEBUG:urllib3.connectionpool:https://www.instagram.com:443 \"POST /web/friendships/6529543958/unfollow/ HTTP/1.1\" 200 15\n",
      "DEBUG:urllib3.connectionpool:Starting new HTTPS connection (1): www.instagram.com:443\n"
     ]
    },
    {
     "name": "stdout",
     "output_type": "stream",
     "text": [
      "unfollowing lesunscrew\n"
     ]
    },
    {
     "name": "stderr",
     "output_type": "stream",
     "text": [
      "DEBUG:urllib3.connectionpool:https://www.instagram.com:443 \"POST /web/friendships/1971080558/unfollow/ HTTP/1.1\" 200 15\n",
      "DEBUG:urllib3.connectionpool:Starting new HTTPS connection (1): www.instagram.com:443\n"
     ]
    },
    {
     "name": "stdout",
     "output_type": "stream",
     "text": [
      "unfollowing erikagrc\n"
     ]
    },
    {
     "name": "stderr",
     "output_type": "stream",
     "text": [
      "DEBUG:urllib3.connectionpool:https://www.instagram.com:443 \"POST /web/friendships/8704551125/unfollow/ HTTP/1.1\" 200 15\n",
      "DEBUG:urllib3.connectionpool:Starting new HTTPS connection (1): www.instagram.com:443\n"
     ]
    },
    {
     "name": "stdout",
     "output_type": "stream",
     "text": [
      "unfollowing to_ku_da\n"
     ]
    },
    {
     "name": "stderr",
     "output_type": "stream",
     "text": [
      "DEBUG:urllib3.connectionpool:https://www.instagram.com:443 \"POST /web/friendships/4360772780/unfollow/ HTTP/1.1\" 200 15\n",
      "DEBUG:urllib3.connectionpool:Starting new HTTPS connection (1): www.instagram.com:443\n"
     ]
    },
    {
     "name": "stdout",
     "output_type": "stream",
     "text": [
      "unfollowing faber_lawn\n"
     ]
    },
    {
     "name": "stderr",
     "output_type": "stream",
     "text": [
      "DEBUG:urllib3.connectionpool:https://www.instagram.com:443 \"POST /web/friendships/1621011697/unfollow/ HTTP/1.1\" 200 15\n",
      "DEBUG:urllib3.connectionpool:Starting new HTTPS connection (1): www.instagram.com:443\n"
     ]
    },
    {
     "name": "stdout",
     "output_type": "stream",
     "text": [
      "unfollowing ladeuxieme_shop\n"
     ]
    },
    {
     "name": "stderr",
     "output_type": "stream",
     "text": [
      "DEBUG:urllib3.connectionpool:https://www.instagram.com:443 \"POST /web/friendships/24303019187/unfollow/ HTTP/1.1\" 200 15\n",
      "DEBUG:urllib3.connectionpool:Starting new HTTPS connection (1): www.instagram.com:443\n"
     ]
    },
    {
     "name": "stdout",
     "output_type": "stream",
     "text": [
      "unfollowing smoothgrapes\n"
     ]
    },
    {
     "name": "stderr",
     "output_type": "stream",
     "text": [
      "DEBUG:urllib3.connectionpool:https://www.instagram.com:443 \"POST /web/friendships/296683517/unfollow/ HTTP/1.1\" 200 15\n",
      "DEBUG:urllib3.connectionpool:Starting new HTTPS connection (1): www.instagram.com:443\n"
     ]
    },
    {
     "name": "stdout",
     "output_type": "stream",
     "text": [
      "unfollowing utopica_events\n"
     ]
    },
    {
     "name": "stderr",
     "output_type": "stream",
     "text": [
      "DEBUG:urllib3.connectionpool:https://www.instagram.com:443 \"POST /web/friendships/34674088965/unfollow/ HTTP/1.1\" 200 15\n",
      "DEBUG:urllib3.connectionpool:Starting new HTTPS connection (1): www.instagram.com:443\n"
     ]
    },
    {
     "name": "stdout",
     "output_type": "stream",
     "text": [
      "unfollowing nemboy__\n"
     ]
    },
    {
     "name": "stderr",
     "output_type": "stream",
     "text": [
      "DEBUG:urllib3.connectionpool:https://www.instagram.com:443 \"POST /web/friendships/3080186987/unfollow/ HTTP/1.1\" 200 15\n",
      "DEBUG:urllib3.connectionpool:Starting new HTTPS connection (1): www.instagram.com:443\n"
     ]
    },
    {
     "name": "stdout",
     "output_type": "stream",
     "text": [
      "unfollowing danielpotential\n"
     ]
    },
    {
     "name": "stderr",
     "output_type": "stream",
     "text": [
      "DEBUG:urllib3.connectionpool:https://www.instagram.com:443 \"POST /web/friendships/1330214041/unfollow/ HTTP/1.1\" 200 15\n",
      "DEBUG:urllib3.connectionpool:Starting new HTTPS connection (1): www.instagram.com:443\n"
     ]
    },
    {
     "name": "stdout",
     "output_type": "stream",
     "text": [
      "unfollowing stillbornstyle\n"
     ]
    },
    {
     "name": "stderr",
     "output_type": "stream",
     "text": [
      "DEBUG:urllib3.connectionpool:https://www.instagram.com:443 \"POST /web/friendships/7052114228/unfollow/ HTTP/1.1\" 200 15\n",
      "DEBUG:urllib3.connectionpool:Starting new HTTPS connection (1): www.instagram.com:443\n"
     ]
    },
    {
     "name": "stdout",
     "output_type": "stream",
     "text": [
      "unfollowing vincentoutou\n"
     ]
    },
    {
     "name": "stderr",
     "output_type": "stream",
     "text": [
      "DEBUG:urllib3.connectionpool:https://www.instagram.com:443 \"POST /web/friendships/1376060533/unfollow/ HTTP/1.1\" 200 15\n"
     ]
    },
    {
     "name": "stdout",
     "output_type": "stream",
     "text": [
      "unfollowing trentinthetrees\n"
     ]
    },
    {
     "name": "stderr",
     "output_type": "stream",
     "text": [
      "DEBUG:urllib3.connectionpool:Starting new HTTPS connection (1): www.instagram.com:443\n",
      "DEBUG:urllib3.connectionpool:https://www.instagram.com:443 \"POST /web/friendships/255314616/unfollow/ HTTP/1.1\" 200 15\n",
      "DEBUG:urllib3.connectionpool:Starting new HTTPS connection (1): www.instagram.com:443\n"
     ]
    },
    {
     "name": "stdout",
     "output_type": "stream",
     "text": [
      "unfollowing everyday.supply\n"
     ]
    },
    {
     "name": "stderr",
     "output_type": "stream",
     "text": [
      "DEBUG:urllib3.connectionpool:https://www.instagram.com:443 \"POST /web/friendships/3261119521/unfollow/ HTTP/1.1\" 200 15\n",
      "DEBUG:urllib3.connectionpool:Starting new HTTPS connection (1): www.instagram.com:443\n"
     ]
    },
    {
     "name": "stdout",
     "output_type": "stream",
     "text": [
      "unfollowing hlvtiq\n"
     ]
    },
    {
     "name": "stderr",
     "output_type": "stream",
     "text": [
      "DEBUG:urllib3.connectionpool:https://www.instagram.com:443 \"POST /web/friendships/11543059492/unfollow/ HTTP/1.1\" 429 56\n"
     ]
    },
    {
     "name": "stdout",
     "output_type": "stream",
     "text": [
      "Cannot unfollow hlvtiq waiting 10 minutes\n"
     ]
    },
    {
     "name": "stderr",
     "output_type": "stream",
     "text": [
      "DEBUG:urllib3.connectionpool:Starting new HTTPS connection (1): www.instagram.com:443\n",
      "DEBUG:urllib3.connectionpool:https://www.instagram.com:443 \"POST /web/friendships/11543059492/unfollow/ HTTP/1.1\" 200 15\n",
      "DEBUG:urllib3.connectionpool:Starting new HTTPS connection (1): www.instagram.com:443\n"
     ]
    },
    {
     "name": "stdout",
     "output_type": "stream",
     "text": [
      "unfollowing another.mac\n"
     ]
    },
    {
     "name": "stderr",
     "output_type": "stream",
     "text": [
      "DEBUG:urllib3.connectionpool:https://www.instagram.com:443 \"POST /web/friendships/1309298784/unfollow/ HTTP/1.1\" 200 15\n",
      "DEBUG:urllib3.connectionpool:Starting new HTTPS connection (1): www.instagram.com:443\n"
     ]
    },
    {
     "name": "stdout",
     "output_type": "stream",
     "text": [
      "unfollowing mike_0_neko\n"
     ]
    },
    {
     "name": "stderr",
     "output_type": "stream",
     "text": [
      "DEBUG:urllib3.connectionpool:https://www.instagram.com:443 \"POST /web/friendships/31335203041/unfollow/ HTTP/1.1\" 200 15\n",
      "DEBUG:urllib3.connectionpool:Starting new HTTPS connection (1): www.instagram.com:443\n"
     ]
    },
    {
     "name": "stdout",
     "output_type": "stream",
     "text": [
      "unfollowing cacahoueteshop\n"
     ]
    },
    {
     "name": "stderr",
     "output_type": "stream",
     "text": [
      "DEBUG:urllib3.connectionpool:https://www.instagram.com:443 \"POST /web/friendships/48498692960/unfollow/ HTTP/1.1\" 200 15\n",
      "DEBUG:urllib3.connectionpool:Starting new HTTPS connection (1): www.instagram.com:443\n"
     ]
    },
    {
     "name": "stdout",
     "output_type": "stream",
     "text": [
      "unfollowing proche2toi\n"
     ]
    },
    {
     "name": "stderr",
     "output_type": "stream",
     "text": [
      "DEBUG:urllib3.connectionpool:https://www.instagram.com:443 \"POST /web/friendships/34642439296/unfollow/ HTTP/1.1\" 200 15\n",
      "DEBUG:urllib3.connectionpool:Starting new HTTPS connection (1): www.instagram.com:443\n"
     ]
    },
    {
     "name": "stdout",
     "output_type": "stream",
     "text": [
      "unfollowing paq.official\n"
     ]
    },
    {
     "name": "stderr",
     "output_type": "stream",
     "text": [
      "DEBUG:urllib3.connectionpool:https://www.instagram.com:443 \"POST /web/friendships/4677983041/unfollow/ HTTP/1.1\" 200 15\n",
      "DEBUG:urllib3.connectionpool:Starting new HTTPS connection (1): www.instagram.com:443\n"
     ]
    },
    {
     "name": "stdout",
     "output_type": "stream",
     "text": [
      "unfollowing finn_pokes\n"
     ]
    },
    {
     "name": "stderr",
     "output_type": "stream",
     "text": [
      "DEBUG:urllib3.connectionpool:https://www.instagram.com:443 \"POST /web/friendships/44749336244/unfollow/ HTTP/1.1\" 200 15\n",
      "DEBUG:urllib3.connectionpool:Starting new HTTPS connection (1): www.instagram.com:443\n"
     ]
    },
    {
     "name": "stdout",
     "output_type": "stream",
     "text": [
      "unfollowing karylpais\n"
     ]
    },
    {
     "name": "stderr",
     "output_type": "stream",
     "text": [
      "DEBUG:urllib3.connectionpool:https://www.instagram.com:443 \"POST /web/friendships/53975271/unfollow/ HTTP/1.1\" 200 15\n",
      "DEBUG:urllib3.connectionpool:Starting new HTTPS connection (1): www.instagram.com:443\n"
     ]
    },
    {
     "name": "stdout",
     "output_type": "stream",
     "text": [
      "unfollowing westietattoo\n"
     ]
    },
    {
     "name": "stderr",
     "output_type": "stream",
     "text": [
      "DEBUG:urllib3.connectionpool:https://www.instagram.com:443 \"POST /web/friendships/29439690172/unfollow/ HTTP/1.1\" 200 15\n",
      "DEBUG:urllib3.connectionpool:Starting new HTTPS connection (1): www.instagram.com:443\n"
     ]
    },
    {
     "name": "stdout",
     "output_type": "stream",
     "text": [
      "unfollowing gelmerbahn\n"
     ]
    },
    {
     "name": "stderr",
     "output_type": "stream",
     "text": [
      "DEBUG:urllib3.connectionpool:https://www.instagram.com:443 \"POST /web/friendships/6101450981/unfollow/ HTTP/1.1\" 200 15\n",
      "DEBUG:urllib3.connectionpool:Starting new HTTPS connection (1): www.instagram.com:443\n"
     ]
    },
    {
     "name": "stdout",
     "output_type": "stream",
     "text": [
      "unfollowing black____cactus\n"
     ]
    },
    {
     "name": "stderr",
     "output_type": "stream",
     "text": [
      "DEBUG:urllib3.connectionpool:https://www.instagram.com:443 \"POST /web/friendships/40535537390/unfollow/ HTTP/1.1\" 200 15\n",
      "DEBUG:urllib3.connectionpool:Starting new HTTPS connection (1): www.instagram.com:443\n"
     ]
    },
    {
     "name": "stdout",
     "output_type": "stream",
     "text": [
      "unfollowing leromandie\n"
     ]
    },
    {
     "name": "stderr",
     "output_type": "stream",
     "text": [
      "DEBUG:urllib3.connectionpool:https://www.instagram.com:443 \"POST /web/friendships/2955155/unfollow/ HTTP/1.1\" 200 15\n",
      "DEBUG:urllib3.connectionpool:Starting new HTTPS connection (1): www.instagram.com:443\n"
     ]
    },
    {
     "name": "stdout",
     "output_type": "stream",
     "text": [
      "unfollowing dallis.rian\n"
     ]
    },
    {
     "name": "stderr",
     "output_type": "stream",
     "text": [
      "DEBUG:urllib3.connectionpool:https://www.instagram.com:443 \"POST /web/friendships/13803413/unfollow/ HTTP/1.1\" 200 15\n",
      "DEBUG:urllib3.connectionpool:Starting new HTTPS connection (1): www.instagram.com:443\n"
     ]
    },
    {
     "name": "stdout",
     "output_type": "stream",
     "text": [
      "unfollowing cockpit_lyon\n"
     ]
    },
    {
     "name": "stderr",
     "output_type": "stream",
     "text": [
      "DEBUG:urllib3.connectionpool:https://www.instagram.com:443 \"POST /web/friendships/1535685150/unfollow/ HTTP/1.1\" 200 15\n",
      "DEBUG:urllib3.connectionpool:Starting new HTTPS connection (1): www.instagram.com:443\n"
     ]
    },
    {
     "name": "stdout",
     "output_type": "stream",
     "text": [
      "unfollowing sortblaek\n"
     ]
    },
    {
     "name": "stderr",
     "output_type": "stream",
     "text": [
      "DEBUG:urllib3.connectionpool:https://www.instagram.com:443 \"POST /web/friendships/2040441078/unfollow/ HTTP/1.1\" 200 15\n",
      "DEBUG:urllib3.connectionpool:Starting new HTTPS connection (1): www.instagram.com:443\n"
     ]
    },
    {
     "name": "stdout",
     "output_type": "stream",
     "text": [
      "unfollowing maniakgeneva\n"
     ]
    },
    {
     "name": "stderr",
     "output_type": "stream",
     "text": [
      "DEBUG:urllib3.connectionpool:https://www.instagram.com:443 \"POST /web/friendships/1237195824/unfollow/ HTTP/1.1\" 200 15\n",
      "DEBUG:urllib3.connectionpool:Starting new HTTPS connection (1): www.instagram.com:443\n"
     ]
    },
    {
     "name": "stdout",
     "output_type": "stream",
     "text": [
      "unfollowing plazer.consp\n"
     ]
    },
    {
     "name": "stderr",
     "output_type": "stream",
     "text": [
      "DEBUG:urllib3.connectionpool:https://www.instagram.com:443 \"POST /web/friendships/3063408658/unfollow/ HTTP/1.1\" 429 56\n"
     ]
    },
    {
     "name": "stdout",
     "output_type": "stream",
     "text": [
      "Cannot unfollow plazer.consp waiting 10 minutes\n"
     ]
    },
    {
     "name": "stderr",
     "output_type": "stream",
     "text": [
      "DEBUG:urllib3.connectionpool:Starting new HTTPS connection (1): www.instagram.com:443\n",
      "DEBUG:urllib3.connectionpool:https://www.instagram.com:443 \"POST /web/friendships/3063408658/unfollow/ HTTP/1.1\" 200 15\n",
      "DEBUG:urllib3.connectionpool:Starting new HTTPS connection (1): www.instagram.com:443\n"
     ]
    },
    {
     "name": "stdout",
     "output_type": "stream",
     "text": [
      "unfollowing kammerheittt\n"
     ]
    },
    {
     "name": "stderr",
     "output_type": "stream",
     "text": [
      "DEBUG:urllib3.connectionpool:https://www.instagram.com:443 \"POST /web/friendships/9373768341/unfollow/ HTTP/1.1\" 200 15\n",
      "DEBUG:urllib3.connectionpool:Starting new HTTPS connection (1): www.instagram.com:443\n"
     ]
    },
    {
     "name": "stdout",
     "output_type": "stream",
     "text": [
      "unfollowing sucependu\n"
     ]
    },
    {
     "name": "stderr",
     "output_type": "stream",
     "text": [
      "DEBUG:urllib3.connectionpool:https://www.instagram.com:443 \"POST /web/friendships/43856486734/unfollow/ HTTP/1.1\" 200 15\n",
      "DEBUG:urllib3.connectionpool:Starting new HTTPS connection (1): www.instagram.com:443\n"
     ]
    },
    {
     "name": "stdout",
     "output_type": "stream",
     "text": [
      "unfollowing lavendr.type\n"
     ]
    },
    {
     "name": "stderr",
     "output_type": "stream",
     "text": [
      "DEBUG:urllib3.connectionpool:https://www.instagram.com:443 \"POST /web/friendships/9202888964/unfollow/ HTTP/1.1\" 200 15\n",
      "DEBUG:urllib3.connectionpool:Starting new HTTPS connection (1): www.instagram.com:443\n"
     ]
    },
    {
     "name": "stdout",
     "output_type": "stream",
     "text": [
      "unfollowing drucken3000\n"
     ]
    },
    {
     "name": "stderr",
     "output_type": "stream",
     "text": [
      "DEBUG:urllib3.connectionpool:https://www.instagram.com:443 \"POST /web/friendships/2305921464/unfollow/ HTTP/1.1\" 200 15\n",
      "DEBUG:urllib3.connectionpool:Starting new HTTPS connection (1): www.instagram.com:443\n"
     ]
    },
    {
     "name": "stdout",
     "output_type": "stream",
     "text": [
      "unfollowing hardcore.soul\n"
     ]
    },
    {
     "name": "stderr",
     "output_type": "stream",
     "text": [
      "DEBUG:urllib3.connectionpool:https://www.instagram.com:443 \"POST /web/friendships/3712569126/unfollow/ HTTP/1.1\" 200 15\n",
      "DEBUG:urllib3.connectionpool:Starting new HTTPS connection (1): www.instagram.com:443\n"
     ]
    },
    {
     "name": "stdout",
     "output_type": "stream",
     "text": [
      "unfollowing shuvitcancer\n"
     ]
    },
    {
     "name": "stderr",
     "output_type": "stream",
     "text": [
      "DEBUG:urllib3.connectionpool:https://www.instagram.com:443 \"POST /web/friendships/26574928543/unfollow/ HTTP/1.1\" 200 15\n",
      "DEBUG:urllib3.connectionpool:Starting new HTTPS connection (1): www.instagram.com:443\n"
     ]
    },
    {
     "name": "stdout",
     "output_type": "stream",
     "text": [
      "unfollowing lemotel\n"
     ]
    },
    {
     "name": "stderr",
     "output_type": "stream",
     "text": [
      "DEBUG:urllib3.connectionpool:https://www.instagram.com:443 \"POST /web/friendships/222986463/unfollow/ HTTP/1.1\" 200 15\n",
      "DEBUG:urllib3.connectionpool:Starting new HTTPS connection (1): www.instagram.com:443\n"
     ]
    },
    {
     "name": "stdout",
     "output_type": "stream",
     "text": [
      "unfollowing les_dm_des_tatoueurs\n"
     ]
    },
    {
     "name": "stderr",
     "output_type": "stream",
     "text": [
      "DEBUG:urllib3.connectionpool:https://www.instagram.com:443 \"POST /web/friendships/9297903113/unfollow/ HTTP/1.1\" 200 15\n",
      "DEBUG:urllib3.connectionpool:Starting new HTTPS connection (1): www.instagram.com:443\n"
     ]
    },
    {
     "name": "stdout",
     "output_type": "stream",
     "text": [
      "unfollowing renan_garcia\n"
     ]
    },
    {
     "name": "stderr",
     "output_type": "stream",
     "text": [
      "DEBUG:urllib3.connectionpool:https://www.instagram.com:443 \"POST /web/friendships/32295629/unfollow/ HTTP/1.1\" 200 15\n",
      "DEBUG:urllib3.connectionpool:Starting new HTTPS connection (1): www.instagram.com:443\n"
     ]
    },
    {
     "name": "stdout",
     "output_type": "stream",
     "text": [
      "unfollowing plat4m\n"
     ]
    },
    {
     "name": "stderr",
     "output_type": "stream",
     "text": [
      "DEBUG:urllib3.connectionpool:https://www.instagram.com:443 \"POST /web/friendships/9865992/unfollow/ HTTP/1.1\" 200 15\n",
      "DEBUG:urllib3.connectionpool:Starting new HTTPS connection (1): www.instagram.com:443\n"
     ]
    },
    {
     "name": "stdout",
     "output_type": "stream",
     "text": [
      "unfollowing royblair\n"
     ]
    },
    {
     "name": "stderr",
     "output_type": "stream",
     "text": [
      "DEBUG:urllib3.connectionpool:https://www.instagram.com:443 \"POST /web/friendships/255268469/unfollow/ HTTP/1.1\" 200 15\n",
      "DEBUG:urllib3.connectionpool:Starting new HTTPS connection (1): www.instagram.com:443\n"
     ]
    },
    {
     "name": "stdout",
     "output_type": "stream",
     "text": [
      "unfollowing danis_tulya\n"
     ]
    },
    {
     "name": "stderr",
     "output_type": "stream",
     "text": [
      "DEBUG:urllib3.connectionpool:https://www.instagram.com:443 \"POST /web/friendships/408900599/unfollow/ HTTP/1.1\" 200 15\n",
      "DEBUG:urllib3.connectionpool:Starting new HTTPS connection (1): www.instagram.com:443\n"
     ]
    },
    {
     "name": "stdout",
     "output_type": "stream",
     "text": [
      "unfollowing xetko_\n"
     ]
    },
    {
     "name": "stderr",
     "output_type": "stream",
     "text": [
      "DEBUG:urllib3.connectionpool:https://www.instagram.com:443 \"POST /web/friendships/1596578541/unfollow/ HTTP/1.1\" 200 15\n",
      "DEBUG:urllib3.connectionpool:Starting new HTTPS connection (1): www.instagram.com:443\n"
     ]
    },
    {
     "name": "stdout",
     "output_type": "stream",
     "text": [
      "unfollowing ssx.ta2\n"
     ]
    },
    {
     "name": "stderr",
     "output_type": "stream",
     "text": [
      "DEBUG:urllib3.connectionpool:https://www.instagram.com:443 \"POST /web/friendships/241067794/unfollow/ HTTP/1.1\" 200 15\n",
      "DEBUG:urllib3.connectionpool:Starting new HTTPS connection (1): www.instagram.com:443\n"
     ]
    },
    {
     "name": "stdout",
     "output_type": "stream",
     "text": [
      "unfollowing blockbranding\n"
     ]
    },
    {
     "name": "stderr",
     "output_type": "stream",
     "text": [
      "DEBUG:urllib3.connectionpool:https://www.instagram.com:443 \"POST /web/friendships/668920107/unfollow/ HTTP/1.1\" 200 15\n",
      "DEBUG:urllib3.connectionpool:Starting new HTTPS connection (1): www.instagram.com:443\n"
     ]
    },
    {
     "name": "stdout",
     "output_type": "stream",
     "text": [
      "unfollowing agaragarmusic\n"
     ]
    },
    {
     "name": "stderr",
     "output_type": "stream",
     "text": [
      "DEBUG:urllib3.connectionpool:https://www.instagram.com:443 \"POST /web/friendships/5730227935/unfollow/ HTTP/1.1\" 429 56\n"
     ]
    },
    {
     "name": "stdout",
     "output_type": "stream",
     "text": [
      "Cannot unfollow agaragarmusic waiting 10 minutes\n"
     ]
    },
    {
     "name": "stderr",
     "output_type": "stream",
     "text": [
      "DEBUG:urllib3.connectionpool:Starting new HTTPS connection (1): www.instagram.com:443\n",
      "DEBUG:urllib3.connectionpool:https://www.instagram.com:443 \"POST /web/friendships/5730227935/unfollow/ HTTP/1.1\" 200 15\n",
      "DEBUG:urllib3.connectionpool:Starting new HTTPS connection (1): www.instagram.com:443\n"
     ]
    },
    {
     "name": "stdout",
     "output_type": "stream",
     "text": [
      "unfollowing foreveronstandby\n"
     ]
    },
    {
     "name": "stderr",
     "output_type": "stream",
     "text": [
      "DEBUG:urllib3.connectionpool:https://www.instagram.com:443 \"POST /web/friendships/4815229911/unfollow/ HTTP/1.1\" 200 15\n",
      "DEBUG:urllib3.connectionpool:Starting new HTTPS connection (1): www.instagram.com:443\n"
     ]
    },
    {
     "name": "stdout",
     "output_type": "stream",
     "text": [
      "unfollowing fierskateshop\n"
     ]
    },
    {
     "name": "stderr",
     "output_type": "stream",
     "text": [
      "DEBUG:urllib3.connectionpool:https://www.instagram.com:443 \"POST /web/friendships/337895440/unfollow/ HTTP/1.1\" 200 15\n",
      "DEBUG:urllib3.connectionpool:Starting new HTTPS connection (1): www.instagram.com:443\n"
     ]
    },
    {
     "name": "stdout",
     "output_type": "stream",
     "text": [
      "unfollowing catharsisclub\n"
     ]
    },
    {
     "name": "stderr",
     "output_type": "stream",
     "text": [
      "DEBUG:urllib3.connectionpool:https://www.instagram.com:443 \"POST /web/friendships/47952692151/unfollow/ HTTP/1.1\" 200 15\n",
      "DEBUG:urllib3.connectionpool:Starting new HTTPS connection (1): www.instagram.com:443\n"
     ]
    },
    {
     "name": "stdout",
     "output_type": "stream",
     "text": [
      "unfollowing studiohalblegal\n"
     ]
    },
    {
     "name": "stderr",
     "output_type": "stream",
     "text": [
      "DEBUG:urllib3.connectionpool:https://www.instagram.com:443 \"POST /web/friendships/41575248401/unfollow/ HTTP/1.1\" 200 15\n"
     ]
    },
    {
     "name": "stdout",
     "output_type": "stream",
     "text": [
      "unfollowing melaniediams\n"
     ]
    },
    {
     "name": "stderr",
     "output_type": "stream",
     "text": [
      "DEBUG:urllib3.connectionpool:Starting new HTTPS connection (1): www.instagram.com:443\n",
      "DEBUG:urllib3.connectionpool:https://www.instagram.com:443 \"POST /web/friendships/1571738756/unfollow/ HTTP/1.1\" 200 15\n",
      "DEBUG:urllib3.connectionpool:Starting new HTTPS connection (1): www.instagram.com:443\n"
     ]
    },
    {
     "name": "stdout",
     "output_type": "stream",
     "text": [
      "unfollowing cuisinebon\n"
     ]
    },
    {
     "name": "stderr",
     "output_type": "stream",
     "text": [
      "DEBUG:urllib3.connectionpool:https://www.instagram.com:443 \"POST /web/friendships/31682303147/unfollow/ HTTP/1.1\" 200 15\n",
      "DEBUG:urllib3.connectionpool:Starting new HTTPS connection (1): www.instagram.com:443\n"
     ]
    },
    {
     "name": "stdout",
     "output_type": "stream",
     "text": [
      "unfollowing jakobogawa\n"
     ]
    },
    {
     "name": "stderr",
     "output_type": "stream",
     "text": [
      "DEBUG:urllib3.connectionpool:https://www.instagram.com:443 \"POST /web/friendships/1963307995/unfollow/ HTTP/1.1\" 200 15\n",
      "DEBUG:urllib3.connectionpool:Starting new HTTPS connection (1): www.instagram.com:443\n"
     ]
    },
    {
     "name": "stdout",
     "output_type": "stream",
     "text": [
      "unfollowing paul_bodier\n"
     ]
    },
    {
     "name": "stderr",
     "output_type": "stream",
     "text": [
      "DEBUG:urllib3.connectionpool:https://www.instagram.com:443 \"POST /web/friendships/1617078489/unfollow/ HTTP/1.1\" 200 15\n",
      "DEBUG:urllib3.connectionpool:Starting new HTTPS connection (1): www.instagram.com:443\n"
     ]
    },
    {
     "name": "stdout",
     "output_type": "stream",
     "text": [
      "unfollowing __martianz__\n"
     ]
    },
    {
     "name": "stderr",
     "output_type": "stream",
     "text": [
      "DEBUG:urllib3.connectionpool:https://www.instagram.com:443 \"POST /web/friendships/273383867/unfollow/ HTTP/1.1\" 200 15\n",
      "DEBUG:urllib3.connectionpool:Starting new HTTPS connection (1): www.instagram.com:443\n"
     ]
    },
    {
     "name": "stdout",
     "output_type": "stream",
     "text": [
      "unfollowing princessevoiture\n"
     ]
    },
    {
     "name": "stderr",
     "output_type": "stream",
     "text": [
      "DEBUG:urllib3.connectionpool:https://www.instagram.com:443 \"POST /web/friendships/49145773771/unfollow/ HTTP/1.1\" 200 15\n",
      "DEBUG:urllib3.connectionpool:Starting new HTTPS connection (1): www.instagram.com:443\n"
     ]
    },
    {
     "name": "stdout",
     "output_type": "stream",
     "text": [
      "unfollowing tattootespieds\n"
     ]
    },
    {
     "name": "stderr",
     "output_type": "stream",
     "text": [
      "DEBUG:urllib3.connectionpool:https://www.instagram.com:443 \"POST /web/friendships/45448016868/unfollow/ HTTP/1.1\" 200 15\n",
      "DEBUG:urllib3.connectionpool:Starting new HTTPS connection (1): www.instagram.com:443\n"
     ]
    },
    {
     "name": "stdout",
     "output_type": "stream",
     "text": [
      "unfollowing dahong_muse\n"
     ]
    },
    {
     "name": "stderr",
     "output_type": "stream",
     "text": [
      "DEBUG:urllib3.connectionpool:https://www.instagram.com:443 \"POST /web/friendships/2100442323/unfollow/ HTTP/1.1\" 200 15\n",
      "DEBUG:urllib3.connectionpool:Starting new HTTPS connection (1): www.instagram.com:443\n"
     ]
    },
    {
     "name": "stdout",
     "output_type": "stream",
     "text": [
      "unfollowing hartvonhern\n"
     ]
    },
    {
     "name": "stderr",
     "output_type": "stream",
     "text": [
      "DEBUG:urllib3.connectionpool:https://www.instagram.com:443 \"POST /web/friendships/19951291485/unfollow/ HTTP/1.1\" 200 15\n",
      "DEBUG:urllib3.connectionpool:Starting new HTTPS connection (1): www.instagram.com:443\n"
     ]
    },
    {
     "name": "stdout",
     "output_type": "stream",
     "text": [
      "unfollowing nepal75e\n"
     ]
    },
    {
     "name": "stderr",
     "output_type": "stream",
     "text": [
      "DEBUG:urllib3.connectionpool:https://www.instagram.com:443 \"POST /web/friendships/11763858214/unfollow/ HTTP/1.1\" 200 15\n",
      "DEBUG:urllib3.connectionpool:Starting new HTTPS connection (1): www.instagram.com:443\n"
     ]
    },
    {
     "name": "stdout",
     "output_type": "stream",
     "text": [
      "unfollowing poizned\n"
     ]
    },
    {
     "name": "stderr",
     "output_type": "stream",
     "text": [
      "DEBUG:urllib3.connectionpool:https://www.instagram.com:443 \"POST /web/friendships/14164209057/unfollow/ HTTP/1.1\" 200 15\n",
      "DEBUG:urllib3.connectionpool:Starting new HTTPS connection (1): www.instagram.com:443\n"
     ]
    },
    {
     "name": "stdout",
     "output_type": "stream",
     "text": [
      "unfollowing ad.maurice\n"
     ]
    },
    {
     "name": "stderr",
     "output_type": "stream",
     "text": [
      "DEBUG:urllib3.connectionpool:https://www.instagram.com:443 \"POST /web/friendships/8163505151/unfollow/ HTTP/1.1\" 429 56\n"
     ]
    },
    {
     "name": "stdout",
     "output_type": "stream",
     "text": [
      "Cannot unfollow ad.maurice waiting 10 minutes\n"
     ]
    },
    {
     "name": "stderr",
     "output_type": "stream",
     "text": [
      "DEBUG:urllib3.connectionpool:Starting new HTTPS connection (1): www.instagram.com:443\n",
      "DEBUG:urllib3.connectionpool:https://www.instagram.com:443 \"POST /web/friendships/8163505151/unfollow/ HTTP/1.1\" 200 15\n",
      "DEBUG:urllib3.connectionpool:Starting new HTTPS connection (1): www.instagram.com:443\n"
     ]
    },
    {
     "name": "stdout",
     "output_type": "stream",
     "text": [
      "unfollowing urban_entirety\n"
     ]
    },
    {
     "name": "stderr",
     "output_type": "stream",
     "text": [
      "DEBUG:urllib3.connectionpool:https://www.instagram.com:443 \"POST /web/friendships/47717820584/unfollow/ HTTP/1.1\" 200 15\n",
      "DEBUG:urllib3.connectionpool:Starting new HTTPS connection (1): www.instagram.com:443\n"
     ]
    },
    {
     "name": "stdout",
     "output_type": "stream",
     "text": [
      "unfollowing shilohdynasty\n"
     ]
    },
    {
     "name": "stderr",
     "output_type": "stream",
     "text": [
      "DEBUG:urllib3.connectionpool:https://www.instagram.com:443 \"POST /web/friendships/37712230/unfollow/ HTTP/1.1\" 200 15\n",
      "DEBUG:urllib3.connectionpool:Starting new HTTPS connection (1): www.instagram.com:443\n"
     ]
    },
    {
     "name": "stdout",
     "output_type": "stream",
     "text": [
      "unfollowing bearfaceington\n"
     ]
    },
    {
     "name": "stderr",
     "output_type": "stream",
     "text": [
      "DEBUG:urllib3.connectionpool:https://www.instagram.com:443 \"POST /web/friendships/260309105/unfollow/ HTTP/1.1\" 200 15\n",
      "DEBUG:urllib3.connectionpool:Starting new HTTPS connection (1): www.instagram.com:443\n"
     ]
    },
    {
     "name": "stdout",
     "output_type": "stream",
     "text": [
      "unfollowing soldoutprod\n"
     ]
    },
    {
     "name": "stderr",
     "output_type": "stream",
     "text": [
      "DEBUG:urllib3.connectionpool:https://www.instagram.com:443 \"POST /web/friendships/2463397706/unfollow/ HTTP/1.1\" 200 15\n",
      "DEBUG:urllib3.connectionpool:Starting new HTTPS connection (1): www.instagram.com:443\n"
     ]
    },
    {
     "name": "stdout",
     "output_type": "stream",
     "text": [
      "unfollowing salimthedream\n"
     ]
    },
    {
     "name": "stderr",
     "output_type": "stream",
     "text": [
      "DEBUG:urllib3.connectionpool:https://www.instagram.com:443 \"POST /web/friendships/311828760/unfollow/ HTTP/1.1\" 200 15\n",
      "DEBUG:urllib3.connectionpool:Starting new HTTPS connection (1): www.instagram.com:443\n"
     ]
    },
    {
     "name": "stdout",
     "output_type": "stream",
     "text": [
      "unfollowing varg.zurich\n"
     ]
    },
    {
     "name": "stderr",
     "output_type": "stream",
     "text": [
      "DEBUG:urllib3.connectionpool:https://www.instagram.com:443 \"POST /web/friendships/21426972470/unfollow/ HTTP/1.1\" 200 15\n",
      "DEBUG:urllib3.connectionpool:Starting new HTTPS connection (1): www.instagram.com:443\n"
     ]
    },
    {
     "name": "stdout",
     "output_type": "stream",
     "text": [
      "unfollowing berliner_zeitung_style\n"
     ]
    },
    {
     "name": "stderr",
     "output_type": "stream",
     "text": [
      "DEBUG:urllib3.connectionpool:https://www.instagram.com:443 \"POST /web/friendships/48808466484/unfollow/ HTTP/1.1\" 200 15\n",
      "DEBUG:urllib3.connectionpool:Starting new HTTPS connection (1): www.instagram.com:443\n"
     ]
    },
    {
     "name": "stdout",
     "output_type": "stream",
     "text": [
      "unfollowing coupole_bnc\n"
     ]
    },
    {
     "name": "stderr",
     "output_type": "stream",
     "text": [
      "DEBUG:urllib3.connectionpool:https://www.instagram.com:443 \"POST /web/friendships/7338805885/unfollow/ HTTP/1.1\" 200 15\n",
      "DEBUG:urllib3.connectionpool:Starting new HTTPS connection (1): www.instagram.com:443\n"
     ]
    },
    {
     "name": "stdout",
     "output_type": "stream",
     "text": [
      "unfollowing macdetoothgap\n"
     ]
    },
    {
     "name": "stderr",
     "output_type": "stream",
     "text": [
      "DEBUG:urllib3.connectionpool:https://www.instagram.com:443 \"POST /web/friendships/33659189966/unfollow/ HTTP/1.1\" 200 15\n",
      "DEBUG:urllib3.connectionpool:Starting new HTTPS connection (1): www.instagram.com:443\n"
     ]
    },
    {
     "name": "stdout",
     "output_type": "stream",
     "text": [
      "unfollowing thatbandofhers\n"
     ]
    },
    {
     "name": "stderr",
     "output_type": "stream",
     "text": [
      "DEBUG:urllib3.connectionpool:https://www.instagram.com:443 \"POST /web/friendships/3106892401/unfollow/ HTTP/1.1\" 200 15\n",
      "DEBUG:urllib3.connectionpool:Starting new HTTPS connection (1): www.instagram.com:443\n"
     ]
    },
    {
     "name": "stdout",
     "output_type": "stream",
     "text": [
      "unfollowing neopurple.club\n"
     ]
    },
    {
     "name": "stderr",
     "output_type": "stream",
     "text": [
      "DEBUG:urllib3.connectionpool:https://www.instagram.com:443 \"POST /web/friendships/49828150817/unfollow/ HTTP/1.1\" 200 15\n",
      "DEBUG:urllib3.connectionpool:Starting new HTTPS connection (1): www.instagram.com:443\n"
     ]
    },
    {
     "name": "stdout",
     "output_type": "stream",
     "text": [
      "unfollowing doobiethan\n"
     ]
    },
    {
     "name": "stderr",
     "output_type": "stream",
     "text": [
      "DEBUG:urllib3.connectionpool:https://www.instagram.com:443 \"POST /web/friendships/3227540862/unfollow/ HTTP/1.1\" 200 15\n",
      "DEBUG:urllib3.connectionpool:Starting new HTTPS connection (1): www.instagram.com:443\n"
     ]
    },
    {
     "name": "stdout",
     "output_type": "stream",
     "text": [
      "unfollowing poudog.tattoo\n"
     ]
    },
    {
     "name": "stderr",
     "output_type": "stream",
     "text": [
      "DEBUG:urllib3.connectionpool:https://www.instagram.com:443 \"POST /web/friendships/33406842396/unfollow/ HTTP/1.1\" 200 15\n",
      "DEBUG:urllib3.connectionpool:Starting new HTTPS connection (1): www.instagram.com:443\n"
     ]
    },
    {
     "name": "stdout",
     "output_type": "stream",
     "text": [
      "unfollowing dudegraph\n"
     ]
    },
    {
     "name": "stderr",
     "output_type": "stream",
     "text": [
      "DEBUG:urllib3.connectionpool:https://www.instagram.com:443 \"POST /web/friendships/4236196430/unfollow/ HTTP/1.1\" 200 15\n",
      "DEBUG:urllib3.connectionpool:Starting new HTTPS connection (1): www.instagram.com:443\n"
     ]
    },
    {
     "name": "stdout",
     "output_type": "stream",
     "text": [
      "unfollowing binkszola\n"
     ]
    },
    {
     "name": "stderr",
     "output_type": "stream",
     "text": [
      "DEBUG:urllib3.connectionpool:https://www.instagram.com:443 \"POST /web/friendships/317733146/unfollow/ HTTP/1.1\" 200 15\n",
      "DEBUG:urllib3.connectionpool:Starting new HTTPS connection (1): www.instagram.com:443\n"
     ]
    },
    {
     "name": "stdout",
     "output_type": "stream",
     "text": [
      "unfollowing macmiller\n"
     ]
    },
    {
     "name": "stderr",
     "output_type": "stream",
     "text": [
      "DEBUG:urllib3.connectionpool:https://www.instagram.com:443 \"POST /web/friendships/10514202/unfollow/ HTTP/1.1\" 429 56\n"
     ]
    },
    {
     "name": "stdout",
     "output_type": "stream",
     "text": [
      "Cannot unfollow macmiller waiting 10 minutes\n"
     ]
    },
    {
     "name": "stderr",
     "output_type": "stream",
     "text": [
      "DEBUG:urllib3.connectionpool:Starting new HTTPS connection (1): www.instagram.com:443\n",
      "DEBUG:urllib3.connectionpool:https://www.instagram.com:443 \"POST /web/friendships/10514202/unfollow/ HTTP/1.1\" 200 15\n",
      "DEBUG:urllib3.connectionpool:Starting new HTTPS connection (1): www.instagram.com:443\n"
     ]
    },
    {
     "name": "stdout",
     "output_type": "stream",
     "text": [
      "unfollowing rubistatts\n"
     ]
    },
    {
     "name": "stderr",
     "output_type": "stream",
     "text": [
      "DEBUG:urllib3.connectionpool:https://www.instagram.com:443 \"POST /web/friendships/19799461905/unfollow/ HTTP/1.1\" 200 15\n",
      "DEBUG:urllib3.connectionpool:Starting new HTTPS connection (1): www.instagram.com:443\n"
     ]
    },
    {
     "name": "stdout",
     "output_type": "stream",
     "text": [
      "unfollowing aestheticssoul_\n"
     ]
    },
    {
     "name": "stderr",
     "output_type": "stream",
     "text": [
      "DEBUG:urllib3.connectionpool:https://www.instagram.com:443 \"POST /web/friendships/5348290865/unfollow/ HTTP/1.1\" 200 15\n",
      "DEBUG:urllib3.connectionpool:Starting new HTTPS connection (1): www.instagram.com:443\n"
     ]
    },
    {
     "name": "stdout",
     "output_type": "stream",
     "text": [
      "unfollowing agepoly\n"
     ]
    },
    {
     "name": "stderr",
     "output_type": "stream",
     "text": [
      "DEBUG:urllib3.connectionpool:https://www.instagram.com:443 \"POST /web/friendships/1818204499/unfollow/ HTTP/1.1\" 200 15\n",
      "DEBUG:urllib3.connectionpool:Starting new HTTPS connection (1): www.instagram.com:443\n"
     ]
    },
    {
     "name": "stdout",
     "output_type": "stream",
     "text": [
      "unfollowing kurtcobain\n"
     ]
    },
    {
     "name": "stderr",
     "output_type": "stream",
     "text": [
      "DEBUG:urllib3.connectionpool:https://www.instagram.com:443 \"POST /web/friendships/3957338421/unfollow/ HTTP/1.1\" 200 15\n",
      "DEBUG:urllib3.connectionpool:Starting new HTTPS connection (1): www.instagram.com:443\n"
     ]
    },
    {
     "name": "stdout",
     "output_type": "stream",
     "text": [
      "unfollowing streetmag\n"
     ]
    },
    {
     "name": "stderr",
     "output_type": "stream",
     "text": [
      "DEBUG:urllib3.connectionpool:https://www.instagram.com:443 \"POST /web/friendships/370356970/unfollow/ HTTP/1.1\" 200 15\n",
      "DEBUG:urllib3.connectionpool:Starting new HTTPS connection (1): www.instagram.com:443\n"
     ]
    },
    {
     "name": "stdout",
     "output_type": "stream",
     "text": [
      "unfollowing serom_tattoo\n"
     ]
    },
    {
     "name": "stderr",
     "output_type": "stream",
     "text": [
      "DEBUG:urllib3.connectionpool:https://www.instagram.com:443 \"POST /web/friendships/8436577631/unfollow/ HTTP/1.1\" 200 15\n",
      "DEBUG:urllib3.connectionpool:Starting new HTTPS connection (1): www.instagram.com:443\n"
     ]
    },
    {
     "name": "stdout",
     "output_type": "stream",
     "text": [
      "unfollowing toe_loop_tattoo_berlin\n"
     ]
    },
    {
     "name": "stderr",
     "output_type": "stream",
     "text": [
      "DEBUG:urllib3.connectionpool:https://www.instagram.com:443 \"POST /web/friendships/1648272162/unfollow/ HTTP/1.1\" 200 15\n",
      "DEBUG:urllib3.connectionpool:Starting new HTTPS connection (1): www.instagram.com:443\n"
     ]
    },
    {
     "name": "stdout",
     "output_type": "stream",
     "text": [
      "unfollowing musicworld19991\n"
     ]
    },
    {
     "name": "stderr",
     "output_type": "stream",
     "text": [
      "DEBUG:urllib3.connectionpool:https://www.instagram.com:443 \"POST /web/friendships/9252242741/unfollow/ HTTP/1.1\" 200 15\n",
      "DEBUG:urllib3.connectionpool:Starting new HTTPS connection (1): www.instagram.com:443\n"
     ]
    },
    {
     "name": "stdout",
     "output_type": "stream",
     "text": [
      "unfollowing itsbongoboy\n"
     ]
    },
    {
     "name": "stderr",
     "output_type": "stream",
     "text": [
      "DEBUG:urllib3.connectionpool:https://www.instagram.com:443 \"POST /web/friendships/12751955/unfollow/ HTTP/1.1\" 200 15\n",
      "DEBUG:urllib3.connectionpool:Starting new HTTPS connection (1): www.instagram.com:443\n"
     ]
    },
    {
     "name": "stdout",
     "output_type": "stream",
     "text": [
      "unfollowing bruhboner\n"
     ]
    },
    {
     "name": "stderr",
     "output_type": "stream",
     "text": [
      "DEBUG:urllib3.connectionpool:https://www.instagram.com:443 \"POST /web/friendships/1602647694/unfollow/ HTTP/1.1\" 200 15\n",
      "DEBUG:urllib3.connectionpool:Starting new HTTPS connection (1): www.instagram.com:443\n"
     ]
    },
    {
     "name": "stdout",
     "output_type": "stream",
     "text": [
      "unfollowing nikolajleu\n"
     ]
    },
    {
     "name": "stderr",
     "output_type": "stream",
     "text": [
      "DEBUG:urllib3.connectionpool:https://www.instagram.com:443 \"POST /web/friendships/277056913/unfollow/ HTTP/1.1\" 200 15\n",
      "DEBUG:urllib3.connectionpool:Starting new HTTPS connection (1): www.instagram.com:443\n"
     ]
    },
    {
     "name": "stdout",
     "output_type": "stream",
     "text": [
      "unfollowing dirtyrandytattoo\n"
     ]
    },
    {
     "name": "stderr",
     "output_type": "stream",
     "text": [
      "DEBUG:urllib3.connectionpool:https://www.instagram.com:443 \"POST /web/friendships/293957194/unfollow/ HTTP/1.1\" 200 15\n",
      "DEBUG:urllib3.connectionpool:Starting new HTTPS connection (1): www.instagram.com:443\n"
     ]
    },
    {
     "name": "stdout",
     "output_type": "stream",
     "text": [
      "unfollowing tradeando.forex\n"
     ]
    },
    {
     "name": "stderr",
     "output_type": "stream",
     "text": [
      "DEBUG:urllib3.connectionpool:https://www.instagram.com:443 \"POST /web/friendships/14459430846/unfollow/ HTTP/1.1\" 200 15\n",
      "DEBUG:urllib3.connectionpool:Starting new HTTPS connection (1): www.instagram.com:443\n"
     ]
    },
    {
     "name": "stdout",
     "output_type": "stream",
     "text": [
      "unfollowing momowien\n"
     ]
    },
    {
     "name": "stderr",
     "output_type": "stream",
     "text": [
      "DEBUG:urllib3.connectionpool:https://www.instagram.com:443 \"POST /web/friendships/4583771312/unfollow/ HTTP/1.1\" 200 15\n",
      "DEBUG:urllib3.connectionpool:Starting new HTTPS connection (1): www.instagram.com:443\n"
     ]
    },
    {
     "name": "stdout",
     "output_type": "stream",
     "text": [
      "unfollowing jessetreececollage\n"
     ]
    },
    {
     "name": "stderr",
     "output_type": "stream",
     "text": [
      "DEBUG:urllib3.connectionpool:https://www.instagram.com:443 \"POST /web/friendships/1126643073/unfollow/ HTTP/1.1\" 200 15\n",
      "DEBUG:urllib3.connectionpool:Starting new HTTPS connection (1): www.instagram.com:443\n",
      "DEBUG:urllib3.connectionpool:https://www.instagram.com:443 \"POST /web/friendships/1981564340/unfollow/ HTTP/1.1\" 429 56\n"
     ]
    },
    {
     "name": "stdout",
     "output_type": "stream",
     "text": [
      "unfollowing uemura_mado\n",
      "Cannot unfollow uemura_mado waiting 10 minutes\n"
     ]
    },
    {
     "name": "stderr",
     "output_type": "stream",
     "text": [
      "DEBUG:urllib3.connectionpool:Starting new HTTPS connection (1): www.instagram.com:443\n",
      "DEBUG:urllib3.connectionpool:https://www.instagram.com:443 \"POST /web/friendships/1981564340/unfollow/ HTTP/1.1\" 200 15\n",
      "DEBUG:urllib3.connectionpool:Starting new HTTPS connection (1): www.instagram.com:443\n"
     ]
    },
    {
     "name": "stdout",
     "output_type": "stream",
     "text": [
      "unfollowing jackpot_city_\n"
     ]
    },
    {
     "name": "stderr",
     "output_type": "stream",
     "text": [
      "DEBUG:urllib3.connectionpool:https://www.instagram.com:443 \"POST /web/friendships/4084334973/unfollow/ HTTP/1.1\" 200 15\n",
      "DEBUG:urllib3.connectionpool:Starting new HTTPS connection (1): www.instagram.com:443\n"
     ]
    },
    {
     "name": "stdout",
     "output_type": "stream",
     "text": [
      "unfollowing delicate.ruins\n"
     ]
    },
    {
     "name": "stderr",
     "output_type": "stream",
     "text": [
      "DEBUG:urllib3.connectionpool:https://www.instagram.com:443 \"POST /web/friendships/26446740/unfollow/ HTTP/1.1\" 200 15\n",
      "DEBUG:urllib3.connectionpool:Starting new HTTPS connection (1): www.instagram.com:443\n"
     ]
    },
    {
     "name": "stdout",
     "output_type": "stream",
     "text": [
      "unfollowing flashy.vastok\n"
     ]
    },
    {
     "name": "stderr",
     "output_type": "stream",
     "text": [
      "DEBUG:urllib3.connectionpool:https://www.instagram.com:443 \"POST /web/friendships/49376219097/unfollow/ HTTP/1.1\" 200 15\n",
      "DEBUG:urllib3.connectionpool:Starting new HTTPS connection (1): www.instagram.com:443\n"
     ]
    },
    {
     "name": "stdout",
     "output_type": "stream",
     "text": [
      "unfollowing ukrupka\n"
     ]
    },
    {
     "name": "stderr",
     "output_type": "stream",
     "text": [
      "DEBUG:urllib3.connectionpool:https://www.instagram.com:443 \"POST /web/friendships/1023572643/unfollow/ HTTP/1.1\" 200 15\n",
      "DEBUG:urllib3.connectionpool:Starting new HTTPS connection (1): www.instagram.com:443\n"
     ]
    },
    {
     "name": "stdout",
     "output_type": "stream",
     "text": [
      "unfollowing unreap\n"
     ]
    },
    {
     "name": "stderr",
     "output_type": "stream",
     "text": [
      "DEBUG:urllib3.connectionpool:https://www.instagram.com:443 \"POST /web/friendships/2269950585/unfollow/ HTTP/1.1\" 200 15\n",
      "DEBUG:urllib3.connectionpool:Starting new HTTPS connection (1): www.instagram.com:443\n"
     ]
    },
    {
     "name": "stdout",
     "output_type": "stream",
     "text": [
      "unfollowing dsmt\n"
     ]
    },
    {
     "name": "stderr",
     "output_type": "stream",
     "text": [
      "DEBUG:urllib3.connectionpool:https://www.instagram.com:443 \"POST /web/friendships/208137357/unfollow/ HTTP/1.1\" 200 15\n",
      "DEBUG:urllib3.connectionpool:Starting new HTTPS connection (1): www.instagram.com:443\n"
     ]
    },
    {
     "name": "stdout",
     "output_type": "stream",
     "text": [
      "unfollowing sneaktorious\n"
     ]
    },
    {
     "name": "stderr",
     "output_type": "stream",
     "text": [
      "DEBUG:urllib3.connectionpool:https://www.instagram.com:443 \"POST /web/friendships/11192624350/unfollow/ HTTP/1.1\" 200 15\n",
      "DEBUG:urllib3.connectionpool:Starting new HTTPS connection (1): www.instagram.com:443\n"
     ]
    },
    {
     "name": "stdout",
     "output_type": "stream",
     "text": [
      "unfollowing venderafits\n"
     ]
    },
    {
     "name": "stderr",
     "output_type": "stream",
     "text": [
      "DEBUG:urllib3.connectionpool:https://www.instagram.com:443 \"POST /web/friendships/6678874098/unfollow/ HTTP/1.1\" 200 15\n",
      "DEBUG:urllib3.connectionpool:Starting new HTTPS connection (1): www.instagram.com:443\n"
     ]
    },
    {
     "name": "stdout",
     "output_type": "stream",
     "text": [
      "unfollowing lindsokay\n"
     ]
    },
    {
     "name": "stderr",
     "output_type": "stream",
     "text": [
      "DEBUG:urllib3.connectionpool:https://www.instagram.com:443 \"POST /web/friendships/279500771/unfollow/ HTTP/1.1\" 200 15\n",
      "DEBUG:urllib3.connectionpool:Starting new HTTPS connection (1): www.instagram.com:443\n"
     ]
    },
    {
     "name": "stdout",
     "output_type": "stream",
     "text": [
      "unfollowing _gabrielgarcon\n"
     ]
    },
    {
     "name": "stderr",
     "output_type": "stream",
     "text": [
      "DEBUG:urllib3.connectionpool:https://www.instagram.com:443 \"POST /web/friendships/7377175557/unfollow/ HTTP/1.1\" 200 15\n",
      "DEBUG:urllib3.connectionpool:Starting new HTTPS connection (1): www.instagram.com:443\n"
     ]
    },
    {
     "name": "stdout",
     "output_type": "stream",
     "text": [
      "unfollowing shawnee_dez\n"
     ]
    },
    {
     "name": "stderr",
     "output_type": "stream",
     "text": [
      "DEBUG:urllib3.connectionpool:https://www.instagram.com:443 \"POST /web/friendships/30537505/unfollow/ HTTP/1.1\" 200 15\n",
      "DEBUG:urllib3.connectionpool:Starting new HTTPS connection (1): www.instagram.com:443\n"
     ]
    },
    {
     "name": "stdout",
     "output_type": "stream",
     "text": [
      "unfollowing fuckyourhype\n"
     ]
    },
    {
     "name": "stderr",
     "output_type": "stream",
     "text": [
      "DEBUG:urllib3.connectionpool:https://www.instagram.com:443 \"POST /web/friendships/6217412888/unfollow/ HTTP/1.1\" 200 15\n",
      "DEBUG:urllib3.connectionpool:Starting new HTTPS connection (1): www.instagram.com:443\n"
     ]
    },
    {
     "name": "stdout",
     "output_type": "stream",
     "text": [
      "unfollowing tttrip_tattoo\n"
     ]
    },
    {
     "name": "stderr",
     "output_type": "stream",
     "text": [
      "DEBUG:urllib3.connectionpool:https://www.instagram.com:443 \"POST /web/friendships/8187775399/unfollow/ HTTP/1.1\" 200 15\n",
      "DEBUG:urllib3.connectionpool:Starting new HTTPS connection (1): www.instagram.com:443\n"
     ]
    },
    {
     "name": "stdout",
     "output_type": "stream",
     "text": [
      "unfollowing pjladd\n"
     ]
    },
    {
     "name": "stderr",
     "output_type": "stream",
     "text": [
      "DEBUG:urllib3.connectionpool:https://www.instagram.com:443 \"POST /web/friendships/5954386/unfollow/ HTTP/1.1\" 200 15\n",
      "DEBUG:urllib3.connectionpool:Starting new HTTPS connection (1): www.instagram.com:443\n"
     ]
    },
    {
     "name": "stdout",
     "output_type": "stream",
     "text": [
      "unfollowing marcabarbier\n"
     ]
    },
    {
     "name": "stderr",
     "output_type": "stream",
     "text": [
      "DEBUG:urllib3.connectionpool:https://www.instagram.com:443 \"POST /web/friendships/16876029/unfollow/ HTTP/1.1\" 200 15\n",
      "DEBUG:urllib3.connectionpool:Starting new HTTPS connection (1): www.instagram.com:443\n",
      "DEBUG:urllib3.connectionpool:https://www.instagram.com:443 \"POST /web/friendships/10173557619/unfollow/ HTTP/1.1\" 429 56\n"
     ]
    },
    {
     "name": "stdout",
     "output_type": "stream",
     "text": [
      "unfollowing friperielausanne\n",
      "Cannot unfollow friperielausanne waiting 10 minutes\n"
     ]
    },
    {
     "name": "stderr",
     "output_type": "stream",
     "text": [
      "DEBUG:urllib3.connectionpool:Starting new HTTPS connection (1): www.instagram.com:443\n",
      "DEBUG:urllib3.connectionpool:https://www.instagram.com:443 \"POST /web/friendships/10173557619/unfollow/ HTTP/1.1\" 200 15\n",
      "DEBUG:urllib3.connectionpool:Starting new HTTPS connection (1): www.instagram.com:443\n"
     ]
    },
    {
     "name": "stdout",
     "output_type": "stream",
     "text": [
      "unfollowing rinkan_couto0113\n"
     ]
    },
    {
     "name": "stderr",
     "output_type": "stream",
     "text": [
      "DEBUG:urllib3.connectionpool:https://www.instagram.com:443 \"POST /web/friendships/2922895649/unfollow/ HTTP/1.1\" 200 15\n",
      "DEBUG:urllib3.connectionpool:Starting new HTTPS connection (1): www.instagram.com:443\n"
     ]
    },
    {
     "name": "stdout",
     "output_type": "stream",
     "text": [
      "unfollowing geoffcottrill\n"
     ]
    },
    {
     "name": "stderr",
     "output_type": "stream",
     "text": [
      "DEBUG:urllib3.connectionpool:https://www.instagram.com:443 \"POST /web/friendships/8100130/unfollow/ HTTP/1.1\" 200 15\n",
      "DEBUG:urllib3.connectionpool:Starting new HTTPS connection (1): www.instagram.com:443\n"
     ]
    },
    {
     "name": "stdout",
     "output_type": "stream",
     "text": [
      "unfollowing rud_cef\n"
     ]
    },
    {
     "name": "stderr",
     "output_type": "stream",
     "text": [
      "DEBUG:urllib3.connectionpool:https://www.instagram.com:443 \"POST /web/friendships/517643730/unfollow/ HTTP/1.1\" 200 15\n",
      "DEBUG:urllib3.connectionpool:Starting new HTTPS connection (1): www.instagram.com:443\n"
     ]
    },
    {
     "name": "stdout",
     "output_type": "stream",
     "text": [
      "unfollowing i_do_poke\n"
     ]
    },
    {
     "name": "stderr",
     "output_type": "stream",
     "text": [
      "DEBUG:urllib3.connectionpool:https://www.instagram.com:443 \"POST /web/friendships/12383190597/unfollow/ HTTP/1.1\" 200 15\n",
      "DEBUG:urllib3.connectionpool:Starting new HTTPS connection (1): www.instagram.com:443\n"
     ]
    },
    {
     "name": "stdout",
     "output_type": "stream",
     "text": [
      "unfollowing bisonquatre\n"
     ]
    },
    {
     "name": "stderr",
     "output_type": "stream",
     "text": [
      "DEBUG:urllib3.connectionpool:https://www.instagram.com:443 \"POST /web/friendships/9471864041/unfollow/ HTTP/1.1\" 200 15\n",
      "DEBUG:urllib3.connectionpool:Starting new HTTPS connection (1): www.instagram.com:443\n"
     ]
    },
    {
     "name": "stdout",
     "output_type": "stream",
     "text": [
      "unfollowing aliceetmoii\n"
     ]
    },
    {
     "name": "stderr",
     "output_type": "stream",
     "text": [
      "DEBUG:urllib3.connectionpool:https://www.instagram.com:443 \"POST /web/friendships/268117050/unfollow/ HTTP/1.1\" 200 15\n",
      "DEBUG:urllib3.connectionpool:Starting new HTTPS connection (1): www.instagram.com:443\n"
     ]
    },
    {
     "name": "stdout",
     "output_type": "stream",
     "text": [
      "unfollowing danielpshea\n"
     ]
    },
    {
     "name": "stderr",
     "output_type": "stream",
     "text": [
      "DEBUG:urllib3.connectionpool:https://www.instagram.com:443 \"POST /web/friendships/26949607/unfollow/ HTTP/1.1\" 200 15\n",
      "DEBUG:urllib3.connectionpool:Starting new HTTPS connection (1): www.instagram.com:443\n"
     ]
    },
    {
     "name": "stdout",
     "output_type": "stream",
     "text": [
      "unfollowing julka.berlin\n"
     ]
    },
    {
     "name": "stderr",
     "output_type": "stream",
     "text": [
      "DEBUG:urllib3.connectionpool:https://www.instagram.com:443 \"POST /web/friendships/10991944016/unfollow/ HTTP/1.1\" 200 15\n",
      "DEBUG:urllib3.connectionpool:Starting new HTTPS connection (1): www.instagram.com:443\n"
     ]
    },
    {
     "name": "stdout",
     "output_type": "stream",
     "text": [
      "unfollowing mddstudios\n"
     ]
    },
    {
     "name": "stderr",
     "output_type": "stream",
     "text": [
      "DEBUG:urllib3.connectionpool:https://www.instagram.com:443 \"POST /web/friendships/44924574875/unfollow/ HTTP/1.1\" 200 15\n",
      "DEBUG:urllib3.connectionpool:Starting new HTTPS connection (1): www.instagram.com:443\n"
     ]
    },
    {
     "name": "stdout",
     "output_type": "stream",
     "text": [
      "unfollowing lesdocks_lausanne\n"
     ]
    },
    {
     "name": "stderr",
     "output_type": "stream",
     "text": [
      "DEBUG:urllib3.connectionpool:https://www.instagram.com:443 \"POST /web/friendships/525171313/unfollow/ HTTP/1.1\" 200 15\n",
      "DEBUG:urllib3.connectionpool:Starting new HTTPS connection (1): www.instagram.com:443\n"
     ]
    },
    {
     "name": "stdout",
     "output_type": "stream",
     "text": [
      "unfollowing nast_is_nvst\n"
     ]
    },
    {
     "name": "stderr",
     "output_type": "stream",
     "text": [
      "DEBUG:urllib3.connectionpool:https://www.instagram.com:443 \"POST /web/friendships/290498506/unfollow/ HTTP/1.1\" 200 15\n",
      "DEBUG:urllib3.connectionpool:Starting new HTTPS connection (1): www.instagram.com:443\n"
     ]
    },
    {
     "name": "stdout",
     "output_type": "stream",
     "text": [
      "unfollowing hypebeastdrops\n"
     ]
    },
    {
     "name": "stderr",
     "output_type": "stream",
     "text": [
      "DEBUG:urllib3.connectionpool:https://www.instagram.com:443 \"POST /web/friendships/7325202364/unfollow/ HTTP/1.1\" 200 15\n",
      "DEBUG:urllib3.connectionpool:Starting new HTTPS connection (1): www.instagram.com:443\n"
     ]
    },
    {
     "name": "stdout",
     "output_type": "stream",
     "text": [
      "unfollowing brandonceli\n"
     ]
    },
    {
     "name": "stderr",
     "output_type": "stream",
     "text": [
      "DEBUG:urllib3.connectionpool:https://www.instagram.com:443 \"POST /web/friendships/1636968403/unfollow/ HTTP/1.1\" 200 15\n",
      "DEBUG:urllib3.connectionpool:Starting new HTTPS connection (1): www.instagram.com:443\n"
     ]
    },
    {
     "name": "stdout",
     "output_type": "stream",
     "text": [
      "unfollowing carcajv\n"
     ]
    },
    {
     "name": "stderr",
     "output_type": "stream",
     "text": [
      "DEBUG:urllib3.connectionpool:https://www.instagram.com:443 \"POST /web/friendships/3041994613/unfollow/ HTTP/1.1\" 200 15\n",
      "DEBUG:urllib3.connectionpool:Starting new HTTPS connection (1): www.instagram.com:443\n"
     ]
    },
    {
     "name": "stdout",
     "output_type": "stream",
     "text": [
      "unfollowing wordimagetext\n"
     ]
    },
    {
     "name": "stderr",
     "output_type": "stream",
     "text": [
      "DEBUG:urllib3.connectionpool:https://www.instagram.com:443 \"POST /web/friendships/4863912/unfollow/ HTTP/1.1\" 200 15\n",
      "DEBUG:urllib3.connectionpool:Starting new HTTPS connection (1): www.instagram.com:443\n",
      "DEBUG:urllib3.connectionpool:https://www.instagram.com:443 \"POST /web/friendships/23322591167/unfollow/ HTTP/1.1\" 429 56\n"
     ]
    },
    {
     "name": "stdout",
     "output_type": "stream",
     "text": [
      "unfollowing chrispulman\n",
      "Cannot unfollow chrispulman waiting 10 minutes\n"
     ]
    },
    {
     "name": "stderr",
     "output_type": "stream",
     "text": [
      "DEBUG:urllib3.connectionpool:Starting new HTTPS connection (1): www.instagram.com:443\n",
      "DEBUG:urllib3.connectionpool:https://www.instagram.com:443 \"POST /web/friendships/23322591167/unfollow/ HTTP/1.1\" 200 15\n",
      "DEBUG:urllib3.connectionpool:Starting new HTTPS connection (1): www.instagram.com:443\n"
     ]
    },
    {
     "name": "stdout",
     "output_type": "stream",
     "text": [
      "unfollowing katya.kopeikina\n"
     ]
    },
    {
     "name": "stderr",
     "output_type": "stream",
     "text": [
      "DEBUG:urllib3.connectionpool:https://www.instagram.com:443 \"POST /web/friendships/1655389577/unfollow/ HTTP/1.1\" 200 15\n",
      "DEBUG:urllib3.connectionpool:Starting new HTTPS connection (1): www.instagram.com:443\n"
     ]
    },
    {
     "name": "stdout",
     "output_type": "stream",
     "text": [
      "unfollowing theanxiety\n"
     ]
    },
    {
     "name": "stderr",
     "output_type": "stream",
     "text": [
      "DEBUG:urllib3.connectionpool:https://www.instagram.com:443 \"POST /web/friendships/21906576048/unfollow/ HTTP/1.1\" 200 15\n",
      "DEBUG:urllib3.connectionpool:Starting new HTTPS connection (1): www.instagram.com:443\n"
     ]
    },
    {
     "name": "stdout",
     "output_type": "stream",
     "text": [
      "unfollowing caseachocs\n"
     ]
    },
    {
     "name": "stderr",
     "output_type": "stream",
     "text": [
      "DEBUG:urllib3.connectionpool:https://www.instagram.com:443 \"POST /web/friendships/1145745642/unfollow/ HTTP/1.1\" 200 15\n",
      "DEBUG:urllib3.connectionpool:Starting new HTTPS connection (1): www.instagram.com:443\n"
     ]
    },
    {
     "name": "stdout",
     "output_type": "stream",
     "text": [
      "unfollowing ewajuana2.0\n"
     ]
    },
    {
     "name": "stderr",
     "output_type": "stream",
     "text": [
      "DEBUG:urllib3.connectionpool:https://www.instagram.com:443 \"POST /web/friendships/50860537643/unfollow/ HTTP/1.1\" 200 15\n",
      "DEBUG:urllib3.connectionpool:Starting new HTTPS connection (1): www.instagram.com:443\n"
     ]
    },
    {
     "name": "stdout",
     "output_type": "stream",
     "text": [
      "unfollowing permanent_regret\n"
     ]
    },
    {
     "name": "stderr",
     "output_type": "stream",
     "text": [
      "DEBUG:urllib3.connectionpool:https://www.instagram.com:443 \"POST /web/friendships/5460215265/unfollow/ HTTP/1.1\" 200 15\n",
      "DEBUG:urllib3.connectionpool:Starting new HTTPS connection (1): www.instagram.com:443\n"
     ]
    },
    {
     "name": "stdout",
     "output_type": "stream",
     "text": [
      "unfollowing nudetrump_shibuya\n"
     ]
    },
    {
     "name": "stderr",
     "output_type": "stream",
     "text": [
      "DEBUG:urllib3.connectionpool:https://www.instagram.com:443 \"POST /web/friendships/6084983398/unfollow/ HTTP/1.1\" 200 15\n",
      "DEBUG:urllib3.connectionpool:Starting new HTTPS connection (1): www.instagram.com:443\n"
     ]
    },
    {
     "name": "stdout",
     "output_type": "stream",
     "text": [
      "unfollowing studio183_berlin\n"
     ]
    },
    {
     "name": "stderr",
     "output_type": "stream",
     "text": [
      "DEBUG:urllib3.connectionpool:https://www.instagram.com:443 \"POST /web/friendships/2120421131/unfollow/ HTTP/1.1\" 200 15\n",
      "DEBUG:urllib3.connectionpool:Starting new HTTPS connection (1): www.instagram.com:443\n"
     ]
    },
    {
     "name": "stdout",
     "output_type": "stream",
     "text": [
      "unfollowing michaelmonten\n"
     ]
    },
    {
     "name": "stderr",
     "output_type": "stream",
     "text": [
      "DEBUG:urllib3.connectionpool:https://www.instagram.com:443 \"POST /web/friendships/978581155/unfollow/ HTTP/1.1\" 200 15\n",
      "DEBUG:urllib3.connectionpool:Starting new HTTPS connection (1): www.instagram.com:443\n"
     ]
    },
    {
     "name": "stdout",
     "output_type": "stream",
     "text": [
      "unfollowing blachford\n"
     ]
    },
    {
     "name": "stderr",
     "output_type": "stream",
     "text": [
      "DEBUG:urllib3.connectionpool:https://www.instagram.com:443 \"POST /web/friendships/31616137/unfollow/ HTTP/1.1\" 200 15\n",
      "DEBUG:urllib3.connectionpool:Starting new HTTPS connection (1): www.instagram.com:443\n"
     ]
    },
    {
     "name": "stdout",
     "output_type": "stream",
     "text": [
      "unfollowing bett_berlin\n"
     ]
    },
    {
     "name": "stderr",
     "output_type": "stream",
     "text": [
      "DEBUG:urllib3.connectionpool:https://www.instagram.com:443 \"POST /web/friendships/48332043067/unfollow/ HTTP/1.1\" 200 15\n",
      "DEBUG:urllib3.connectionpool:Starting new HTTPS connection (1): www.instagram.com:443\n"
     ]
    },
    {
     "name": "stdout",
     "output_type": "stream",
     "text": [
      "unfollowing skkinz\n"
     ]
    },
    {
     "name": "stderr",
     "output_type": "stream",
     "text": [
      "DEBUG:urllib3.connectionpool:https://www.instagram.com:443 \"POST /web/friendships/5617789537/unfollow/ HTTP/1.1\" 200 15\n",
      "DEBUG:urllib3.connectionpool:Starting new HTTPS connection (1): www.instagram.com:443\n"
     ]
    },
    {
     "name": "stdout",
     "output_type": "stream",
     "text": [
      "unfollowing ros_spinnenlaeufer\n"
     ]
    },
    {
     "name": "stderr",
     "output_type": "stream",
     "text": [
      "DEBUG:urllib3.connectionpool:https://www.instagram.com:443 \"POST /web/friendships/5759610965/unfollow/ HTTP/1.1\" 200 15\n",
      "DEBUG:urllib3.connectionpool:Starting new HTTPS connection (1): www.instagram.com:443\n"
     ]
    },
    {
     "name": "stdout",
     "output_type": "stream",
     "text": [
      "unfollowing bit_naff\n"
     ]
    },
    {
     "name": "stderr",
     "output_type": "stream",
     "text": [
      "DEBUG:urllib3.connectionpool:https://www.instagram.com:443 \"POST /web/friendships/40586699259/unfollow/ HTTP/1.1\" 200 15\n",
      "DEBUG:urllib3.connectionpool:Starting new HTTPS connection (1): www.instagram.com:443\n"
     ]
    },
    {
     "name": "stdout",
     "output_type": "stream",
     "text": [
      "unfollowing colorshifttt\n"
     ]
    },
    {
     "name": "stderr",
     "output_type": "stream",
     "text": [
      "DEBUG:urllib3.connectionpool:https://www.instagram.com:443 \"POST /web/friendships/21568317474/unfollow/ HTTP/1.1\" 200 15\n",
      "DEBUG:urllib3.connectionpool:Starting new HTTPS connection (1): www.instagram.com:443\n"
     ]
    },
    {
     "name": "stdout",
     "output_type": "stream",
     "text": [
      "unfollowing tongue_cafe\n"
     ]
    },
    {
     "name": "stderr",
     "output_type": "stream",
     "text": [
      "DEBUG:urllib3.connectionpool:https://www.instagram.com:443 \"POST /web/friendships/1797309906/unfollow/ HTTP/1.1\" 200 15\n",
      "DEBUG:urllib3.connectionpool:Starting new HTTPS connection (1): www.instagram.com:443\n",
      "DEBUG:urllib3.connectionpool:https://www.instagram.com:443 \"POST /web/friendships/366869062/unfollow/ HTTP/1.1\" 429 56\n"
     ]
    },
    {
     "name": "stdout",
     "output_type": "stream",
     "text": [
      "unfollowing festineuch\n",
      "Cannot unfollow festineuch waiting 10 minutes\n"
     ]
    },
    {
     "name": "stderr",
     "output_type": "stream",
     "text": [
      "DEBUG:urllib3.connectionpool:Starting new HTTPS connection (1): www.instagram.com:443\n",
      "DEBUG:urllib3.connectionpool:https://www.instagram.com:443 \"POST /web/friendships/366869062/unfollow/ HTTP/1.1\" 200 15\n",
      "DEBUG:urllib3.connectionpool:Starting new HTTPS connection (1): www.instagram.com:443\n"
     ]
    },
    {
     "name": "stdout",
     "output_type": "stream",
     "text": [
      "unfollowing tommypointer\n"
     ]
    },
    {
     "name": "stderr",
     "output_type": "stream",
     "text": [
      "DEBUG:urllib3.connectionpool:https://www.instagram.com:443 \"POST /web/friendships/267766762/unfollow/ HTTP/1.1\" 200 15\n",
      "DEBUG:urllib3.connectionpool:Starting new HTTPS connection (1): www.instagram.com:443\n"
     ]
    },
    {
     "name": "stdout",
     "output_type": "stream",
     "text": [
      "unfollowing hazzabird\n"
     ]
    },
    {
     "name": "stderr",
     "output_type": "stream",
     "text": [
      "DEBUG:urllib3.connectionpool:https://www.instagram.com:443 \"POST /web/friendships/4651998705/unfollow/ HTTP/1.1\" 200 15\n",
      "DEBUG:urllib3.connectionpool:Starting new HTTPS connection (1): www.instagram.com:443\n"
     ]
    },
    {
     "name": "stdout",
     "output_type": "stream",
     "text": [
      "unfollowing minikikiipad\n"
     ]
    },
    {
     "name": "stderr",
     "output_type": "stream",
     "text": [
      "DEBUG:urllib3.connectionpool:https://www.instagram.com:443 \"POST /web/friendships/987689675/unfollow/ HTTP/1.1\" 200 15\n",
      "DEBUG:urllib3.connectionpool:Starting new HTTPS connection (1): www.instagram.com:443\n"
     ]
    },
    {
     "name": "stdout",
     "output_type": "stream",
     "text": [
      "unfollowing classic_tattoo_berlin\n"
     ]
    },
    {
     "name": "stderr",
     "output_type": "stream",
     "text": [
      "DEBUG:urllib3.connectionpool:https://www.instagram.com:443 \"POST /web/friendships/529751315/unfollow/ HTTP/1.1\" 200 15\n",
      "DEBUG:urllib3.connectionpool:Starting new HTTPS connection (1): www.instagram.com:443\n"
     ]
    },
    {
     "name": "stdout",
     "output_type": "stream",
     "text": [
      "unfollowing trashgang\n"
     ]
    },
    {
     "name": "stderr",
     "output_type": "stream",
     "text": [
      "DEBUG:urllib3.connectionpool:https://www.instagram.com:443 \"POST /web/friendships/3272434423/unfollow/ HTTP/1.1\" 200 15\n",
      "DEBUG:urllib3.connectionpool:Starting new HTTPS connection (1): www.instagram.com:443\n"
     ]
    },
    {
     "name": "stdout",
     "output_type": "stream",
     "text": [
      "unfollowing stupidtattooclub\n"
     ]
    },
    {
     "name": "stderr",
     "output_type": "stream",
     "text": [
      "DEBUG:urllib3.connectionpool:https://www.instagram.com:443 \"POST /web/friendships/13226402585/unfollow/ HTTP/1.1\" 200 15\n",
      "DEBUG:urllib3.connectionpool:Starting new HTTPS connection (1): www.instagram.com:443\n"
     ]
    },
    {
     "name": "stdout",
     "output_type": "stream",
     "text": [
      "unfollowing 242ftp\n"
     ]
    },
    {
     "name": "stderr",
     "output_type": "stream",
     "text": [
      "DEBUG:urllib3.connectionpool:https://www.instagram.com:443 \"POST /web/friendships/6117116/unfollow/ HTTP/1.1\" 200 15\n",
      "DEBUG:urllib3.connectionpool:Starting new HTTPS connection (1): www.instagram.com:443\n"
     ]
    },
    {
     "name": "stdout",
     "output_type": "stream",
     "text": [
      "unfollowing kior6666\n"
     ]
    },
    {
     "name": "stderr",
     "output_type": "stream",
     "text": [
      "DEBUG:urllib3.connectionpool:https://www.instagram.com:443 \"POST /web/friendships/5917901439/unfollow/ HTTP/1.1\" 200 15\n",
      "DEBUG:urllib3.connectionpool:Starting new HTTPS connection (1): www.instagram.com:443\n"
     ]
    },
    {
     "name": "stdout",
     "output_type": "stream",
     "text": [
      "unfollowing jdg.work\n"
     ]
    },
    {
     "name": "stderr",
     "output_type": "stream",
     "text": [
      "DEBUG:urllib3.connectionpool:https://www.instagram.com:443 \"POST /web/friendships/2158445848/unfollow/ HTTP/1.1\" 200 15\n",
      "DEBUG:urllib3.connectionpool:Starting new HTTPS connection (1): www.instagram.com:443\n"
     ]
    },
    {
     "name": "stdout",
     "output_type": "stream",
     "text": [
      "unfollowing garcon_mp3\n"
     ]
    },
    {
     "name": "stderr",
     "output_type": "stream",
     "text": [
      "DEBUG:urllib3.connectionpool:https://www.instagram.com:443 \"POST /web/friendships/3101125092/unfollow/ HTTP/1.1\" 200 15\n",
      "DEBUG:urllib3.connectionpool:Starting new HTTPS connection (1): www.instagram.com:443\n"
     ]
    },
    {
     "name": "stdout",
     "output_type": "stream",
     "text": [
      "unfollowing rubyamadelle\n"
     ]
    },
    {
     "name": "stderr",
     "output_type": "stream",
     "text": [
      "DEBUG:urllib3.connectionpool:https://www.instagram.com:443 \"POST /web/friendships/1782008214/unfollow/ HTTP/1.1\" 200 15\n"
     ]
    },
    {
     "name": "stdout",
     "output_type": "stream",
     "text": [
      "unfollowing jodiehillstattoo\n"
     ]
    },
    {
     "name": "stderr",
     "output_type": "stream",
     "text": [
      "DEBUG:urllib3.connectionpool:Starting new HTTPS connection (1): www.instagram.com:443\n",
      "DEBUG:urllib3.connectionpool:https://www.instagram.com:443 \"POST /web/friendships/44139173/unfollow/ HTTP/1.1\" 200 15\n",
      "DEBUG:urllib3.connectionpool:Starting new HTTPS connection (1): www.instagram.com:443\n"
     ]
    },
    {
     "name": "stdout",
     "output_type": "stream",
     "text": [
      "unfollowing jobaisreal\n"
     ]
    },
    {
     "name": "stderr",
     "output_type": "stream",
     "text": [
      "DEBUG:urllib3.connectionpool:https://www.instagram.com:443 \"POST /web/friendships/375904318/unfollow/ HTTP/1.1\" 200 15\n",
      "DEBUG:urllib3.connectionpool:Starting new HTTPS connection (1): www.instagram.com:443\n"
     ]
    },
    {
     "name": "stdout",
     "output_type": "stream",
     "text": [
      "unfollowing acaldeira.ink\n"
     ]
    },
    {
     "name": "stderr",
     "output_type": "stream",
     "text": [
      "DEBUG:urllib3.connectionpool:https://www.instagram.com:443 \"POST /web/friendships/3534874553/unfollow/ HTTP/1.1\" 200 15\n",
      "DEBUG:urllib3.connectionpool:Starting new HTTPS connection (1): www.instagram.com:443\n"
     ]
    },
    {
     "name": "stdout",
     "output_type": "stream",
     "text": [
      "unfollowing uscfashion\n"
     ]
    },
    {
     "name": "stderr",
     "output_type": "stream",
     "text": [
      "DEBUG:urllib3.connectionpool:https://www.instagram.com:443 \"POST /web/friendships/26932829/unfollow/ HTTP/1.1\" 200 15\n",
      "DEBUG:urllib3.connectionpool:Starting new HTTPS connection (1): www.instagram.com:443\n",
      "DEBUG:urllib3.connectionpool:https://www.instagram.com:443 \"POST /web/friendships/217231124/unfollow/ HTTP/1.1\" 429 56\n"
     ]
    },
    {
     "name": "stdout",
     "output_type": "stream",
     "text": [
      "unfollowing remixblackburn\n",
      "Cannot unfollow remixblackburn waiting 10 minutes\n"
     ]
    },
    {
     "name": "stderr",
     "output_type": "stream",
     "text": [
      "DEBUG:urllib3.connectionpool:Starting new HTTPS connection (1): www.instagram.com:443\n",
      "DEBUG:urllib3.connectionpool:https://www.instagram.com:443 \"POST /web/friendships/217231124/unfollow/ HTTP/1.1\" 200 15\n",
      "DEBUG:urllib3.connectionpool:Starting new HTTPS connection (1): www.instagram.com:443\n"
     ]
    },
    {
     "name": "stdout",
     "output_type": "stream",
     "text": [
      "unfollowing aminematue\n"
     ]
    },
    {
     "name": "stderr",
     "output_type": "stream",
     "text": [
      "DEBUG:urllib3.connectionpool:https://www.instagram.com:443 \"POST /web/friendships/277797091/unfollow/ HTTP/1.1\" 200 15\n",
      "DEBUG:urllib3.connectionpool:Starting new HTTPS connection (1): www.instagram.com:443\n"
     ]
    },
    {
     "name": "stdout",
     "output_type": "stream",
     "text": [
      "unfollowing _quel_bail\n"
     ]
    },
    {
     "name": "stderr",
     "output_type": "stream",
     "text": [
      "DEBUG:urllib3.connectionpool:https://www.instagram.com:443 \"POST /web/friendships/7294971323/unfollow/ HTTP/1.1\" 200 15\n",
      "DEBUG:urllib3.connectionpool:Starting new HTTPS connection (1): www.instagram.com:443\n"
     ]
    },
    {
     "name": "stdout",
     "output_type": "stream",
     "text": [
      "unfollowing thekongcept\n"
     ]
    },
    {
     "name": "stderr",
     "output_type": "stream",
     "text": [
      "DEBUG:urllib3.connectionpool:https://www.instagram.com:443 \"POST /web/friendships/453542248/unfollow/ HTTP/1.1\" 200 15\n",
      "DEBUG:urllib3.connectionpool:Starting new HTTPS connection (1): www.instagram.com:443\n"
     ]
    },
    {
     "name": "stdout",
     "output_type": "stream",
     "text": [
      "unfollowing holzifeuer\n"
     ]
    },
    {
     "name": "stderr",
     "output_type": "stream",
     "text": [
      "DEBUG:urllib3.connectionpool:https://www.instagram.com:443 \"POST /web/friendships/37089551353/unfollow/ HTTP/1.1\" 200 15\n",
      "DEBUG:urllib3.connectionpool:Starting new HTTPS connection (1): www.instagram.com:443\n"
     ]
    },
    {
     "name": "stdout",
     "output_type": "stream",
     "text": [
      "unfollowing memories.store.lausanne\n"
     ]
    },
    {
     "name": "stderr",
     "output_type": "stream",
     "text": [
      "DEBUG:urllib3.connectionpool:https://www.instagram.com:443 \"POST /web/friendships/4858485677/unfollow/ HTTP/1.1\" 200 15\n",
      "DEBUG:urllib3.connectionpool:Starting new HTTPS connection (1): www.instagram.com:443\n"
     ]
    },
    {
     "name": "stdout",
     "output_type": "stream",
     "text": [
      "unfollowing dourfestival\n"
     ]
    },
    {
     "name": "stderr",
     "output_type": "stream",
     "text": [
      "DEBUG:urllib3.connectionpool:https://www.instagram.com:443 \"POST /web/friendships/1582366/unfollow/ HTTP/1.1\" 200 15\n",
      "DEBUG:urllib3.connectionpool:Starting new HTTPS connection (1): www.instagram.com:443\n"
     ]
    },
    {
     "name": "stdout",
     "output_type": "stream",
     "text": [
      "unfollowing dclublausanne\n"
     ]
    },
    {
     "name": "stderr",
     "output_type": "stream",
     "text": [
      "DEBUG:urllib3.connectionpool:https://www.instagram.com:443 \"POST /web/friendships/1058110112/unfollow/ HTTP/1.1\" 200 15\n",
      "DEBUG:urllib3.connectionpool:Starting new HTTPS connection (1): www.instagram.com:443\n"
     ]
    },
    {
     "name": "stdout",
     "output_type": "stream",
     "text": [
      "unfollowing scrtco\n"
     ]
    },
    {
     "name": "stderr",
     "output_type": "stream",
     "text": [
      "DEBUG:urllib3.connectionpool:https://www.instagram.com:443 \"POST /web/friendships/214688987/unfollow/ HTTP/1.1\" 200 15\n",
      "DEBUG:urllib3.connectionpool:Starting new HTTPS connection (1): www.instagram.com:443\n"
     ]
    },
    {
     "name": "stdout",
     "output_type": "stream",
     "text": [
      "unfollowing keithrankin\n"
     ]
    },
    {
     "name": "stderr",
     "output_type": "stream",
     "text": [
      "DEBUG:urllib3.connectionpool:https://www.instagram.com:443 \"POST /web/friendships/276756286/unfollow/ HTTP/1.1\" 200 15\n",
      "DEBUG:urllib3.connectionpool:Starting new HTTPS connection (1): www.instagram.com:443\n"
     ]
    },
    {
     "name": "stdout",
     "output_type": "stream",
     "text": [
      "unfollowing 20q20q\n"
     ]
    },
    {
     "name": "stderr",
     "output_type": "stream",
     "text": [
      "DEBUG:urllib3.connectionpool:https://www.instagram.com:443 \"POST /web/friendships/1481639312/unfollow/ HTTP/1.1\" 200 15\n",
      "DEBUG:urllib3.connectionpool:Starting new HTTPS connection (1): www.instagram.com:443\n"
     ]
    },
    {
     "name": "stdout",
     "output_type": "stream",
     "text": [
      "unfollowing iliona\n"
     ]
    },
    {
     "name": "stderr",
     "output_type": "stream",
     "text": [
      "DEBUG:urllib3.connectionpool:https://www.instagram.com:443 \"POST /web/friendships/306898107/unfollow/ HTTP/1.1\" 200 15\n",
      "DEBUG:urllib3.connectionpool:Starting new HTTPS connection (1): www.instagram.com:443\n"
     ]
    },
    {
     "name": "stdout",
     "output_type": "stream",
     "text": [
      "unfollowing jakehicks00\n"
     ]
    },
    {
     "name": "stderr",
     "output_type": "stream",
     "text": [
      "DEBUG:urllib3.connectionpool:https://www.instagram.com:443 \"POST /web/friendships/43295845/unfollow/ HTTP/1.1\" 200 15\n",
      "DEBUG:urllib3.connectionpool:Starting new HTTPS connection (1): www.instagram.com:443\n"
     ]
    },
    {
     "name": "stdout",
     "output_type": "stream",
     "text": [
      "unfollowing racerworldwide\n"
     ]
    },
    {
     "name": "stderr",
     "output_type": "stream",
     "text": [
      "DEBUG:urllib3.connectionpool:https://www.instagram.com:443 \"POST /web/friendships/5364477494/unfollow/ HTTP/1.1\" 200 15\n",
      "DEBUG:urllib3.connectionpool:Starting new HTTPS connection (1): www.instagram.com:443\n"
     ]
    },
    {
     "name": "stdout",
     "output_type": "stream",
     "text": [
      "unfollowing viviennewestwood\n"
     ]
    },
    {
     "name": "stderr",
     "output_type": "stream",
     "text": [
      "DEBUG:urllib3.connectionpool:https://www.instagram.com:443 \"POST /web/friendships/186541074/unfollow/ HTTP/1.1\" 200 15\n",
      "DEBUG:urllib3.connectionpool:Starting new HTTPS connection (1): www.instagram.com:443\n"
     ]
    },
    {
     "name": "stdout",
     "output_type": "stream",
     "text": [
      "unfollowing esh.out\n"
     ]
    },
    {
     "name": "stderr",
     "output_type": "stream",
     "text": [
      "DEBUG:urllib3.connectionpool:https://www.instagram.com:443 \"POST /web/friendships/7305844472/unfollow/ HTTP/1.1\" 200 15\n",
      "DEBUG:urllib3.connectionpool:Starting new HTTPS connection (1): www.instagram.com:443\n"
     ]
    },
    {
     "name": "stdout",
     "output_type": "stream",
     "text": [
      "unfollowing doublevision.archive\n"
     ]
    },
    {
     "name": "stderr",
     "output_type": "stream",
     "text": [
      "DEBUG:urllib3.connectionpool:https://www.instagram.com:443 \"POST /web/friendships/48984927581/unfollow/ HTTP/1.1\" 429 56\n"
     ]
    },
    {
     "name": "stdout",
     "output_type": "stream",
     "text": [
      "Cannot unfollow doublevision.archive waiting 10 minutes\n"
     ]
    },
    {
     "name": "stderr",
     "output_type": "stream",
     "text": [
      "DEBUG:urllib3.connectionpool:Starting new HTTPS connection (1): www.instagram.com:443\n",
      "DEBUG:urllib3.connectionpool:https://www.instagram.com:443 \"POST /web/friendships/48984927581/unfollow/ HTTP/1.1\" 200 15\n",
      "DEBUG:urllib3.connectionpool:Starting new HTTPS connection (1): www.instagram.com:443\n"
     ]
    },
    {
     "name": "stdout",
     "output_type": "stream",
     "text": [
      "unfollowing darkarchiv.e\n"
     ]
    },
    {
     "name": "stderr",
     "output_type": "stream",
     "text": [
      "DEBUG:urllib3.connectionpool:https://www.instagram.com:443 \"POST /web/friendships/51764136034/unfollow/ HTTP/1.1\" 200 15\n",
      "DEBUG:urllib3.connectionpool:Starting new HTTPS connection (1): www.instagram.com:443\n"
     ]
    },
    {
     "name": "stdout",
     "output_type": "stream",
     "text": [
      "unfollowing greys_archives\n"
     ]
    },
    {
     "name": "stderr",
     "output_type": "stream",
     "text": [
      "DEBUG:urllib3.connectionpool:https://www.instagram.com:443 \"POST /web/friendships/50359344604/unfollow/ HTTP/1.1\" 200 15\n",
      "DEBUG:urllib3.connectionpool:Starting new HTTPS connection (1): www.instagram.com:443\n"
     ]
    },
    {
     "name": "stdout",
     "output_type": "stream",
     "text": [
      "unfollowing streetstyle_eu_\n"
     ]
    },
    {
     "name": "stderr",
     "output_type": "stream",
     "text": [
      "DEBUG:urllib3.connectionpool:https://www.instagram.com:443 \"POST /web/friendships/48198701783/unfollow/ HTTP/1.1\" 200 15\n",
      "DEBUG:urllib3.connectionpool:Starting new HTTPS connection (1): www.instagram.com:443\n"
     ]
    },
    {
     "name": "stdout",
     "output_type": "stream",
     "text": [
      "unfollowing clothing_cache\n"
     ]
    },
    {
     "name": "stderr",
     "output_type": "stream",
     "text": [
      "DEBUG:urllib3.connectionpool:https://www.instagram.com:443 \"POST /web/friendships/46576497936/unfollow/ HTTP/1.1\" 200 15\n",
      "DEBUG:urllib3.connectionpool:Starting new HTTPS connection (1): www.instagram.com:443\n"
     ]
    },
    {
     "name": "stdout",
     "output_type": "stream",
     "text": [
      "unfollowing haveyoudiedbefore\n"
     ]
    },
    {
     "name": "stderr",
     "output_type": "stream",
     "text": [
      "DEBUG:urllib3.connectionpool:https://www.instagram.com:443 \"POST /web/friendships/197862798/unfollow/ HTTP/1.1\" 200 15\n",
      "DEBUG:urllib3.connectionpool:Starting new HTTPS connection (1): www.instagram.com:443\n"
     ]
    },
    {
     "name": "stdout",
     "output_type": "stream",
     "text": [
      "unfollowing skoot_apparel\n"
     ]
    },
    {
     "name": "stderr",
     "output_type": "stream",
     "text": [
      "DEBUG:urllib3.connectionpool:https://www.instagram.com:443 \"POST /web/friendships/2253758383/unfollow/ HTTP/1.1\" 200 15\n",
      "DEBUG:urllib3.connectionpool:Starting new HTTPS connection (1): www.instagram.com:443\n"
     ]
    },
    {
     "name": "stdout",
     "output_type": "stream",
     "text": [
      "unfollowing nofaithstudios\n"
     ]
    },
    {
     "name": "stderr",
     "output_type": "stream",
     "text": [
      "DEBUG:urllib3.connectionpool:https://www.instagram.com:443 \"POST /web/friendships/4821512207/unfollow/ HTTP/1.1\" 200 15\n",
      "DEBUG:urllib3.connectionpool:Starting new HTTPS connection (1): www.instagram.com:443\n"
     ]
    },
    {
     "name": "stdout",
     "output_type": "stream",
     "text": [
      "unfollowing excesslosangeles\n"
     ]
    },
    {
     "name": "stderr",
     "output_type": "stream",
     "text": [
      "DEBUG:urllib3.connectionpool:https://www.instagram.com:443 \"POST /web/friendships/4478802288/unfollow/ HTTP/1.1\" 200 15\n",
      "DEBUG:urllib3.connectionpool:Starting new HTTPS connection (1): www.instagram.com:443\n"
     ]
    },
    {
     "name": "stdout",
     "output_type": "stream",
     "text": [
      "unfollowing omneeworld\n"
     ]
    },
    {
     "name": "stderr",
     "output_type": "stream",
     "text": [
      "DEBUG:urllib3.connectionpool:https://www.instagram.com:443 \"POST /web/friendships/44438950557/unfollow/ HTTP/1.1\" 200 15\n",
      "DEBUG:urllib3.connectionpool:Starting new HTTPS connection (1): www.instagram.com:443\n"
     ]
    },
    {
     "name": "stdout",
     "output_type": "stream",
     "text": [
      "unfollowing amuletware\n"
     ]
    },
    {
     "name": "stderr",
     "output_type": "stream",
     "text": [
      "DEBUG:urllib3.connectionpool:https://www.instagram.com:443 \"POST /web/friendships/45649313640/unfollow/ HTTP/1.1\" 200 15\n",
      "DEBUG:urllib3.connectionpool:Starting new HTTPS connection (1): www.instagram.com:443\n"
     ]
    },
    {
     "name": "stdout",
     "output_type": "stream",
     "text": [
      "unfollowing garments_alien\n"
     ]
    },
    {
     "name": "stderr",
     "output_type": "stream",
     "text": [
      "DEBUG:urllib3.connectionpool:https://www.instagram.com:443 \"POST /web/friendships/21480279518/unfollow/ HTTP/1.1\" 200 15\n"
     ]
    },
    {
     "name": "stdout",
     "output_type": "stream",
     "text": [
      "unfollowing olga.athens\n"
     ]
    },
    {
     "name": "stderr",
     "output_type": "stream",
     "text": [
      "DEBUG:urllib3.connectionpool:Starting new HTTPS connection (1): www.instagram.com:443\n",
      "DEBUG:urllib3.connectionpool:https://www.instagram.com:443 \"POST /web/friendships/31808396374/unfollow/ HTTP/1.1\" 200 15\n",
      "DEBUG:urllib3.connectionpool:Starting new HTTPS connection (1): www.instagram.com:443\n"
     ]
    },
    {
     "name": "stdout",
     "output_type": "stream",
     "text": [
      "unfollowing trash.focus\n"
     ]
    },
    {
     "name": "stderr",
     "output_type": "stream",
     "text": [
      "DEBUG:urllib3.connectionpool:https://www.instagram.com:443 \"POST /web/friendships/52444008307/unfollow/ HTTP/1.1\" 200 15\n",
      "DEBUG:urllib3.connectionpool:Starting new HTTPS connection (1): www.instagram.com:443\n"
     ]
    },
    {
     "name": "stdout",
     "output_type": "stream",
     "text": [
      "unfollowing md.pxrker\n"
     ]
    },
    {
     "name": "stderr",
     "output_type": "stream",
     "text": [
      "DEBUG:urllib3.connectionpool:https://www.instagram.com:443 \"POST /web/friendships/2013815770/unfollow/ HTTP/1.1\" 200 15\n",
      "DEBUG:urllib3.connectionpool:Starting new HTTPS connection (1): www.instagram.com:443\n"
     ]
    },
    {
     "name": "stdout",
     "output_type": "stream",
     "text": [
      "unfollowing thecatsfirst\n"
     ]
    },
    {
     "name": "stderr",
     "output_type": "stream",
     "text": [
      "DEBUG:urllib3.connectionpool:https://www.instagram.com:443 \"POST /web/friendships/50338378972/unfollow/ HTTP/1.1\" 200 15\n",
      "DEBUG:urllib3.connectionpool:Starting new HTTPS connection (1): www.instagram.com:443\n",
      "DEBUG:urllib3.connectionpool:https://www.instagram.com:443 \"POST /web/friendships/49816248273/unfollow/ HTTP/1.1\" 429 56\n"
     ]
    },
    {
     "name": "stdout",
     "output_type": "stream",
     "text": [
      "unfollowing archive.rags\n",
      "Cannot unfollow archive.rags waiting 10 minutes\n"
     ]
    },
    {
     "name": "stderr",
     "output_type": "stream",
     "text": [
      "DEBUG:urllib3.connectionpool:Starting new HTTPS connection (1): www.instagram.com:443\n",
      "DEBUG:urllib3.connectionpool:https://www.instagram.com:443 \"POST /web/friendships/49816248273/unfollow/ HTTP/1.1\" 200 15\n",
      "DEBUG:urllib3.connectionpool:Starting new HTTPS connection (1): www.instagram.com:443\n"
     ]
    },
    {
     "name": "stdout",
     "output_type": "stream",
     "text": [
      "unfollowing narcizz7\n"
     ]
    },
    {
     "name": "stderr",
     "output_type": "stream",
     "text": [
      "DEBUG:urllib3.connectionpool:https://www.instagram.com:443 \"POST /web/friendships/20448058062/unfollow/ HTTP/1.1\" 200 15\n",
      "DEBUG:urllib3.connectionpool:Starting new HTTPS connection (1): www.instagram.com:443\n"
     ]
    },
    {
     "name": "stdout",
     "output_type": "stream",
     "text": [
      "unfollowing rakugaki.dame.zettai\n"
     ]
    },
    {
     "name": "stderr",
     "output_type": "stream",
     "text": [
      "DEBUG:urllib3.connectionpool:https://www.instagram.com:443 \"POST /web/friendships/51126089024/unfollow/ HTTP/1.1\" 200 15\n",
      "DEBUG:urllib3.connectionpool:Starting new HTTPS connection (1): www.instagram.com:443\n"
     ]
    },
    {
     "name": "stdout",
     "output_type": "stream",
     "text": [
      "unfollowing edward.hopper\n"
     ]
    },
    {
     "name": "stderr",
     "output_type": "stream",
     "text": [
      "DEBUG:urllib3.connectionpool:https://www.instagram.com:443 \"POST /web/friendships/2012942199/unfollow/ HTTP/1.1\" 200 15\n",
      "DEBUG:urllib3.connectionpool:Starting new HTTPS connection (1): www.instagram.com:443\n"
     ]
    },
    {
     "name": "stdout",
     "output_type": "stream",
     "text": [
      "unfollowing vicinity_de\n"
     ]
    },
    {
     "name": "stderr",
     "output_type": "stream",
     "text": [
      "DEBUG:urllib3.connectionpool:https://www.instagram.com:443 \"POST /web/friendships/28839326449/unfollow/ HTTP/1.1\" 200 15\n",
      "DEBUG:urllib3.connectionpool:Starting new HTTPS connection (1): www.instagram.com:443\n"
     ]
    },
    {
     "name": "stdout",
     "output_type": "stream",
     "text": [
      "unfollowing jjjjound\n"
     ]
    },
    {
     "name": "stderr",
     "output_type": "stream",
     "text": [
      "DEBUG:urllib3.connectionpool:https://www.instagram.com:443 \"POST /web/friendships/17076792/unfollow/ HTTP/1.1\" 200 15\n",
      "DEBUG:urllib3.connectionpool:Starting new HTTPS connection (1): www.instagram.com:443\n"
     ]
    },
    {
     "name": "stdout",
     "output_type": "stream",
     "text": [
      "unfollowing zerokid_tattoo\n"
     ]
    },
    {
     "name": "stderr",
     "output_type": "stream",
     "text": [
      "DEBUG:urllib3.connectionpool:https://www.instagram.com:443 \"POST /web/friendships/1049435043/unfollow/ HTTP/1.1\" 200 15\n",
      "DEBUG:urllib3.connectionpool:Starting new HTTPS connection (1): www.instagram.com:443\n"
     ]
    },
    {
     "name": "stdout",
     "output_type": "stream",
     "text": [
      "unfollowing krasnov.tattoo\n"
     ]
    },
    {
     "name": "stderr",
     "output_type": "stream",
     "text": [
      "DEBUG:urllib3.connectionpool:https://www.instagram.com:443 \"POST /web/friendships/4680395588/unfollow/ HTTP/1.1\" 200 15\n",
      "DEBUG:urllib3.connectionpool:Starting new HTTPS connection (1): www.instagram.com:443\n"
     ]
    },
    {
     "name": "stdout",
     "output_type": "stream",
     "text": [
      "unfollowing giseo_tattoo\n"
     ]
    },
    {
     "name": "stderr",
     "output_type": "stream",
     "text": [
      "DEBUG:urllib3.connectionpool:https://www.instagram.com:443 \"POST /web/friendships/7861243439/unfollow/ HTTP/1.1\" 200 15\n",
      "DEBUG:urllib3.connectionpool:Starting new HTTPS connection (1): www.instagram.com:443\n"
     ]
    },
    {
     "name": "stdout",
     "output_type": "stream",
     "text": [
      "unfollowing gate.688813317001\n"
     ]
    },
    {
     "name": "stderr",
     "output_type": "stream",
     "text": [
      "DEBUG:urllib3.connectionpool:https://www.instagram.com:443 \"POST /web/friendships/43887541371/unfollow/ HTTP/1.1\" 200 15\n",
      "DEBUG:urllib3.connectionpool:Starting new HTTPS connection (1): www.instagram.com:443\n"
     ]
    },
    {
     "name": "stdout",
     "output_type": "stream",
     "text": [
      "unfollowing _misery19\n"
     ]
    },
    {
     "name": "stderr",
     "output_type": "stream",
     "text": [
      "DEBUG:urllib3.connectionpool:https://www.instagram.com:443 \"POST /web/friendships/282312097/unfollow/ HTTP/1.1\" 200 15\n",
      "DEBUG:urllib3.connectionpool:Starting new HTTPS connection (1): www.instagram.com:443\n"
     ]
    },
    {
     "name": "stdout",
     "output_type": "stream",
     "text": [
      "unfollowing snepmusique\n"
     ]
    },
    {
     "name": "stderr",
     "output_type": "stream",
     "text": [
      "DEBUG:urllib3.connectionpool:https://www.instagram.com:443 \"POST /web/friendships/8054998560/unfollow/ HTTP/1.1\" 200 15\n",
      "DEBUG:urllib3.connectionpool:Starting new HTTPS connection (1): www.instagram.com:443\n"
     ]
    },
    {
     "name": "stdout",
     "output_type": "stream",
     "text": [
      "unfollowing iciamyplant\n"
     ]
    },
    {
     "name": "stderr",
     "output_type": "stream",
     "text": [
      "DEBUG:urllib3.connectionpool:https://www.instagram.com:443 \"POST /web/friendships/3920945323/unfollow/ HTTP/1.1\" 200 15\n",
      "DEBUG:urllib3.connectionpool:Starting new HTTPS connection (1): www.instagram.com:443\n"
     ]
    },
    {
     "name": "stdout",
     "output_type": "stream",
     "text": [
      "unfollowing thom_astro\n"
     ]
    },
    {
     "name": "stderr",
     "output_type": "stream",
     "text": [
      "DEBUG:urllib3.connectionpool:https://www.instagram.com:443 \"POST /web/friendships/555375076/unfollow/ HTTP/1.1\" 200 15\n",
      "DEBUG:urllib3.connectionpool:Starting new HTTPS connection (1): www.instagram.com:443\n"
     ]
    },
    {
     "name": "stdout",
     "output_type": "stream",
     "text": [
      "unfollowing onlythedarkest\n"
     ]
    },
    {
     "name": "stderr",
     "output_type": "stream",
     "text": [
      "DEBUG:urllib3.connectionpool:https://www.instagram.com:443 \"POST /web/friendships/3405602502/unfollow/ HTTP/1.1\" 200 15\n",
      "DEBUG:urllib3.connectionpool:Starting new HTTPS connection (1): www.instagram.com:443\n"
     ]
    },
    {
     "name": "stdout",
     "output_type": "stream",
     "text": [
      "unfollowing lucafersko\n"
     ]
    },
    {
     "name": "stderr",
     "output_type": "stream",
     "text": [
      "DEBUG:urllib3.connectionpool:https://www.instagram.com:443 \"POST /web/friendships/1226429350/unfollow/ HTTP/1.1\" 200 15\n",
      "DEBUG:urllib3.connectionpool:Starting new HTTPS connection (1): www.instagram.com:443\n"
     ]
    },
    {
     "name": "stdout",
     "output_type": "stream",
     "text": [
      "unfollowing _nampo_mt\n"
     ]
    },
    {
     "name": "stderr",
     "output_type": "stream",
     "text": [
      "DEBUG:urllib3.connectionpool:https://www.instagram.com:443 \"POST /web/friendships/1208880083/unfollow/ HTTP/1.1\" 429 56\n"
     ]
    },
    {
     "name": "stdout",
     "output_type": "stream",
     "text": [
      "Cannot unfollow _nampo_mt waiting 10 minutes\n"
     ]
    },
    {
     "name": "stderr",
     "output_type": "stream",
     "text": [
      "DEBUG:urllib3.connectionpool:Starting new HTTPS connection (1): www.instagram.com:443\n",
      "DEBUG:urllib3.connectionpool:https://www.instagram.com:443 \"POST /web/friendships/1208880083/unfollow/ HTTP/1.1\" 200 15\n",
      "DEBUG:urllib3.connectionpool:Starting new HTTPS connection (1): www.instagram.com:443\n"
     ]
    },
    {
     "name": "stdout",
     "output_type": "stream",
     "text": [
      "unfollowing huibenshop\n"
     ]
    },
    {
     "name": "stderr",
     "output_type": "stream",
     "text": [
      "DEBUG:urllib3.connectionpool:https://www.instagram.com:443 \"POST /web/friendships/4114202927/unfollow/ HTTP/1.1\" 200 15\n",
      "DEBUG:urllib3.connectionpool:Starting new HTTPS connection (1): www.instagram.com:443\n"
     ]
    },
    {
     "name": "stdout",
     "output_type": "stream",
     "text": [
      "unfollowing heliot_emil\n"
     ]
    },
    {
     "name": "stderr",
     "output_type": "stream",
     "text": [
      "DEBUG:urllib3.connectionpool:https://www.instagram.com:443 \"POST /web/friendships/763554680/unfollow/ HTTP/1.1\" 200 15\n",
      "DEBUG:urllib3.connectionpool:Starting new HTTPS connection (1): www.instagram.com:443\n"
     ]
    },
    {
     "name": "stdout",
     "output_type": "stream",
     "text": [
      "unfollowing willwelch\n"
     ]
    },
    {
     "name": "stderr",
     "output_type": "stream",
     "text": [
      "DEBUG:urllib3.connectionpool:https://www.instagram.com:443 \"POST /web/friendships/14289241/unfollow/ HTTP/1.1\" 200 15\n",
      "DEBUG:urllib3.connectionpool:Starting new HTTPS connection (1): www.instagram.com:443\n"
     ]
    },
    {
     "name": "stdout",
     "output_type": "stream",
     "text": [
      "unfollowing syndromelzrs\n"
     ]
    },
    {
     "name": "stderr",
     "output_type": "stream",
     "text": [
      "DEBUG:urllib3.connectionpool:https://www.instagram.com:443 \"POST /web/friendships/4736551443/unfollow/ HTTP/1.1\" 200 15\n",
      "DEBUG:urllib3.connectionpool:Starting new HTTPS connection (1): www.instagram.com:443\n"
     ]
    },
    {
     "name": "stdout",
     "output_type": "stream",
     "text": [
      "unfollowing cyrusnorth\n"
     ]
    },
    {
     "name": "stderr",
     "output_type": "stream",
     "text": [
      "DEBUG:urllib3.connectionpool:https://www.instagram.com:443 \"POST /web/friendships/1962596793/unfollow/ HTTP/1.1\" 200 15\n",
      "DEBUG:urllib3.connectionpool:Starting new HTTPS connection (1): www.instagram.com:443\n"
     ]
    },
    {
     "name": "stdout",
     "output_type": "stream",
     "text": [
      "unfollowing the_yvesdropper\n"
     ]
    },
    {
     "name": "stderr",
     "output_type": "stream",
     "text": [
      "DEBUG:urllib3.connectionpool:https://www.instagram.com:443 \"POST /web/friendships/1339758782/unfollow/ HTTP/1.1\" 200 15\n",
      "DEBUG:urllib3.connectionpool:Starting new HTTPS connection (1): www.instagram.com:443\n"
     ]
    },
    {
     "name": "stdout",
     "output_type": "stream",
     "text": [
      "unfollowing areyoukitty\n"
     ]
    },
    {
     "name": "stderr",
     "output_type": "stream",
     "text": [
      "DEBUG:urllib3.connectionpool:https://www.instagram.com:443 \"POST /web/friendships/47610919/unfollow/ HTTP/1.1\" 200 15\n",
      "DEBUG:urllib3.connectionpool:Starting new HTTPS connection (1): www.instagram.com:443\n"
     ]
    },
    {
     "name": "stdout",
     "output_type": "stream",
     "text": [
      "unfollowing lyrics_spacee\n"
     ]
    },
    {
     "name": "stderr",
     "output_type": "stream",
     "text": [
      "DEBUG:urllib3.connectionpool:https://www.instagram.com:443 \"POST /web/friendships/50074099481/unfollow/ HTTP/1.1\" 200 15\n",
      "DEBUG:urllib3.connectionpool:Starting new HTTPS connection (1): www.instagram.com:443\n"
     ]
    },
    {
     "name": "stdout",
     "output_type": "stream",
     "text": [
      "unfollowing gstarraw\n"
     ]
    },
    {
     "name": "stderr",
     "output_type": "stream",
     "text": [
      "DEBUG:urllib3.connectionpool:https://www.instagram.com:443 \"POST /web/friendships/242280880/unfollow/ HTTP/1.1\" 200 15\n",
      "DEBUG:urllib3.connectionpool:Starting new HTTPS connection (1): www.instagram.com:443\n"
     ]
    },
    {
     "name": "stdout",
     "output_type": "stream",
     "text": [
      "unfollowing pacorabanne\n"
     ]
    },
    {
     "name": "stderr",
     "output_type": "stream",
     "text": [
      "DEBUG:urllib3.connectionpool:https://www.instagram.com:443 \"POST /web/friendships/331745456/unfollow/ HTTP/1.1\" 200 15\n",
      "DEBUG:urllib3.connectionpool:Starting new HTTPS connection (1): www.instagram.com:443\n"
     ]
    },
    {
     "name": "stdout",
     "output_type": "stream",
     "text": [
      "unfollowing gothcatdog\n"
     ]
    },
    {
     "name": "stderr",
     "output_type": "stream",
     "text": [
      "DEBUG:urllib3.connectionpool:https://www.instagram.com:443 \"POST /web/friendships/8363187671/unfollow/ HTTP/1.1\" 200 15\n",
      "DEBUG:urllib3.connectionpool:Starting new HTTPS connection (1): www.instagram.com:443\n"
     ]
    },
    {
     "name": "stdout",
     "output_type": "stream",
     "text": [
      "unfollowing can_soysal\n"
     ]
    },
    {
     "name": "stderr",
     "output_type": "stream",
     "text": [
      "DEBUG:urllib3.connectionpool:https://www.instagram.com:443 \"POST /web/friendships/516215491/unfollow/ HTTP/1.1\" 200 15\n",
      "DEBUG:urllib3.connectionpool:Starting new HTTPS connection (1): www.instagram.com:443\n"
     ]
    },
    {
     "name": "stdout",
     "output_type": "stream",
     "text": [
      "unfollowing cheddar_doggy_gang\n"
     ]
    },
    {
     "name": "stderr",
     "output_type": "stream",
     "text": [
      "DEBUG:urllib3.connectionpool:https://www.instagram.com:443 \"POST /web/friendships/52092648500/unfollow/ HTTP/1.1\" 200 15\n",
      "DEBUG:urllib3.connectionpool:Starting new HTTPS connection (1): www.instagram.com:443\n"
     ]
    },
    {
     "name": "stdout",
     "output_type": "stream",
     "text": [
      "unfollowing 1eunsung_tattoo\n"
     ]
    },
    {
     "name": "stderr",
     "output_type": "stream",
     "text": [
      "DEBUG:urllib3.connectionpool:https://www.instagram.com:443 \"POST /web/friendships/1553059577/unfollow/ HTTP/1.1\" 200 15\n",
      "DEBUG:urllib3.connectionpool:Starting new HTTPS connection (1): www.instagram.com:443\n"
     ]
    },
    {
     "name": "stdout",
     "output_type": "stream",
     "text": [
      "unfollowing msgink\n"
     ]
    },
    {
     "name": "stderr",
     "output_type": "stream",
     "text": [
      "DEBUG:urllib3.connectionpool:https://www.instagram.com:443 \"POST /web/friendships/2334063864/unfollow/ HTTP/1.1\" 200 15\n",
      "DEBUG:urllib3.connectionpool:Starting new HTTPS connection (1): www.instagram.com:443\n"
     ]
    },
    {
     "name": "stdout",
     "output_type": "stream",
     "text": [
      "unfollowing 967tattoo\n"
     ]
    },
    {
     "name": "stderr",
     "output_type": "stream",
     "text": [
      "DEBUG:urllib3.connectionpool:https://www.instagram.com:443 \"POST /web/friendships/11866533251/unfollow/ HTTP/1.1\" 429 56\n"
     ]
    },
    {
     "name": "stdout",
     "output_type": "stream",
     "text": [
      "Cannot unfollow 967tattoo waiting 10 minutes\n"
     ]
    },
    {
     "name": "stderr",
     "output_type": "stream",
     "text": [
      "DEBUG:urllib3.connectionpool:Starting new HTTPS connection (1): www.instagram.com:443\n",
      "DEBUG:urllib3.connectionpool:https://www.instagram.com:443 \"POST /web/friendships/11866533251/unfollow/ HTTP/1.1\" 200 15\n",
      "DEBUG:urllib3.connectionpool:Starting new HTTPS connection (1): www.instagram.com:443\n"
     ]
    },
    {
     "name": "stdout",
     "output_type": "stream",
     "text": [
      "unfollowing nony.tatu\n"
     ]
    },
    {
     "name": "stderr",
     "output_type": "stream",
     "text": [
      "DEBUG:urllib3.connectionpool:https://www.instagram.com:443 \"POST /web/friendships/37473949386/unfollow/ HTTP/1.1\" 200 15\n",
      "DEBUG:urllib3.connectionpool:Starting new HTTPS connection (1): www.instagram.com:443\n"
     ]
    },
    {
     "name": "stdout",
     "output_type": "stream",
     "text": [
      "unfollowing evanmock\n"
     ]
    },
    {
     "name": "stderr",
     "output_type": "stream",
     "text": [
      "DEBUG:urllib3.connectionpool:https://www.instagram.com:443 \"POST /web/friendships/3843366/unfollow/ HTTP/1.1\" 200 15\n",
      "DEBUG:urllib3.connectionpool:Starting new HTTPS connection (1): www.instagram.com:443\n"
     ]
    },
    {
     "name": "stdout",
     "output_type": "stream",
     "text": [
      "unfollowing novyypartak\n"
     ]
    },
    {
     "name": "stderr",
     "output_type": "stream",
     "text": [
      "DEBUG:urllib3.connectionpool:https://www.instagram.com:443 \"POST /web/friendships/2280466845/unfollow/ HTTP/1.1\" 200 15\n",
      "DEBUG:urllib3.connectionpool:Starting new HTTPS connection (1): www.instagram.com:443\n"
     ]
    },
    {
     "name": "stdout",
     "output_type": "stream",
     "text": [
      "unfollowing all_theolives\n"
     ]
    },
    {
     "name": "stderr",
     "output_type": "stream",
     "text": [
      "DEBUG:urllib3.connectionpool:https://www.instagram.com:443 \"POST /web/friendships/43872363451/unfollow/ HTTP/1.1\" 200 15\n",
      "DEBUG:urllib3.connectionpool:Starting new HTTPS connection (1): www.instagram.com:443\n"
     ]
    },
    {
     "name": "stdout",
     "output_type": "stream",
     "text": [
      "unfollowing tearscanthavetattoo\n"
     ]
    },
    {
     "name": "stderr",
     "output_type": "stream",
     "text": [
      "DEBUG:urllib3.connectionpool:https://www.instagram.com:443 \"POST /web/friendships/29178095550/unfollow/ HTTP/1.1\" 200 15\n",
      "DEBUG:urllib3.connectionpool:Starting new HTTPS connection (1): www.instagram.com:443\n"
     ]
    },
    {
     "name": "stdout",
     "output_type": "stream",
     "text": [
      "unfollowing myrkur_tattoo\n"
     ]
    },
    {
     "name": "stderr",
     "output_type": "stream",
     "text": [
      "DEBUG:urllib3.connectionpool:https://www.instagram.com:443 \"POST /web/friendships/44285833680/unfollow/ HTTP/1.1\" 200 15\n",
      "DEBUG:urllib3.connectionpool:Starting new HTTPS connection (1): www.instagram.com:443\n"
     ]
    },
    {
     "name": "stdout",
     "output_type": "stream",
     "text": [
      "unfollowing couple2tree\n"
     ]
    },
    {
     "name": "stderr",
     "output_type": "stream",
     "text": [
      "DEBUG:urllib3.connectionpool:https://www.instagram.com:443 \"POST /web/friendships/1956544068/unfollow/ HTTP/1.1\" 200 15\n",
      "DEBUG:urllib3.connectionpool:Starting new HTTPS connection (1): www.instagram.com:443\n"
     ]
    },
    {
     "name": "stdout",
     "output_type": "stream",
     "text": [
      "unfollowing alex.machina_\n"
     ]
    },
    {
     "name": "stderr",
     "output_type": "stream",
     "text": [
      "DEBUG:urllib3.connectionpool:https://www.instagram.com:443 \"POST /web/friendships/309487512/unfollow/ HTTP/1.1\" 200 15\n",
      "DEBUG:urllib3.connectionpool:Starting new HTTPS connection (1): www.instagram.com:443\n"
     ]
    },
    {
     "name": "stdout",
     "output_type": "stream",
     "text": [
      "unfollowing holymoment_\n"
     ]
    },
    {
     "name": "stderr",
     "output_type": "stream",
     "text": [
      "DEBUG:urllib3.connectionpool:https://www.instagram.com:443 \"POST /web/friendships/37855854992/unfollow/ HTTP/1.1\" 200 15\n",
      "DEBUG:urllib3.connectionpool:Starting new HTTPS connection (1): www.instagram.com:443\n"
     ]
    },
    {
     "name": "stdout",
     "output_type": "stream",
     "text": [
      "unfollowing cliquetv\n"
     ]
    },
    {
     "name": "stderr",
     "output_type": "stream",
     "text": [
      "DEBUG:urllib3.connectionpool:https://www.instagram.com:443 \"POST /web/friendships/1554289285/unfollow/ HTTP/1.1\" 200 15\n",
      "DEBUG:urllib3.connectionpool:Starting new HTTPS connection (1): www.instagram.com:443\n"
     ]
    },
    {
     "name": "stdout",
     "output_type": "stream",
     "text": [
      "unfollowing 6kerker9\n"
     ]
    },
    {
     "name": "stderr",
     "output_type": "stream",
     "text": [
      "DEBUG:urllib3.connectionpool:https://www.instagram.com:443 \"POST /web/friendships/374651967/unfollow/ HTTP/1.1\" 200 15\n"
     ]
    },
    {
     "name": "stdout",
     "output_type": "stream",
     "text": [
      "unfollowing j.ta.2\n"
     ]
    },
    {
     "name": "stderr",
     "output_type": "stream",
     "text": [
      "DEBUG:urllib3.connectionpool:Starting new HTTPS connection (1): www.instagram.com:443\n",
      "DEBUG:urllib3.connectionpool:https://www.instagram.com:443 \"POST /web/friendships/5830914585/unfollow/ HTTP/1.1\" 200 15\n",
      "DEBUG:urllib3.connectionpool:Starting new HTTPS connection (1): www.instagram.com:443\n"
     ]
    },
    {
     "name": "stdout",
     "output_type": "stream",
     "text": [
      "unfollowing dondasports\n"
     ]
    },
    {
     "name": "stderr",
     "output_type": "stream",
     "text": [
      "DEBUG:urllib3.connectionpool:https://www.instagram.com:443 \"POST /web/friendships/49484227710/unfollow/ HTTP/1.1\" 200 15\n",
      "DEBUG:urllib3.connectionpool:Starting new HTTPS connection (1): www.instagram.com:443\n"
     ]
    },
    {
     "name": "stdout",
     "output_type": "stream",
     "text": [
      "unfollowing romashovsss\n"
     ]
    },
    {
     "name": "stderr",
     "output_type": "stream",
     "text": [
      "DEBUG:urllib3.connectionpool:https://www.instagram.com:443 \"POST /web/friendships/4608825271/unfollow/ HTTP/1.1\" 200 15\n",
      "DEBUG:urllib3.connectionpool:Starting new HTTPS connection (1): www.instagram.com:443\n"
     ]
    },
    {
     "name": "stdout",
     "output_type": "stream",
     "text": [
      "unfollowing conangray\n"
     ]
    },
    {
     "name": "stderr",
     "output_type": "stream",
     "text": [
      "DEBUG:urllib3.connectionpool:https://www.instagram.com:443 \"POST /web/friendships/221970674/unfollow/ HTTP/1.1\" 200 15\n",
      "DEBUG:urllib3.connectionpool:Starting new HTTPS connection (1): www.instagram.com:443\n"
     ]
    },
    {
     "name": "stdout",
     "output_type": "stream",
     "text": [
      "unfollowing avivi.ttts\n"
     ]
    },
    {
     "name": "stderr",
     "output_type": "stream",
     "text": [
      "DEBUG:urllib3.connectionpool:https://www.instagram.com:443 \"POST /web/friendships/8274977273/unfollow/ HTTP/1.1\" 429 56\n"
     ]
    },
    {
     "name": "stdout",
     "output_type": "stream",
     "text": [
      "Cannot unfollow avivi.ttts waiting 10 minutes\n"
     ]
    },
    {
     "name": "stderr",
     "output_type": "stream",
     "text": [
      "DEBUG:urllib3.connectionpool:Starting new HTTPS connection (1): www.instagram.com:443\n",
      "DEBUG:urllib3.connectionpool:https://www.instagram.com:443 \"POST /web/friendships/8274977273/unfollow/ HTTP/1.1\" 200 15\n",
      "DEBUG:urllib3.connectionpool:Starting new HTTPS connection (1): www.instagram.com:443\n"
     ]
    },
    {
     "name": "stdout",
     "output_type": "stream",
     "text": [
      "unfollowing spooky_skeleton_wizard\n"
     ]
    },
    {
     "name": "stderr",
     "output_type": "stream",
     "text": [
      "DEBUG:urllib3.connectionpool:https://www.instagram.com:443 \"POST /web/friendships/2311531650/unfollow/ HTTP/1.1\" 200 15\n",
      "DEBUG:urllib3.connectionpool:Starting new HTTPS connection (1): www.instagram.com:443\n"
     ]
    },
    {
     "name": "stdout",
     "output_type": "stream",
     "text": [
      "unfollowing wasted_skateboarding\n"
     ]
    },
    {
     "name": "stderr",
     "output_type": "stream",
     "text": [
      "DEBUG:urllib3.connectionpool:https://www.instagram.com:443 \"POST /web/friendships/1699583693/unfollow/ HTTP/1.1\" 200 15\n",
      "DEBUG:urllib3.connectionpool:Starting new HTTPS connection (1): www.instagram.com:443\n"
     ]
    },
    {
     "name": "stdout",
     "output_type": "stream",
     "text": [
      "unfollowing wastedparis\n"
     ]
    },
    {
     "name": "stderr",
     "output_type": "stream",
     "text": [
      "DEBUG:urllib3.connectionpool:https://www.instagram.com:443 \"POST /web/friendships/326184849/unfollow/ HTTP/1.1\" 200 15\n",
      "DEBUG:urllib3.connectionpool:Starting new HTTPS connection (1): www.instagram.com:443\n"
     ]
    },
    {
     "name": "stdout",
     "output_type": "stream",
     "text": [
      "unfollowing ne.christina_\n"
     ]
    },
    {
     "name": "stderr",
     "output_type": "stream",
     "text": [
      "DEBUG:urllib3.connectionpool:https://www.instagram.com:443 \"POST /web/friendships/7864104333/unfollow/ HTTP/1.1\" 200 15\n"
     ]
    },
    {
     "name": "stdout",
     "output_type": "stream",
     "text": [
      "unfollowing 2can.tattooer\n"
     ]
    },
    {
     "name": "stderr",
     "output_type": "stream",
     "text": [
      "DEBUG:urllib3.connectionpool:Starting new HTTPS connection (1): www.instagram.com:443\n",
      "DEBUG:urllib3.connectionpool:https://www.instagram.com:443 \"POST /web/friendships/10458286461/unfollow/ HTTP/1.1\" 200 15\n"
     ]
    },
    {
     "name": "stdout",
     "output_type": "stream",
     "text": [
      "unfollowing irritation_29\n"
     ]
    },
    {
     "name": "stderr",
     "output_type": "stream",
     "text": [
      "DEBUG:urllib3.connectionpool:Starting new HTTPS connection (1): www.instagram.com:443\n",
      "DEBUG:urllib3.connectionpool:https://www.instagram.com:443 \"POST /web/friendships/6146170168/unfollow/ HTTP/1.1\" 200 15\n",
      "DEBUG:urllib3.connectionpool:Starting new HTTPS connection (1): www.instagram.com:443\n"
     ]
    },
    {
     "name": "stdout",
     "output_type": "stream",
     "text": [
      "unfollowing tiatatts\n"
     ]
    },
    {
     "name": "stderr",
     "output_type": "stream",
     "text": [
      "DEBUG:urllib3.connectionpool:https://www.instagram.com:443 \"POST /web/friendships/39310678226/unfollow/ HTTP/1.1\" 200 15\n",
      "DEBUG:urllib3.connectionpool:Starting new HTTPS connection (1): www.instagram.com:443\n"
     ]
    },
    {
     "name": "stdout",
     "output_type": "stream",
     "text": [
      "unfollowing gq\n"
     ]
    },
    {
     "name": "stderr",
     "output_type": "stream",
     "text": [
      "DEBUG:urllib3.connectionpool:https://www.instagram.com:443 \"POST /web/friendships/12864526/unfollow/ HTTP/1.1\" 200 15\n",
      "DEBUG:urllib3.connectionpool:Starting new HTTPS connection (1): www.instagram.com:443\n"
     ]
    },
    {
     "name": "stdout",
     "output_type": "stream",
     "text": [
      "unfollowing antilog_tattoo\n"
     ]
    },
    {
     "name": "stderr",
     "output_type": "stream",
     "text": [
      "DEBUG:urllib3.connectionpool:https://www.instagram.com:443 \"POST /web/friendships/6772869984/unfollow/ HTTP/1.1\" 200 15\n",
      "DEBUG:urllib3.connectionpool:Starting new HTTPS connection (1): www.instagram.com:443\n"
     ]
    },
    {
     "name": "stdout",
     "output_type": "stream",
     "text": [
      "unfollowing _fatmum_\n"
     ]
    },
    {
     "name": "stderr",
     "output_type": "stream",
     "text": [
      "DEBUG:urllib3.connectionpool:https://www.instagram.com:443 \"POST /web/friendships/6001151714/unfollow/ HTTP/1.1\" 200 15\n",
      "DEBUG:urllib3.connectionpool:Starting new HTTPS connection (1): www.instagram.com:443\n"
     ]
    },
    {
     "name": "stdout",
     "output_type": "stream",
     "text": [
      "unfollowing gogogehen\n"
     ]
    },
    {
     "name": "stderr",
     "output_type": "stream",
     "text": [
      "DEBUG:urllib3.connectionpool:https://www.instagram.com:443 \"POST /web/friendships/1234649103/unfollow/ HTTP/1.1\" 200 15\n",
      "DEBUG:urllib3.connectionpool:Starting new HTTPS connection (1): www.instagram.com:443\n"
     ]
    },
    {
     "name": "stdout",
     "output_type": "stream",
     "text": [
      "unfollowing blansable\n"
     ]
    },
    {
     "name": "stderr",
     "output_type": "stream",
     "text": [
      "DEBUG:urllib3.connectionpool:https://www.instagram.com:443 \"POST /web/friendships/31279576936/unfollow/ HTTP/1.1\" 200 15\n",
      "DEBUG:urllib3.connectionpool:Starting new HTTPS connection (1): www.instagram.com:443\n"
     ]
    },
    {
     "name": "stdout",
     "output_type": "stream",
     "text": [
      "unfollowing human_nature669\n"
     ]
    },
    {
     "name": "stderr",
     "output_type": "stream",
     "text": [
      "DEBUG:urllib3.connectionpool:https://www.instagram.com:443 \"POST /web/friendships/476442564/unfollow/ HTTP/1.1\" 200 15\n",
      "DEBUG:urllib3.connectionpool:Starting new HTTPS connection (1): www.instagram.com:443\n"
     ]
    },
    {
     "name": "stdout",
     "output_type": "stream",
     "text": [
      "unfollowing audi.100_\n"
     ]
    },
    {
     "name": "stderr",
     "output_type": "stream",
     "text": [
      "DEBUG:urllib3.connectionpool:https://www.instagram.com:443 \"POST /web/friendships/4062765055/unfollow/ HTTP/1.1\" 200 15\n",
      "DEBUG:urllib3.connectionpool:Starting new HTTPS connection (1): www.instagram.com:443\n"
     ]
    },
    {
     "name": "stdout",
     "output_type": "stream",
     "text": [
      "unfollowing kat_r_art\n"
     ]
    },
    {
     "name": "stderr",
     "output_type": "stream",
     "text": [
      "DEBUG:urllib3.connectionpool:https://www.instagram.com:443 \"POST /web/friendships/562161781/unfollow/ HTTP/1.1\" 200 15\n",
      "DEBUG:urllib3.connectionpool:Starting new HTTPS connection (1): www.instagram.com:443\n"
     ]
    },
    {
     "name": "stdout",
     "output_type": "stream",
     "text": [
      "unfollowing akaberlin\n"
     ]
    },
    {
     "name": "stderr",
     "output_type": "stream",
     "text": [
      "DEBUG:urllib3.connectionpool:https://www.instagram.com:443 \"POST /web/friendships/627210361/unfollow/ HTTP/1.1\" 429 56\n"
     ]
    },
    {
     "name": "stdout",
     "output_type": "stream",
     "text": [
      "Cannot unfollow akaberlin waiting 10 minutes\n"
     ]
    },
    {
     "name": "stderr",
     "output_type": "stream",
     "text": [
      "DEBUG:urllib3.connectionpool:Starting new HTTPS connection (1): www.instagram.com:443\n",
      "DEBUG:urllib3.connectionpool:https://www.instagram.com:443 \"POST /web/friendships/627210361/unfollow/ HTTP/1.1\" 200 15\n"
     ]
    },
    {
     "name": "stdout",
     "output_type": "stream",
     "text": [
      "unfollowing hoer.berlin\n"
     ]
    },
    {
     "name": "stderr",
     "output_type": "stream",
     "text": [
      "DEBUG:urllib3.connectionpool:Starting new HTTPS connection (1): www.instagram.com:443\n",
      "DEBUG:urllib3.connectionpool:https://www.instagram.com:443 \"POST /web/friendships/16705065297/unfollow/ HTTP/1.1\" 200 15\n"
     ]
    },
    {
     "name": "stdout",
     "output_type": "stream",
     "text": [
      "unfollowing coldarchive_youth\n"
     ]
    },
    {
     "name": "stderr",
     "output_type": "stream",
     "text": [
      "DEBUG:urllib3.connectionpool:Starting new HTTPS connection (1): www.instagram.com:443\n",
      "DEBUG:urllib3.connectionpool:https://www.instagram.com:443 \"POST /web/friendships/39398053095/unfollow/ HTTP/1.1\" 200 15\n",
      "DEBUG:urllib3.connectionpool:Starting new HTTPS connection (1): www.instagram.com:443\n"
     ]
    },
    {
     "name": "stdout",
     "output_type": "stream",
     "text": [
      "unfollowing aleph.hoodz\n"
     ]
    },
    {
     "name": "stderr",
     "output_type": "stream",
     "text": [
      "DEBUG:urllib3.connectionpool:https://www.instagram.com:443 \"POST /web/friendships/2117840638/unfollow/ HTTP/1.1\" 200 15\n",
      "DEBUG:urllib3.connectionpool:Starting new HTTPS connection (1): www.instagram.com:443\n"
     ]
    },
    {
     "name": "stdout",
     "output_type": "stream",
     "text": [
      "unfollowing ozy_worldy\n"
     ]
    },
    {
     "name": "stderr",
     "output_type": "stream",
     "text": [
      "DEBUG:urllib3.connectionpool:https://www.instagram.com:443 \"POST /web/friendships/21918501368/unfollow/ HTTP/1.1\" 200 15\n"
     ]
    },
    {
     "name": "stdout",
     "output_type": "stream",
     "text": [
      "unfollowing evig_krig\n"
     ]
    },
    {
     "name": "stderr",
     "output_type": "stream",
     "text": [
      "DEBUG:urllib3.connectionpool:Starting new HTTPS connection (1): www.instagram.com:443\n",
      "DEBUG:urllib3.connectionpool:https://www.instagram.com:443 \"POST /web/friendships/25261882836/unfollow/ HTTP/1.1\" 200 15\n",
      "DEBUG:urllib3.connectionpool:Starting new HTTPS connection (1): www.instagram.com:443\n"
     ]
    },
    {
     "name": "stdout",
     "output_type": "stream",
     "text": [
      "unfollowing popeye_magazine_official\n"
     ]
    },
    {
     "name": "stderr",
     "output_type": "stream",
     "text": [
      "DEBUG:urllib3.connectionpool:https://www.instagram.com:443 \"POST /web/friendships/2235222477/unfollow/ HTTP/1.1\" 200 15\n",
      "DEBUG:urllib3.connectionpool:Starting new HTTPS connection (1): www.instagram.com:443\n"
     ]
    },
    {
     "name": "stdout",
     "output_type": "stream",
     "text": [
      "unfollowing sonny_hall\n"
     ]
    },
    {
     "name": "stderr",
     "output_type": "stream",
     "text": [
      "DEBUG:urllib3.connectionpool:https://www.instagram.com:443 \"POST /web/friendships/683840957/unfollow/ HTTP/1.1\" 200 15\n",
      "DEBUG:urllib3.connectionpool:Starting new HTTPS connection (1): www.instagram.com:443\n"
     ]
    },
    {
     "name": "stdout",
     "output_type": "stream",
     "text": [
      "unfollowing justnlopez\n"
     ]
    },
    {
     "name": "stderr",
     "output_type": "stream",
     "text": [
      "DEBUG:urllib3.connectionpool:https://www.instagram.com:443 \"POST /web/friendships/6885144/unfollow/ HTTP/1.1\" 200 15\n",
      "DEBUG:urllib3.connectionpool:Starting new HTTPS connection (1): www.instagram.com:443\n"
     ]
    },
    {
     "name": "stdout",
     "output_type": "stream",
     "text": [
      "unfollowing soviet.ink\n"
     ]
    },
    {
     "name": "stderr",
     "output_type": "stream",
     "text": [
      "DEBUG:urllib3.connectionpool:https://www.instagram.com:443 \"POST /web/friendships/3260281364/unfollow/ HTTP/1.1\" 200 15\n",
      "DEBUG:urllib3.connectionpool:Starting new HTTPS connection (1): www.instagram.com:443\n"
     ]
    },
    {
     "name": "stdout",
     "output_type": "stream",
     "text": [
      "unfollowing rapminerz\n"
     ]
    },
    {
     "name": "stderr",
     "output_type": "stream",
     "text": [
      "DEBUG:urllib3.connectionpool:https://www.instagram.com:443 \"POST /web/friendships/17617674297/unfollow/ HTTP/1.1\" 200 15\n"
     ]
    },
    {
     "name": "stdout",
     "output_type": "stream",
     "text": [
      "unfollowing scorpiomemood\n"
     ]
    },
    {
     "name": "stderr",
     "output_type": "stream",
     "text": [
      "DEBUG:urllib3.connectionpool:Starting new HTTPS connection (1): www.instagram.com:443\n",
      "DEBUG:urllib3.connectionpool:https://www.instagram.com:443 \"POST /web/friendships/5960734391/unfollow/ HTTP/1.1\" 200 15\n",
      "DEBUG:urllib3.connectionpool:Starting new HTTPS connection (1): www.instagram.com:443\n"
     ]
    },
    {
     "name": "stdout",
     "output_type": "stream",
     "text": [
      "unfollowing sebastian4tro\n"
     ]
    },
    {
     "name": "stderr",
     "output_type": "stream",
     "text": [
      "DEBUG:urllib3.connectionpool:https://www.instagram.com:443 \"POST /web/friendships/46246712/unfollow/ HTTP/1.1\" 200 15\n",
      "DEBUG:urllib3.connectionpool:Starting new HTTPS connection (1): www.instagram.com:443\n"
     ]
    },
    {
     "name": "stdout",
     "output_type": "stream",
     "text": [
      "unfollowing root.atelier\n"
     ]
    },
    {
     "name": "stderr",
     "output_type": "stream",
     "text": [
      "DEBUG:urllib3.connectionpool:https://www.instagram.com:443 \"POST /web/friendships/246058976/unfollow/ HTTP/1.1\" 200 15\n",
      "DEBUG:urllib3.connectionpool:Starting new HTTPS connection (1): www.instagram.com:443\n"
     ]
    },
    {
     "name": "stdout",
     "output_type": "stream",
     "text": [
      "unfollowing phase_test\n"
     ]
    },
    {
     "name": "stderr",
     "output_type": "stream",
     "text": [
      "DEBUG:urllib3.connectionpool:https://www.instagram.com:443 \"POST /web/friendships/15530568384/unfollow/ HTTP/1.1\" 200 15\n",
      "DEBUG:urllib3.connectionpool:Starting new HTTPS connection (1): www.instagram.com:443\n"
     ]
    },
    {
     "name": "stdout",
     "output_type": "stream",
     "text": [
      "unfollowing mastuu_\n"
     ]
    },
    {
     "name": "stderr",
     "output_type": "stream",
     "text": [
      "DEBUG:urllib3.connectionpool:https://www.instagram.com:443 \"POST /web/friendships/5641492539/unfollow/ HTTP/1.1\" 200 15\n",
      "DEBUG:urllib3.connectionpool:Starting new HTTPS connection (1): www.instagram.com:443\n"
     ]
    },
    {
     "name": "stdout",
     "output_type": "stream",
     "text": [
      "unfollowing yassencore\n"
     ]
    },
    {
     "name": "stderr",
     "output_type": "stream",
     "text": [
      "DEBUG:urllib3.connectionpool:https://www.instagram.com:443 \"POST /web/friendships/4708477273/unfollow/ HTTP/1.1\" 429 56\n"
     ]
    },
    {
     "name": "stdout",
     "output_type": "stream",
     "text": [
      "Cannot unfollow yassencore waiting 10 minutes\n"
     ]
    },
    {
     "name": "stderr",
     "output_type": "stream",
     "text": [
      "DEBUG:urllib3.connectionpool:Starting new HTTPS connection (1): www.instagram.com:443\n",
      "DEBUG:urllib3.connectionpool:https://www.instagram.com:443 \"POST /web/friendships/4708477273/unfollow/ HTTP/1.1\" 200 15\n",
      "DEBUG:urllib3.connectionpool:Starting new HTTPS connection (1): www.instagram.com:443\n"
     ]
    },
    {
     "name": "stdout",
     "output_type": "stream",
     "text": [
      "unfollowing seblafrite\n"
     ]
    },
    {
     "name": "stderr",
     "output_type": "stream",
     "text": [
      "DEBUG:urllib3.connectionpool:https://www.instagram.com:443 \"POST /web/friendships/227497518/unfollow/ HTTP/1.1\" 200 15\n",
      "DEBUG:urllib3.connectionpool:Starting new HTTPS connection (1): www.instagram.com:443\n"
     ]
    },
    {
     "name": "stdout",
     "output_type": "stream",
     "text": [
      "unfollowing benjischauss\n"
     ]
    },
    {
     "name": "stderr",
     "output_type": "stream",
     "text": [
      "DEBUG:urllib3.connectionpool:https://www.instagram.com:443 \"POST /web/friendships/277125892/unfollow/ HTTP/1.1\" 200 15\n"
     ]
    },
    {
     "name": "stdout",
     "output_type": "stream",
     "text": [
      "unfollowing sachaborg\n"
     ]
    },
    {
     "name": "stderr",
     "output_type": "stream",
     "text": [
      "DEBUG:urllib3.connectionpool:Starting new HTTPS connection (1): www.instagram.com:443\n",
      "DEBUG:urllib3.connectionpool:https://www.instagram.com:443 \"POST /web/friendships/261017473/unfollow/ HTTP/1.1\" 200 15\n",
      "DEBUG:urllib3.connectionpool:Starting new HTTPS connection (1): www.instagram.com:443\n"
     ]
    },
    {
     "name": "stdout",
     "output_type": "stream",
     "text": [
      "unfollowing djilsi\n"
     ]
    },
    {
     "name": "stderr",
     "output_type": "stream",
     "text": [
      "DEBUG:urllib3.connectionpool:https://www.instagram.com:443 \"POST /web/friendships/7922384297/unfollow/ HTTP/1.1\" 200 15\n",
      "DEBUG:urllib3.connectionpool:Starting new HTTPS connection (1): www.instagram.com:443\n"
     ]
    },
    {
     "name": "stdout",
     "output_type": "stream",
     "text": [
      "unfollowing _deathonly_\n"
     ]
    },
    {
     "name": "stderr",
     "output_type": "stream",
     "text": [
      "DEBUG:urllib3.connectionpool:https://www.instagram.com:443 \"POST /web/friendships/1418691559/unfollow/ HTTP/1.1\" 200 15\n",
      "DEBUG:urllib3.connectionpool:Starting new HTTPS connection (1): www.instagram.com:443\n"
     ]
    },
    {
     "name": "stdout",
     "output_type": "stream",
     "text": [
      "unfollowing burberry\n"
     ]
    },
    {
     "name": "stderr",
     "output_type": "stream",
     "text": [
      "DEBUG:urllib3.connectionpool:https://www.instagram.com:443 \"POST /web/friendships/1889387/unfollow/ HTTP/1.1\" 200 15\n",
      "DEBUG:urllib3.connectionpool:Starting new HTTPS connection (1): www.instagram.com:443\n"
     ]
    },
    {
     "name": "stdout",
     "output_type": "stream",
     "text": [
      "unfollowing balenciaga\n"
     ]
    },
    {
     "name": "stderr",
     "output_type": "stream",
     "text": [
      "DEBUG:urllib3.connectionpool:https://www.instagram.com:443 \"POST /web/friendships/9445148/unfollow/ HTTP/1.1\" 200 15\n",
      "DEBUG:urllib3.connectionpool:Starting new HTTPS connection (1): www.instagram.com:443\n"
     ]
    },
    {
     "name": "stdout",
     "output_type": "stream",
     "text": [
      "unfollowing voguefrance\n"
     ]
    },
    {
     "name": "stderr",
     "output_type": "stream",
     "text": [
      "DEBUG:urllib3.connectionpool:https://www.instagram.com:443 \"POST /web/friendships/226876906/unfollow/ HTTP/1.1\" 200 15\n"
     ]
    },
    {
     "name": "stdout",
     "output_type": "stream",
     "text": [
      "unfollowing alexandermcqueen\n"
     ]
    },
    {
     "name": "stderr",
     "output_type": "stream",
     "text": [
      "DEBUG:urllib3.connectionpool:Starting new HTTPS connection (1): www.instagram.com:443\n",
      "DEBUG:urllib3.connectionpool:https://www.instagram.com:443 \"POST /web/friendships/10480357/unfollow/ HTTP/1.1\" 200 15\n",
      "DEBUG:urllib3.connectionpool:Starting new HTTPS connection (1): www.instagram.com:443\n"
     ]
    },
    {
     "name": "stdout",
     "output_type": "stream",
     "text": [
      "unfollowing dior\n"
     ]
    },
    {
     "name": "stderr",
     "output_type": "stream",
     "text": [
      "DEBUG:urllib3.connectionpool:https://www.instagram.com:443 \"POST /web/friendships/550072490/unfollow/ HTTP/1.1\" 200 15\n",
      "DEBUG:urllib3.connectionpool:Starting new HTTPS connection (1): www.instagram.com:443\n"
     ]
    },
    {
     "name": "stdout",
     "output_type": "stream",
     "text": [
      "unfollowing balmain\n"
     ]
    },
    {
     "name": "stderr",
     "output_type": "stream",
     "text": [
      "DEBUG:urllib3.connectionpool:https://www.instagram.com:443 \"POST /web/friendships/535065013/unfollow/ HTTP/1.1\" 200 15\n",
      "DEBUG:urllib3.connectionpool:Starting new HTTPS connection (1): www.instagram.com:443\n"
     ]
    },
    {
     "name": "stdout",
     "output_type": "stream",
     "text": [
      "unfollowing perspective_berlin\n"
     ]
    },
    {
     "name": "stderr",
     "output_type": "stream",
     "text": [
      "DEBUG:urllib3.connectionpool:https://www.instagram.com:443 \"POST /web/friendships/8195312228/unfollow/ HTTP/1.1\" 200 15\n",
      "DEBUG:urllib3.connectionpool:Starting new HTTPS connection (1): www.instagram.com:443\n"
     ]
    },
    {
     "name": "stdout",
     "output_type": "stream",
     "text": [
      "unfollowing ethaneskin\n"
     ]
    },
    {
     "name": "stderr",
     "output_type": "stream",
     "text": [
      "DEBUG:urllib3.connectionpool:https://www.instagram.com:443 \"POST /web/friendships/5590393284/unfollow/ HTTP/1.1\" 200 15\n",
      "DEBUG:urllib3.connectionpool:Starting new HTTPS connection (1): www.instagram.com:443\n"
     ]
    },
    {
     "name": "stdout",
     "output_type": "stream",
     "text": [
      "unfollowing vicdeangelis\n"
     ]
    },
    {
     "name": "stderr",
     "output_type": "stream",
     "text": [
      "DEBUG:urllib3.connectionpool:https://www.instagram.com:443 \"POST /web/friendships/178161204/unfollow/ HTTP/1.1\" 200 15\n",
      "DEBUG:urllib3.connectionpool:Starting new HTTPS connection (1): www.instagram.com:443\n"
     ]
    },
    {
     "name": "stdout",
     "output_type": "stream",
     "text": [
      "unfollowing mengismeng\n"
     ]
    },
    {
     "name": "stderr",
     "output_type": "stream",
     "text": [
      "DEBUG:urllib3.connectionpool:https://www.instagram.com:443 \"POST /web/friendships/1723865059/unfollow/ HTTP/1.1\" 200 15\n",
      "DEBUG:urllib3.connectionpool:Starting new HTTPS connection (1): www.instagram.com:443\n"
     ]
    },
    {
     "name": "stdout",
     "output_type": "stream",
     "text": [
      "unfollowing marsell.official\n"
     ]
    },
    {
     "name": "stderr",
     "output_type": "stream",
     "text": [
      "DEBUG:urllib3.connectionpool:https://www.instagram.com:443 \"POST /web/friendships/1514488156/unfollow/ HTTP/1.1\" 429 56\n"
     ]
    },
    {
     "name": "stdout",
     "output_type": "stream",
     "text": [
      "Cannot unfollow marsell.official waiting 10 minutes\n"
     ]
    },
    {
     "name": "stderr",
     "output_type": "stream",
     "text": [
      "DEBUG:urllib3.connectionpool:Starting new HTTPS connection (1): www.instagram.com:443\n",
      "DEBUG:urllib3.connectionpool:https://www.instagram.com:443 \"POST /web/friendships/1514488156/unfollow/ HTTP/1.1\" 200 15\n",
      "DEBUG:urllib3.connectionpool:Starting new HTTPS connection (1): www.instagram.com:443\n"
     ]
    },
    {
     "name": "stdout",
     "output_type": "stream",
     "text": [
      "unfollowing nicholaskangel\n"
     ]
    },
    {
     "name": "stderr",
     "output_type": "stream",
     "text": [
      "DEBUG:urllib3.connectionpool:https://www.instagram.com:443 \"POST /web/friendships/176034885/unfollow/ HTTP/1.1\" 200 15\n",
      "DEBUG:urllib3.connectionpool:Starting new HTTPS connection (1): www.instagram.com:443\n"
     ]
    },
    {
     "name": "stdout",
     "output_type": "stream",
     "text": [
      "unfollowing cold_archive\n"
     ]
    },
    {
     "name": "stderr",
     "output_type": "stream",
     "text": [
      "DEBUG:urllib3.connectionpool:https://www.instagram.com:443 \"POST /web/friendships/773795680/unfollow/ HTTP/1.1\" 200 15\n",
      "DEBUG:urllib3.connectionpool:Starting new HTTPS connection (1): www.instagram.com:443\n"
     ]
    },
    {
     "name": "stdout",
     "output_type": "stream",
     "text": [
      "unfollowing aidenyunggawd\n"
     ]
    },
    {
     "name": "stderr",
     "output_type": "stream",
     "text": [
      "DEBUG:urllib3.connectionpool:https://www.instagram.com:443 \"POST /web/friendships/27787576145/unfollow/ HTTP/1.1\" 200 15\n",
      "DEBUG:urllib3.connectionpool:Starting new HTTPS connection (1): www.instagram.com:443\n"
     ]
    },
    {
     "name": "stdout",
     "output_type": "stream",
     "text": [
      "unfollowing luvresval\n"
     ]
    },
    {
     "name": "stderr",
     "output_type": "stream",
     "text": [
      "DEBUG:urllib3.connectionpool:https://www.instagram.com:443 \"POST /web/friendships/1648915314/unfollow/ HTTP/1.1\" 200 15\n"
     ]
    },
    {
     "name": "stdout",
     "output_type": "stream",
     "text": [
      "unfollowing artasimn\n"
     ]
    },
    {
     "name": "stderr",
     "output_type": "stream",
     "text": [
      "DEBUG:urllib3.connectionpool:Starting new HTTPS connection (1): www.instagram.com:443\n",
      "DEBUG:urllib3.connectionpool:https://www.instagram.com:443 \"POST /web/friendships/7162052174/unfollow/ HTTP/1.1\" 200 15\n",
      "DEBUG:urllib3.connectionpool:Starting new HTTPS connection (1): www.instagram.com:443\n"
     ]
    },
    {
     "name": "stdout",
     "output_type": "stream",
     "text": [
      "unfollowing seerlight\n"
     ]
    },
    {
     "name": "stderr",
     "output_type": "stream",
     "text": [
      "DEBUG:urllib3.connectionpool:https://www.instagram.com:443 \"POST /web/friendships/2032689335/unfollow/ HTTP/1.1\" 200 15\n",
      "DEBUG:urllib3.connectionpool:Starting new HTTPS connection (1): www.instagram.com:443\n"
     ]
    },
    {
     "name": "stdout",
     "output_type": "stream",
     "text": [
      "unfollowing henrifilm\n"
     ]
    },
    {
     "name": "stderr",
     "output_type": "stream",
     "text": [
      "DEBUG:urllib3.connectionpool:https://www.instagram.com:443 \"POST /web/friendships/1059803059/unfollow/ HTTP/1.1\" 200 15\n",
      "DEBUG:urllib3.connectionpool:Starting new HTTPS connection (1): www.instagram.com:443\n"
     ]
    },
    {
     "name": "stdout",
     "output_type": "stream",
     "text": [
      "unfollowing dimakorneplod\n"
     ]
    },
    {
     "name": "stderr",
     "output_type": "stream",
     "text": [
      "DEBUG:urllib3.connectionpool:https://www.instagram.com:443 \"POST /web/friendships/1994258248/unfollow/ HTTP/1.1\" 200 15\n",
      "DEBUG:urllib3.connectionpool:Starting new HTTPS connection (1): www.instagram.com:443\n"
     ]
    },
    {
     "name": "stdout",
     "output_type": "stream",
     "text": [
      "unfollowing orelsan\n"
     ]
    },
    {
     "name": "stderr",
     "output_type": "stream",
     "text": [
      "DEBUG:urllib3.connectionpool:https://www.instagram.com:443 \"POST /web/friendships/217994393/unfollow/ HTTP/1.1\" 200 15\n",
      "DEBUG:urllib3.connectionpool:Starting new HTTPS connection (1): www.instagram.com:443\n"
     ]
    },
    {
     "name": "stdout",
     "output_type": "stream",
     "text": [
      "unfollowing iamderickk\n"
     ]
    },
    {
     "name": "stderr",
     "output_type": "stream",
     "text": [
      "DEBUG:urllib3.connectionpool:https://www.instagram.com:443 \"POST /web/friendships/1482215248/unfollow/ HTTP/1.1\" 200 15\n",
      "DEBUG:urllib3.connectionpool:Starting new HTTPS connection (1): www.instagram.com:443\n"
     ]
    },
    {
     "name": "stdout",
     "output_type": "stream",
     "text": [
      "unfollowing unprocessedband\n"
     ]
    },
    {
     "name": "stderr",
     "output_type": "stream",
     "text": [
      "DEBUG:urllib3.connectionpool:https://www.instagram.com:443 \"POST /web/friendships/2019127624/unfollow/ HTTP/1.1\" 200 15\n",
      "DEBUG:urllib3.connectionpool:Starting new HTTPS connection (1): www.instagram.com:443\n"
     ]
    },
    {
     "name": "stdout",
     "output_type": "stream",
     "text": [
      "unfollowing engineeringmemesguy\n"
     ]
    },
    {
     "name": "stderr",
     "output_type": "stream",
     "text": [
      "DEBUG:urllib3.connectionpool:https://www.instagram.com:443 \"POST /web/friendships/363272119/unfollow/ HTTP/1.1\" 200 15\n",
      "DEBUG:urllib3.connectionpool:Starting new HTTPS connection (1): www.instagram.com:443\n"
     ]
    },
    {
     "name": "stdout",
     "output_type": "stream",
     "text": [
      "unfollowing aelfricedenofficial\n"
     ]
    },
    {
     "name": "stderr",
     "output_type": "stream",
     "text": [
      "DEBUG:urllib3.connectionpool:https://www.instagram.com:443 \"POST /web/friendships/11087474383/unfollow/ HTTP/1.1\" 200 15\n",
      "DEBUG:urllib3.connectionpool:Starting new HTTPS connection (1): www.instagram.com:443\n"
     ]
    },
    {
     "name": "stdout",
     "output_type": "stream",
     "text": [
      "unfollowing the_koreanfashion\n"
     ]
    },
    {
     "name": "stderr",
     "output_type": "stream",
     "text": [
      "DEBUG:urllib3.connectionpool:https://www.instagram.com:443 \"POST /web/friendships/20977875198/unfollow/ HTTP/1.1\" 200 15\n",
      "DEBUG:urllib3.connectionpool:Starting new HTTPS connection (1): www.instagram.com:443\n"
     ]
    },
    {
     "name": "stdout",
     "output_type": "stream",
     "text": [
      "unfollowing iamverycozy\n"
     ]
    },
    {
     "name": "stderr",
     "output_type": "stream",
     "text": [
      "DEBUG:urllib3.connectionpool:https://www.instagram.com:443 \"POST /web/friendships/345140908/unfollow/ HTTP/1.1\" 200 15\n",
      "DEBUG:urllib3.connectionpool:Starting new HTTPS connection (1): www.instagram.com:443\n"
     ]
    },
    {
     "name": "stdout",
     "output_type": "stream",
     "text": [
      "unfollowing gakuyen\n"
     ]
    },
    {
     "name": "stderr",
     "output_type": "stream",
     "text": [
      "DEBUG:urllib3.connectionpool:https://www.instagram.com:443 \"POST /web/friendships/6773171/unfollow/ HTTP/1.1\" 429 56\n"
     ]
    },
    {
     "name": "stdout",
     "output_type": "stream",
     "text": [
      "Cannot unfollow gakuyen waiting 10 minutes\n"
     ]
    },
    {
     "name": "stderr",
     "output_type": "stream",
     "text": [
      "DEBUG:urllib3.connectionpool:Starting new HTTPS connection (1): www.instagram.com:443\n",
      "DEBUG:urllib3.connectionpool:https://www.instagram.com:443 \"POST /web/friendships/6773171/unfollow/ HTTP/1.1\" 200 15\n",
      "DEBUG:urllib3.connectionpool:Starting new HTTPS connection (1): www.instagram.com:443\n"
     ]
    },
    {
     "name": "stdout",
     "output_type": "stream",
     "text": [
      "unfollowing y00i______\n"
     ]
    },
    {
     "name": "stderr",
     "output_type": "stream",
     "text": [
      "DEBUG:urllib3.connectionpool:https://www.instagram.com:443 \"POST /web/friendships/8300737152/unfollow/ HTTP/1.1\" 200 15\n",
      "DEBUG:urllib3.connectionpool:Starting new HTTPS connection (1): www.instagram.com:443\n"
     ]
    },
    {
     "name": "stdout",
     "output_type": "stream",
     "text": [
      "unfollowing ____seidai\n"
     ]
    },
    {
     "name": "stderr",
     "output_type": "stream",
     "text": [
      "DEBUG:urllib3.connectionpool:https://www.instagram.com:443 \"POST /web/friendships/8290673206/unfollow/ HTTP/1.1\" 200 15\n",
      "DEBUG:urllib3.connectionpool:Starting new HTTPS connection (1): www.instagram.com:443\n"
     ]
    },
    {
     "name": "stdout",
     "output_type": "stream",
     "text": [
      "unfollowing barry_steenson\n"
     ]
    },
    {
     "name": "stderr",
     "output_type": "stream",
     "text": [
      "DEBUG:urllib3.connectionpool:https://www.instagram.com:443 \"POST /web/friendships/4076568530/unfollow/ HTTP/1.1\" 200 15\n",
      "DEBUG:urllib3.connectionpool:Starting new HTTPS connection (1): www.instagram.com:443\n"
     ]
    },
    {
     "name": "stdout",
     "output_type": "stream",
     "text": [
      "unfollowing yanncoaching\n"
     ]
    },
    {
     "name": "stderr",
     "output_type": "stream",
     "text": [
      "DEBUG:urllib3.connectionpool:https://www.instagram.com:443 \"POST /web/friendships/854990144/unfollow/ HTTP/1.1\" 200 15\n"
     ]
    },
    {
     "name": "stdout",
     "output_type": "stream",
     "text": [
      "unfollowing hoooooyeony\n"
     ]
    },
    {
     "name": "stderr",
     "output_type": "stream",
     "text": [
      "DEBUG:urllib3.connectionpool:Starting new HTTPS connection (1): www.instagram.com:443\n",
      "DEBUG:urllib3.connectionpool:https://www.instagram.com:443 \"POST /web/friendships/361836445/unfollow/ HTTP/1.1\" 200 15\n",
      "DEBUG:urllib3.connectionpool:Starting new HTTPS connection (1): www.instagram.com:443\n"
     ]
    },
    {
     "name": "stdout",
     "output_type": "stream",
     "text": [
      "unfollowing commedesgarcons\n"
     ]
    },
    {
     "name": "stderr",
     "output_type": "stream",
     "text": [
      "DEBUG:urllib3.connectionpool:https://www.instagram.com:443 \"POST /web/friendships/1680276293/unfollow/ HTTP/1.1\" 200 15\n",
      "DEBUG:urllib3.connectionpool:Starting new HTTPS connection (1): www.instagram.com:443\n"
     ]
    },
    {
     "name": "stdout",
     "output_type": "stream",
     "text": [
      "unfollowing gordon.zola\n"
     ]
    },
    {
     "name": "stderr",
     "output_type": "stream",
     "text": [
      "DEBUG:urllib3.connectionpool:https://www.instagram.com:443 \"POST /web/friendships/244235756/unfollow/ HTTP/1.1\" 200 15\n",
      "DEBUG:urllib3.connectionpool:Starting new HTTPS connection (1): www.instagram.com:443\n"
     ]
    },
    {
     "name": "stdout",
     "output_type": "stream",
     "text": [
      "unfollowing outlaws.amsterdam\n"
     ]
    },
    {
     "name": "stderr",
     "output_type": "stream",
     "text": [
      "DEBUG:urllib3.connectionpool:https://www.instagram.com:443 \"POST /web/friendships/8964814727/unfollow/ HTTP/1.1\" 200 15\n",
      "DEBUG:urllib3.connectionpool:Starting new HTTPS connection (1): www.instagram.com:443\n"
     ]
    },
    {
     "name": "stdout",
     "output_type": "stream",
     "text": [
      "unfollowing twojeys\n"
     ]
    },
    {
     "name": "stderr",
     "output_type": "stream",
     "text": [
      "DEBUG:urllib3.connectionpool:https://www.instagram.com:443 \"POST /web/friendships/7228099794/unfollow/ HTTP/1.1\" 200 15\n"
     ]
    },
    {
     "name": "stdout",
     "output_type": "stream",
     "text": [
      "unfollowing berlin.1969\n"
     ]
    },
    {
     "name": "stderr",
     "output_type": "stream",
     "text": [
      "DEBUG:urllib3.connectionpool:Starting new HTTPS connection (1): www.instagram.com:443\n",
      "DEBUG:urllib3.connectionpool:https://www.instagram.com:443 \"POST /web/friendships/4205506390/unfollow/ HTTP/1.1\" 200 15\n",
      "DEBUG:urllib3.connectionpool:Starting new HTTPS connection (1): www.instagram.com:443\n"
     ]
    },
    {
     "name": "stdout",
     "output_type": "stream",
     "text": [
      "unfollowing maneskinofficial\n"
     ]
    },
    {
     "name": "stderr",
     "output_type": "stream",
     "text": [
      "DEBUG:urllib3.connectionpool:https://www.instagram.com:443 \"POST /web/friendships/5453625996/unfollow/ HTTP/1.1\" 200 15\n",
      "DEBUG:urllib3.connectionpool:Starting new HTTPS connection (1): www.instagram.com:443\n"
     ]
    },
    {
     "name": "stdout",
     "output_type": "stream",
     "text": [
      "unfollowing tattoosarchive\n"
     ]
    },
    {
     "name": "stderr",
     "output_type": "stream",
     "text": [
      "DEBUG:urllib3.connectionpool:https://www.instagram.com:443 \"POST /web/friendships/21635888848/unfollow/ HTTP/1.1\" 200 15\n",
      "DEBUG:urllib3.connectionpool:Starting new HTTPS connection (1): www.instagram.com:443\n"
     ]
    },
    {
     "name": "stdout",
     "output_type": "stream",
     "text": [
      "unfollowing crimetattoo\n"
     ]
    },
    {
     "name": "stderr",
     "output_type": "stream",
     "text": [
      "DEBUG:urllib3.connectionpool:https://www.instagram.com:443 \"POST /web/friendships/3005241109/unfollow/ HTTP/1.1\" 200 15\n",
      "DEBUG:urllib3.connectionpool:Starting new HTTPS connection (1): www.instagram.com:443\n"
     ]
    },
    {
     "name": "stdout",
     "output_type": "stream",
     "text": [
      "unfollowing minimalarchivetattoo\n"
     ]
    },
    {
     "name": "stderr",
     "output_type": "stream",
     "text": [
      "DEBUG:urllib3.connectionpool:https://www.instagram.com:443 \"POST /web/friendships/7954531082/unfollow/ HTTP/1.1\" 200 15\n"
     ]
    },
    {
     "name": "stdout",
     "output_type": "stream",
     "text": [
      "unfollowing mushu_ttt\n"
     ]
    },
    {
     "name": "stderr",
     "output_type": "stream",
     "text": [
      "DEBUG:urllib3.connectionpool:Starting new HTTPS connection (1): www.instagram.com:443\n",
      "DEBUG:urllib3.connectionpool:https://www.instagram.com:443 \"POST /web/friendships/9280233974/unfollow/ HTTP/1.1\" 200 15\n",
      "DEBUG:urllib3.connectionpool:Starting new HTTPS connection (1): www.instagram.com:443\n"
     ]
    },
    {
     "name": "stdout",
     "output_type": "stream",
     "text": [
      "unfollowing savshimi\n"
     ]
    },
    {
     "name": "stderr",
     "output_type": "stream",
     "text": [
      "DEBUG:urllib3.connectionpool:https://www.instagram.com:443 \"POST /web/friendships/24143314/unfollow/ HTTP/1.1\" 429 56\n"
     ]
    },
    {
     "name": "stdout",
     "output_type": "stream",
     "text": [
      "Cannot unfollow savshimi waiting 10 minutes\n"
     ]
    },
    {
     "name": "stderr",
     "output_type": "stream",
     "text": [
      "DEBUG:urllib3.connectionpool:Starting new HTTPS connection (1): www.instagram.com:443\n",
      "DEBUG:urllib3.connectionpool:https://www.instagram.com:443 \"POST /web/friendships/24143314/unfollow/ HTTP/1.1\" 200 15\n"
     ]
    }
   ],
   "source": [
    "def unfollow_and_wait(username: str, user_id: str):\n",
    "    res = instagram_0x6f77656e.unfollow(user_id)\n",
    "\n",
    "    if res.status_code != 200:\n",
    "        print(f\"Cannot unfollow {username} waiting 10 minutes\")\n",
    "        sleep(10 * 60)\n",
    "        unfollow_and_wait(username, user_id)\n",
    "\n",
    "    sleep(10)\n",
    "\n",
    "for index, row in df_to_unfollow.iterrows():\n",
    "    print(f\"unfollowing {index}\")\n",
    "    unfollow_and_wait(index, row[\"pk\"])"
   ],
   "metadata": {
    "collapsed": false,
    "pycharm": {
     "name": "#%%\n",
     "is_executing": true
    }
   }
  }
 ],
 "metadata": {
  "kernelspec": {
   "display_name": "Python 3",
   "language": "python",
   "name": "python3"
  },
  "language_info": {
   "codemirror_mode": {
    "name": "ipython",
    "version": 2
   },
   "file_extension": ".py",
   "mimetype": "text/x-python",
   "name": "python",
   "nbconvert_exporter": "python",
   "pygments_lexer": "ipython2",
   "version": "2.7.6"
  }
 },
 "nbformat": 4,
 "nbformat_minor": 0
}